{
 "cells": [
  {
   "cell_type": "code",
   "execution_count": 1,
   "id": "2775224d-91db-45fb-8758-96cecca56c91",
   "metadata": {},
   "outputs": [],
   "source": [
    "from qiskit.quantum_info import SparsePauliOp\n",
    "\n",
    "def pauli_operator():\n",
    "    return SparsePauliOp.from_list(\n",
    "        [\n",
    "            (\"II\", -1.052373245772859),\n",
    "            (\"IZ\", 0.39793742484318045),\n",
    "            (\"ZI\", -0.39793742484318045),\n",
    "            (\"ZZ\", -0.01128010425623538),\n",
    "            (\"XX\", 0.18093119978423156),\n",
    "        ]\n",
    "    )"
   ]
  },
  {
   "cell_type": "code",
   "execution_count": 2,
   "id": "da8829d2-db78-4397-9a81-71c1df3b14da",
   "metadata": {},
   "outputs": [
    {
     "name": "stdout",
     "output_type": "stream",
     "text": [
      "SparsePauliOp(['II', 'IZ', 'ZI', 'ZZ', 'XX'],\n",
      "              coeffs=[-1.05237325+0.j,  0.39793742+0.j, -0.39793742+0.j, -0.0112801 +0.j,\n",
      "  0.1809312 +0.j])\n"
     ]
    }
   ],
   "source": [
    "H2_op = pauli_operator()\n",
    "print(H2_op)"
   ]
  },
  {
   "cell_type": "code",
   "execution_count": 3,
   "id": "e69dd20d-87c5-4f8e-9755-faad61989b98",
   "metadata": {},
   "outputs": [],
   "source": [
    "import numpy as np\n",
    "min_eigen_exact = min(np.linalg.eigvals(H2_op.to_matrix()))"
   ]
  },
  {
   "cell_type": "code",
   "execution_count": 4,
   "id": "a349e118-b216-4307-8af1-ee17dbe928ec",
   "metadata": {},
   "outputs": [
    {
     "name": "stderr",
     "output_type": "stream",
     "text": [
      "/tmp/ipykernel_12435/2605595654.py:1: DeprecationWarning: ``qiskit.algorithms`` has been migrated to an independent package: https://github.com/qiskit-community/qiskit-algorithms. The ``qiskit.algorithms`` import path is deprecated as of qiskit-terra 0.25.0 and will be removed no earlier than 3 months after the release date. Please run ``pip install qiskit_algorithms`` and use ``import qiskit_algorithms`` instead.\n",
      "  from qiskit.algorithms.optimizers import SPSA\n"
     ]
    }
   ],
   "source": [
    "from qiskit.algorithms.optimizers import SPSA\n",
    "from qiskit.circuit.library import EfficientSU2\n",
    "from qiskit.primitives import Estimator\n",
    "estimator = Estimator()\n",
    "ansatz = EfficientSU2(2)"
   ]
  },
  {
   "cell_type": "code",
   "execution_count": 5,
   "id": "ee745025-5c79-4ef9-9e22-2548952d6113",
   "metadata": {},
   "outputs": [
    {
     "data": {
      "image/png": "[encoded data removed]",
      "text/plain": [
       "<Figure size 1039.79x200.667 with 1 Axes>"
      ]
     },
     "execution_count": 5,
     "metadata": {},
     "output_type": "execute_result"
    }
   ],
   "source": [
    "ansatz.decompose().draw('mpl')"
   ]
  },
  {
   "cell_type": "code",
   "execution_count": 6,
   "id": "1462f719-a48b-4d95-bb98-d6ddb1c4e7a2",
   "metadata": {},
   "outputs": [
    {
     "name": "stdout",
     "output_type": "stream",
     "text": [
      "Evaluation 3: -0.7419651140062954\n",
      "Evaluation 6: -1.3027032603319644\n",
      "Evaluation 9: -0.9923681162372783\n",
      "Evaluation 12: -1.3213472560460529\n",
      "Evaluation 15: -1.2804566594365718\n",
      "Evaluation 18: -1.3684599970500044\n",
      "Evaluation 21: -1.3591860918170604\n",
      "Evaluation 24: -1.5115185696141273\n",
      "Evaluation 27: -1.265838204572933\n",
      "Evaluation 30: -1.288948818597498\n",
      "Evaluation 33: -1.2889149703720961\n",
      "Evaluation 36: -1.3461053452092977\n",
      "Evaluation 39: -1.0966699321079374\n",
      "Evaluation 42: -1.097430627668079\n",
      "Evaluation 45: -1.2411187438455855\n",
      "Evaluation 48: -1.2666612281979586\n",
      "Evaluation 51: -1.526446414178964\n",
      "Evaluation 54: -1.5276414819469397\n",
      "Evaluation 57: -1.4767908083318466\n",
      "Evaluation 60: -1.4995113031493028\n",
      "Evaluation 63: -1.5012739944597577\n",
      "Evaluation 66: -1.3039058255123523\n",
      "Evaluation 69: -1.5299144412244112\n",
      "Evaluation 72: -1.5858378162053597\n",
      "Evaluation 75: -1.6987324079513484\n",
      "Evaluation 78: -1.697804883488652\n",
      "Evaluation 81: -1.698139358716512\n",
      "Evaluation 84: -1.6981463468800473\n",
      "Evaluation 87: -1.4258150137292895\n",
      "Evaluation 90: -1.3369809816667295\n",
      "Evaluation 93: -1.3670243725945161\n",
      "Evaluation 96: -1.4305144438410802\n",
      "Evaluation 99: -1.4264377956013115\n",
      "Evaluation 102: -1.439780019474591\n",
      "Evaluation 105: -1.4779686430213266\n",
      "Evaluation 108: -1.4926992254709301\n",
      "Evaluation 111: -1.4887305603364565\n",
      "Evaluation 114: -1.5102428463183775\n",
      "Evaluation 117: -1.513489653611665\n",
      "Evaluation 120: -1.548514941284357\n",
      "Evaluation 123: -1.5480976569832146\n",
      "Evaluation 126: -1.57646909673956\n",
      "Evaluation 129: -1.4899895158375223\n",
      "Evaluation 132: -1.6453382516870025\n",
      "Evaluation 135: -1.5195582198886215\n",
      "Evaluation 138: -1.5194849014110106\n",
      "Evaluation 141: -1.6370288815253573\n",
      "Evaluation 144: -1.589916779052413\n",
      "Evaluation 147: -1.6389023945483883\n",
      "Evaluation 150: -1.6019155410379993\n",
      "Evaluation 153: -1.6038051922550614\n",
      "Evaluation 156: -1.5674595139266583\n",
      "Evaluation 159: -1.6936862063605629\n",
      "Evaluation 162: -1.7336690058273514\n",
      "Evaluation 165: -1.7454081256700278\n",
      "Evaluation 168: -1.7820160171838169\n",
      "Evaluation 171: -1.7762150569743602\n",
      "Evaluation 174: -1.744477194169374\n",
      "Evaluation 177: -1.7957488238589687\n",
      "Evaluation 180: -1.796422072000074\n",
      "Evaluation 183: -1.7811693518386897\n",
      "Evaluation 186: -1.772072901857864\n",
      "Evaluation 189: -1.7834370280966203\n",
      "Evaluation 192: -1.7853504906016429\n",
      "Evaluation 195: -1.7940596474065924\n",
      "Evaluation 198: -1.7888475640019286\n",
      "Evaluation 201: -1.824762181679023\n",
      "Evaluation 204: -1.8394154891459127\n",
      "Evaluation 207: -1.8354358411132348\n",
      "Evaluation 210: -1.8362513971229646\n",
      "Evaluation 213: -1.8448608211855895\n",
      "Evaluation 216: -1.8446948038302866\n",
      "Evaluation 219: -1.8474812374949445\n",
      "Evaluation 222: -1.8423842501721868\n",
      "Evaluation 225: -1.8462194424675764\n",
      "Evaluation 228: -1.8459695063326458\n",
      "Evaluation 231: -1.845506882011601\n",
      "Evaluation 234: -1.845216799872878\n",
      "Evaluation 237: -1.8457353935402974\n",
      "Evaluation 240: -1.8462225283645177\n",
      "Evaluation 243: -1.8416961699183827\n",
      "Evaluation 246: -1.8492638986766603\n",
      "Evaluation 249: -1.8505902727195358\n",
      "Evaluation 252: -1.8508017173558053\n",
      "Evaluation 255: -1.8507801191658664\n",
      "Evaluation 258: -1.8507548922528474\n",
      "Evaluation 261: -1.8516317413030625\n",
      "Evaluation 264: -1.8517806936867383\n",
      "Evaluation 267: -1.8501594725871324\n",
      "Evaluation 270: -1.8500534878898123\n",
      "Evaluation 273: -1.8464343141592456\n",
      "Evaluation 276: -1.8468805551919927\n",
      "Evaluation 279: -1.8465783560378082\n",
      "Evaluation 282: -1.8484480262578487\n",
      "Evaluation 285: -1.8517795291561843\n",
      "Evaluation 288: -1.851654996456492\n",
      "Evaluation 291: -1.8527038783041099\n",
      "Evaluation 294: -1.8505828321034252\n",
      "Evaluation 297: -1.853735337942911\n",
      "Evaluation 300: -1.8537258689464524\n",
      "Evaluation 303: -1.854212576610757\n",
      "Evaluation 306: -1.8544348106921524\n",
      "Evaluation 309: -1.8546144162437899\n",
      "Evaluation 312: -1.854728599718871\n",
      "Evaluation 315: -1.8551617640488955\n",
      "Evaluation 318: -1.8549830549579918\n",
      "Evaluation 321: -1.8542519449388033\n",
      "Evaluation 324: -1.8543462138514744\n",
      "Evaluation 327: -1.8550229012757182\n",
      "Evaluation 330: -1.8549882814113614\n",
      "Evaluation 333: -1.8546876851856875\n",
      "Evaluation 336: -1.8545912171576295\n",
      "Evaluation 339: -1.8550042470172503\n",
      "Evaluation 342: -1.8559700076998915\n",
      "Evaluation 345: -1.8559658527399332\n",
      "Evaluation 348: -1.8566358871800195\n",
      "Evaluation 351: -1.856644123843955\n",
      "Evaluation 354: -1.8566602642982037\n",
      "Evaluation 357: -1.856593407119996\n",
      "Evaluation 360: -1.8565618538977904\n",
      "Evaluation 363: -1.8563112479778638\n",
      "Evaluation 366: -1.8564129049865246\n",
      "Evaluation 369: -1.85653413278267\n",
      "Evaluation 372: -1.8566620592710947\n",
      "Evaluation 375: -1.8569416971174015\n",
      "Evaluation 378: -1.8569353529802677\n",
      "Evaluation 381: -1.856937011939936\n",
      "Evaluation 384: -1.8569966294563927\n",
      "Evaluation 387: -1.8565877457290134\n",
      "Evaluation 390: -1.8567133535767553\n",
      "Evaluation 393: -1.856896675425911\n",
      "Evaluation 396: -1.8570236964517228\n",
      "Evaluation 399: -1.8570160651326963\n",
      "Evaluation 402: -1.8569279595369543\n",
      "Evaluation 405: -1.856620142388297\n",
      "Evaluation 408: -1.8571015810665432\n",
      "Evaluation 411: -1.8571114444719798\n",
      "Evaluation 414: -1.8570780514980625\n",
      "Evaluation 417: -1.857202464096685\n",
      "Evaluation 420: -1.856909799277718\n",
      "Evaluation 423: -1.856855248997528\n",
      "Evaluation 426: -1.8568682704708368\n",
      "Evaluation 429: -1.856889968164732\n",
      "Evaluation 432: -1.8568909910745857\n",
      "Evaluation 435: -1.8568927739961292\n",
      "Evaluation 438: -1.8568156970758354\n",
      "Evaluation 441: -1.8568049945722593\n",
      "Evaluation 444: -1.8568659784801609\n",
      "Evaluation 447: -1.8568706036530087\n",
      "Evaluation 450: -1.8568717704470363\n",
      "Evaluation 453: -1.856877323406606\n",
      "Evaluation 456: -1.8568581634532502\n",
      "Evaluation 459: -1.8568910441031576\n",
      "Evaluation 462: -1.8565898024556833\n",
      "Evaluation 465: -1.8566182817535708\n",
      "Evaluation 468: -1.8566740003585294\n",
      "Evaluation 471: -1.8566978667558511\n",
      "Evaluation 474: -1.856660466987548\n",
      "Evaluation 477: -1.8566917126666405\n",
      "Evaluation 480: -1.8566236746785632\n",
      "Evaluation 483: -1.856618113175406\n",
      "Evaluation 486: -1.8566808817155411\n",
      "Evaluation 489: -1.8566883063615884\n",
      "Evaluation 492: -1.8565980160671343\n",
      "Evaluation 495: -1.8570533533353604\n",
      "Evaluation 498: -1.8568482743245838\n",
      "Evaluation 501: -1.8567713405693387\n",
      "Evaluation 504: -1.8566461123308953\n",
      "Evaluation 507: -1.8568864988063982\n",
      "Evaluation 510: -1.8568417342172907\n",
      "Evaluation 513: -1.8569591684065572\n",
      "Evaluation 516: -1.8569871061077547\n",
      "Evaluation 519: -1.8570052536418935\n",
      "Evaluation 522: -1.8570119187253273\n",
      "Evaluation 525: -1.8569338613632391\n",
      "Evaluation 528: -1.8566939376341431\n",
      "Evaluation 531: -1.856694587591077\n",
      "Evaluation 534: -1.856690719861839\n",
      "Evaluation 537: -1.8569921169058967\n",
      "Evaluation 540: -1.856418640025467\n",
      "Evaluation 543: -1.8564743452704524\n",
      "Evaluation 546: -1.856503694838629\n",
      "Evaluation 549: -1.8565050720289937\n",
      "Evaluation 552: -1.856686458740294\n",
      "Evaluation 555: -1.8572012644422853\n",
      "Evaluation 558: -1.8572032426579559\n",
      "Evaluation 561: -1.8571440391503096\n",
      "Evaluation 564: -1.8571285215615516\n",
      "Evaluation 567: -1.8570820521095515\n",
      "Evaluation 570: -1.8570839071947352\n",
      "Evaluation 573: -1.8570334329476115\n",
      "Evaluation 576: -1.8570697311441617\n",
      "Evaluation 579: -1.8569358550535815\n",
      "Evaluation 582: -1.8568925498136448\n",
      "Evaluation 585: -1.8568666115704704\n",
      "Evaluation 588: -1.857033902870275\n",
      "Evaluation 591: -1.8569433669308835\n",
      "Evaluation 594: -1.8569598026662426\n",
      "Evaluation 597: -1.8570837802800018\n",
      "Evaluation 600: -1.8571101673620314\n",
      "Evaluation 603: -1.8571063812383712\n",
      "Evaluation 606: -1.8571053519980822\n",
      "Evaluation 609: -1.8572349598118583\n",
      "Evaluation 612: -1.8572483128734423\n",
      "Evaluation 615: -1.8572288025326196\n",
      "Evaluation 618: -1.8572236012498293\n",
      "Evaluation 621: -1.8571645183589924\n",
      "Evaluation 624: -1.8571676485945936\n",
      "Evaluation 627: -1.8571759034299904\n",
      "Evaluation 630: -1.8571471273647238\n",
      "Evaluation 633: -1.8572117909011159\n",
      "Evaluation 636: -1.857189770402665\n",
      "Evaluation 639: -1.8570770099747567\n",
      "Evaluation 642: -1.8570812626450648\n",
      "Evaluation 645: -1.8571097577080244\n",
      "Evaluation 648: -1.8570609456225284\n",
      "Evaluation 651: -1.8572174329263509\n",
      "Evaluation 654: -1.8572136180242336\n",
      "Evaluation 657: -1.857213148550046\n",
      "Evaluation 660: -1.8571662939239661\n",
      "Evaluation 663: -1.8571073633106658\n",
      "Evaluation 666: -1.8568875071831343\n",
      "Evaluation 669: -1.8567844732856849\n",
      "Evaluation 672: -1.8568388320943536\n",
      "Evaluation 675: -1.8570805962056882\n",
      "Evaluation 678: -1.857173214712972\n",
      "Evaluation 681: -1.8571381732432226\n",
      "Evaluation 684: -1.857127855687299\n",
      "Evaluation 687: -1.8571313071020372\n",
      "Evaluation 690: -1.8571383849807268\n",
      "Evaluation 693: -1.8570639385586114\n",
      "Evaluation 696: -1.856928012345968\n",
      "Evaluation 699: -1.8568996304123433\n",
      "Evaluation 702: -1.8569034939902804\n",
      "Evaluation 705: -1.8568753024576579\n",
      "Evaluation 708: -1.8568837307505923\n",
      "Evaluation 711: -1.8569219980622789\n",
      "Evaluation 714: -1.8569573442253096\n",
      "Evaluation 717: -1.8569572842492277\n",
      "Evaluation 720: -1.8569528036261205\n",
      "Evaluation 723: -1.8569380113060172\n",
      "Evaluation 726: -1.8569430785728929\n",
      "Evaluation 729: -1.8570482106341866\n",
      "Evaluation 732: -1.8569130641909324\n",
      "Evaluation 735: -1.8568274874556316\n",
      "Evaluation 738: -1.856847936052876\n",
      "Evaluation 741: -1.8568905595530154\n",
      "Evaluation 744: -1.8568896828719768\n",
      "Evaluation 747: -1.856891906520565\n",
      "Evaluation 750: -1.8568710225767797\n",
      "Evaluation 753: -1.8569298758374035\n",
      "Evaluation 756: -1.856969855627092\n",
      "Evaluation 759: -1.8569582503018902\n",
      "Evaluation 762: -1.8569630779938902\n",
      "Evaluation 765: -1.85659281752859\n",
      "Evaluation 768: -1.8565718554875545\n",
      "Evaluation 771: -1.856544776062836\n",
      "Evaluation 774: -1.8565421841924779\n",
      "Evaluation 777: -1.8566410705135283\n",
      "Evaluation 780: -1.8569762462289552\n",
      "Evaluation 783: -1.8569947452695705\n",
      "Evaluation 786: -1.8571068879007493\n",
      "Evaluation 789: -1.8571019509240174\n",
      "Evaluation 792: -1.857080969241723\n",
      "Evaluation 795: -1.8570614885794507\n",
      "Evaluation 798: -1.8570679729624722\n",
      "Evaluation 801: -1.857043193142879\n",
      "Evaluation 804: -1.857018260206112\n",
      "Evaluation 807: -1.8571390009442006\n",
      "Evaluation 810: -1.857118928073658\n",
      "Evaluation 813: -1.8571063797667786\n",
      "Evaluation 816: -1.8571336479384115\n",
      "Evaluation 819: -1.8571313968999663\n",
      "Evaluation 822: -1.8571306803525207\n",
      "Evaluation 825: -1.857059279524573\n",
      "Evaluation 828: -1.8570803713784019\n",
      "Evaluation 831: -1.857007832641966\n",
      "Evaluation 834: -1.8570001093680872\n",
      "Evaluation 837: -1.8569703227679297\n",
      "Evaluation 840: -1.8569677031351615\n",
      "Evaluation 843: -1.8569526676008206\n",
      "Evaluation 846: -1.8570013046900455\n",
      "Evaluation 849: -1.8570006690528693\n",
      "Evaluation 852: -1.8569908085547393\n",
      "Evaluation 855: -1.8571065891496032\n",
      "Evaluation 858: -1.8570904329579225\n",
      "Evaluation 861: -1.8571184251366566\n",
      "Evaluation 864: -1.8571507032780086\n",
      "Evaluation 867: -1.8571295468395632\n",
      "Evaluation 870: -1.8570893884162367\n",
      "Evaluation 873: -1.8569802636470878\n",
      "Evaluation 876: -1.85699441978001\n",
      "Evaluation 879: -1.8570136840579874\n",
      "Evaluation 882: -1.8568943419303414\n",
      "Evaluation 885: -1.8568447460079864\n",
      "Evaluation 888: -1.8568450121510294\n",
      "Evaluation 891: -1.8568685551251431\n",
      "Evaluation 894: -1.8569272705977196\n",
      "Evaluation 897: -1.85693968701211\n",
      "Evaluation 900: -1.8567645477835506\n",
      "Evaluation 903: -1.856749327075252\n",
      "Evaluation 906: -1.8568521725026839\n",
      "Evaluation 909: -1.857015299972389\n",
      "Evaluation 912: -1.8570241209568703\n",
      "Evaluation 915: -1.8570106700646065\n",
      "Evaluation 918: -1.8568421322629267\n",
      "Evaluation 921: -1.8568610602925868\n",
      "Evaluation 924: -1.856634281840356\n",
      "Evaluation 927: -1.8565519177370113\n",
      "Evaluation 930: -1.8567245537285235\n",
      "Evaluation 933: -1.8567565021321144\n",
      "Evaluation 936: -1.8569835212572299\n",
      "Evaluation 939: -1.8569838022891167\n",
      "Evaluation 942: -1.856987169799952\n",
      "Evaluation 945: -1.8570047964784415\n",
      "Evaluation 948: -1.8569909252650811\n",
      "Evaluation 951: -1.8569916774459991\n",
      "Evaluation 954: -1.857177367966954\n",
      "Evaluation 957: -1.8571836725851558\n",
      "Evaluation 960: -1.8571737529405772\n",
      "Evaluation 963: -1.8572261971298416\n",
      "Evaluation 966: -1.8572237339278008\n",
      "Evaluation 969: -1.8572344243367136\n",
      "Evaluation 972: -1.8571609199062007\n",
      "Evaluation 975: -1.857156868774458\n",
      "Evaluation 978: -1.8570668847227496\n",
      "Evaluation 981: -1.8570512102379804\n",
      "Evaluation 984: -1.856971334429102\n",
      "Evaluation 987: -1.856972525749547\n",
      "Evaluation 990: -1.85696464016092\n",
      "Evaluation 993: -1.8571344310719708\n",
      "Evaluation 996: -1.8571503996169187\n",
      "Evaluation 999: -1.857132053521481\n",
      "Evaluation 1002: -1.8571333558565697\n",
      "Evaluation 1005: -1.8571291375416246\n",
      "Evaluation 1008: -1.8571412326513486\n",
      "Evaluation 1011: -1.857126943472321\n",
      "Evaluation 1014: -1.8570928072974737\n",
      "Evaluation 1017: -1.856934706963146\n",
      "Evaluation 1020: -1.85689793544571\n",
      "Evaluation 1023: -1.8568267552503381\n",
      "Evaluation 1026: -1.8569896224812619\n",
      "Evaluation 1029: -1.8570720921585502\n",
      "Evaluation 1032: -1.8570641335681688\n",
      "Evaluation 1035: -1.8571023286304624\n",
      "Evaluation 1038: -1.8571068894462281\n",
      "Evaluation 1041: -1.857114227399107\n",
      "Evaluation 1044: -1.857046867851192\n",
      "Evaluation 1047: -1.8570728129136482\n",
      "Evaluation 1050: -1.8571057094591237\n",
      "Evaluation 1053: -1.8570837839853167\n",
      "Evaluation 1056: -1.8570928542043774\n",
      "Evaluation 1059: -1.8570801094553306\n",
      "Evaluation 1062: -1.8570453203891901\n",
      "Evaluation 1065: -1.8570042203624826\n",
      "Evaluation 1068: -1.8571238565556945\n",
      "Evaluation 1071: -1.857095519421274\n",
      "Evaluation 1074: -1.857193839253747\n",
      "Evaluation 1077: -1.8571916609331864\n",
      "Evaluation 1080: -1.8570817390859318\n",
      "Evaluation 1083: -1.8570826030731549\n",
      "Evaluation 1086: -1.857033747579308\n",
      "Evaluation 1089: -1.857047400537487\n",
      "Evaluation 1092: -1.8569770188207118\n",
      "Evaluation 1095: -1.8569519260344463\n",
      "Evaluation 1098: -1.856975642281871\n",
      "Evaluation 1101: -1.8570859112422913\n",
      "Evaluation 1104: -1.8571077827845093\n",
      "Evaluation 1107: -1.8570393371335345\n",
      "Evaluation 1110: -1.8570455991956238\n",
      "Evaluation 1113: -1.8570270414252323\n",
      "Evaluation 1116: -1.8569786604160885\n",
      "Evaluation 1119: -1.8569519678853987\n",
      "Evaluation 1122: -1.857084505145361\n",
      "Evaluation 1125: -1.8570697200226147\n",
      "Evaluation 1128: -1.8570749994471158\n",
      "Evaluation 1131: -1.857069896101804\n",
      "Evaluation 1134: -1.8570478792051779\n",
      "Evaluation 1137: -1.8569917875880015\n",
      "Evaluation 1140: -1.8569953444103326\n",
      "Evaluation 1143: -1.85696532900275\n",
      "Evaluation 1146: -1.8569750336940596\n",
      "Evaluation 1149: -1.857113839044498\n",
      "Evaluation 1152: -1.8571228456466977\n",
      "Evaluation 1155: -1.8571312819672832\n",
      "Evaluation 1158: -1.857149686659709\n",
      "Evaluation 1161: -1.8571467692791506\n",
      "Evaluation 1164: -1.8571449850220594\n",
      "Evaluation 1167: -1.8571474270338268\n",
      "Evaluation 1170: -1.8571425032321947\n",
      "Evaluation 1173: -1.8571407335507528\n",
      "Evaluation 1176: -1.8571319604127223\n",
      "Evaluation 1179: -1.8570827764047204\n",
      "Evaluation 1182: -1.8571109186212669\n",
      "Evaluation 1185: -1.8571617081984755\n",
      "Evaluation 1188: -1.857172380939099\n",
      "Evaluation 1191: -1.8571505341439312\n",
      "Evaluation 1194: -1.8571237600912684\n",
      "Evaluation 1197: -1.8571160250115117\n",
      "Evaluation 1200: -1.8570479733270828\n",
      "Evaluation 1203: -1.857051706447475\n",
      "Evaluation 1206: -1.8571378206119935\n",
      "Evaluation 1209: -1.8571413096788774\n",
      "Evaluation 1212: -1.857128612222927\n",
      "Evaluation 1215: -1.8571469470692625\n",
      "Evaluation 1218: -1.857111839111995\n",
      "Evaluation 1221: -1.8571642827574375\n",
      "Evaluation 1224: -1.8571834644514436\n",
      "Evaluation 1227: -1.8571861135195744\n",
      "Evaluation 1230: -1.857017852058074\n",
      "Evaluation 1233: -1.8570390501590592\n",
      "Evaluation 1236: -1.8570614736392532\n",
      "Evaluation 1239: -1.857137917200215\n",
      "Evaluation 1242: -1.8571370503069609\n",
      "Evaluation 1245: -1.8570966619449358\n",
      "Evaluation 1248: -1.8571448301710933\n",
      "Evaluation 1251: -1.857152626592597\n",
      "Evaluation 1254: -1.85721557977104\n",
      "Evaluation 1257: -1.8572165311483735\n",
      "Evaluation 1260: -1.8572253363014228\n",
      "Evaluation 1263: -1.8571819373726544\n",
      "Evaluation 1266: -1.857184391636446\n",
      "Evaluation 1269: -1.8571635911077753\n",
      "Evaluation 1272: -1.8570538722449712\n",
      "Evaluation 1275: -1.8570456207456925\n",
      "Evaluation 1278: -1.8570088356255752\n",
      "Evaluation 1281: -1.8569973673874345\n",
      "Evaluation 1284: -1.8570766806787975\n",
      "Evaluation 1287: -1.8570718308017922\n",
      "Evaluation 1290: -1.8570997005153729\n",
      "Evaluation 1293: -1.8570495878064768\n",
      "Evaluation 1296: -1.8570388267797768\n",
      "Evaluation 1299: -1.8570504563979853\n",
      "Evaluation 1302: -1.8570610284542752\n",
      "Evaluation 1305: -1.857052473753256\n",
      "Evaluation 1308: -1.8570502310661452\n",
      "Evaluation 1311: -1.8570518551257185\n",
      "Evaluation 1314: -1.8570788710587975\n",
      "Evaluation 1317: -1.8571368773787353\n",
      "Evaluation 1320: -1.8571395796106842\n",
      "Evaluation 1323: -1.8570519381752544\n",
      "Evaluation 1326: -1.8570942921248241\n",
      "Evaluation 1329: -1.857110940798919\n",
      "Evaluation 1332: -1.8571212797556447\n",
      "Evaluation 1335: -1.857114815748709\n",
      "Evaluation 1338: -1.8571378225419972\n",
      "Evaluation 1341: -1.857132376361018\n",
      "Evaluation 1344: -1.8570817742790804\n",
      "Evaluation 1347: -1.8570751690141414\n",
      "Evaluation 1350: -1.8570830608529847\n",
      "Evaluation 1353: -1.8570828785861502\n",
      "Evaluation 1356: -1.8570873600303615\n",
      "Evaluation 1359: -1.8571079689524337\n",
      "Evaluation 1362: -1.8571537303789871\n",
      "Evaluation 1365: -1.8571662739809103\n",
      "Evaluation 1368: -1.857166322085446\n",
      "Evaluation 1371: -1.857121863963803\n",
      "Evaluation 1374: -1.857121181050077\n",
      "Evaluation 1377: -1.8571336997663277\n",
      "Evaluation 1380: -1.8571338578413976\n",
      "Evaluation 1383: -1.8571442266274476\n",
      "Evaluation 1386: -1.857044056521605\n",
      "Evaluation 1389: -1.8570670392291022\n",
      "Evaluation 1392: -1.8570182289399868\n",
      "Evaluation 1395: -1.857075062792923\n",
      "Evaluation 1398: -1.857073978866689\n",
      "Evaluation 1401: -1.8570732215730734\n",
      "Evaluation 1404: -1.857073242041783\n",
      "Evaluation 1407: -1.8570320957922752\n",
      "Evaluation 1410: -1.8570375320800439\n",
      "Evaluation 1413: -1.8570606929361042\n",
      "Evaluation 1416: -1.8570625246225858\n",
      "Evaluation 1419: -1.8570657457312\n",
      "Evaluation 1422: -1.8570835271885173\n",
      "Evaluation 1425: -1.8570638460917221\n",
      "Evaluation 1428: -1.8570570820252517\n",
      "Evaluation 1431: -1.8570768947591103\n",
      "Evaluation 1434: -1.857017858471134\n",
      "Evaluation 1437: -1.8570380289435664\n",
      "Evaluation 1440: -1.8570275557062355\n",
      "Evaluation 1443: -1.85706208195466\n",
      "Evaluation 1446: -1.8570630640243644\n",
      "Evaluation 1449: -1.8570615930299077\n",
      "Evaluation 1452: -1.857061873964852\n",
      "Evaluation 1455: -1.8571127011460529\n",
      "Evaluation 1458: -1.8571090740565757\n",
      "Evaluation 1461: -1.8571088513385503\n",
      "Evaluation 1464: -1.8571234866396433\n",
      "Evaluation 1467: -1.8571004076038897\n",
      "Evaluation 1470: -1.85709576592296\n",
      "Evaluation 1473: -1.8570577966292552\n",
      "Evaluation 1476: -1.8571728068590923\n",
      "Evaluation 1479: -1.8571626365005154\n",
      "Evaluation 1482: -1.85713626645942\n",
      "Evaluation 1485: -1.857109227748717\n",
      "Evaluation 1488: -1.8570380361034338\n",
      "Evaluation 1491: -1.8570377364527049\n",
      "Evaluation 1494: -1.8570457508271\n",
      "Evaluation 1497: -1.8570748337347114\n",
      "Evaluation 1500: -1.8570887938134604\n",
      "Evaluation 1503: -1.8570975302026695\n",
      "Evaluation 1506: -1.85715669717861\n",
      "Evaluation 1509: -1.8571392873415309\n",
      "Evaluation 1512: -1.857138964966575\n",
      "Evaluation 1515: -1.8571637194766584\n",
      "Evaluation 1518: -1.857153781821574\n",
      "Evaluation 1521: -1.8571684025511985\n",
      "Evaluation 1524: -1.8571689500512323\n",
      "Evaluation 1527: -1.8571666323994473\n",
      "Evaluation 1530: -1.857161636261974\n",
      "Evaluation 1533: -1.8571834536438834\n",
      "Evaluation 1536: -1.857189309128543\n",
      "Evaluation 1539: -1.8571972950451237\n",
      "Evaluation 1542: -1.8571939431117872\n",
      "Evaluation 1545: -1.8571911963381609\n",
      "Evaluation 1548: -1.8571856180638293\n",
      "Evaluation 1551: -1.8571957501384333\n",
      "Evaluation 1554: -1.857183581656728\n",
      "Evaluation 1557: -1.8571842705112669\n",
      "Evaluation 1560: -1.8571746938398623\n",
      "Evaluation 1563: -1.857166571207287\n",
      "Evaluation 1566: -1.8571979614339007\n",
      "Evaluation 1569: -1.8572157698156324\n",
      "Evaluation 1572: -1.8572168474427073\n",
      "Evaluation 1575: -1.8572282283808004\n",
      "Evaluation 1578: -1.8571975779092165\n",
      "Evaluation 1581: -1.857198698698686\n",
      "Evaluation 1584: -1.8571970353579021\n",
      "Evaluation 1587: -1.8572087194869158\n",
      "Evaluation 1590: -1.857234157328761\n",
      "Evaluation 1593: -1.8572398116396012\n",
      "Evaluation 1596: -1.8572264221499988\n",
      "Evaluation 1599: -1.85722852919104\n",
      "Evaluation 1602: -1.857216417649915\n",
      "Evaluation 1605: -1.8571727641391624\n",
      "Evaluation 1608: -1.8572024815488755\n",
      "Evaluation 1611: -1.8572080432926326\n",
      "Evaluation 1614: -1.8572153451368134\n",
      "Evaluation 1617: -1.8572289860570435\n",
      "Evaluation 1620: -1.857225995545055\n",
      "Evaluation 1623: -1.8572083610519492\n",
      "Evaluation 1626: -1.8572194911536313\n",
      "Evaluation 1629: -1.85721713936292\n",
      "Evaluation 1632: -1.8572133592720104\n",
      "Evaluation 1635: -1.8571995543442197\n",
      "Evaluation 1638: -1.8572033992934003\n",
      "Evaluation 1641: -1.8571942951699711\n",
      "Evaluation 1644: -1.8571944397307616\n",
      "Evaluation 1647: -1.857186183998401\n",
      "Evaluation 1650: -1.8571512183718526\n",
      "Evaluation 1653: -1.8571362553355182\n",
      "Evaluation 1656: -1.8571311797359473\n",
      "Evaluation 1659: -1.857202457174347\n",
      "Evaluation 1662: -1.8572166738183642\n",
      "Evaluation 1665: -1.8571590759190841\n",
      "Evaluation 1668: -1.857195163213323\n",
      "Evaluation 1671: -1.8571968129983192\n",
      "Evaluation 1674: -1.8571965154264403\n",
      "Evaluation 1677: -1.8572002188393895\n",
      "Evaluation 1680: -1.8570963929754711\n",
      "Evaluation 1683: -1.857061491625336\n",
      "Evaluation 1686: -1.8571369016512964\n",
      "Evaluation 1689: -1.8571268960190022\n",
      "Evaluation 1692: -1.8571160522934547\n",
      "Evaluation 1695: -1.857118432706301\n",
      "Evaluation 1698: -1.8571577506442936\n",
      "Evaluation 1701: -1.857173385080501\n",
      "Evaluation 1704: -1.8572002843863449\n",
      "Evaluation 1707: -1.8572287257456173\n",
      "Evaluation 1710: -1.8572291845966677\n",
      "Evaluation 1713: -1.8572422582264527\n",
      "Evaluation 1716: -1.8572398851252083\n",
      "Evaluation 1719: -1.857235774269173\n",
      "Evaluation 1722: -1.8572406066226677\n",
      "Evaluation 1725: -1.8572396494144592\n",
      "Evaluation 1728: -1.8572359241633352\n",
      "Evaluation 1731: -1.8572393246900525\n",
      "Evaluation 1734: -1.8572356084298602\n",
      "Evaluation 1737: -1.8572153459510277\n",
      "Evaluation 1740: -1.8572084251671657\n",
      "Evaluation 1743: -1.8572165237673077\n",
      "Evaluation 1746: -1.857239555926685\n",
      "Evaluation 1749: -1.8572321599454777\n",
      "Evaluation 1752: -1.8572314811622557\n",
      "Evaluation 1755: -1.8572232737278922\n",
      "Evaluation 1758: -1.8572233361576544\n",
      "Evaluation 1761: -1.8572262300463145\n",
      "Evaluation 1764: -1.857227917713278\n",
      "Evaluation 1767: -1.8572159979609169\n",
      "Evaluation 1770: -1.857131919286267\n",
      "Evaluation 1773: -1.8571542918719004\n",
      "Evaluation 1776: -1.8571907321284746\n",
      "Evaluation 1779: -1.8572038266873494\n",
      "Evaluation 1782: -1.8572326203668144\n",
      "Evaluation 1785: -1.8572276509265409\n",
      "Evaluation 1788: -1.8572233808398935\n",
      "Evaluation 1791: -1.8572218221899819\n",
      "Evaluation 1794: -1.8572342333144154\n",
      "Evaluation 1797: -1.857248951923894\n",
      "Evaluation 1800: -1.8572491171739935\n",
      "Evaluation 1803: -1.8572455525497995\n",
      "Evaluation 1806: -1.8571998352277026\n",
      "Evaluation 1809: -1.8572026402041315\n",
      "Evaluation 1812: -1.8572023312920865\n",
      "Evaluation 1815: -1.8572053779366382\n",
      "Evaluation 1818: -1.857204454214544\n",
      "Evaluation 1821: -1.8572021879000509\n",
      "Evaluation 1824: -1.8572036280304185\n",
      "Evaluation 1827: -1.8571974003045424\n",
      "Evaluation 1830: -1.8571893254826841\n",
      "Evaluation 1833: -1.8571594228601214\n",
      "Evaluation 1836: -1.8571609879462898\n",
      "Evaluation 1839: -1.857189946988619\n",
      "Evaluation 1842: -1.8571887721958413\n",
      "Evaluation 1845: -1.857189907897907\n",
      "Evaluation 1848: -1.8571921180755295\n",
      "Evaluation 1851: -1.8571865157236849\n",
      "Evaluation 1854: -1.8571931133104338\n",
      "Evaluation 1857: -1.857176518798011\n",
      "Evaluation 1860: -1.857157303840571\n",
      "Evaluation 1863: -1.8571542539249826\n",
      "Evaluation 1866: -1.8571547151897052\n",
      "Evaluation 1869: -1.8571547214971784\n",
      "Evaluation 1872: -1.8571530363106408\n",
      "Evaluation 1875: -1.857141650091733\n",
      "Evaluation 1878: -1.8571486077158605\n",
      "Evaluation 1881: -1.8570982452640392\n",
      "Evaluation 1884: -1.857007551587589\n",
      "Evaluation 1887: -1.8570726682313\n",
      "Evaluation 1890: -1.85704257748381\n",
      "Evaluation 1893: -1.8570815372021703\n",
      "Evaluation 1896: -1.8571021722499823\n",
      "Evaluation 1899: -1.8570874830796018\n",
      "Evaluation 1902: -1.8571038719925788\n",
      "Evaluation 1905: -1.8570902544115793\n",
      "Evaluation 1908: -1.8571105190357804\n",
      "Evaluation 1911: -1.8571277958876637\n",
      "Evaluation 1914: -1.8571480128561335\n",
      "Evaluation 1917: -1.857149518555933\n",
      "Evaluation 1920: -1.8571663040042297\n",
      "Evaluation 1923: -1.8571795536784375\n",
      "Evaluation 1926: -1.8571875518441743\n",
      "Evaluation 1929: -1.8571874534371533\n",
      "Evaluation 1932: -1.85715443876053\n",
      "Evaluation 1935: -1.8571542534145422\n",
      "Evaluation 1938: -1.85716420327115\n",
      "Evaluation 1941: -1.8571628880890578\n",
      "Evaluation 1944: -1.857166934945684\n",
      "Evaluation 1947: -1.8571655009951236\n",
      "Evaluation 1950: -1.8571055373825653\n",
      "Evaluation 1953: -1.8570924404790918\n",
      "Evaluation 1956: -1.8571097840501354\n",
      "Evaluation 1959: -1.8571103534593976\n",
      "Evaluation 1962: -1.8571170180063952\n",
      "Evaluation 1965: -1.8571224748452209\n",
      "Evaluation 1968: -1.8571008756111196\n",
      "Evaluation 1971: -1.8570939842989147\n",
      "Evaluation 1974: -1.8570658617386882\n",
      "Evaluation 1977: -1.857080844946466\n",
      "Evaluation 1980: -1.8570906115450665\n",
      "Evaluation 1983: -1.8571038751307214\n",
      "Evaluation 1986: -1.8571220305913554\n",
      "Evaluation 1989: -1.8571923567398607\n",
      "Evaluation 1992: -1.8571888391297147\n",
      "Evaluation 1995: -1.8571929150061737\n",
      "Evaluation 1998: -1.8571972096555358\n",
      "Evaluation 2001: -1.8572029130277492\n",
      "Evaluation 2004: -1.8572055070073397\n",
      "Evaluation 2007: -1.8572234031381043\n",
      "Evaluation 2010: -1.8572247797897137\n",
      "Evaluation 2013: -1.8572316523278871\n",
      "Evaluation 2016: -1.8572273942825213\n",
      "Evaluation 2019: -1.8572276394834901\n",
      "Evaluation 2022: -1.8572311080318755\n",
      "Evaluation 2025: -1.857229179745925\n",
      "Evaluation 2028: -1.8572322633094012\n",
      "Evaluation 2031: -1.857176053036272\n",
      "Evaluation 2034: -1.8571694024560705\n",
      "Evaluation 2037: -1.8571842938278058\n",
      "Evaluation 2040: -1.8571486575842329\n",
      "Evaluation 2043: -1.8571505777338175\n",
      "Evaluation 2046: -1.8571510325236258\n",
      "Evaluation 2049: -1.8571469053541043\n",
      "Evaluation 2052: -1.857164485296662\n",
      "Evaluation 2055: -1.857162816643555\n",
      "Evaluation 2058: -1.8571667227646518\n",
      "Evaluation 2061: -1.8571600869523797\n",
      "Evaluation 2064: -1.857160167772112\n",
      "Evaluation 2067: -1.857145200523766\n",
      "Evaluation 2070: -1.8571490093072662\n",
      "Evaluation 2073: -1.8571486750996586\n",
      "Evaluation 2076: -1.8571466136589414\n",
      "Evaluation 2079: -1.8571679227845848\n",
      "Evaluation 2082: -1.8572075463177764\n",
      "Evaluation 2085: -1.8572038540260234\n",
      "Evaluation 2088: -1.8572106217611366\n",
      "Evaluation 2091: -1.8572101256948734\n",
      "Evaluation 2094: -1.8572125940694542\n",
      "Evaluation 2097: -1.8571992292388115\n",
      "Evaluation 2100: -1.8572058380996155\n",
      "Evaluation 2103: -1.85719824804416\n",
      "Evaluation 2106: -1.8572090575651028\n",
      "Evaluation 2109: -1.8571967665874713\n",
      "Evaluation 2112: -1.857203248630807\n",
      "Evaluation 2115: -1.8572084546564143\n",
      "Evaluation 2118: -1.8572263235916902\n",
      "Evaluation 2121: -1.8572300389133287\n",
      "Evaluation 2124: -1.857255263228782\n",
      "Evaluation 2127: -1.8572555998605271\n",
      "Evaluation 2130: -1.8572544437252763\n",
      "Evaluation 2133: -1.857250549570192\n",
      "Evaluation 2136: -1.8572577434140554\n",
      "Evaluation 2139: -1.857257634804831\n",
      "Evaluation 2142: -1.8572578751370703\n",
      "Evaluation 2145: -1.8572575207695465\n",
      "Evaluation 2148: -1.8572444158435557\n",
      "Evaluation 2151: -1.85724452609511\n",
      "Evaluation 2154: -1.8572410570832647\n",
      "Evaluation 2157: -1.85723854752352\n",
      "Evaluation 2160: -1.8572385668650728\n",
      "Evaluation 2163: -1.857239923266472\n",
      "Evaluation 2166: -1.8572355256426958\n",
      "Evaluation 2169: -1.8572402762639986\n",
      "Evaluation 2172: -1.8572425479305663\n",
      "Evaluation 2175: -1.8572414448253445\n",
      "Evaluation 2178: -1.8572101627749928\n",
      "Evaluation 2181: -1.8572593535962754\n",
      "Evaluation 2184: -1.8572699569698932\n",
      "Evaluation 2187: -1.8572680497211214\n",
      "Evaluation 2190: -1.8572615477310999\n",
      "Evaluation 2193: -1.8572697830434572\n",
      "Evaluation 2196: -1.8572699223050373\n",
      "Evaluation 2199: -1.857263504831797\n",
      "Evaluation 2202: -1.85724037239082\n",
      "Evaluation 2205: -1.8572624526406294\n",
      "Evaluation 2208: -1.8572571829162108\n",
      "Evaluation 2211: -1.857246573020879\n",
      "Evaluation 2214: -1.8572436778260868\n",
      "Evaluation 2217: -1.857243661376687\n",
      "Evaluation 2220: -1.8572377523489785\n",
      "Evaluation 2223: -1.857226473326793\n",
      "Evaluation 2226: -1.8572292710192617\n",
      "Evaluation 2229: -1.8572478709746703\n",
      "Evaluation 2232: -1.857241612580163\n",
      "Evaluation 2235: -1.8572351818581352\n",
      "Evaluation 2238: -1.8572595421037112\n",
      "Evaluation 2241: -1.8572437983523586\n",
      "Evaluation 2244: -1.8572440759994056\n",
      "Evaluation 2247: -1.8572473299700105\n",
      "Evaluation 2250: -1.8572535752300068\n",
      "Evaluation 2253: -1.8572603898834357\n",
      "Evaluation 2256: -1.8572406938982489\n",
      "Evaluation 2259: -1.8572432353078874\n",
      "Evaluation 2262: -1.8572530932989832\n",
      "Evaluation 2265: -1.8572390730567911\n",
      "Evaluation 2268: -1.8572358776606195\n",
      "Evaluation 2271: -1.8572234591655925\n",
      "Evaluation 2274: -1.8572135304773543\n",
      "Evaluation 2277: -1.8572175900270032\n",
      "Evaluation 2280: -1.8572432855700693\n",
      "Evaluation 2283: -1.8572395859820796\n",
      "Evaluation 2286: -1.8572389192154397\n",
      "Evaluation 2289: -1.8572382621729857\n",
      "Evaluation 2292: -1.8572472535483946\n",
      "Evaluation 2295: -1.8572531653048174\n",
      "Evaluation 2298: -1.8572535711855427\n",
      "Evaluation 2301: -1.8572559999891594\n",
      "Evaluation 2304: -1.8572593171984282\n",
      "Evaluation 2307: -1.8572427739162112\n",
      "Evaluation 2310: -1.8572412214083305\n",
      "Evaluation 2313: -1.8572380323948576\n",
      "Evaluation 2316: -1.8572414789942202\n",
      "Evaluation 2319: -1.8572383593573694\n",
      "Evaluation 2322: -1.8572360032093902\n",
      "Evaluation 2325: -1.857236028595569\n",
      "Evaluation 2328: -1.8572310972552746\n",
      "Evaluation 2331: -1.8572030195371885\n",
      "Evaluation 2334: -1.8571971694411107\n",
      "Evaluation 2337: -1.8572224163315856\n",
      "Evaluation 2340: -1.8571783524617977\n",
      "Evaluation 2343: -1.857172500512093\n",
      "Evaluation 2346: -1.8571682886076368\n",
      "Evaluation 2349: -1.8571703394052492\n",
      "Evaluation 2352: -1.8571783773662134\n",
      "Evaluation 2355: -1.8571955308446089\n",
      "Evaluation 2358: -1.85719555507848\n",
      "Evaluation 2361: -1.8571999875975798\n",
      "Evaluation 2364: -1.8571995035676236\n",
      "Evaluation 2367: -1.8572141805060383\n",
      "Evaluation 2370: -1.857218485009179\n",
      "Evaluation 2373: -1.857217669183782\n",
      "Evaluation 2376: -1.8572289442412715\n",
      "Evaluation 2379: -1.857229106907408\n",
      "Evaluation 2382: -1.857224294590614\n",
      "Evaluation 2385: -1.8571975608168327\n",
      "Evaluation 2388: -1.8572025088218702\n",
      "Evaluation 2391: -1.8572595259003457\n",
      "Evaluation 2394: -1.8572539449193604\n",
      "Evaluation 2397: -1.857247677995729\n",
      "Evaluation 2400: -1.8572363308452962\n",
      "Evaluation 2403: -1.8571500589234635\n",
      "Evaluation 2406: -1.857145805382642\n",
      "Evaluation 2409: -1.857191780689598\n",
      "Evaluation 2412: -1.8571924791862462\n",
      "Evaluation 2415: -1.8572144711828031\n",
      "Evaluation 2418: -1.857217432720599\n",
      "Evaluation 2421: -1.8572160533265183\n",
      "Evaluation 2424: -1.8572163285835837\n",
      "Evaluation 2427: -1.8572103480163442\n",
      "Evaluation 2430: -1.8572170179806087\n",
      "Evaluation 2433: -1.857222696954619\n",
      "Evaluation 2436: -1.8572231042850509\n",
      "Evaluation 2439: -1.8572270401814401\n",
      "Evaluation 2442: -1.8572261163900834\n",
      "Evaluation 2445: -1.8572408061893126\n",
      "Evaluation 2448: -1.8572407770228891\n",
      "Evaluation 2451: -1.8572413048260834\n",
      "Evaluation 2454: -1.8572407787797296\n",
      "Evaluation 2457: -1.8572163335339045\n",
      "Evaluation 2460: -1.8572156097336725\n",
      "Evaluation 2463: -1.8572155410046602\n",
      "Evaluation 2466: -1.8572103117204783\n",
      "Evaluation 2469: -1.8572065235501902\n",
      "Evaluation 2472: -1.8572145611164883\n",
      "Evaluation 2475: -1.8572297038229146\n",
      "Evaluation 2478: -1.8572339915400093\n",
      "Evaluation 2481: -1.8572276152810432\n",
      "Evaluation 2484: -1.8572298652573094\n",
      "Evaluation 2487: -1.857233157015225\n",
      "Evaluation 2490: -1.8572277018309067\n",
      "Evaluation 2493: -1.857251430770419\n",
      "Evaluation 2496: -1.8572574631912262\n",
      "Evaluation 2499: -1.8572592024681025\n",
      "Evaluation 2502: -1.8572603425546528\n",
      "Evaluation 2505: -1.8572616982395058\n",
      "Evaluation 2508: -1.8572645283222187\n",
      "Evaluation 2511: -1.857253426869256\n",
      "Evaluation 2514: -1.857245905587186\n",
      "Evaluation 2517: -1.857240704183763\n",
      "Evaluation 2520: -1.8572442686586645\n",
      "Evaluation 2523: -1.8572377629441688\n",
      "Evaluation 2526: -1.8572386146498943\n",
      "Evaluation 2529: -1.8572441825967965\n",
      "Evaluation 2532: -1.8572530661407682\n",
      "Evaluation 2535: -1.857253090612244\n",
      "Evaluation 2538: -1.8572507038197077\n",
      "Evaluation 2541: -1.85724305542368\n",
      "Evaluation 2544: -1.8572428543315853\n",
      "Evaluation 2547: -1.8572532039050906\n",
      "Evaluation 2550: -1.857255567204959\n",
      "Evaluation 2553: -1.8572546461151513\n",
      "Evaluation 2556: -1.857251556555213\n",
      "Evaluation 2559: -1.8572545838879373\n",
      "Evaluation 2562: -1.8572565176441067\n",
      "Evaluation 2565: -1.8572577199759661\n",
      "Evaluation 2568: -1.8572587721111056\n",
      "Evaluation 2571: -1.857263269000244\n",
      "Evaluation 2574: -1.857265584377793\n",
      "Evaluation 2577: -1.857268859235123\n",
      "Evaluation 2580: -1.8572546153216547\n",
      "Evaluation 2583: -1.8572304977933847\n",
      "Evaluation 2586: -1.8572275324360918\n",
      "Evaluation 2589: -1.8572257990175984\n",
      "Evaluation 2592: -1.8572225484153466\n",
      "Evaluation 2595: -1.857219375174218\n",
      "Evaluation 2598: -1.8572201932522907\n",
      "Evaluation 2601: -1.8572172533893214\n",
      "Evaluation 2604: -1.857217597963375\n",
      "Evaluation 2607: -1.8572121625470952\n",
      "Evaluation 2610: -1.8572231614606998\n",
      "Evaluation 2613: -1.8572409849825715\n",
      "Evaluation 2616: -1.857223115172371\n",
      "Evaluation 2619: -1.8572167718291426\n",
      "Evaluation 2622: -1.8572270346165964\n",
      "Evaluation 2625: -1.857219739769204\n",
      "Evaluation 2628: -1.857229667738447\n",
      "Evaluation 2631: -1.8572297266103137\n",
      "Evaluation 2634: -1.857216325582023\n",
      "Evaluation 2637: -1.857229505630654\n",
      "Evaluation 2640: -1.8572296462764528\n",
      "Evaluation 2643: -1.8572298907665135\n",
      "Evaluation 2646: -1.8571130835825973\n",
      "Evaluation 2649: -1.8571671758980766\n",
      "Evaluation 2652: -1.857222827215273\n",
      "Evaluation 2655: -1.8572161709247452\n",
      "Evaluation 2658: -1.8572131204349642\n",
      "Evaluation 2661: -1.8572212293535715\n",
      "Evaluation 2664: -1.8572186488102247\n",
      "Evaluation 2667: -1.8572229221316217\n",
      "Evaluation 2670: -1.8572224341885437\n",
      "Evaluation 2673: -1.8572257502624945\n",
      "Evaluation 2676: -1.857231114001071\n",
      "Evaluation 2679: -1.857233162057707\n",
      "Evaluation 2682: -1.8572321280242197\n",
      "Evaluation 2685: -1.8572162331254007\n",
      "Evaluation 2688: -1.8572114799599673\n",
      "Evaluation 2691: -1.8572104583591251\n",
      "Evaluation 2694: -1.857198937468818\n",
      "Evaluation 2697: -1.8572355423920623\n",
      "Evaluation 2700: -1.8572430567983873\n",
      "Evaluation 2703: -1.8572406635004062\n",
      "Evaluation 2706: -1.8572353525069536\n",
      "Evaluation 2709: -1.8572333997040276\n",
      "Evaluation 2712: -1.8572319384848632\n",
      "Evaluation 2715: -1.8572200590729127\n",
      "Evaluation 2718: -1.857225415830588\n",
      "Evaluation 2721: -1.857230167260777\n",
      "Evaluation 2724: -1.8572302536327527\n",
      "Evaluation 2727: -1.857222594623474\n",
      "Evaluation 2730: -1.857219655597861\n",
      "Evaluation 2733: -1.8572017132575693\n",
      "Evaluation 2736: -1.8572053631986307\n",
      "Evaluation 2739: -1.8572053589583322\n",
      "Evaluation 2742: -1.8572035052494285\n",
      "Evaluation 2745: -1.857202845696924\n",
      "Evaluation 2748: -1.8572115633576574\n",
      "Evaluation 2751: -1.8572239756480482\n",
      "Evaluation 2754: -1.8572282440615862\n",
      "Evaluation 2757: -1.8572215703621777\n",
      "Evaluation 2760: -1.8572218504874187\n",
      "Evaluation 2763: -1.8572256815093269\n",
      "Evaluation 2766: -1.8572267376001048\n",
      "Evaluation 2769: -1.857225763642092\n",
      "Evaluation 2772: -1.8572384219561415\n",
      "Evaluation 2775: -1.8572340339245565\n",
      "Evaluation 2778: -1.8572331609612556\n",
      "Evaluation 2781: -1.8572377205902337\n",
      "Evaluation 2784: -1.8572378782949914\n",
      "Evaluation 2787: -1.8572353761859137\n",
      "Evaluation 2790: -1.8572398645704773\n",
      "Evaluation 2793: -1.8572448853611585\n",
      "Evaluation 2796: -1.8572426029878852\n",
      "Evaluation 2799: -1.857258549978979\n",
      "Evaluation 2802: -1.8572594258774549\n",
      "Evaluation 2805: -1.8572483243476736\n",
      "Evaluation 2808: -1.857244975109573\n",
      "Evaluation 2811: -1.8572495470286703\n",
      "Evaluation 2814: -1.8572557948777224\n",
      "Evaluation 2817: -1.8572463501211622\n",
      "Evaluation 2820: -1.857251282449867\n",
      "Evaluation 2823: -1.857244952232372\n",
      "Evaluation 2826: -1.8572439449207783\n",
      "Evaluation 2829: -1.857221981285612\n",
      "Evaluation 2832: -1.8572254288901666\n",
      "Evaluation 2835: -1.8572193495274536\n",
      "Evaluation 2838: -1.857213314351108\n",
      "Evaluation 2841: -1.8572259917986695\n",
      "Evaluation 2844: -1.8572243716789743\n",
      "Evaluation 2847: -1.8572041788266855\n",
      "Evaluation 2850: -1.857212960438231\n",
      "Evaluation 2853: -1.8572202576880485\n",
      "Evaluation 2856: -1.857219849685576\n",
      "Evaluation 2859: -1.8572298633175899\n",
      "Evaluation 2862: -1.8572531457246142\n",
      "Evaluation 2865: -1.8572504521619928\n",
      "Evaluation 2868: -1.8572504899025841\n",
      "Evaluation 2871: -1.8572612224281995\n",
      "Evaluation 2874: -1.857261981205061\n",
      "Evaluation 2877: -1.857261360577381\n",
      "Evaluation 2880: -1.8572607696034875\n",
      "Evaluation 2883: -1.8572545819046649\n",
      "Evaluation 2886: -1.857254001459115\n",
      "Evaluation 2889: -1.8572499188077916\n",
      "Evaluation 2892: -1.85724973006429\n",
      "Evaluation 2895: -1.857254953081382\n",
      "Evaluation 2898: -1.8572612529272996\n",
      "Evaluation 2901: -1.8572713073265528\n",
      "Evaluation 2904: -1.8572710710728781\n",
      "Evaluation 2907: -1.857266867271333\n",
      "Evaluation 2910: -1.8572616492266876\n",
      "Evaluation 2913: -1.8572622883245984\n",
      "Evaluation 2916: -1.8572474338598959\n",
      "Evaluation 2919: -1.8572374727539949\n",
      "Evaluation 2922: -1.8572427667623534\n",
      "Evaluation 2925: -1.8572410622795237\n",
      "Evaluation 2928: -1.8572220479736439\n",
      "Evaluation 2931: -1.8572427344437414\n",
      "Evaluation 2934: -1.85724322962424\n",
      "Evaluation 2937: -1.857246048294565\n",
      "Evaluation 2940: -1.857252035475984\n",
      "Evaluation 2943: -1.857252440815534\n",
      "Evaluation 2946: -1.85723848579826\n",
      "Evaluation 2949: -1.857239589768848\n",
      "Evaluation 2952: -1.8572406523298226\n",
      "Evaluation 2955: -1.857234485551687\n",
      "Evaluation 2958: -1.8572525298014957\n",
      "Evaluation 2961: -1.8572506466149916\n",
      "Evaluation 2964: -1.8572544497455654\n",
      "Evaluation 2967: -1.8572549792179045\n",
      "Evaluation 2970: -1.8572538937717444\n",
      "Evaluation 2973: -1.8572303832301182\n",
      "Evaluation 2976: -1.857219867975659\n",
      "Evaluation 2979: -1.8572270140676492\n",
      "Evaluation 2982: -1.8572174661732672\n",
      "Evaluation 2985: -1.8572022661019214\n",
      "Evaluation 2988: -1.8572182860479252\n",
      "Evaluation 2991: -1.8572183561459985\n",
      "Evaluation 2994: -1.85721057588759\n",
      "Evaluation 2997: -1.8572256072842572\n",
      "Evaluation 3000: -1.8572272896048647\n"
     ]
    }
   ],
   "source": [
    "callback = lambda nfev, prams, fval, step, acc: print(f'Evaluation {nfev}: {fval}')\n",
    "optimizer = SPSA(callback=callback, maxiter = 1000)\n",
    "cost_func = lambda params: estimator.run(ansatz, H2_op, parameter_values = params).result().values[0]\n",
    "result = optimizer.minimize(cost_func, x0 = np.zeros(ansatz.num_parameters))"
   ]
  },
  {
   "cell_type": "code",
   "execution_count": 7,
   "id": "152a6a76-f87d-4217-ba10-ede19ec28a59",
   "metadata": {},
   "outputs": [
    {
     "name": "stdout",
     "output_type": "stream",
     "text": [
      "{   'fun': -1.8572272896048647,\n",
      "    'jac': None,\n",
      "    'nfev': 3000,\n",
      "    'nit': 1000,\n",
      "    'njev': None,\n",
      "    'x': array([-2.41731058,  1.91677861, -2.75114115,  6.22471635, -1.51029758,\n",
      "       -5.62166112, -8.09468727, -0.44666736,  2.55172228,  2.68553103,\n",
      "        1.27250083,  9.0965697 ,  1.0689937 ,  4.43524151,  1.07150847,\n",
      "        4.38903046])}\n"
     ]
    }
   ],
   "source": [
    "print(result)"
   ]
  },
  {
   "cell_type": "code",
   "execution_count": 8,
   "id": "fa47f723-88b5-40b7-a2ff-465e9fec7a56",
   "metadata": {},
   "outputs": [
    {
     "name": "stdout",
     "output_type": "stream",
     "text": [
      "(-1.8572750302023797+0j)\n"
     ]
    }
   ],
   "source": [
    "print(min_eigen_exact)"
   ]
  },
  {
   "cell_type": "code",
   "execution_count": 9,
   "id": "f07dc9b7-8eb5-4cbe-b297-d586c5ca9a51",
   "metadata": {},
   "outputs": [],
   "source": [
    "from qiskit_ibm_runtime import Options\n",
    "\n",
    "options = Options()\n",
    "options.execution.init_qubits = True\n",
    "options.execution.shots = 5000"
   ]
  },
  {
   "cell_type": "code",
   "execution_count": 10,
   "id": "05e69671-5eb4-441c-906b-0c3be29d75e0",
   "metadata": {},
   "outputs": [],
   "source": [
    "options.environment.callback = []\n",
    "options.environment.job_tabs = []\n",
    "options.environment.log_level = 'DEBUG'"
   ]
  },
  {
   "cell_type": "code",
   "execution_count": 11,
   "id": "1ec5dad1-63ee-4ee0-953d-da780f301616",
   "metadata": {},
   "outputs": [],
   "source": [
    "from qiskit_ibm_runtime import QiskitRuntimeService\n",
    "service = QiskitRuntimeService()\n",
    "backend = service.get_backend('ibmq_qasm_simulator')"
   ]
  },
  {
   "cell_type": "code",
   "execution_count": 12,
   "id": "419ea716-cb1d-453b-92d8-4a743cdf0474",
   "metadata": {},
   "outputs": [
    {
     "name": "stdout",
     "output_type": "stream",
     "text": [
      "<IBMBackend('ibmq_qasm_simulator')>\n"
     ]
    }
   ],
   "source": [
    "print(backend)"
   ]
  },
  {
   "cell_type": "code",
   "execution_count": null,
   "id": "c2f91bf4-cab5-470b-a60d-c77fbfa3a68a",
   "metadata": {},
   "outputs": [
    {
     "name": "stderr",
     "output_type": "stream",
     "text": [
      "runtime_job._stream_results:WARNING:2023-08-18 14:27:34,268: An error occurred while streaming results for job cjfhqp3ie1jj2il9mg50:\n",
      "Traceback (most recent call last):\n",
      "  File \"/home/gluonhiggs/.pyenv/versions/anaconda3-2023.03/envs/qiskit-runtime/lib/python3.10/site-packages/qiskit_ibm_runtime/runtime_job.py\", line 534, in _stream_results\n",
      "    user_callback(self.job_id(), _decoder.decode(response))\n",
      "TypeError: 'list' object is not callable\n",
      "\n",
      "runtime_job._stream_results:WARNING:2023-08-18 14:27:37,952: An error occurred while streaming results for job cjfhqpv6dei0664lif20:\n",
      "Traceback (most recent call last):\n",
      "  File \"/home/gluonhiggs/.pyenv/versions/anaconda3-2023.03/envs/qiskit-runtime/lib/python3.10/site-packages/qiskit_ibm_runtime/runtime_job.py\", line 534, in _stream_results\n",
      "    user_callback(self.job_id(), _decoder.decode(response))\n",
      "TypeError: 'list' object is not callable\n",
      "\n",
      "runtime_job._stream_results:WARNING:2023-08-18 14:27:41,844: An error occurred while streaming results for job cjfhqqrie1jj2il9mj80:\n",
      "Traceback (most recent call last):\n",
      "  File \"/home/gluonhiggs/.pyenv/versions/anaconda3-2023.03/envs/qiskit-runtime/lib/python3.10/site-packages/qiskit_ibm_runtime/runtime_job.py\", line 534, in _stream_results\n",
      "    user_callback(self.job_id(), _decoder.decode(response))\n",
      "TypeError: 'list' object is not callable\n",
      "\n",
      "runtime_job._stream_results:WARNING:2023-08-18 14:27:45,325: An error occurred while streaming results for job cjfhqrrie1jj2il9mk60:\n",
      "Traceback (most recent call last):\n",
      "  File \"/home/gluonhiggs/.pyenv/versions/anaconda3-2023.03/envs/qiskit-runtime/lib/python3.10/site-packages/qiskit_ibm_runtime/runtime_job.py\", line 534, in _stream_results\n",
      "    user_callback(self.job_id(), _decoder.decode(response))\n",
      "TypeError: 'list' object is not callable\n",
      "\n",
      "runtime_job._stream_results:WARNING:2023-08-18 14:27:48,806: An error occurred while streaming results for job cjfhqsgcs414jvgq90ag:\n",
      "Traceback (most recent call last):\n",
      "  File \"/home/gluonhiggs/.pyenv/versions/anaconda3-2023.03/envs/qiskit-runtime/lib/python3.10/site-packages/qiskit_ibm_runtime/runtime_job.py\", line 534, in _stream_results\n",
      "    user_callback(self.job_id(), _decoder.decode(response))\n",
      "TypeError: 'list' object is not callable\n",
      "\n",
      "runtime_job._stream_results:WARNING:2023-08-18 14:27:52,623: An error occurred while streaming results for job cjfhqtk5hqba8918dhc0:\n",
      "Traceback (most recent call last):\n",
      "  File \"/home/gluonhiggs/.pyenv/versions/anaconda3-2023.03/envs/qiskit-runtime/lib/python3.10/site-packages/qiskit_ibm_runtime/runtime_job.py\", line 534, in _stream_results\n",
      "    user_callback(self.job_id(), _decoder.decode(response))\n",
      "TypeError: 'list' object is not callable\n",
      "\n",
      "runtime_job._stream_results:WARNING:2023-08-18 14:27:56,179: An error occurred while streaming results for job cjfhquf6dei0664limc0:\n",
      "Traceback (most recent call last):\n",
      "  File \"/home/gluonhiggs/.pyenv/versions/anaconda3-2023.03/envs/qiskit-runtime/lib/python3.10/site-packages/qiskit_ibm_runtime/runtime_job.py\", line 534, in _stream_results\n",
      "    user_callback(self.job_id(), _decoder.decode(response))\n",
      "TypeError: 'list' object is not callable\n",
      "\n",
      "runtime_job._stream_results:WARNING:2023-08-18 14:28:00,069: An error occurred while streaming results for job cjfhqvbie1jj2il9mp7g:\n",
      "Traceback (most recent call last):\n",
      "  File \"/home/gluonhiggs/.pyenv/versions/anaconda3-2023.03/envs/qiskit-runtime/lib/python3.10/site-packages/qiskit_ibm_runtime/runtime_job.py\", line 534, in _stream_results\n",
      "    user_callback(self.job_id(), _decoder.decode(response))\n",
      "TypeError: 'list' object is not callable\n",
      "\n",
      "runtime_job._stream_results:WARNING:2023-08-18 14:28:03,504: An error occurred while streaming results for job cjfhr0f6dei0664lio40:\n",
      "Traceback (most recent call last):\n",
      "  File \"/home/gluonhiggs/.pyenv/versions/anaconda3-2023.03/envs/qiskit-runtime/lib/python3.10/site-packages/qiskit_ibm_runtime/runtime_job.py\", line 534, in _stream_results\n",
      "    user_callback(self.job_id(), _decoder.decode(response))\n",
      "TypeError: 'list' object is not callable\n",
      "\n",
      "runtime_job._stream_results:WARNING:2023-08-18 14:28:06,663: An error occurred while streaming results for job cjfhr176dei0664lipj0:\n",
      "Traceback (most recent call last):\n",
      "  File \"/home/gluonhiggs/.pyenv/versions/anaconda3-2023.03/envs/qiskit-runtime/lib/python3.10/site-packages/qiskit_ibm_runtime/runtime_job.py\", line 534, in _stream_results\n",
      "    user_callback(self.job_id(), _decoder.decode(response))\n",
      "TypeError: 'list' object is not callable\n",
      "\n",
      "runtime_job._stream_results:WARNING:2023-08-18 14:28:10,111: An error occurred while streaming results for job cjfhr276dei0664lir1g:\n",
      "Traceback (most recent call last):\n",
      "  File \"/home/gluonhiggs/.pyenv/versions/anaconda3-2023.03/envs/qiskit-runtime/lib/python3.10/site-packages/qiskit_ibm_runtime/runtime_job.py\", line 534, in _stream_results\n",
      "    user_callback(self.job_id(), _decoder.decode(response))\n",
      "TypeError: 'list' object is not callable\n",
      "\n",
      "runtime_job._stream_results:WARNING:2023-08-18 14:28:13,796: An error occurred while streaming results for job cjfhr2t7ui1f8qau6990:\n",
      "Traceback (most recent call last):\n",
      "  File \"/home/gluonhiggs/.pyenv/versions/anaconda3-2023.03/envs/qiskit-runtime/lib/python3.10/site-packages/qiskit_ibm_runtime/runtime_job.py\", line 534, in _stream_results\n",
      "    user_callback(self.job_id(), _decoder.decode(response))\n",
      "TypeError: 'list' object is not callable\n",
      "\n",
      "runtime_job._stream_results:WARNING:2023-08-18 14:28:17,580: An error occurred while streaming results for job cjfhr3s5hqba8918drl0:\n",
      "Traceback (most recent call last):\n",
      "  File \"/home/gluonhiggs/.pyenv/versions/anaconda3-2023.03/envs/qiskit-runtime/lib/python3.10/site-packages/qiskit_ibm_runtime/runtime_job.py\", line 534, in _stream_results\n",
      "    user_callback(self.job_id(), _decoder.decode(response))\n",
      "TypeError: 'list' object is not callable\n",
      "\n",
      "runtime_job._stream_results:WARNING:2023-08-18 14:28:25,056: An error occurred while streaming results for job cjfhr5nbq0tlksv8d3r0:\n",
      "Traceback (most recent call last):\n",
      "  File \"/home/gluonhiggs/.pyenv/versions/anaconda3-2023.03/envs/qiskit-runtime/lib/python3.10/site-packages/qiskit_ibm_runtime/runtime_job.py\", line 534, in _stream_results\n",
      "    user_callback(self.job_id(), _decoder.decode(response))\n",
      "TypeError: 'list' object is not callable\n",
      "\n",
      "runtime_job._stream_results:WARNING:2023-08-18 14:28:30,892: An error occurred while streaming results for job cjfhr6n6dei0664lj12g:\n",
      "Traceback (most recent call last):\n",
      "  File \"/home/gluonhiggs/.pyenv/versions/anaconda3-2023.03/envs/qiskit-runtime/lib/python3.10/site-packages/qiskit_ibm_runtime/runtime_job.py\", line 534, in _stream_results\n",
      "    user_callback(self.job_id(), _decoder.decode(response))\n",
      "TypeError: 'list' object is not callable\n",
      "\n",
      "runtime_job._stream_results:WARNING:2023-08-18 14:28:34,476: An error occurred while streaming results for job cjfhr845hqba8918e19g:\n",
      "Traceback (most recent call last):\n",
      "  File \"/home/gluonhiggs/.pyenv/versions/anaconda3-2023.03/envs/qiskit-runtime/lib/python3.10/site-packages/qiskit_ibm_runtime/runtime_job.py\", line 534, in _stream_results\n",
      "    user_callback(self.job_id(), _decoder.decode(response))\n",
      "TypeError: 'list' object is not callable\n",
      "\n",
      "runtime_job._stream_results:WARNING:2023-08-18 14:28:38,123: An error occurred while streaming results for job cjfhr8s5hqba8918e2rg:\n",
      "Traceback (most recent call last):\n",
      "  File \"/home/gluonhiggs/.pyenv/versions/anaconda3-2023.03/envs/qiskit-runtime/lib/python3.10/site-packages/qiskit_ibm_runtime/runtime_job.py\", line 534, in _stream_results\n",
      "    user_callback(self.job_id(), _decoder.decode(response))\n",
      "TypeError: 'list' object is not callable\n",
      "\n",
      "runtime_job._stream_results:WARNING:2023-08-18 14:28:42,561: An error occurred while streaming results for job cjfhr9t7ui1f8qau6h20:\n",
      "Traceback (most recent call last):\n",
      "  File \"/home/gluonhiggs/.pyenv/versions/anaconda3-2023.03/envs/qiskit-runtime/lib/python3.10/site-packages/qiskit_ibm_runtime/runtime_job.py\", line 534, in _stream_results\n",
      "    user_callback(self.job_id(), _decoder.decode(response))\n",
      "TypeError: 'list' object is not callable\n",
      "\n",
      "runtime_job._stream_results:WARNING:2023-08-18 14:28:48,486: An error occurred while streaming results for job cjfhrbk5hqba8918e55g:\n",
      "Traceback (most recent call last):\n",
      "  File \"/home/gluonhiggs/.pyenv/versions/anaconda3-2023.03/envs/qiskit-runtime/lib/python3.10/site-packages/qiskit_ibm_runtime/runtime_job.py\", line 534, in _stream_results\n",
      "    user_callback(self.job_id(), _decoder.decode(response))\n",
      "TypeError: 'list' object is not callable\n",
      "\n",
      "runtime_job._stream_results:WARNING:2023-08-18 14:28:52,299: An error occurred while streaming results for job cjfhrcl7ui1f8qau6ji0:\n",
      "Traceback (most recent call last):\n",
      "  File \"/home/gluonhiggs/.pyenv/versions/anaconda3-2023.03/envs/qiskit-runtime/lib/python3.10/site-packages/qiskit_ibm_runtime/runtime_job.py\", line 534, in _stream_results\n",
      "    user_callback(self.job_id(), _decoder.decode(response))\n",
      "TypeError: 'list' object is not callable\n",
      "\n",
      "runtime_job._stream_results:WARNING:2023-08-18 14:28:55,365: An error occurred while streaming results for job cjfhrdf6dei0664lj80g:\n",
      "Traceback (most recent call last):\n",
      "  File \"/home/gluonhiggs/.pyenv/versions/anaconda3-2023.03/envs/qiskit-runtime/lib/python3.10/site-packages/qiskit_ibm_runtime/runtime_job.py\", line 534, in _stream_results\n",
      "    user_callback(self.job_id(), _decoder.decode(response))\n",
      "TypeError: 'list' object is not callable\n",
      "\n",
      "runtime_job._stream_results:WARNING:2023-08-18 14:29:26,178: An error occurred while streaming results for job cjfhrl45hqba8918ej1g:\n",
      "Traceback (most recent call last):\n",
      "  File \"/home/gluonhiggs/.pyenv/versions/anaconda3-2023.03/envs/qiskit-runtime/lib/python3.10/site-packages/qiskit_ibm_runtime/runtime_job.py\", line 534, in _stream_results\n",
      "    user_callback(self.job_id(), _decoder.decode(response))\n",
      "TypeError: 'list' object is not callable\n",
      "\n",
      "runtime_job._stream_results:WARNING:2023-08-18 14:29:29,888: An error occurred while streaming results for job cjfhrlocs414jvgqa1v0:\n",
      "Traceback (most recent call last):\n",
      "  File \"/home/gluonhiggs/.pyenv/versions/anaconda3-2023.03/envs/qiskit-runtime/lib/python3.10/site-packages/qiskit_ibm_runtime/runtime_job.py\", line 534, in _stream_results\n",
      "    user_callback(self.job_id(), _decoder.decode(response))\n",
      "TypeError: 'list' object is not callable\n",
      "\n",
      "runtime_job._stream_results:WARNING:2023-08-18 14:29:33,866: An error occurred while streaming results for job cjfhrmrie1jj2il9nsjg:\n",
      "Traceback (most recent call last):\n",
      "  File \"/home/gluonhiggs/.pyenv/versions/anaconda3-2023.03/envs/qiskit-runtime/lib/python3.10/site-packages/qiskit_ibm_runtime/runtime_job.py\", line 534, in _stream_results\n",
      "    user_callback(self.job_id(), _decoder.decode(response))\n",
      "TypeError: 'list' object is not callable\n",
      "\n",
      "runtime_job._stream_results:WARNING:2023-08-18 14:29:38,065: An error occurred while streaming results for job cjfhrnocs414jvgqa4i0:\n",
      "Traceback (most recent call last):\n",
      "  File \"/home/gluonhiggs/.pyenv/versions/anaconda3-2023.03/envs/qiskit-runtime/lib/python3.10/site-packages/qiskit_ibm_runtime/runtime_job.py\", line 534, in _stream_results\n",
      "    user_callback(self.job_id(), _decoder.decode(response))\n",
      "TypeError: 'list' object is not callable\n",
      "\n",
      "runtime_job._stream_results:WARNING:2023-08-18 14:29:42,060: An error occurred while streaming results for job cjfhrorie1jj2il9o0gg:\n",
      "Traceback (most recent call last):\n",
      "  File \"/home/gluonhiggs/.pyenv/versions/anaconda3-2023.03/envs/qiskit-runtime/lib/python3.10/site-packages/qiskit_ibm_runtime/runtime_job.py\", line 534, in _stream_results\n",
      "    user_callback(self.job_id(), _decoder.decode(response))\n",
      "TypeError: 'list' object is not callable\n",
      "\n",
      "runtime_job._stream_results:WARNING:2023-08-18 14:29:45,274: An error occurred while streaming results for job cjfhrpvbq0tlksv8dv60:\n",
      "Traceback (most recent call last):\n",
      "  File \"/home/gluonhiggs/.pyenv/versions/anaconda3-2023.03/envs/qiskit-runtime/lib/python3.10/site-packages/qiskit_ibm_runtime/runtime_job.py\", line 534, in _stream_results\n",
      "    user_callback(self.job_id(), _decoder.decode(response))\n",
      "TypeError: 'list' object is not callable\n",
      "\n",
      "runtime_job._stream_results:WARNING:2023-08-18 14:29:48,758: An error occurred while streaming results for job cjfhrqk5hqba8918er20:\n",
      "Traceback (most recent call last):\n",
      "  File \"/home/gluonhiggs/.pyenv/versions/anaconda3-2023.03/envs/qiskit-runtime/lib/python3.10/site-packages/qiskit_ibm_runtime/runtime_job.py\", line 534, in _stream_results\n",
      "    user_callback(self.job_id(), _decoder.decode(response))\n",
      "TypeError: 'list' object is not callable\n",
      "\n",
      "runtime_job._stream_results:WARNING:2023-08-18 14:29:52,325: An error occurred while streaming results for job cjfhrrl7ui1f8qau76k0:\n",
      "Traceback (most recent call last):\n",
      "  File \"/home/gluonhiggs/.pyenv/versions/anaconda3-2023.03/envs/qiskit-runtime/lib/python3.10/site-packages/qiskit_ibm_runtime/runtime_job.py\", line 534, in _stream_results\n",
      "    user_callback(self.job_id(), _decoder.decode(response))\n",
      "TypeError: 'list' object is not callable\n",
      "\n",
      "runtime_job._stream_results:WARNING:2023-08-18 14:29:56,104: An error occurred while streaming results for job cjfhrsbie1jj2il9o700:\n",
      "Traceback (most recent call last):\n",
      "  File \"/home/gluonhiggs/.pyenv/versions/anaconda3-2023.03/envs/qiskit-runtime/lib/python3.10/site-packages/qiskit_ibm_runtime/runtime_job.py\", line 534, in _stream_results\n",
      "    user_callback(self.job_id(), _decoder.decode(response))\n",
      "TypeError: 'list' object is not callable\n",
      "\n",
      "runtime_job._stream_results:WARNING:2023-08-18 14:29:59,145: An error occurred while streaming results for job cjfhrtc5hqba8918ev80:\n",
      "Traceback (most recent call last):\n",
      "  File \"/home/gluonhiggs/.pyenv/versions/anaconda3-2023.03/envs/qiskit-runtime/lib/python3.10/site-packages/qiskit_ibm_runtime/runtime_job.py\", line 534, in _stream_results\n",
      "    user_callback(self.job_id(), _decoder.decode(response))\n",
      "TypeError: 'list' object is not callable\n",
      "\n",
      "runtime_job._stream_results:WARNING:2023-08-18 14:30:02,817: An error occurred while streaming results for job cjfhru3ie1jj2il9o8v0:\n",
      "Traceback (most recent call last):\n",
      "  File \"/home/gluonhiggs/.pyenv/versions/anaconda3-2023.03/envs/qiskit-runtime/lib/python3.10/site-packages/qiskit_ibm_runtime/runtime_job.py\", line 534, in _stream_results\n",
      "    user_callback(self.job_id(), _decoder.decode(response))\n",
      "TypeError: 'list' object is not callable\n",
      "\n",
      "runtime_job._stream_results:WARNING:2023-08-18 14:30:06,673: An error occurred while streaming results for job cjfhrv0cs414jvgqaekg:\n",
      "Traceback (most recent call last):\n",
      "  File \"/home/gluonhiggs/.pyenv/versions/anaconda3-2023.03/envs/qiskit-runtime/lib/python3.10/site-packages/qiskit_ibm_runtime/runtime_job.py\", line 534, in _stream_results\n",
      "    user_callback(self.job_id(), _decoder.decode(response))\n",
      "TypeError: 'list' object is not callable\n",
      "\n",
      "runtime_job._stream_results:WARNING:2023-08-18 14:30:10,320: An error occurred while streaming results for job cjfhrvv6dei0664lk1jg:\n",
      "Traceback (most recent call last):\n",
      "  File \"/home/gluonhiggs/.pyenv/versions/anaconda3-2023.03/envs/qiskit-runtime/lib/python3.10/site-packages/qiskit_ibm_runtime/runtime_job.py\", line 534, in _stream_results\n",
      "    user_callback(self.job_id(), _decoder.decode(response))\n",
      "TypeError: 'list' object is not callable\n",
      "\n",
      "runtime_job._stream_results:WARNING:2023-08-18 14:30:13,879: An error occurred while streaming results for job cjfhs0v6dei0664lk3b0:\n",
      "Traceback (most recent call last):\n",
      "  File \"/home/gluonhiggs/.pyenv/versions/anaconda3-2023.03/envs/qiskit-runtime/lib/python3.10/site-packages/qiskit_ibm_runtime/runtime_job.py\", line 534, in _stream_results\n",
      "    user_callback(self.job_id(), _decoder.decode(response))\n",
      "TypeError: 'list' object is not callable\n",
      "\n",
      "runtime_job._stream_results:WARNING:2023-08-18 14:30:17,424: An error occurred while streaming results for job cjfhs1v6dei0664lk4pg:\n",
      "Traceback (most recent call last):\n",
      "  File \"/home/gluonhiggs/.pyenv/versions/anaconda3-2023.03/envs/qiskit-runtime/lib/python3.10/site-packages/qiskit_ibm_runtime/runtime_job.py\", line 534, in _stream_results\n",
      "    user_callback(self.job_id(), _decoder.decode(response))\n",
      "TypeError: 'list' object is not callable\n",
      "\n",
      "runtime_job._stream_results:WARNING:2023-08-18 14:30:20,502: An error occurred while streaming results for job cjfhs2k5hqba8918f6g0:\n",
      "Traceback (most recent call last):\n",
      "  File \"/home/gluonhiggs/.pyenv/versions/anaconda3-2023.03/envs/qiskit-runtime/lib/python3.10/site-packages/qiskit_ibm_runtime/runtime_job.py\", line 534, in _stream_results\n",
      "    user_callback(self.job_id(), _decoder.decode(response))\n",
      "TypeError: 'list' object is not callable\n",
      "\n",
      "runtime_job._stream_results:WARNING:2023-08-18 14:30:26,398: An error occurred while streaming results for job cjfhs3v6dei0664lk7u0:\n",
      "Traceback (most recent call last):\n",
      "  File \"/home/gluonhiggs/.pyenv/versions/anaconda3-2023.03/envs/qiskit-runtime/lib/python3.10/site-packages/qiskit_ibm_runtime/runtime_job.py\", line 534, in _stream_results\n",
      "    user_callback(self.job_id(), _decoder.decode(response))\n",
      "TypeError: 'list' object is not callable\n",
      "\n",
      "runtime_job._stream_results:WARNING:2023-08-18 14:30:29,878: An error occurred while streaming results for job cjfhs4s5hqba8918f8kg:\n",
      "Traceback (most recent call last):\n",
      "  File \"/home/gluonhiggs/.pyenv/versions/anaconda3-2023.03/envs/qiskit-runtime/lib/python3.10/site-packages/qiskit_ibm_runtime/runtime_job.py\", line 534, in _stream_results\n",
      "    user_callback(self.job_id(), _decoder.decode(response))\n",
      "TypeError: 'list' object is not callable\n",
      "\n",
      "runtime_job._stream_results:WARNING:2023-08-18 14:30:33,241: An error occurred while streaming results for job cjfhs5v6dei0664lkadg:\n",
      "Traceback (most recent call last):\n",
      "  File \"/home/gluonhiggs/.pyenv/versions/anaconda3-2023.03/envs/qiskit-runtime/lib/python3.10/site-packages/qiskit_ibm_runtime/runtime_job.py\", line 534, in _stream_results\n",
      "    user_callback(self.job_id(), _decoder.decode(response))\n",
      "TypeError: 'list' object is not callable\n",
      "\n",
      "runtime_job._stream_results:WARNING:2023-08-18 14:30:36,842: An error occurred while streaming results for job cjfhs6k5hqba8918faug:\n",
      "Traceback (most recent call last):\n",
      "  File \"/home/gluonhiggs/.pyenv/versions/anaconda3-2023.03/envs/qiskit-runtime/lib/python3.10/site-packages/qiskit_ibm_runtime/runtime_job.py\", line 534, in _stream_results\n",
      "    user_callback(self.job_id(), _decoder.decode(response))\n",
      "TypeError: 'list' object is not callable\n",
      "\n",
      "runtime_job._stream_results:WARNING:2023-08-18 14:30:40,367: An error occurred while streaming results for job cjfhs7k5hqba8918fc10:\n",
      "Traceback (most recent call last):\n",
      "  File \"/home/gluonhiggs/.pyenv/versions/anaconda3-2023.03/envs/qiskit-runtime/lib/python3.10/site-packages/qiskit_ibm_runtime/runtime_job.py\", line 534, in _stream_results\n",
      "    user_callback(self.job_id(), _decoder.decode(response))\n",
      "TypeError: 'list' object is not callable\n",
      "\n",
      "runtime_job._stream_results:WARNING:2023-08-18 14:30:43,963: An error occurred while streaming results for job cjfhs88cs414jvgqark0:\n",
      "Traceback (most recent call last):\n",
      "  File \"/home/gluonhiggs/.pyenv/versions/anaconda3-2023.03/envs/qiskit-runtime/lib/python3.10/site-packages/qiskit_ibm_runtime/runtime_job.py\", line 534, in _stream_results\n",
      "    user_callback(self.job_id(), _decoder.decode(response))\n",
      "TypeError: 'list' object is not callable\n",
      "\n",
      "runtime_job._stream_results:WARNING:2023-08-18 14:30:47,493: An error occurred while streaming results for job cjfhs9c5hqba8918feh0:\n",
      "Traceback (most recent call last):\n",
      "  File \"/home/gluonhiggs/.pyenv/versions/anaconda3-2023.03/envs/qiskit-runtime/lib/python3.10/site-packages/qiskit_ibm_runtime/runtime_job.py\", line 534, in _stream_results\n",
      "    user_callback(self.job_id(), _decoder.decode(response))\n",
      "TypeError: 'list' object is not callable\n",
      "\n",
      "runtime_job._stream_results:WARNING:2023-08-18 14:30:53,225: An error occurred while streaming results for job cjfhsas5hqba8918ffig:\n",
      "Traceback (most recent call last):\n",
      "  File \"/home/gluonhiggs/.pyenv/versions/anaconda3-2023.03/envs/qiskit-runtime/lib/python3.10/site-packages/qiskit_ibm_runtime/runtime_job.py\", line 534, in _stream_results\n",
      "    user_callback(self.job_id(), _decoder.decode(response))\n",
      "TypeError: 'list' object is not callable\n",
      "\n",
      "runtime_job._stream_results:WARNING:2023-08-18 14:30:57,168: An error occurred while streaming results for job cjfhsbnbq0tlksv8elh0:\n",
      "Traceback (most recent call last):\n",
      "  File \"/home/gluonhiggs/.pyenv/versions/anaconda3-2023.03/envs/qiskit-runtime/lib/python3.10/site-packages/qiskit_ibm_runtime/runtime_job.py\", line 534, in _stream_results\n",
      "    user_callback(self.job_id(), _decoder.decode(response))\n",
      "TypeError: 'list' object is not callable\n",
      "\n",
      "runtime_job._stream_results:WARNING:2023-08-18 14:31:00,495: An error occurred while streaming results for job cjfhscn6dei0664lkhn0:\n",
      "Traceback (most recent call last):\n",
      "  File \"/home/gluonhiggs/.pyenv/versions/anaconda3-2023.03/envs/qiskit-runtime/lib/python3.10/site-packages/qiskit_ibm_runtime/runtime_job.py\", line 534, in _stream_results\n",
      "    user_callback(self.job_id(), _decoder.decode(response))\n",
      "TypeError: 'list' object is not callable\n",
      "\n",
      "runtime_job._stream_results:WARNING:2023-08-18 14:31:04,166: An error occurred while streaming results for job cjfhsdc5hqba8918fjf0:\n",
      "Traceback (most recent call last):\n",
      "  File \"/home/gluonhiggs/.pyenv/versions/anaconda3-2023.03/envs/qiskit-runtime/lib/python3.10/site-packages/qiskit_ibm_runtime/runtime_job.py\", line 534, in _stream_results\n",
      "    user_callback(self.job_id(), _decoder.decode(response))\n",
      "TypeError: 'list' object is not callable\n",
      "\n",
      "runtime_job._stream_results:WARNING:2023-08-18 14:31:10,310: An error occurred while streaming results for job cjfhserie1jj2il9ot20:\n",
      "Traceback (most recent call last):\n",
      "  File \"/home/gluonhiggs/.pyenv/versions/anaconda3-2023.03/envs/qiskit-runtime/lib/python3.10/site-packages/qiskit_ibm_runtime/runtime_job.py\", line 534, in _stream_results\n",
      "    user_callback(self.job_id(), _decoder.decode(response))\n",
      "TypeError: 'list' object is not callable\n",
      "\n",
      "runtime_job._stream_results:WARNING:2023-08-18 14:31:14,810: An error occurred while streaming results for job cjfhsft7ui1f8qau7v30:\n",
      "Traceback (most recent call last):\n",
      "  File \"/home/gluonhiggs/.pyenv/versions/anaconda3-2023.03/envs/qiskit-runtime/lib/python3.10/site-packages/qiskit_ibm_runtime/runtime_job.py\", line 534, in _stream_results\n",
      "    user_callback(self.job_id(), _decoder.decode(response))\n",
      "TypeError: 'list' object is not callable\n",
      "\n",
      "runtime_job._stream_results:WARNING:2023-08-18 14:31:18,246: An error occurred while streaming results for job cjfhsh7bq0tlksv8es10:\n",
      "Traceback (most recent call last):\n",
      "  File \"/home/gluonhiggs/.pyenv/versions/anaconda3-2023.03/envs/qiskit-runtime/lib/python3.10/site-packages/qiskit_ibm_runtime/runtime_job.py\", line 534, in _stream_results\n",
      "    user_callback(self.job_id(), _decoder.decode(response))\n",
      "TypeError: 'list' object is not callable\n",
      "\n",
      "runtime_job._stream_results:WARNING:2023-08-18 14:31:22,511: An error occurred while streaming results for job cjfhsi7bq0tlksv8et0g:\n",
      "Traceback (most recent call last):\n",
      "  File \"/home/gluonhiggs/.pyenv/versions/anaconda3-2023.03/envs/qiskit-runtime/lib/python3.10/site-packages/qiskit_ibm_runtime/runtime_job.py\", line 534, in _stream_results\n",
      "    user_callback(self.job_id(), _decoder.decode(response))\n",
      "TypeError: 'list' object is not callable\n",
      "\n",
      "runtime_job._stream_results:WARNING:2023-08-18 14:31:26,275: An error occurred while streaming results for job cjfhsiocs414jvgqb7og:\n",
      "Traceback (most recent call last):\n",
      "  File \"/home/gluonhiggs/.pyenv/versions/anaconda3-2023.03/envs/qiskit-runtime/lib/python3.10/site-packages/qiskit_ibm_runtime/runtime_job.py\", line 534, in _stream_results\n",
      "    user_callback(self.job_id(), _decoder.decode(response))\n",
      "TypeError: 'list' object is not callable\n",
      "\n"
     ]
    },
    {
     "name": "stdout",
     "output_type": "stream",
     "text": [
      "Evaluation 3: -0.9920612431714186\n"
     ]
    },
    {
     "name": "stderr",
     "output_type": "stream",
     "text": [
      "runtime_job._stream_results:WARNING:2023-08-18 14:31:35,066: An error occurred while streaming results for job cjfhsl3ie1jj2il9p4v0:\n",
      "Traceback (most recent call last):\n",
      "  File \"/home/gluonhiggs/.pyenv/versions/anaconda3-2023.03/envs/qiskit-runtime/lib/python3.10/site-packages/qiskit_ibm_runtime/runtime_job.py\", line 534, in _stream_results\n",
      "    user_callback(self.job_id(), _decoder.decode(response))\n",
      "TypeError: 'list' object is not callable\n",
      "\n",
      "runtime_job._stream_results:WARNING:2023-08-18 14:31:38,218: An error occurred while streaming results for job cjfhsm57ui1f8qau8580:\n",
      "Traceback (most recent call last):\n",
      "  File \"/home/gluonhiggs/.pyenv/versions/anaconda3-2023.03/envs/qiskit-runtime/lib/python3.10/site-packages/qiskit_ibm_runtime/runtime_job.py\", line 534, in _stream_results\n",
      "    user_callback(self.job_id(), _decoder.decode(response))\n",
      "TypeError: 'list' object is not callable\n",
      "\n",
      "runtime_job._stream_results:WARNING:2023-08-18 14:31:46,779: An error occurred while streaming results for job cjfhso7bq0tlksv8f350:\n",
      "Traceback (most recent call last):\n",
      "  File \"/home/gluonhiggs/.pyenv/versions/anaconda3-2023.03/envs/qiskit-runtime/lib/python3.10/site-packages/qiskit_ibm_runtime/runtime_job.py\", line 534, in _stream_results\n",
      "    user_callback(self.job_id(), _decoder.decode(response))\n",
      "TypeError: 'list' object is not callable\n",
      "\n"
     ]
    },
    {
     "name": "stdout",
     "output_type": "stream",
     "text": [
      "Evaluation 6: -1.081575547754758\n"
     ]
    },
    {
     "name": "stderr",
     "output_type": "stream",
     "text": [
      "runtime_job._stream_results:WARNING:2023-08-18 14:31:51,421: An error occurred while streaming results for job cjfhsp76dei0664lkv6g:\n",
      "Traceback (most recent call last):\n",
      "  File \"/home/gluonhiggs/.pyenv/versions/anaconda3-2023.03/envs/qiskit-runtime/lib/python3.10/site-packages/qiskit_ibm_runtime/runtime_job.py\", line 534, in _stream_results\n",
      "    user_callback(self.job_id(), _decoder.decode(response))\n",
      "TypeError: 'list' object is not callable\n",
      "\n",
      "runtime_job._stream_results:WARNING:2023-08-18 14:32:04,290: An error occurred while streaming results for job cjfhsq76dei0664ll0og:\n",
      "Traceback (most recent call last):\n",
      "  File \"/home/gluonhiggs/.pyenv/versions/anaconda3-2023.03/envs/qiskit-runtime/lib/python3.10/site-packages/qiskit_ibm_runtime/runtime_job.py\", line 534, in _stream_results\n",
      "    user_callback(self.job_id(), _decoder.decode(response))\n",
      "TypeError: 'list' object is not callable\n",
      "\n",
      "runtime_job._stream_results:WARNING:2023-08-18 14:32:08,776: An error occurred while streaming results for job cjfhstfbq0tlksv8fa2g:\n",
      "Traceback (most recent call last):\n",
      "  File \"/home/gluonhiggs/.pyenv/versions/anaconda3-2023.03/envs/qiskit-runtime/lib/python3.10/site-packages/qiskit_ibm_runtime/runtime_job.py\", line 534, in _stream_results\n",
      "    user_callback(self.job_id(), _decoder.decode(response))\n",
      "TypeError: 'list' object is not callable\n",
      "\n"
     ]
    },
    {
     "name": "stdout",
     "output_type": "stream",
     "text": [
      "Evaluation 9: -0.877251968305325\n"
     ]
    },
    {
     "name": "stderr",
     "output_type": "stream",
     "text": [
      "runtime_job._stream_results:WARNING:2023-08-18 14:32:12,891: An error occurred while streaming results for job cjfhsunbq0tlksv8fbjg:\n",
      "Traceback (most recent call last):\n",
      "  File \"/home/gluonhiggs/.pyenv/versions/anaconda3-2023.03/envs/qiskit-runtime/lib/python3.10/site-packages/qiskit_ibm_runtime/runtime_job.py\", line 534, in _stream_results\n",
      "    user_callback(self.job_id(), _decoder.decode(response))\n",
      "TypeError: 'list' object is not callable\n",
      "\n",
      "runtime_job._stream_results:WARNING:2023-08-18 14:32:16,312: An error occurred while streaming results for job cjfhsvn6dei0664ll760:\n",
      "Traceback (most recent call last):\n",
      "  File \"/home/gluonhiggs/.pyenv/versions/anaconda3-2023.03/envs/qiskit-runtime/lib/python3.10/site-packages/qiskit_ibm_runtime/runtime_job.py\", line 534, in _stream_results\n",
      "    user_callback(self.job_id(), _decoder.decode(response))\n",
      "TypeError: 'list' object is not callable\n",
      "\n",
      "runtime_job._stream_results:WARNING:2023-08-18 14:32:19,806: An error occurred while streaming results for job cjfht0c5hqba8918g9k0:\n",
      "Traceback (most recent call last):\n",
      "  File \"/home/gluonhiggs/.pyenv/versions/anaconda3-2023.03/envs/qiskit-runtime/lib/python3.10/site-packages/qiskit_ibm_runtime/runtime_job.py\", line 534, in _stream_results\n",
      "    user_callback(self.job_id(), _decoder.decode(response))\n",
      "TypeError: 'list' object is not callable\n",
      "\n"
     ]
    },
    {
     "name": "stdout",
     "output_type": "stream",
     "text": [
      "Evaluation 12: -0.9785801703984096\n"
     ]
    },
    {
     "name": "stderr",
     "output_type": "stream",
     "text": [
      "runtime_job._stream_results:WARNING:2023-08-18 14:32:23,428: An error occurred while streaming results for job cjfht1bie1jj2il9pk3g:\n",
      "Traceback (most recent call last):\n",
      "  File \"/home/gluonhiggs/.pyenv/versions/anaconda3-2023.03/envs/qiskit-runtime/lib/python3.10/site-packages/qiskit_ibm_runtime/runtime_job.py\", line 534, in _stream_results\n",
      "    user_callback(self.job_id(), _decoder.decode(response))\n",
      "TypeError: 'list' object is not callable\n",
      "\n",
      "runtime_job._stream_results:WARNING:2023-08-18 14:32:30,182: An error occurred while streaming results for job cjfht37bq0tlksv8figg:\n",
      "Traceback (most recent call last):\n",
      "  File \"/home/gluonhiggs/.pyenv/versions/anaconda3-2023.03/envs/qiskit-runtime/lib/python3.10/site-packages/qiskit_ibm_runtime/runtime_job.py\", line 534, in _stream_results\n",
      "    user_callback(self.job_id(), _decoder.decode(response))\n",
      "TypeError: 'list' object is not callable\n",
      "\n"
     ]
    },
    {
     "name": "stdout",
     "output_type": "stream",
     "text": [
      "Evaluation 15: -0.7563231741270935\n"
     ]
    },
    {
     "name": "stderr",
     "output_type": "stream",
     "text": [
      "runtime_job._stream_results:WARNING:2023-08-18 14:32:34,087: An error occurred while streaming results for job cjfht3v6dei0664lleb0:\n",
      "Traceback (most recent call last):\n",
      "  File \"/home/gluonhiggs/.pyenv/versions/anaconda3-2023.03/envs/qiskit-runtime/lib/python3.10/site-packages/qiskit_ibm_runtime/runtime_job.py\", line 534, in _stream_results\n",
      "    user_callback(self.job_id(), _decoder.decode(response))\n",
      "TypeError: 'list' object is not callable\n",
      "\n",
      "runtime_job._stream_results:WARNING:2023-08-18 14:32:37,412: An error occurred while streaming results for job cjfht4rie1jj2il9pp20:\n",
      "Traceback (most recent call last):\n",
      "  File \"/home/gluonhiggs/.pyenv/versions/anaconda3-2023.03/envs/qiskit-runtime/lib/python3.10/site-packages/qiskit_ibm_runtime/runtime_job.py\", line 534, in _stream_results\n",
      "    user_callback(self.job_id(), _decoder.decode(response))\n",
      "TypeError: 'list' object is not callable\n",
      "\n",
      "runtime_job._stream_results:WARNING:2023-08-18 14:32:41,666: An error occurred while streaming results for job cjfht5gcs414jvgqbvu0:\n",
      "Traceback (most recent call last):\n",
      "  File \"/home/gluonhiggs/.pyenv/versions/anaconda3-2023.03/envs/qiskit-runtime/lib/python3.10/site-packages/qiskit_ibm_runtime/runtime_job.py\", line 534, in _stream_results\n",
      "    user_callback(self.job_id(), _decoder.decode(response))\n",
      "TypeError: 'list' object is not callable\n",
      "\n"
     ]
    },
    {
     "name": "stdout",
     "output_type": "stream",
     "text": [
      "Evaluation 18: -1.243638062205231\n"
     ]
    },
    {
     "name": "stderr",
     "output_type": "stream",
     "text": [
      "runtime_job._stream_results:WARNING:2023-08-18 14:32:48,833: An error occurred while streaming results for job cjfht7d7ui1f8qau8rh0:\n",
      "Traceback (most recent call last):\n",
      "  File \"/home/gluonhiggs/.pyenv/versions/anaconda3-2023.03/envs/qiskit-runtime/lib/python3.10/site-packages/qiskit_ibm_runtime/runtime_job.py\", line 534, in _stream_results\n",
      "    user_callback(self.job_id(), _decoder.decode(response))\n",
      "TypeError: 'list' object is not callable\n",
      "\n",
      "runtime_job._stream_results:WARNING:2023-08-18 14:32:52,520: An error occurred while streaming results for job cjfht8k5hqba8918gk6g:\n",
      "Traceback (most recent call last):\n",
      "  File \"/home/gluonhiggs/.pyenv/versions/anaconda3-2023.03/envs/qiskit-runtime/lib/python3.10/site-packages/qiskit_ibm_runtime/runtime_job.py\", line 534, in _stream_results\n",
      "    user_callback(self.job_id(), _decoder.decode(response))\n",
      "TypeError: 'list' object is not callable\n",
      "\n",
      "runtime_job._stream_results:WARNING:2023-08-18 14:32:56,066: An error occurred while streaming results for job cjfht9bie1jj2il9pv3g:\n",
      "Traceback (most recent call last):\n",
      "  File \"/home/gluonhiggs/.pyenv/versions/anaconda3-2023.03/envs/qiskit-runtime/lib/python3.10/site-packages/qiskit_ibm_runtime/runtime_job.py\", line 534, in _stream_results\n",
      "    user_callback(self.job_id(), _decoder.decode(response))\n",
      "TypeError: 'list' object is not callable\n",
      "\n"
     ]
    },
    {
     "name": "stdout",
     "output_type": "stream",
     "text": [
      "Evaluation 21: -1.136809719334607\n"
     ]
    },
    {
     "name": "stderr",
     "output_type": "stream",
     "text": [
      "runtime_job._stream_results:WARNING:2023-08-18 14:33:01,736: An error occurred while streaming results for job cjfhtat7ui1f8qau8ur0:\n",
      "Traceback (most recent call last):\n",
      "  File \"/home/gluonhiggs/.pyenv/versions/anaconda3-2023.03/envs/qiskit-runtime/lib/python3.10/site-packages/qiskit_ibm_runtime/runtime_job.py\", line 534, in _stream_results\n",
      "    user_callback(self.job_id(), _decoder.decode(response))\n",
      "TypeError: 'list' object is not callable\n",
      "\n",
      "runtime_job._stream_results:WARNING:2023-08-18 14:33:05,525: An error occurred while streaming results for job cjfhtbv6dei0664llob0:\n",
      "Traceback (most recent call last):\n",
      "  File \"/home/gluonhiggs/.pyenv/versions/anaconda3-2023.03/envs/qiskit-runtime/lib/python3.10/site-packages/qiskit_ibm_runtime/runtime_job.py\", line 534, in _stream_results\n",
      "    user_callback(self.job_id(), _decoder.decode(response))\n",
      "TypeError: 'list' object is not callable\n",
      "\n",
      "runtime_job._stream_results:WARNING:2023-08-18 14:33:11,775: An error occurred while streaming results for job cjfhtd0cs414jvgqc8p0:\n",
      "Traceback (most recent call last):\n",
      "  File \"/home/gluonhiggs/.pyenv/versions/anaconda3-2023.03/envs/qiskit-runtime/lib/python3.10/site-packages/qiskit_ibm_runtime/runtime_job.py\", line 534, in _stream_results\n",
      "    user_callback(self.job_id(), _decoder.decode(response))\n",
      "TypeError: 'list' object is not callable\n",
      "\n"
     ]
    },
    {
     "name": "stdout",
     "output_type": "stream",
     "text": [
      "Evaluation 24: -1.035576124430297\n"
     ]
    },
    {
     "name": "stderr",
     "output_type": "stream",
     "text": [
      "runtime_job._stream_results:WARNING:2023-08-18 14:33:15,253: An error occurred while streaming results for job cjfhtefbq0tlksv8fvig:\n",
      "Traceback (most recent call last):\n",
      "  File \"/home/gluonhiggs/.pyenv/versions/anaconda3-2023.03/envs/qiskit-runtime/lib/python3.10/site-packages/qiskit_ibm_runtime/runtime_job.py\", line 534, in _stream_results\n",
      "    user_callback(self.job_id(), _decoder.decode(response))\n",
      "TypeError: 'list' object is not callable\n",
      "\n",
      "runtime_job._stream_results:WARNING:2023-08-18 14:33:22,425: An error occurred while streaming results for job cjfhtg0cs414jvgqcc7g:\n",
      "Traceback (most recent call last):\n",
      "  File \"/home/gluonhiggs/.pyenv/versions/anaconda3-2023.03/envs/qiskit-runtime/lib/python3.10/site-packages/qiskit_ibm_runtime/runtime_job.py\", line 534, in _stream_results\n",
      "    user_callback(self.job_id(), _decoder.decode(response))\n",
      "TypeError: 'list' object is not callable\n",
      "\n",
      "runtime_job._stream_results:WARNING:2023-08-18 14:33:26,209: An error occurred while streaming results for job cjfhtgrie1jj2il9q9sg:\n",
      "Traceback (most recent call last):\n",
      "  File \"/home/gluonhiggs/.pyenv/versions/anaconda3-2023.03/envs/qiskit-runtime/lib/python3.10/site-packages/qiskit_ibm_runtime/runtime_job.py\", line 534, in _stream_results\n",
      "    user_callback(self.job_id(), _decoder.decode(response))\n",
      "TypeError: 'list' object is not callable\n",
      "\n"
     ]
    },
    {
     "name": "stdout",
     "output_type": "stream",
     "text": [
      "Evaluation 27: -0.6774407340585422\n"
     ]
    },
    {
     "name": "stderr",
     "output_type": "stream",
     "text": [
      "runtime_job._stream_results:WARNING:2023-08-18 14:33:29,574: An error occurred while streaming results for job cjfhthvbq0tlksv8g410:\n",
      "Traceback (most recent call last):\n",
      "  File \"/home/gluonhiggs/.pyenv/versions/anaconda3-2023.03/envs/qiskit-runtime/lib/python3.10/site-packages/qiskit_ibm_runtime/runtime_job.py\", line 534, in _stream_results\n",
      "    user_callback(self.job_id(), _decoder.decode(response))\n",
      "TypeError: 'list' object is not callable\n",
      "\n",
      "runtime_job._stream_results:WARNING:2023-08-18 14:33:36,863: An error occurred while streaming results for job cjfhtjnbq0tlksv8g5j0:\n",
      "Traceback (most recent call last):\n",
      "  File \"/home/gluonhiggs/.pyenv/versions/anaconda3-2023.03/envs/qiskit-runtime/lib/python3.10/site-packages/qiskit_ibm_runtime/runtime_job.py\", line 534, in _stream_results\n",
      "    user_callback(self.job_id(), _decoder.decode(response))\n",
      "TypeError: 'list' object is not callable\n",
      "\n",
      "runtime_job._stream_results:WARNING:2023-08-18 14:33:45,144: An error occurred while streaming results for job cjfhtlv6dei0664lm3sg:\n",
      "Traceback (most recent call last):\n",
      "  File \"/home/gluonhiggs/.pyenv/versions/anaconda3-2023.03/envs/qiskit-runtime/lib/python3.10/site-packages/qiskit_ibm_runtime/runtime_job.py\", line 534, in _stream_results\n",
      "    user_callback(self.job_id(), _decoder.decode(response))\n",
      "TypeError: 'list' object is not callable\n",
      "\n"
     ]
    },
    {
     "name": "stdout",
     "output_type": "stream",
     "text": [
      "Evaluation 30: -0.7183259301167748\n"
     ]
    },
    {
     "name": "stderr",
     "output_type": "stream",
     "text": [
      "runtime_job._stream_results:WARNING:2023-08-18 14:33:48,519: An error occurred while streaming results for job cjfhtmgcs414jvgqcij0:\n",
      "Traceback (most recent call last):\n",
      "  File \"/home/gluonhiggs/.pyenv/versions/anaconda3-2023.03/envs/qiskit-runtime/lib/python3.10/site-packages/qiskit_ibm_runtime/runtime_job.py\", line 534, in _stream_results\n",
      "    user_callback(self.job_id(), _decoder.decode(response))\n",
      "TypeError: 'list' object is not callable\n",
      "\n",
      "runtime_job._stream_results:WARNING:2023-08-18 14:33:52,219: An error occurred while streaming results for job cjfhtnf6dei0664lm62g:\n",
      "Traceback (most recent call last):\n",
      "  File \"/home/gluonhiggs/.pyenv/versions/anaconda3-2023.03/envs/qiskit-runtime/lib/python3.10/site-packages/qiskit_ibm_runtime/runtime_job.py\", line 534, in _stream_results\n",
      "    user_callback(self.job_id(), _decoder.decode(response))\n",
      "TypeError: 'list' object is not callable\n",
      "\n",
      "runtime_job._stream_results:WARNING:2023-08-18 14:33:55,803: An error occurred while streaming results for job cjfhtof6dei0664lm76g:\n",
      "Traceback (most recent call last):\n",
      "  File \"/home/gluonhiggs/.pyenv/versions/anaconda3-2023.03/envs/qiskit-runtime/lib/python3.10/site-packages/qiskit_ibm_runtime/runtime_job.py\", line 534, in _stream_results\n",
      "    user_callback(self.job_id(), _decoder.decode(response))\n",
      "TypeError: 'list' object is not callable\n",
      "\n"
     ]
    },
    {
     "name": "stdout",
     "output_type": "stream",
     "text": [
      "Evaluation 33: -0.7201429242975672\n"
     ]
    },
    {
     "name": "stderr",
     "output_type": "stream",
     "text": [
      "runtime_job._stream_results:WARNING:2023-08-18 14:34:00,206: An error occurred while streaming results for job cjfhtpd7ui1f8qau9df0:\n",
      "Traceback (most recent call last):\n",
      "  File \"/home/gluonhiggs/.pyenv/versions/anaconda3-2023.03/envs/qiskit-runtime/lib/python3.10/site-packages/qiskit_ibm_runtime/runtime_job.py\", line 534, in _stream_results\n",
      "    user_callback(self.job_id(), _decoder.decode(response))\n",
      "TypeError: 'list' object is not callable\n",
      "\n",
      "runtime_job._stream_results:WARNING:2023-08-18 14:34:09,524: An error occurred while streaming results for job cjfhtrrie1jj2il9qlpg:\n",
      "Traceback (most recent call last):\n",
      "  File \"/home/gluonhiggs/.pyenv/versions/anaconda3-2023.03/envs/qiskit-runtime/lib/python3.10/site-packages/qiskit_ibm_runtime/runtime_job.py\", line 534, in _stream_results\n",
      "    user_callback(self.job_id(), _decoder.decode(response))\n",
      "TypeError: 'list' object is not callable\n",
      "\n",
      "runtime_job._stream_results:WARNING:2023-08-18 14:34:16,078: An error occurred while streaming results for job cjfhttfbq0tlksv8ggeg:\n",
      "Traceback (most recent call last):\n",
      "  File \"/home/gluonhiggs/.pyenv/versions/anaconda3-2023.03/envs/qiskit-runtime/lib/python3.10/site-packages/qiskit_ibm_runtime/runtime_job.py\", line 534, in _stream_results\n",
      "    user_callback(self.job_id(), _decoder.decode(response))\n",
      "TypeError: 'list' object is not callable\n",
      "\n"
     ]
    },
    {
     "name": "stdout",
     "output_type": "stream",
     "text": [
      "Evaluation 36: -1.2989421048419938\n"
     ]
    },
    {
     "name": "stderr",
     "output_type": "stream",
     "text": [
      "runtime_job._stream_results:WARNING:2023-08-18 14:34:29,389: An error occurred while streaming results for job cjfhtuc5hqba8918hcd0:\n",
      "Traceback (most recent call last):\n",
      "  File \"/home/gluonhiggs/.pyenv/versions/anaconda3-2023.03/envs/qiskit-runtime/lib/python3.10/site-packages/qiskit_ibm_runtime/runtime_job.py\", line 534, in _stream_results\n",
      "    user_callback(self.job_id(), _decoder.decode(response))\n",
      "TypeError: 'list' object is not callable\n",
      "\n",
      "runtime_job._stream_results:WARNING:2023-08-18 14:34:36,865: An error occurred while streaming results for job cjfhu28cs414jvgqcucg:\n",
      "Traceback (most recent call last):\n",
      "  File \"/home/gluonhiggs/.pyenv/versions/anaconda3-2023.03/envs/qiskit-runtime/lib/python3.10/site-packages/qiskit_ibm_runtime/runtime_job.py\", line 534, in _stream_results\n",
      "    user_callback(self.job_id(), _decoder.decode(response))\n",
      "TypeError: 'list' object is not callable\n",
      "\n",
      "runtime_job._stream_results:WARNING:2023-08-18 14:34:40,551: An error occurred while streaming results for job cjfhu3jie1jj2il9qubg:\n",
      "Traceback (most recent call last):\n",
      "  File \"/home/gluonhiggs/.pyenv/versions/anaconda3-2023.03/envs/qiskit-runtime/lib/python3.10/site-packages/qiskit_ibm_runtime/runtime_job.py\", line 534, in _stream_results\n",
      "    user_callback(self.job_id(), _decoder.decode(response))\n",
      "TypeError: 'list' object is not callable\n",
      "\n"
     ]
    },
    {
     "name": "stdout",
     "output_type": "stream",
     "text": [
      "Evaluation 39: -1.3044783340039259\n"
     ]
    },
    {
     "name": "stderr",
     "output_type": "stream",
     "text": [
      "runtime_job._stream_results:WARNING:2023-08-18 14:34:44,225: An error occurred while streaming results for job cjfhu4l7ui1f8qau9omg:\n",
      "Traceback (most recent call last):\n",
      "  File \"/home/gluonhiggs/.pyenv/versions/anaconda3-2023.03/envs/qiskit-runtime/lib/python3.10/site-packages/qiskit_ibm_runtime/runtime_job.py\", line 534, in _stream_results\n",
      "    user_callback(self.job_id(), _decoder.decode(response))\n",
      "TypeError: 'list' object is not callable\n",
      "\n",
      "runtime_job._stream_results:WARNING:2023-08-18 14:34:47,924: An error occurred while streaming results for job cjfhu58cs414jvgqd16g:\n",
      "Traceback (most recent call last):\n",
      "  File \"/home/gluonhiggs/.pyenv/versions/anaconda3-2023.03/envs/qiskit-runtime/lib/python3.10/site-packages/qiskit_ibm_runtime/runtime_job.py\", line 534, in _stream_results\n",
      "    user_callback(self.job_id(), _decoder.decode(response))\n",
      "TypeError: 'list' object is not callable\n",
      "\n",
      "runtime_job._stream_results:WARNING:2023-08-18 14:34:56,678: An error occurred while streaming results for job cjfhu7fbq0tlksv8gsjg:\n",
      "Traceback (most recent call last):\n",
      "  File \"/home/gluonhiggs/.pyenv/versions/anaconda3-2023.03/envs/qiskit-runtime/lib/python3.10/site-packages/qiskit_ibm_runtime/runtime_job.py\", line 534, in _stream_results\n",
      "    user_callback(self.job_id(), _decoder.decode(response))\n",
      "TypeError: 'list' object is not callable\n",
      "\n"
     ]
    },
    {
     "name": "stdout",
     "output_type": "stream",
     "text": [
      "Evaluation 42: -1.2157193654987872\n"
     ]
    },
    {
     "name": "stderr",
     "output_type": "stream",
     "text": [
      "runtime_job._stream_results:WARNING:2023-08-18 14:35:05,638: An error occurred while streaming results for job cjfhu9v6dei0664lmp90:\n",
      "Traceback (most recent call last):\n",
      "  File \"/home/gluonhiggs/.pyenv/versions/anaconda3-2023.03/envs/qiskit-runtime/lib/python3.10/site-packages/qiskit_ibm_runtime/runtime_job.py\", line 534, in _stream_results\n",
      "    user_callback(self.job_id(), _decoder.decode(response))\n",
      "TypeError: 'list' object is not callable\n",
      "\n",
      "runtime_job._stream_results:WARNING:2023-08-18 14:35:09,120: An error occurred while streaming results for job cjfhuav6dei0664lmq4g:\n",
      "Traceback (most recent call last):\n",
      "  File \"/home/gluonhiggs/.pyenv/versions/anaconda3-2023.03/envs/qiskit-runtime/lib/python3.10/site-packages/qiskit_ibm_runtime/runtime_job.py\", line 534, in _stream_results\n",
      "    user_callback(self.job_id(), _decoder.decode(response))\n",
      "TypeError: 'list' object is not callable\n",
      "\n",
      "runtime_job._stream_results:WARNING:2023-08-18 14:35:12,602: An error occurred while streaming results for job cjfhubk5hqba8918hol0:\n",
      "Traceback (most recent call last):\n",
      "  File \"/home/gluonhiggs/.pyenv/versions/anaconda3-2023.03/envs/qiskit-runtime/lib/python3.10/site-packages/qiskit_ibm_runtime/runtime_job.py\", line 534, in _stream_results\n",
      "    user_callback(self.job_id(), _decoder.decode(response))\n",
      "TypeError: 'list' object is not callable\n",
      "\n"
     ]
    },
    {
     "name": "stdout",
     "output_type": "stream",
     "text": [
      "Evaluation 45: -1.2628493457823873\n"
     ]
    },
    {
     "name": "stderr",
     "output_type": "stream",
     "text": [
      "runtime_job._stream_results:WARNING:2023-08-18 14:35:15,982: An error occurred while streaming results for job cjfhuc8cs414jvgqd78g:\n",
      "Traceback (most recent call last):\n",
      "  File \"/home/gluonhiggs/.pyenv/versions/anaconda3-2023.03/envs/qiskit-runtime/lib/python3.10/site-packages/qiskit_ibm_runtime/runtime_job.py\", line 534, in _stream_results\n",
      "    user_callback(self.job_id(), _decoder.decode(response))\n",
      "TypeError: 'list' object is not callable\n",
      "\n",
      "runtime_job._stream_results:WARNING:2023-08-18 14:35:19,770: An error occurred while streaming results for job cjfhudd7ui1f8qaua1s0:\n",
      "Traceback (most recent call last):\n",
      "  File \"/home/gluonhiggs/.pyenv/versions/anaconda3-2023.03/envs/qiskit-runtime/lib/python3.10/site-packages/qiskit_ibm_runtime/runtime_job.py\", line 534, in _stream_results\n",
      "    user_callback(self.job_id(), _decoder.decode(response))\n",
      "TypeError: 'list' object is not callable\n",
      "\n",
      "runtime_job._stream_results:WARNING:2023-08-18 14:35:23,763: An error occurred while streaming results for job cjfhuec5hqba8918hsr0:\n",
      "Traceback (most recent call last):\n",
      "  File \"/home/gluonhiggs/.pyenv/versions/anaconda3-2023.03/envs/qiskit-runtime/lib/python3.10/site-packages/qiskit_ibm_runtime/runtime_job.py\", line 534, in _stream_results\n",
      "    user_callback(self.job_id(), _decoder.decode(response))\n",
      "TypeError: 'list' object is not callable\n",
      "\n"
     ]
    },
    {
     "name": "stdout",
     "output_type": "stream",
     "text": [
      "Evaluation 48: -0.9888930017077638\n"
     ]
    },
    {
     "name": "stderr",
     "output_type": "stream",
     "text": [
      "runtime_job._stream_results:WARNING:2023-08-18 14:35:26,835: An error occurred while streaming results for job cjfhuff6dei0664ln010:\n",
      "Traceback (most recent call last):\n",
      "  File \"/home/gluonhiggs/.pyenv/versions/anaconda3-2023.03/envs/qiskit-runtime/lib/python3.10/site-packages/qiskit_ibm_runtime/runtime_job.py\", line 534, in _stream_results\n",
      "    user_callback(self.job_id(), _decoder.decode(response))\n",
      "TypeError: 'list' object is not callable\n",
      "\n",
      "runtime_job._stream_results:WARNING:2023-08-18 14:35:32,263: An error occurred while streaming results for job cjfhuggcs414jvgqdchg:\n",
      "Traceback (most recent call last):\n",
      "  File \"/home/gluonhiggs/.pyenv/versions/anaconda3-2023.03/envs/qiskit-runtime/lib/python3.10/site-packages/qiskit_ibm_runtime/runtime_job.py\", line 534, in _stream_results\n",
      "    user_callback(self.job_id(), _decoder.decode(response))\n",
      "TypeError: 'list' object is not callable\n",
      "\n",
      "runtime_job._stream_results:WARNING:2023-08-18 14:35:40,454: An error occurred while streaming results for job cjfhuijie1jj2il9rfdg:\n",
      "Traceback (most recent call last):\n",
      "  File \"/home/gluonhiggs/.pyenv/versions/anaconda3-2023.03/envs/qiskit-runtime/lib/python3.10/site-packages/qiskit_ibm_runtime/runtime_job.py\", line 534, in _stream_results\n",
      "    user_callback(self.job_id(), _decoder.decode(response))\n",
      "TypeError: 'list' object is not callable\n",
      "\n"
     ]
    },
    {
     "name": "stdout",
     "output_type": "stream",
     "text": [
      "Evaluation 51: -0.9826821157074522\n"
     ]
    },
    {
     "name": "stderr",
     "output_type": "stream",
     "text": [
      "runtime_job._stream_results:WARNING:2023-08-18 14:35:43,602: An error occurred while streaming results for job cjfhuj8cs414jvgqdf4g:\n",
      "Traceback (most recent call last):\n",
      "  File \"/home/gluonhiggs/.pyenv/versions/anaconda3-2023.03/envs/qiskit-runtime/lib/python3.10/site-packages/qiskit_ibm_runtime/runtime_job.py\", line 534, in _stream_results\n",
      "    user_callback(self.job_id(), _decoder.decode(response))\n",
      "TypeError: 'list' object is not callable\n",
      "\n",
      "runtime_job._stream_results:WARNING:2023-08-18 14:35:49,670: An error occurred while streaming results for job cjfhuks5hqba8918i2u0:\n",
      "Traceback (most recent call last):\n",
      "  File \"/home/gluonhiggs/.pyenv/versions/anaconda3-2023.03/envs/qiskit-runtime/lib/python3.10/site-packages/qiskit_ibm_runtime/runtime_job.py\", line 534, in _stream_results\n",
      "    user_callback(self.job_id(), _decoder.decode(response))\n",
      "TypeError: 'list' object is not callable\n",
      "\n",
      "runtime_job._stream_results:WARNING:2023-08-18 14:35:53,561: An error occurred while streaming results for job cjfhulrie1jj2il9rhsg:\n",
      "Traceback (most recent call last):\n",
      "  File \"/home/gluonhiggs/.pyenv/versions/anaconda3-2023.03/envs/qiskit-runtime/lib/python3.10/site-packages/qiskit_ibm_runtime/runtime_job.py\", line 534, in _stream_results\n",
      "    user_callback(self.job_id(), _decoder.decode(response))\n",
      "TypeError: 'list' object is not callable\n",
      "\n"
     ]
    },
    {
     "name": "stdout",
     "output_type": "stream",
     "text": [
      "Evaluation 54: -0.9733711537959409\n"
     ]
    },
    {
     "name": "stderr",
     "output_type": "stream",
     "text": [
      "runtime_job._stream_results:WARNING:2023-08-18 14:35:57,479: An error occurred while streaming results for job cjfhumocs414jvgqdhk0:\n",
      "Traceback (most recent call last):\n",
      "  File \"/home/gluonhiggs/.pyenv/versions/anaconda3-2023.03/envs/qiskit-runtime/lib/python3.10/site-packages/qiskit_ibm_runtime/runtime_job.py\", line 534, in _stream_results\n",
      "    user_callback(self.job_id(), _decoder.decode(response))\n",
      "TypeError: 'list' object is not callable\n",
      "\n",
      "runtime_job._stream_results:WARNING:2023-08-18 14:36:01,651: An error occurred while streaming results for job cjfhunv6dei0664ln940:\n",
      "Traceback (most recent call last):\n",
      "  File \"/home/gluonhiggs/.pyenv/versions/anaconda3-2023.03/envs/qiskit-runtime/lib/python3.10/site-packages/qiskit_ibm_runtime/runtime_job.py\", line 534, in _stream_results\n",
      "    user_callback(self.job_id(), _decoder.decode(response))\n",
      "TypeError: 'list' object is not callable\n",
      "\n",
      "runtime_job._stream_results:WARNING:2023-08-18 14:36:09,535: An error occurred while streaming results for job cjfhupn6dei0664lnbn0:\n",
      "Traceback (most recent call last):\n",
      "  File \"/home/gluonhiggs/.pyenv/versions/anaconda3-2023.03/envs/qiskit-runtime/lib/python3.10/site-packages/qiskit_ibm_runtime/runtime_job.py\", line 534, in _stream_results\n",
      "    user_callback(self.job_id(), _decoder.decode(response))\n",
      "TypeError: 'list' object is not callable\n",
      "\n"
     ]
    },
    {
     "name": "stdout",
     "output_type": "stream",
     "text": [
      "Evaluation 57: -1.476492956403708\n"
     ]
    },
    {
     "name": "stderr",
     "output_type": "stream",
     "text": [
      "runtime_job._stream_results:WARNING:2023-08-18 14:36:13,632: An error occurred while streaming results for job cjfhuqnbq0tlksv8hik0:\n",
      "Traceback (most recent call last):\n",
      "  File \"/home/gluonhiggs/.pyenv/versions/anaconda3-2023.03/envs/qiskit-runtime/lib/python3.10/site-packages/qiskit_ibm_runtime/runtime_job.py\", line 534, in _stream_results\n",
      "    user_callback(self.job_id(), _decoder.decode(response))\n",
      "TypeError: 'list' object is not callable\n",
      "\n",
      "runtime_job._stream_results:WARNING:2023-08-18 14:36:17,524: An error occurred while streaming results for job cjfhurv6dei0664lndo0:\n",
      "Traceback (most recent call last):\n",
      "  File \"/home/gluonhiggs/.pyenv/versions/anaconda3-2023.03/envs/qiskit-runtime/lib/python3.10/site-packages/qiskit_ibm_runtime/runtime_job.py\", line 534, in _stream_results\n",
      "    user_callback(self.job_id(), _decoder.decode(response))\n",
      "TypeError: 'list' object is not callable\n",
      "\n",
      "runtime_job._stream_results:WARNING:2023-08-18 14:36:21,110: An error occurred while streaming results for job cjfhusl7ui1f8qauahn0:\n",
      "Traceback (most recent call last):\n",
      "  File \"/home/gluonhiggs/.pyenv/versions/anaconda3-2023.03/envs/qiskit-runtime/lib/python3.10/site-packages/qiskit_ibm_runtime/runtime_job.py\", line 534, in _stream_results\n",
      "    user_callback(self.job_id(), _decoder.decode(response))\n",
      "TypeError: 'list' object is not callable\n",
      "\n"
     ]
    },
    {
     "name": "stdout",
     "output_type": "stream",
     "text": [
      "Evaluation 60: -1.5097004699794079\n"
     ]
    },
    {
     "name": "stderr",
     "output_type": "stream",
     "text": [
      "runtime_job._stream_results:WARNING:2023-08-18 14:36:24,695: An error occurred while streaming results for job cjfhutjie1jj2il9rrh0:\n",
      "Traceback (most recent call last):\n",
      "  File \"/home/gluonhiggs/.pyenv/versions/anaconda3-2023.03/envs/qiskit-runtime/lib/python3.10/site-packages/qiskit_ibm_runtime/runtime_job.py\", line 534, in _stream_results\n",
      "    user_callback(self.job_id(), _decoder.decode(response))\n",
      "TypeError: 'list' object is not callable\n",
      "\n",
      "runtime_job._stream_results:WARNING:2023-08-18 14:36:27,871: An error occurred while streaming results for job cjfhuuk5hqba8918icm0:\n",
      "Traceback (most recent call last):\n",
      "  File \"/home/gluonhiggs/.pyenv/versions/anaconda3-2023.03/envs/qiskit-runtime/lib/python3.10/site-packages/qiskit_ibm_runtime/runtime_job.py\", line 534, in _stream_results\n",
      "    user_callback(self.job_id(), _decoder.decode(response))\n",
      "TypeError: 'list' object is not callable\n",
      "\n",
      "runtime_job._stream_results:WARNING:2023-08-18 14:36:31,457: An error occurred while streaming results for job cjfhuv8cs414jvgqdr10:\n",
      "Traceback (most recent call last):\n",
      "  File \"/home/gluonhiggs/.pyenv/versions/anaconda3-2023.03/envs/qiskit-runtime/lib/python3.10/site-packages/qiskit_ibm_runtime/runtime_job.py\", line 534, in _stream_results\n",
      "    user_callback(self.job_id(), _decoder.decode(response))\n",
      "TypeError: 'list' object is not callable\n",
      "\n"
     ]
    },
    {
     "name": "stdout",
     "output_type": "stream",
     "text": [
      "Evaluation 63: -0.8947105010884662\n"
     ]
    },
    {
     "name": "stderr",
     "output_type": "stream",
     "text": [
      "runtime_job._stream_results:WARNING:2023-08-18 14:36:34,838: An error occurred while streaming results for job cjfhv03ie1jj2il9rvc0:\n",
      "Traceback (most recent call last):\n",
      "  File \"/home/gluonhiggs/.pyenv/versions/anaconda3-2023.03/envs/qiskit-runtime/lib/python3.10/site-packages/qiskit_ibm_runtime/runtime_job.py\", line 534, in _stream_results\n",
      "    user_callback(self.job_id(), _decoder.decode(response))\n",
      "TypeError: 'list' object is not callable\n",
      "\n",
      "runtime_job._stream_results:WARNING:2023-08-18 14:36:38,730: An error occurred while streaming results for job cjfhv176dei0664lnl3g:\n",
      "Traceback (most recent call last):\n",
      "  File \"/home/gluonhiggs/.pyenv/versions/anaconda3-2023.03/envs/qiskit-runtime/lib/python3.10/site-packages/qiskit_ibm_runtime/runtime_job.py\", line 534, in _stream_results\n",
      "    user_callback(self.job_id(), _decoder.decode(response))\n",
      "TypeError: 'list' object is not callable\n",
      "\n",
      "runtime_job._stream_results:WARNING:2023-08-18 14:36:45,497: An error occurred while streaming results for job cjfhv2nbq0tlksv8htv0:\n",
      "Traceback (most recent call last):\n",
      "  File \"/home/gluonhiggs/.pyenv/versions/anaconda3-2023.03/envs/qiskit-runtime/lib/python3.10/site-packages/qiskit_ibm_runtime/runtime_job.py\", line 534, in _stream_results\n",
      "    user_callback(self.job_id(), _decoder.decode(response))\n",
      "TypeError: 'list' object is not callable\n",
      "\n"
     ]
    },
    {
     "name": "stdout",
     "output_type": "stream",
     "text": [
      "Evaluation 66: -0.9623545092781198\n"
     ]
    },
    {
     "name": "stderr",
     "output_type": "stream",
     "text": [
      "runtime_job._stream_results:WARNING:2023-08-18 14:36:49,590: An error occurred while streaming results for job cjfhv3k5hqba8918ijbg:\n",
      "Traceback (most recent call last):\n",
      "  File \"/home/gluonhiggs/.pyenv/versions/anaconda3-2023.03/envs/qiskit-runtime/lib/python3.10/site-packages/qiskit_ibm_runtime/runtime_job.py\", line 534, in _stream_results\n",
      "    user_callback(self.job_id(), _decoder.decode(response))\n",
      "TypeError: 'list' object is not callable\n",
      "\n",
      "runtime_job._stream_results:WARNING:2023-08-18 14:36:57,653: An error occurred while streaming results for job cjfhv4jie1jj2il9s3n0:\n",
      "Traceback (most recent call last):\n",
      "  File \"/home/gluonhiggs/.pyenv/versions/anaconda3-2023.03/envs/qiskit-runtime/lib/python3.10/site-packages/qiskit_ibm_runtime/runtime_job.py\", line 534, in _stream_results\n",
      "    user_callback(self.job_id(), _decoder.decode(response))\n",
      "TypeError: 'list' object is not callable\n",
      "\n",
      "runtime_job._stream_results:WARNING:2023-08-18 14:37:01,881: An error occurred while streaming results for job cjfhv6rie1jj2il9s7l0:\n",
      "Traceback (most recent call last):\n",
      "  File \"/home/gluonhiggs/.pyenv/versions/anaconda3-2023.03/envs/qiskit-runtime/lib/python3.10/site-packages/qiskit_ibm_runtime/runtime_job.py\", line 534, in _stream_results\n",
      "    user_callback(self.job_id(), _decoder.decode(response))\n",
      "TypeError: 'list' object is not callable\n",
      "\n"
     ]
    },
    {
     "name": "stdout",
     "output_type": "stream",
     "text": [
      "Evaluation 69: -1.066878333331182\n"
     ]
    },
    {
     "name": "stderr",
     "output_type": "stream",
     "text": [
      "runtime_job._stream_results:WARNING:2023-08-18 14:37:06,903: An error occurred while streaming results for job cjfhv7rie1jj2il9s8vg:\n",
      "Traceback (most recent call last):\n",
      "  File \"/home/gluonhiggs/.pyenv/versions/anaconda3-2023.03/envs/qiskit-runtime/lib/python3.10/site-packages/qiskit_ibm_runtime/runtime_job.py\", line 534, in _stream_results\n",
      "    user_callback(self.job_id(), _decoder.decode(response))\n",
      "TypeError: 'list' object is not callable\n",
      "\n",
      "runtime_job._stream_results:WARNING:2023-08-18 14:37:10,284: An error occurred while streaming results for job cjfhv957ui1f8qaub250:\n",
      "Traceback (most recent call last):\n",
      "  File \"/home/gluonhiggs/.pyenv/versions/anaconda3-2023.03/envs/qiskit-runtime/lib/python3.10/site-packages/qiskit_ibm_runtime/runtime_job.py\", line 534, in _stream_results\n",
      "    user_callback(self.job_id(), _decoder.decode(response))\n",
      "TypeError: 'list' object is not callable\n",
      "\n",
      "runtime_job._stream_results:WARNING:2023-08-18 14:37:24,317: An error occurred while streaming results for job cjfhvbs5hqba8918iujg:\n",
      "Traceback (most recent call last):\n",
      "  File \"/home/gluonhiggs/.pyenv/versions/anaconda3-2023.03/envs/qiskit-runtime/lib/python3.10/site-packages/qiskit_ibm_runtime/runtime_job.py\", line 534, in _stream_results\n",
      "    user_callback(self.job_id(), _decoder.decode(response))\n",
      "TypeError: 'list' object is not callable\n",
      "\n"
     ]
    },
    {
     "name": "stdout",
     "output_type": "stream",
     "text": [
      "Evaluation 72: -1.1655908436256006\n"
     ]
    },
    {
     "name": "stderr",
     "output_type": "stream",
     "text": [
      "runtime_job._stream_results:WARNING:2023-08-18 14:37:28,619: An error occurred while streaming results for job cjfhvdgcs414jvgqebf0:\n",
      "Traceback (most recent call last):\n",
      "  File \"/home/gluonhiggs/.pyenv/versions/anaconda3-2023.03/envs/qiskit-runtime/lib/python3.10/site-packages/qiskit_ibm_runtime/runtime_job.py\", line 534, in _stream_results\n",
      "    user_callback(self.job_id(), _decoder.decode(response))\n",
      "TypeError: 'list' object is not callable\n",
      "\n",
      "runtime_job._stream_results:WARNING:2023-08-18 14:37:32,514: An error occurred while streaming results for job cjfhvek5hqba8918j160:\n",
      "Traceback (most recent call last):\n",
      "  File \"/home/gluonhiggs/.pyenv/versions/anaconda3-2023.03/envs/qiskit-runtime/lib/python3.10/site-packages/qiskit_ibm_runtime/runtime_job.py\", line 534, in _stream_results\n",
      "    user_callback(self.job_id(), _decoder.decode(response))\n",
      "TypeError: 'list' object is not callable\n",
      "\n",
      "runtime_job._stream_results:WARNING:2023-08-18 14:37:41,423: An error occurred while streaming results for job cjfhvgs5hqba8918j3jg:\n",
      "Traceback (most recent call last):\n",
      "  File \"/home/gluonhiggs/.pyenv/versions/anaconda3-2023.03/envs/qiskit-runtime/lib/python3.10/site-packages/qiskit_ibm_runtime/runtime_job.py\", line 534, in _stream_results\n",
      "    user_callback(self.job_id(), _decoder.decode(response))\n",
      "TypeError: 'list' object is not callable\n",
      "\n"
     ]
    },
    {
     "name": "stdout",
     "output_type": "stream",
     "text": [
      "Evaluation 75: -1.1667886549905229\n"
     ]
    },
    {
     "name": "stderr",
     "output_type": "stream",
     "text": [
      "runtime_job._stream_results:WARNING:2023-08-18 14:37:45,623: An error occurred while streaming results for job cjfhvhgcs414jvgqegjg:\n",
      "Traceback (most recent call last):\n",
      "  File \"/home/gluonhiggs/.pyenv/versions/anaconda3-2023.03/envs/qiskit-runtime/lib/python3.10/site-packages/qiskit_ibm_runtime/runtime_job.py\", line 534, in _stream_results\n",
      "    user_callback(self.job_id(), _decoder.decode(response))\n",
      "TypeError: 'list' object is not callable\n",
      "\n",
      "runtime_job._stream_results:WARNING:2023-08-18 14:37:51,163: An error occurred while streaming results for job cjfhvinbq0tlksv8ihb0:\n",
      "Traceback (most recent call last):\n",
      "  File \"/home/gluonhiggs/.pyenv/versions/anaconda3-2023.03/envs/qiskit-runtime/lib/python3.10/site-packages/qiskit_ibm_runtime/runtime_job.py\", line 534, in _stream_results\n",
      "    user_callback(self.job_id(), _decoder.decode(response))\n",
      "TypeError: 'list' object is not callable\n",
      "\n",
      "runtime_job._stream_results:WARNING:2023-08-18 14:37:54,648: An error occurred while streaming results for job cjfhvk0cs414jvgqejjg:\n",
      "Traceback (most recent call last):\n",
      "  File \"/home/gluonhiggs/.pyenv/versions/anaconda3-2023.03/envs/qiskit-runtime/lib/python3.10/site-packages/qiskit_ibm_runtime/runtime_job.py\", line 534, in _stream_results\n",
      "    user_callback(self.job_id(), _decoder.decode(response))\n",
      "TypeError: 'list' object is not callable\n",
      "\n"
     ]
    },
    {
     "name": "stdout",
     "output_type": "stream",
     "text": [
      "Evaluation 78: -1.1721732689422844\n"
     ]
    },
    {
     "name": "stderr",
     "output_type": "stream",
     "text": [
      "runtime_job._stream_results:WARNING:2023-08-18 14:38:01,297: An error occurred while streaming results for job cjfhvlrie1jj2il9sqag:\n",
      "Traceback (most recent call last):\n",
      "  File \"/home/gluonhiggs/.pyenv/versions/anaconda3-2023.03/envs/qiskit-runtime/lib/python3.10/site-packages/qiskit_ibm_runtime/runtime_job.py\", line 534, in _stream_results\n",
      "    user_callback(self.job_id(), _decoder.decode(response))\n",
      "TypeError: 'list' object is not callable\n",
      "\n",
      "runtime_job._stream_results:WARNING:2023-08-18 14:38:04,675: An error occurred while streaming results for job cjfhvmn6dei0664lof2g:\n",
      "Traceback (most recent call last):\n",
      "  File \"/home/gluonhiggs/.pyenv/versions/anaconda3-2023.03/envs/qiskit-runtime/lib/python3.10/site-packages/qiskit_ibm_runtime/runtime_job.py\", line 534, in _stream_results\n",
      "    user_callback(self.job_id(), _decoder.decode(response))\n",
      "TypeError: 'list' object is not callable\n",
      "\n",
      "runtime_job._stream_results:WARNING:2023-08-18 14:38:08,100: An error occurred while streaming results for job cjfhvn8cs414jvgqen4g:\n",
      "Traceback (most recent call last):\n",
      "  File \"/home/gluonhiggs/.pyenv/versions/anaconda3-2023.03/envs/qiskit-runtime/lib/python3.10/site-packages/qiskit_ibm_runtime/runtime_job.py\", line 534, in _stream_results\n",
      "    user_callback(self.job_id(), _decoder.decode(response))\n",
      "TypeError: 'list' object is not callable\n",
      "\n"
     ]
    },
    {
     "name": "stdout",
     "output_type": "stream",
     "text": [
      "Evaluation 81: -1.1739879494285075\n"
     ]
    },
    {
     "name": "stderr",
     "output_type": "stream",
     "text": [
      "runtime_job._stream_results:WARNING:2023-08-18 14:38:11,739: An error occurred while streaming results for job cjfhvoc5hqba8918jbc0:\n",
      "Traceback (most recent call last):\n",
      "  File \"/home/gluonhiggs/.pyenv/versions/anaconda3-2023.03/envs/qiskit-runtime/lib/python3.10/site-packages/qiskit_ibm_runtime/runtime_job.py\", line 534, in _stream_results\n",
      "    user_callback(self.job_id(), _decoder.decode(response))\n",
      "TypeError: 'list' object is not callable\n",
      "\n",
      "runtime_job._stream_results:WARNING:2023-08-18 14:38:15,525: An error occurred while streaming results for job cjfhvpbie1jj2il9sv2g:\n",
      "Traceback (most recent call last):\n",
      "  File \"/home/gluonhiggs/.pyenv/versions/anaconda3-2023.03/envs/qiskit-runtime/lib/python3.10/site-packages/qiskit_ibm_runtime/runtime_job.py\", line 534, in _stream_results\n",
      "    user_callback(self.job_id(), _decoder.decode(response))\n",
      "TypeError: 'list' object is not callable\n",
      "\n",
      "runtime_job._stream_results:WARNING:2023-08-18 14:38:23,610: An error occurred while streaming results for job cjfhvrc5hqba8918jfj0:\n",
      "Traceback (most recent call last):\n",
      "  File \"/home/gluonhiggs/.pyenv/versions/anaconda3-2023.03/envs/qiskit-runtime/lib/python3.10/site-packages/qiskit_ibm_runtime/runtime_job.py\", line 534, in _stream_results\n",
      "    user_callback(self.job_id(), _decoder.decode(response))\n",
      "TypeError: 'list' object is not callable\n",
      "\n"
     ]
    },
    {
     "name": "stdout",
     "output_type": "stream",
     "text": [
      "Evaluation 84: -1.3014594551407261\n"
     ]
    },
    {
     "name": "stderr",
     "output_type": "stream",
     "text": [
      "runtime_job._stream_results:WARNING:2023-08-18 14:38:35,196: An error occurred while streaming results for job cjfhvubie1jj2il9t4c0:\n",
      "Traceback (most recent call last):\n",
      "  File \"/home/gluonhiggs/.pyenv/versions/anaconda3-2023.03/envs/qiskit-runtime/lib/python3.10/site-packages/qiskit_ibm_runtime/runtime_job.py\", line 534, in _stream_results\n",
      "    user_callback(self.job_id(), _decoder.decode(response))\n",
      "TypeError: 'list' object is not callable\n",
      "\n",
      "runtime_job._stream_results:WARNING:2023-08-18 14:38:38,681: An error occurred while streaming results for job cjfhvv45hqba8918jjjg:\n",
      "Traceback (most recent call last):\n",
      "  File \"/home/gluonhiggs/.pyenv/versions/anaconda3-2023.03/envs/qiskit-runtime/lib/python3.10/site-packages/qiskit_ibm_runtime/runtime_job.py\", line 534, in _stream_results\n",
      "    user_callback(self.job_id(), _decoder.decode(response))\n",
      "TypeError: 'list' object is not callable\n",
      "\n",
      "runtime_job._stream_results:WARNING:2023-08-18 14:38:42,366: An error occurred while streaming results for job cjfi0057ui1f8qaubpug:\n",
      "Traceback (most recent call last):\n",
      "  File \"/home/gluonhiggs/.pyenv/versions/anaconda3-2023.03/envs/qiskit-runtime/lib/python3.10/site-packages/qiskit_ibm_runtime/runtime_job.py\", line 534, in _stream_results\n",
      "    user_callback(self.job_id(), _decoder.decode(response))\n",
      "TypeError: 'list' object is not callable\n",
      "\n"
     ]
    },
    {
     "name": "stdout",
     "output_type": "stream",
     "text": [
      "Evaluation 87: -1.3049120961112046\n"
     ]
    },
    {
     "name": "stderr",
     "output_type": "stream",
     "text": [
      "runtime_job._stream_results:WARNING:2023-08-18 14:38:46,009: An error occurred while streaming results for job cjfi00s5hqba8918jmgg:\n",
      "Traceback (most recent call last):\n",
      "  File \"/home/gluonhiggs/.pyenv/versions/anaconda3-2023.03/envs/qiskit-runtime/lib/python3.10/site-packages/qiskit_ibm_runtime/runtime_job.py\", line 534, in _stream_results\n",
      "    user_callback(self.job_id(), _decoder.decode(response))\n",
      "TypeError: 'list' object is not callable\n",
      "\n",
      "runtime_job._stream_results:WARNING:2023-08-18 14:38:49,641: An error occurred while streaming results for job cjfi01rie1jj2il9t9pg:\n",
      "Traceback (most recent call last):\n",
      "  File \"/home/gluonhiggs/.pyenv/versions/anaconda3-2023.03/envs/qiskit-runtime/lib/python3.10/site-packages/qiskit_ibm_runtime/runtime_job.py\", line 534, in _stream_results\n",
      "    user_callback(self.job_id(), _decoder.decode(response))\n",
      "TypeError: 'list' object is not callable\n",
      "\n",
      "runtime_job._stream_results:WARNING:2023-08-18 14:38:53,325: An error occurred while streaming results for job cjfi02k5hqba8918jobg:\n",
      "Traceback (most recent call last):\n",
      "  File \"/home/gluonhiggs/.pyenv/versions/anaconda3-2023.03/envs/qiskit-runtime/lib/python3.10/site-packages/qiskit_ibm_runtime/runtime_job.py\", line 534, in _stream_results\n",
      "    user_callback(self.job_id(), _decoder.decode(response))\n",
      "TypeError: 'list' object is not callable\n",
      "\n"
     ]
    },
    {
     "name": "stdout",
     "output_type": "stream",
     "text": [
      "Evaluation 90: -1.2937615041316728\n"
     ]
    },
    {
     "name": "stderr",
     "output_type": "stream",
     "text": [
      "runtime_job._stream_results:WARNING:2023-08-18 14:38:56,704: An error occurred while streaming results for job cjfi03jie1jj2il9tc0g:\n",
      "Traceback (most recent call last):\n",
      "  File \"/home/gluonhiggs/.pyenv/versions/anaconda3-2023.03/envs/qiskit-runtime/lib/python3.10/site-packages/qiskit_ibm_runtime/runtime_job.py\", line 534, in _stream_results\n",
      "    user_callback(self.job_id(), _decoder.decode(response))\n",
      "TypeError: 'list' object is not callable\n",
      "\n",
      "runtime_job._stream_results:WARNING:2023-08-18 14:38:59,894: An error occurred while streaming results for job cjfi04f6dei0664louqg:\n",
      "Traceback (most recent call last):\n",
      "  File \"/home/gluonhiggs/.pyenv/versions/anaconda3-2023.03/envs/qiskit-runtime/lib/python3.10/site-packages/qiskit_ibm_runtime/runtime_job.py\", line 534, in _stream_results\n",
      "    user_callback(self.job_id(), _decoder.decode(response))\n",
      "TypeError: 'list' object is not callable\n",
      "\n",
      "runtime_job._stream_results:WARNING:2023-08-18 14:39:08,596: An error occurred while streaming results for job cjfi06k5hqba8918jseg:\n",
      "Traceback (most recent call last):\n",
      "  File \"/home/gluonhiggs/.pyenv/versions/anaconda3-2023.03/envs/qiskit-runtime/lib/python3.10/site-packages/qiskit_ibm_runtime/runtime_job.py\", line 534, in _stream_results\n",
      "    user_callback(self.job_id(), _decoder.decode(response))\n",
      "TypeError: 'list' object is not callable\n",
      "\n"
     ]
    },
    {
     "name": "stdout",
     "output_type": "stream",
     "text": [
      "Evaluation 93: -1.3156373301047732\n"
     ]
    },
    {
     "name": "stderr",
     "output_type": "stream",
     "text": [
      "runtime_job._stream_results:WARNING:2023-08-18 14:39:12,172: An error occurred while streaming results for job cjfi078cs414jvgqf9p0:\n",
      "Traceback (most recent call last):\n",
      "  File \"/home/gluonhiggs/.pyenv/versions/anaconda3-2023.03/envs/qiskit-runtime/lib/python3.10/site-packages/qiskit_ibm_runtime/runtime_job.py\", line 534, in _stream_results\n",
      "    user_callback(self.job_id(), _decoder.decode(response))\n",
      "TypeError: 'list' object is not callable\n",
      "\n",
      "runtime_job._stream_results:WARNING:2023-08-18 14:39:19,549: An error occurred while streaming results for job cjfi09f6dei0664lp4d0:\n",
      "Traceback (most recent call last):\n",
      "  File \"/home/gluonhiggs/.pyenv/versions/anaconda3-2023.03/envs/qiskit-runtime/lib/python3.10/site-packages/qiskit_ibm_runtime/runtime_job.py\", line 534, in _stream_results\n",
      "    user_callback(self.job_id(), _decoder.decode(response))\n",
      "TypeError: 'list' object is not callable\n",
      "\n",
      "runtime_job._stream_results:WARNING:2023-08-18 14:39:35,198: An error occurred while streaming results for job cjfi0bc5hqba8918k2ig:\n",
      "Traceback (most recent call last):\n",
      "  File \"/home/gluonhiggs/.pyenv/versions/anaconda3-2023.03/envs/qiskit-runtime/lib/python3.10/site-packages/qiskit_ibm_runtime/runtime_job.py\", line 534, in _stream_results\n",
      "    user_callback(self.job_id(), _decoder.decode(response))\n",
      "TypeError: 'list' object is not callable\n",
      "\n"
     ]
    },
    {
     "name": "stdout",
     "output_type": "stream",
     "text": [
      "Evaluation 96: -1.4052848351397305\n"
     ]
    },
    {
     "name": "stderr",
     "output_type": "stream",
     "text": [
      "runtime_job._stream_results:WARNING:2023-08-18 14:39:39,545: An error occurred while streaming results for job cjfi0e45hqba8918k6s0:\n",
      "Traceback (most recent call last):\n",
      "  File \"/home/gluonhiggs/.pyenv/versions/anaconda3-2023.03/envs/qiskit-runtime/lib/python3.10/site-packages/qiskit_ibm_runtime/runtime_job.py\", line 534, in _stream_results\n",
      "    user_callback(self.job_id(), _decoder.decode(response))\n",
      "TypeError: 'list' object is not callable\n",
      "\n",
      "runtime_job._stream_results:WARNING:2023-08-18 14:39:43,509: An error occurred while streaming results for job cjfi0f57ui1f8qauc8g0:\n",
      "Traceback (most recent call last):\n",
      "  File \"/home/gluonhiggs/.pyenv/versions/anaconda3-2023.03/envs/qiskit-runtime/lib/python3.10/site-packages/qiskit_ibm_runtime/runtime_job.py\", line 534, in _stream_results\n",
      "    user_callback(self.job_id(), _decoder.decode(response))\n",
      "TypeError: 'list' object is not callable\n",
      "\n",
      "runtime_job._stream_results:WARNING:2023-08-18 14:39:49,961: An error occurred while streaming results for job cjfi0gocs414jvgqfk30:\n",
      "Traceback (most recent call last):\n",
      "  File \"/home/gluonhiggs/.pyenv/versions/anaconda3-2023.03/envs/qiskit-runtime/lib/python3.10/site-packages/qiskit_ibm_runtime/runtime_job.py\", line 534, in _stream_results\n",
      "    user_callback(self.job_id(), _decoder.decode(response))\n",
      "TypeError: 'list' object is not callable\n",
      "\n"
     ]
    },
    {
     "name": "stdout",
     "output_type": "stream",
     "text": [
      "Evaluation 99: -1.3769582968153584\n"
     ]
    },
    {
     "name": "stderr",
     "output_type": "stream",
     "text": [
      "runtime_job._stream_results:WARNING:2023-08-18 14:39:53,546: An error occurred while streaming results for job cjfi0hocs414jvgqfl2g:\n",
      "Traceback (most recent call last):\n",
      "  File \"/home/gluonhiggs/.pyenv/versions/anaconda3-2023.03/envs/qiskit-runtime/lib/python3.10/site-packages/qiskit_ibm_runtime/runtime_job.py\", line 534, in _stream_results\n",
      "    user_callback(self.job_id(), _decoder.decode(response))\n",
      "TypeError: 'list' object is not callable\n",
      "\n",
      "runtime_job._stream_results:WARNING:2023-08-18 14:39:58,154: An error occurred while streaming results for job cjfi0irie1jj2il9tv8g:\n",
      "Traceback (most recent call last):\n",
      "  File \"/home/gluonhiggs/.pyenv/versions/anaconda3-2023.03/envs/qiskit-runtime/lib/python3.10/site-packages/qiskit_ibm_runtime/runtime_job.py\", line 534, in _stream_results\n",
      "    user_callback(self.job_id(), _decoder.decode(response))\n",
      "TypeError: 'list' object is not callable\n",
      "\n",
      "runtime_job._stream_results:WARNING:2023-08-18 14:40:01,588: An error occurred while streaming results for job cjfi0jvbq0tlksv8jn60:\n",
      "Traceback (most recent call last):\n",
      "  File \"/home/gluonhiggs/.pyenv/versions/anaconda3-2023.03/envs/qiskit-runtime/lib/python3.10/site-packages/qiskit_ibm_runtime/runtime_job.py\", line 534, in _stream_results\n",
      "    user_callback(self.job_id(), _decoder.decode(response))\n",
      "TypeError: 'list' object is not callable\n",
      "\n"
     ]
    },
    {
     "name": "stdout",
     "output_type": "stream",
     "text": [
      "Evaluation 102: -1.3897555170330962\n"
     ]
    },
    {
     "name": "stderr",
     "output_type": "stream",
     "text": [
      "runtime_job._stream_results:WARNING:2023-08-18 14:40:07,066: An error occurred while streaming results for job cjfi0l7bq0tlksv8jobg:\n",
      "Traceback (most recent call last):\n",
      "  File \"/home/gluonhiggs/.pyenv/versions/anaconda3-2023.03/envs/qiskit-runtime/lib/python3.10/site-packages/qiskit_ibm_runtime/runtime_job.py\", line 534, in _stream_results\n",
      "    user_callback(self.job_id(), _decoder.decode(response))\n",
      "TypeError: 'list' object is not callable\n",
      "\n",
      "runtime_job._stream_results:WARNING:2023-08-18 14:40:11,058: An error occurred while streaming results for job cjfi0m76dei0664lpg9g:\n",
      "Traceback (most recent call last):\n",
      "  File \"/home/gluonhiggs/.pyenv/versions/anaconda3-2023.03/envs/qiskit-runtime/lib/python3.10/site-packages/qiskit_ibm_runtime/runtime_job.py\", line 534, in _stream_results\n",
      "    user_callback(self.job_id(), _decoder.decode(response))\n",
      "TypeError: 'list' object is not callable\n",
      "\n",
      "runtime_job._stream_results:WARNING:2023-08-18 14:40:19,530: An error occurred while streaming results for job cjfi0ofbq0tlksv8jrh0:\n",
      "Traceback (most recent call last):\n",
      "  File \"/home/gluonhiggs/.pyenv/versions/anaconda3-2023.03/envs/qiskit-runtime/lib/python3.10/site-packages/qiskit_ibm_runtime/runtime_job.py\", line 534, in _stream_results\n",
      "    user_callback(self.job_id(), _decoder.decode(response))\n",
      "TypeError: 'list' object is not callable\n",
      "\n"
     ]
    },
    {
     "name": "stdout",
     "output_type": "stream",
     "text": [
      "Evaluation 105: -1.3900063235434166\n"
     ]
    },
    {
     "name": "stderr",
     "output_type": "stream",
     "text": [
      "runtime_job._stream_results:WARNING:2023-08-18 14:40:27,956: An error occurred while streaming results for job cjfi0qd7ui1f8qauciqg:\n",
      "Traceback (most recent call last):\n",
      "  File \"/home/gluonhiggs/.pyenv/versions/anaconda3-2023.03/envs/qiskit-runtime/lib/python3.10/site-packages/qiskit_ibm_runtime/runtime_job.py\", line 534, in _stream_results\n",
      "    user_callback(self.job_id(), _decoder.decode(response))\n",
      "TypeError: 'list' object is not callable\n",
      "\n",
      "runtime_job._stream_results:WARNING:2023-08-18 14:40:31,541: An error occurred while streaming results for job cjfi0rfbq0tlksv8jvg0:\n",
      "Traceback (most recent call last):\n",
      "  File \"/home/gluonhiggs/.pyenv/versions/anaconda3-2023.03/envs/qiskit-runtime/lib/python3.10/site-packages/qiskit_ibm_runtime/runtime_job.py\", line 534, in _stream_results\n",
      "    user_callback(self.job_id(), _decoder.decode(response))\n",
      "TypeError: 'list' object is not callable\n",
      "\n",
      "runtime_job._stream_results:WARNING:2023-08-18 14:40:39,017: An error occurred while streaming results for job cjfi0t7bq0tlksv8k250:\n",
      "Traceback (most recent call last):\n",
      "  File \"/home/gluonhiggs/.pyenv/versions/anaconda3-2023.03/envs/qiskit-runtime/lib/python3.10/site-packages/qiskit_ibm_runtime/runtime_job.py\", line 534, in _stream_results\n",
      "    user_callback(self.job_id(), _decoder.decode(response))\n",
      "TypeError: 'list' object is not callable\n",
      "\n"
     ]
    },
    {
     "name": "stdout",
     "output_type": "stream",
     "text": [
      "Evaluation 108: -1.572180172829861\n"
     ]
    },
    {
     "name": "stderr",
     "output_type": "stream",
     "text": [
      "runtime_job._stream_results:WARNING:2023-08-18 14:40:42,704: An error occurred while streaming results for job cjfi0u45hqba8918ko7g:\n",
      "Traceback (most recent call last):\n",
      "  File \"/home/gluonhiggs/.pyenv/versions/anaconda3-2023.03/envs/qiskit-runtime/lib/python3.10/site-packages/qiskit_ibm_runtime/runtime_job.py\", line 534, in _stream_results\n",
      "    user_callback(self.job_id(), _decoder.decode(response))\n",
      "TypeError: 'list' object is not callable\n",
      "\n",
      "runtime_job._stream_results:WARNING:2023-08-18 14:40:46,699: An error occurred while streaming results for job cjfi0urie1jj2il9uelg:\n",
      "Traceback (most recent call last):\n",
      "  File \"/home/gluonhiggs/.pyenv/versions/anaconda3-2023.03/envs/qiskit-runtime/lib/python3.10/site-packages/qiskit_ibm_runtime/runtime_job.py\", line 534, in _stream_results\n",
      "    user_callback(self.job_id(), _decoder.decode(response))\n",
      "TypeError: 'list' object is not callable\n",
      "\n",
      "runtime_job._stream_results:WARNING:2023-08-18 14:40:50,282: An error occurred while streaming results for job cjfi100cs414jvgqg46g:\n",
      "Traceback (most recent call last):\n",
      "  File \"/home/gluonhiggs/.pyenv/versions/anaconda3-2023.03/envs/qiskit-runtime/lib/python3.10/site-packages/qiskit_ibm_runtime/runtime_job.py\", line 534, in _stream_results\n",
      "    user_callback(self.job_id(), _decoder.decode(response))\n",
      "TypeError: 'list' object is not callable\n",
      "\n"
     ]
    },
    {
     "name": "stdout",
     "output_type": "stream",
     "text": [
      "Evaluation 111: -1.5920706091555559\n"
     ]
    },
    {
     "name": "stderr",
     "output_type": "stream",
     "text": [
      "runtime_job._stream_results:WARNING:2023-08-18 14:40:53,720: An error occurred while streaming results for job cjfi10t7ui1f8qaucp70:\n",
      "Traceback (most recent call last):\n",
      "  File \"/home/gluonhiggs/.pyenv/versions/anaconda3-2023.03/envs/qiskit-runtime/lib/python3.10/site-packages/qiskit_ibm_runtime/runtime_job.py\", line 534, in _stream_results\n",
      "    user_callback(self.job_id(), _decoder.decode(response))\n",
      "TypeError: 'list' object is not callable\n",
      "\n",
      "runtime_job._stream_results:WARNING:2023-08-18 14:41:03,084: An error occurred while streaming results for job cjfi130cs414jvgqg860:\n",
      "Traceback (most recent call last):\n",
      "  File \"/home/gluonhiggs/.pyenv/versions/anaconda3-2023.03/envs/qiskit-runtime/lib/python3.10/site-packages/qiskit_ibm_runtime/runtime_job.py\", line 534, in _stream_results\n",
      "    user_callback(self.job_id(), _decoder.decode(response))\n",
      "TypeError: 'list' object is not callable\n",
      "\n",
      "runtime_job._stream_results:WARNING:2023-08-18 14:41:11,646: An error occurred while streaming results for job cjfi15fbq0tlksv8k9lg:\n",
      "Traceback (most recent call last):\n",
      "  File \"/home/gluonhiggs/.pyenv/versions/anaconda3-2023.03/envs/qiskit-runtime/lib/python3.10/site-packages/qiskit_ibm_runtime/runtime_job.py\", line 534, in _stream_results\n",
      "    user_callback(self.job_id(), _decoder.decode(response))\n",
      "TypeError: 'list' object is not callable\n",
      "\n"
     ]
    },
    {
     "name": "stdout",
     "output_type": "stream",
     "text": [
      "Evaluation 114: -1.597736670970153\n"
     ]
    },
    {
     "name": "stderr",
     "output_type": "stream",
     "text": [
      "runtime_job._stream_results:WARNING:2023-08-18 14:41:19,674: An error occurred while streaming results for job cjfi177bq0tlksv8kb7g:\n",
      "Traceback (most recent call last):\n",
      "  File \"/home/gluonhiggs/.pyenv/versions/anaconda3-2023.03/envs/qiskit-runtime/lib/python3.10/site-packages/qiskit_ibm_runtime/runtime_job.py\", line 534, in _stream_results\n",
      "    user_callback(self.job_id(), _decoder.decode(response))\n",
      "TypeError: 'list' object is not callable\n",
      "\n",
      "runtime_job._stream_results:WARNING:2023-08-18 14:41:28,482: An error occurred while streaming results for job cjfi19gcs414jvgqgdvg:\n",
      "Traceback (most recent call last):\n",
      "  File \"/home/gluonhiggs/.pyenv/versions/anaconda3-2023.03/envs/qiskit-runtime/lib/python3.10/site-packages/qiskit_ibm_runtime/runtime_job.py\", line 534, in _stream_results\n",
      "    user_callback(self.job_id(), _decoder.decode(response))\n",
      "TypeError: 'list' object is not callable\n",
      "\n",
      "runtime_job._stream_results:WARNING:2023-08-18 14:41:32,583: An error occurred while streaming results for job cjfi1af6dei0664lq5l0:\n",
      "Traceback (most recent call last):\n",
      "  File \"/home/gluonhiggs/.pyenv/versions/anaconda3-2023.03/envs/qiskit-runtime/lib/python3.10/site-packages/qiskit_ibm_runtime/runtime_job.py\", line 534, in _stream_results\n",
      "    user_callback(self.job_id(), _decoder.decode(response))\n",
      "TypeError: 'list' object is not callable\n",
      "\n"
     ]
    },
    {
     "name": "stdout",
     "output_type": "stream",
     "text": [
      "Evaluation 117: -1.4669191657069895\n"
     ]
    },
    {
     "name": "stderr",
     "output_type": "stream",
     "text": [
      "runtime_job._stream_results:WARNING:2023-08-18 14:41:40,156: An error occurred while streaming results for job cjfi1cbie1jj2il9utq0:\n",
      "Traceback (most recent call last):\n",
      "  File \"/home/gluonhiggs/.pyenv/versions/anaconda3-2023.03/envs/qiskit-runtime/lib/python3.10/site-packages/qiskit_ibm_runtime/runtime_job.py\", line 534, in _stream_results\n",
      "    user_callback(self.job_id(), _decoder.decode(response))\n",
      "TypeError: 'list' object is not callable\n",
      "\n",
      "runtime_job._stream_results:WARNING:2023-08-18 14:41:48,554: An error occurred while streaming results for job cjfi1ejie1jj2il9v0k0:\n",
      "Traceback (most recent call last):\n",
      "  File \"/home/gluonhiggs/.pyenv/versions/anaconda3-2023.03/envs/qiskit-runtime/lib/python3.10/site-packages/qiskit_ibm_runtime/runtime_job.py\", line 534, in _stream_results\n",
      "    user_callback(self.job_id(), _decoder.decode(response))\n",
      "TypeError: 'list' object is not callable\n",
      "\n",
      "runtime_job._stream_results:WARNING:2023-08-18 14:41:53,059: An error occurred while streaming results for job cjfi1fjie1jj2il9v2d0:\n",
      "Traceback (most recent call last):\n",
      "  File \"/home/gluonhiggs/.pyenv/versions/anaconda3-2023.03/envs/qiskit-runtime/lib/python3.10/site-packages/qiskit_ibm_runtime/runtime_job.py\", line 534, in _stream_results\n",
      "    user_callback(self.job_id(), _decoder.decode(response))\n",
      "TypeError: 'list' object is not callable\n",
      "\n"
     ]
    },
    {
     "name": "stdout",
     "output_type": "stream",
     "text": [
      "Evaluation 120: -1.6052566443142513\n"
     ]
    },
    {
     "name": "stderr",
     "output_type": "stream",
     "text": [
      "runtime_job._stream_results:WARNING:2023-08-18 14:41:57,566: An error occurred while streaming results for job cjfi1gjie1jj2il9v3rg:\n",
      "Traceback (most recent call last):\n",
      "  File \"/home/gluonhiggs/.pyenv/versions/anaconda3-2023.03/envs/qiskit-runtime/lib/python3.10/site-packages/qiskit_ibm_runtime/runtime_job.py\", line 534, in _stream_results\n",
      "    user_callback(self.job_id(), _decoder.decode(response))\n",
      "TypeError: 'list' object is not callable\n",
      "\n",
      "runtime_job._stream_results:WARNING:2023-08-18 14:42:09,753: An error occurred while streaming results for job cjfi1hgcs414jvgqgnu0:\n",
      "Traceback (most recent call last):\n",
      "  File \"/home/gluonhiggs/.pyenv/versions/anaconda3-2023.03/envs/qiskit-runtime/lib/python3.10/site-packages/qiskit_ibm_runtime/runtime_job.py\", line 534, in _stream_results\n",
      "    user_callback(self.job_id(), _decoder.decode(response))\n",
      "TypeError: 'list' object is not callable\n",
      "\n",
      "runtime_job._stream_results:WARNING:2023-08-18 14:42:18,969: An error occurred while streaming results for job cjfi1m3ie1jj2il9va2g:\n",
      "Traceback (most recent call last):\n",
      "  File \"/home/gluonhiggs/.pyenv/versions/anaconda3-2023.03/envs/qiskit-runtime/lib/python3.10/site-packages/qiskit_ibm_runtime/runtime_job.py\", line 534, in _stream_results\n",
      "    user_callback(self.job_id(), _decoder.decode(response))\n",
      "TypeError: 'list' object is not callable\n",
      "\n"
     ]
    },
    {
     "name": "stdout",
     "output_type": "stream",
     "text": [
      "Evaluation 123: -1.6299693260517698\n"
     ]
    },
    {
     "name": "stderr",
     "output_type": "stream",
     "text": [
      "runtime_job._stream_results:WARNING:2023-08-18 14:42:22,143: An error occurred while streaming results for job cjfi1n3ie1jj2il9vbng:\n",
      "Traceback (most recent call last):\n",
      "  File \"/home/gluonhiggs/.pyenv/versions/anaconda3-2023.03/envs/qiskit-runtime/lib/python3.10/site-packages/qiskit_ibm_runtime/runtime_job.py\", line 534, in _stream_results\n",
      "    user_callback(self.job_id(), _decoder.decode(response))\n",
      "TypeError: 'list' object is not callable\n",
      "\n",
      "runtime_job._stream_results:WARNING:2023-08-18 14:42:26,548: An error occurred while streaming results for job cjfi1nrie1jj2il9vck0:\n",
      "Traceback (most recent call last):\n",
      "  File \"/home/gluonhiggs/.pyenv/versions/anaconda3-2023.03/envs/qiskit-runtime/lib/python3.10/site-packages/qiskit_ibm_runtime/runtime_job.py\", line 534, in _stream_results\n",
      "    user_callback(self.job_id(), _decoder.decode(response))\n",
      "TypeError: 'list' object is not callable\n",
      "\n",
      "runtime_job._stream_results:WARNING:2023-08-18 14:42:30,757: An error occurred while streaming results for job cjfi1ot7ui1f8qaudgm0:\n",
      "Traceback (most recent call last):\n",
      "  File \"/home/gluonhiggs/.pyenv/versions/anaconda3-2023.03/envs/qiskit-runtime/lib/python3.10/site-packages/qiskit_ibm_runtime/runtime_job.py\", line 534, in _stream_results\n",
      "    user_callback(self.job_id(), _decoder.decode(response))\n",
      "TypeError: 'list' object is not callable\n",
      "\n"
     ]
    },
    {
     "name": "stdout",
     "output_type": "stream",
     "text": [
      "Evaluation 126: -1.7669096186037365\n"
     ]
    },
    {
     "name": "stderr",
     "output_type": "stream",
     "text": [
      "runtime_job._stream_results:WARNING:2023-08-18 14:42:34,276: An error occurred while streaming results for job cjfi1q57ui1f8qaudhig:\n",
      "Traceback (most recent call last):\n",
      "  File \"/home/gluonhiggs/.pyenv/versions/anaconda3-2023.03/envs/qiskit-runtime/lib/python3.10/site-packages/qiskit_ibm_runtime/runtime_job.py\", line 534, in _stream_results\n",
      "    user_callback(self.job_id(), _decoder.decode(response))\n",
      "TypeError: 'list' object is not callable\n",
      "\n",
      "runtime_job._stream_results:WARNING:2023-08-18 14:42:43,035: An error occurred while streaming results for job cjfi1rvbq0tlksv8l2j0:\n",
      "Traceback (most recent call last):\n",
      "  File \"/home/gluonhiggs/.pyenv/versions/anaconda3-2023.03/envs/qiskit-runtime/lib/python3.10/site-packages/qiskit_ibm_runtime/runtime_job.py\", line 534, in _stream_results\n",
      "    user_callback(self.job_id(), _decoder.decode(response))\n",
      "TypeError: 'list' object is not callable\n",
      "\n",
      "runtime_job._stream_results:WARNING:2023-08-18 14:42:48,053: An error occurred while streaming results for job cjfi1t57ui1f8qaudkj0:\n",
      "Traceback (most recent call last):\n",
      "  File \"/home/gluonhiggs/.pyenv/versions/anaconda3-2023.03/envs/qiskit-runtime/lib/python3.10/site-packages/qiskit_ibm_runtime/runtime_job.py\", line 534, in _stream_results\n",
      "    user_callback(self.job_id(), _decoder.decode(response))\n",
      "TypeError: 'list' object is not callable\n",
      "\n"
     ]
    },
    {
     "name": "stdout",
     "output_type": "stream",
     "text": [
      "Evaluation 129: -1.7612073752221384\n"
     ]
    },
    {
     "name": "stderr",
     "output_type": "stream",
     "text": [
      "runtime_job._stream_results:WARNING:2023-08-18 14:42:52,149: An error occurred while streaming results for job cjfi1ud7ui1f8qaudlog:\n",
      "Traceback (most recent call last):\n",
      "  File \"/home/gluonhiggs/.pyenv/versions/anaconda3-2023.03/envs/qiskit-runtime/lib/python3.10/site-packages/qiskit_ibm_runtime/runtime_job.py\", line 534, in _stream_results\n",
      "    user_callback(self.job_id(), _decoder.decode(response))\n",
      "TypeError: 'list' object is not callable\n",
      "\n",
      "runtime_job._stream_results:WARNING:2023-08-18 14:42:55,562: An error occurred while streaming results for job cjfi1v8cs414jvgqh5hg:\n",
      "Traceback (most recent call last):\n",
      "  File \"/home/gluonhiggs/.pyenv/versions/anaconda3-2023.03/envs/qiskit-runtime/lib/python3.10/site-packages/qiskit_ibm_runtime/runtime_job.py\", line 534, in _stream_results\n",
      "    user_callback(self.job_id(), _decoder.decode(response))\n",
      "TypeError: 'list' object is not callable\n",
      "\n",
      "runtime_job._stream_results:WARNING:2023-08-18 14:43:02,082: An error occurred while streaming results for job cjfi2157ui1f8qaudnqg:\n",
      "Traceback (most recent call last):\n",
      "  File \"/home/gluonhiggs/.pyenv/versions/anaconda3-2023.03/envs/qiskit-runtime/lib/python3.10/site-packages/qiskit_ibm_runtime/runtime_job.py\", line 534, in _stream_results\n",
      "    user_callback(self.job_id(), _decoder.decode(response))\n",
      "TypeError: 'list' object is not callable\n",
      "\n"
     ]
    },
    {
     "name": "stdout",
     "output_type": "stream",
     "text": [
      "Evaluation 132: -1.7666963292474236\n"
     ]
    },
    {
     "name": "stderr",
     "output_type": "stream",
     "text": [
      "runtime_job._stream_results:WARNING:2023-08-18 14:43:05,871: An error occurred while streaming results for job cjfi21s5hqba8918m230:\n",
      "Traceback (most recent call last):\n",
      "  File \"/home/gluonhiggs/.pyenv/versions/anaconda3-2023.03/envs/qiskit-runtime/lib/python3.10/site-packages/qiskit_ibm_runtime/runtime_job.py\", line 534, in _stream_results\n",
      "    user_callback(self.job_id(), _decoder.decode(response))\n",
      "TypeError: 'list' object is not callable\n",
      "\n",
      "runtime_job._stream_results:WARNING:2023-08-18 14:43:10,275: An error occurred while streaming results for job cjfi22t7ui1f8qaudpr0:\n",
      "Traceback (most recent call last):\n",
      "  File \"/home/gluonhiggs/.pyenv/versions/anaconda3-2023.03/envs/qiskit-runtime/lib/python3.10/site-packages/qiskit_ibm_runtime/runtime_job.py\", line 534, in _stream_results\n",
      "    user_callback(self.job_id(), _decoder.decode(response))\n",
      "TypeError: 'list' object is not callable\n",
      "\n",
      "runtime_job._stream_results:WARNING:2023-08-18 14:43:14,269: An error occurred while streaming results for job cjfi23s5hqba8918m3l0:\n",
      "Traceback (most recent call last):\n",
      "  File \"/home/gluonhiggs/.pyenv/versions/anaconda3-2023.03/envs/qiskit-runtime/lib/python3.10/site-packages/qiskit_ibm_runtime/runtime_job.py\", line 534, in _stream_results\n",
      "    user_callback(self.job_id(), _decoder.decode(response))\n",
      "TypeError: 'list' object is not callable\n",
      "\n"
     ]
    },
    {
     "name": "stdout",
     "output_type": "stream",
     "text": [
      "Evaluation 135: -1.752227093660316\n"
     ]
    },
    {
     "name": "stderr",
     "output_type": "stream",
     "text": [
      "runtime_job._stream_results:WARNING:2023-08-18 14:43:17,853: An error occurred while streaming results for job cjfi24vbq0tlksv8larg:\n",
      "Traceback (most recent call last):\n",
      "  File \"/home/gluonhiggs/.pyenv/versions/anaconda3-2023.03/envs/qiskit-runtime/lib/python3.10/site-packages/qiskit_ibm_runtime/runtime_job.py\", line 534, in _stream_results\n",
      "    user_callback(self.job_id(), _decoder.decode(response))\n",
      "TypeError: 'list' object is not callable\n",
      "\n",
      "runtime_job._stream_results:WARNING:2023-08-18 14:43:21,028: An error occurred while streaming results for job cjfi25s5hqba8918m550:\n",
      "Traceback (most recent call last):\n",
      "  File \"/home/gluonhiggs/.pyenv/versions/anaconda3-2023.03/envs/qiskit-runtime/lib/python3.10/site-packages/qiskit_ibm_runtime/runtime_job.py\", line 534, in _stream_results\n",
      "    user_callback(self.job_id(), _decoder.decode(response))\n",
      "TypeError: 'list' object is not callable\n",
      "\n",
      "runtime_job._stream_results:WARNING:2023-08-18 14:43:29,637: An error occurred while streaming results for job cjfi27rie1jj2il9vstg:\n",
      "Traceback (most recent call last):\n",
      "  File \"/home/gluonhiggs/.pyenv/versions/anaconda3-2023.03/envs/qiskit-runtime/lib/python3.10/site-packages/qiskit_ibm_runtime/runtime_job.py\", line 534, in _stream_results\n",
      "    user_callback(self.job_id(), _decoder.decode(response))\n",
      "TypeError: 'list' object is not callable\n",
      "\n"
     ]
    },
    {
     "name": "stdout",
     "output_type": "stream",
     "text": [
      "Evaluation 138: -1.7229240110034074\n"
     ]
    },
    {
     "name": "stderr",
     "output_type": "stream",
     "text": [
      "runtime_job._stream_results:WARNING:2023-08-18 14:43:33,010: An error occurred while streaming results for job cjfi28jie1jj2il9vtkg:\n",
      "Traceback (most recent call last):\n",
      "  File \"/home/gluonhiggs/.pyenv/versions/anaconda3-2023.03/envs/qiskit-runtime/lib/python3.10/site-packages/qiskit_ibm_runtime/runtime_job.py\", line 534, in _stream_results\n",
      "    user_callback(self.job_id(), _decoder.decode(response))\n",
      "TypeError: 'list' object is not callable\n",
      "\n",
      "runtime_job._stream_results:WARNING:2023-08-18 14:43:44,387: An error occurred while streaming results for job cjfi2bk5hqba8918ma3g:\n",
      "Traceback (most recent call last):\n",
      "  File \"/home/gluonhiggs/.pyenv/versions/anaconda3-2023.03/envs/qiskit-runtime/lib/python3.10/site-packages/qiskit_ibm_runtime/runtime_job.py\", line 534, in _stream_results\n",
      "    user_callback(self.job_id(), _decoder.decode(response))\n",
      "TypeError: 'list' object is not callable\n",
      "\n",
      "runtime_job._stream_results:WARNING:2023-08-18 14:43:47,756: An error occurred while streaming results for job cjfi2cf6dei0664lr5eg:\n",
      "Traceback (most recent call last):\n",
      "  File \"/home/gluonhiggs/.pyenv/versions/anaconda3-2023.03/envs/qiskit-runtime/lib/python3.10/site-packages/qiskit_ibm_runtime/runtime_job.py\", line 534, in _stream_results\n",
      "    user_callback(self.job_id(), _decoder.decode(response))\n",
      "TypeError: 'list' object is not callable\n",
      "\n"
     ]
    },
    {
     "name": "stdout",
     "output_type": "stream",
     "text": [
      "Evaluation 141: -1.7379481944491433\n"
     ]
    },
    {
     "name": "stderr",
     "output_type": "stream",
     "text": [
      "runtime_job._stream_results:WARNING:2023-08-18 14:43:51,720: An error occurred while streaming results for job cjfi2d76dei0664lr6mg:\n",
      "Traceback (most recent call last):\n",
      "  File \"/home/gluonhiggs/.pyenv/versions/anaconda3-2023.03/envs/qiskit-runtime/lib/python3.10/site-packages/qiskit_ibm_runtime/runtime_job.py\", line 534, in _stream_results\n",
      "    user_callback(self.job_id(), _decoder.decode(response))\n",
      "TypeError: 'list' object is not callable\n",
      "\n",
      "runtime_job._stream_results:WARNING:2023-08-18 14:43:55,820: An error occurred while streaming results for job cjfi2e3ie1jj2ila03g0:\n",
      "Traceback (most recent call last):\n",
      "  File \"/home/gluonhiggs/.pyenv/versions/anaconda3-2023.03/envs/qiskit-runtime/lib/python3.10/site-packages/qiskit_ibm_runtime/runtime_job.py\", line 534, in _stream_results\n",
      "    user_callback(self.job_id(), _decoder.decode(response))\n",
      "TypeError: 'list' object is not callable\n",
      "\n",
      "runtime_job._stream_results:WARNING:2023-08-18 14:43:59,278: An error occurred while streaming results for job cjfi2ffbq0tlksv8lki0:\n",
      "Traceback (most recent call last):\n",
      "  File \"/home/gluonhiggs/.pyenv/versions/anaconda3-2023.03/envs/qiskit-runtime/lib/python3.10/site-packages/qiskit_ibm_runtime/runtime_job.py\", line 534, in _stream_results\n",
      "    user_callback(self.job_id(), _decoder.decode(response))\n",
      "TypeError: 'list' object is not callable\n",
      "\n"
     ]
    },
    {
     "name": "stdout",
     "output_type": "stream",
     "text": [
      "Evaluation 144: -1.6730797247340794\n"
     ]
    },
    {
     "name": "stderr",
     "output_type": "stream",
     "text": [
      "runtime_job._stream_results:WARNING:2023-08-18 14:44:02,913: An error occurred while streaming results for job cjfi2g0cs414jvgqhlv0:\n",
      "Traceback (most recent call last):\n",
      "  File \"/home/gluonhiggs/.pyenv/versions/anaconda3-2023.03/envs/qiskit-runtime/lib/python3.10/site-packages/qiskit_ibm_runtime/runtime_job.py\", line 534, in _stream_results\n",
      "    user_callback(self.job_id(), _decoder.decode(response))\n",
      "TypeError: 'list' object is not callable\n",
      "\n",
      "runtime_job._stream_results:WARNING:2023-08-18 14:44:06,732: An error occurred while streaming results for job cjfi2h57ui1f8qaue6n0:\n",
      "Traceback (most recent call last):\n",
      "  File \"/home/gluonhiggs/.pyenv/versions/anaconda3-2023.03/envs/qiskit-runtime/lib/python3.10/site-packages/qiskit_ibm_runtime/runtime_job.py\", line 534, in _stream_results\n",
      "    user_callback(self.job_id(), _decoder.decode(response))\n",
      "TypeError: 'list' object is not callable\n",
      "\n",
      "runtime_job._stream_results:WARNING:2023-08-18 14:44:10,273: An error occurred while streaming results for job cjfi2i57ui1f8qaue7hg:\n",
      "Traceback (most recent call last):\n",
      "  File \"/home/gluonhiggs/.pyenv/versions/anaconda3-2023.03/envs/qiskit-runtime/lib/python3.10/site-packages/qiskit_ibm_runtime/runtime_job.py\", line 534, in _stream_results\n",
      "    user_callback(self.job_id(), _decoder.decode(response))\n",
      "TypeError: 'list' object is not callable\n",
      "\n"
     ]
    },
    {
     "name": "stdout",
     "output_type": "stream",
     "text": [
      "Evaluation 147: -1.725937788570184\n"
     ]
    },
    {
     "name": "stderr",
     "output_type": "stream",
     "text": [
      "runtime_job._stream_results:WARNING:2023-08-18 14:44:13,768: An error occurred while streaming results for job cjfi2iocs414jvgqhpn0:\n",
      "Traceback (most recent call last):\n",
      "  File \"/home/gluonhiggs/.pyenv/versions/anaconda3-2023.03/envs/qiskit-runtime/lib/python3.10/site-packages/qiskit_ibm_runtime/runtime_job.py\", line 534, in _stream_results\n",
      "    user_callback(self.job_id(), _decoder.decode(response))\n",
      "TypeError: 'list' object is not callable\n",
      "\n",
      "runtime_job._stream_results:WARNING:2023-08-18 14:44:17,353: An error occurred while streaming results for job cjfi2jrie1jj2ila0a80:\n",
      "Traceback (most recent call last):\n",
      "  File \"/home/gluonhiggs/.pyenv/versions/anaconda3-2023.03/envs/qiskit-runtime/lib/python3.10/site-packages/qiskit_ibm_runtime/runtime_job.py\", line 534, in _stream_results\n",
      "    user_callback(self.job_id(), _decoder.decode(response))\n",
      "TypeError: 'list' object is not callable\n",
      "\n",
      "runtime_job._stream_results:WARNING:2023-08-18 14:44:21,600: An error occurred while streaming results for job cjfi2kl7ui1f8qaueamg:\n",
      "Traceback (most recent call last):\n",
      "  File \"/home/gluonhiggs/.pyenv/versions/anaconda3-2023.03/envs/qiskit-runtime/lib/python3.10/site-packages/qiskit_ibm_runtime/runtime_job.py\", line 534, in _stream_results\n",
      "    user_callback(self.job_id(), _decoder.decode(response))\n",
      "TypeError: 'list' object is not callable\n",
      "\n"
     ]
    },
    {
     "name": "stdout",
     "output_type": "stream",
     "text": [
      "Evaluation 150: -1.7657844293688516\n"
     ]
    },
    {
     "name": "stderr",
     "output_type": "stream",
     "text": [
      "runtime_job._stream_results:WARNING:2023-08-18 14:44:30,357: An error occurred while streaming results for job cjfi2lrie1jj2ila0cvg:\n",
      "Traceback (most recent call last):\n",
      "  File \"/home/gluonhiggs/.pyenv/versions/anaconda3-2023.03/envs/qiskit-runtime/lib/python3.10/site-packages/qiskit_ibm_runtime/runtime_job.py\", line 534, in _stream_results\n",
      "    user_callback(self.job_id(), _decoder.decode(response))\n",
      "TypeError: 'list' object is not callable\n",
      "\n",
      "runtime_job._stream_results:WARNING:2023-08-18 14:44:33,942: An error occurred while streaming results for job cjfi2nv6dei0664lri3g:\n",
      "Traceback (most recent call last):\n",
      "  File \"/home/gluonhiggs/.pyenv/versions/anaconda3-2023.03/envs/qiskit-runtime/lib/python3.10/site-packages/qiskit_ibm_runtime/runtime_job.py\", line 534, in _stream_results\n",
      "    user_callback(self.job_id(), _decoder.decode(response))\n",
      "TypeError: 'list' object is not callable\n",
      "\n",
      "runtime_job._stream_results:WARNING:2023-08-18 14:44:41,520: An error occurred while streaming results for job cjfi2pk5hqba8918msdg:\n",
      "Traceback (most recent call last):\n",
      "  File \"/home/gluonhiggs/.pyenv/versions/anaconda3-2023.03/envs/qiskit-runtime/lib/python3.10/site-packages/qiskit_ibm_runtime/runtime_job.py\", line 534, in _stream_results\n",
      "    user_callback(self.job_id(), _decoder.decode(response))\n",
      "TypeError: 'list' object is not callable\n",
      "\n"
     ]
    },
    {
     "name": "stdout",
     "output_type": "stream",
     "text": [
      "Evaluation 153: -1.7759633226121272\n"
     ]
    },
    {
     "name": "stderr",
     "output_type": "stream",
     "text": [
      "runtime_job._stream_results:WARNING:2023-08-18 14:44:45,104: An error occurred while streaming results for job cjfi2qk5hqba8918mu8g:\n",
      "Traceback (most recent call last):\n",
      "  File \"/home/gluonhiggs/.pyenv/versions/anaconda3-2023.03/envs/qiskit-runtime/lib/python3.10/site-packages/qiskit_ibm_runtime/runtime_job.py\", line 534, in _stream_results\n",
      "    user_callback(self.job_id(), _decoder.decode(response))\n",
      "TypeError: 'list' object is not callable\n",
      "\n",
      "runtime_job._stream_results:WARNING:2023-08-18 14:44:51,409: An error occurred while streaming results for job cjfi2s8cs414jvgqi6o0:\n",
      "Traceback (most recent call last):\n",
      "  File \"/home/gluonhiggs/.pyenv/versions/anaconda3-2023.03/envs/qiskit-runtime/lib/python3.10/site-packages/qiskit_ibm_runtime/runtime_job.py\", line 534, in _stream_results\n",
      "    user_callback(self.job_id(), _decoder.decode(response))\n",
      "TypeError: 'list' object is not callable\n",
      "\n",
      "runtime_job._stream_results:WARNING:2023-08-18 14:44:58,825: An error occurred while streaming results for job cjfi2u76dei0664lrp80:\n",
      "Traceback (most recent call last):\n",
      "  File \"/home/gluonhiggs/.pyenv/versions/anaconda3-2023.03/envs/qiskit-runtime/lib/python3.10/site-packages/qiskit_ibm_runtime/runtime_job.py\", line 534, in _stream_results\n",
      "    user_callback(self.job_id(), _decoder.decode(response))\n",
      "TypeError: 'list' object is not callable\n",
      "\n"
     ]
    },
    {
     "name": "stdout",
     "output_type": "stream",
     "text": [
      "Evaluation 156: -1.7506371943832975\n"
     ]
    },
    {
     "name": "stderr",
     "output_type": "stream",
     "text": [
      "runtime_job._stream_results:WARNING:2023-08-18 14:45:03,433: An error occurred while streaming results for job cjfi2v7bq0tlksv8m77g:\n",
      "Traceback (most recent call last):\n",
      "  File \"/home/gluonhiggs/.pyenv/versions/anaconda3-2023.03/envs/qiskit-runtime/lib/python3.10/site-packages/qiskit_ibm_runtime/runtime_job.py\", line 534, in _stream_results\n",
      "    user_callback(self.job_id(), _decoder.decode(response))\n",
      "TypeError: 'list' object is not callable\n",
      "\n",
      "runtime_job._stream_results:WARNING:2023-08-18 14:45:14,082: An error occurred while streaming results for job cjfi318cs414jvgqibj0:\n",
      "Traceback (most recent call last):\n",
      "  File \"/home/gluonhiggs/.pyenv/versions/anaconda3-2023.03/envs/qiskit-runtime/lib/python3.10/site-packages/qiskit_ibm_runtime/runtime_job.py\", line 534, in _stream_results\n",
      "    user_callback(self.job_id(), _decoder.decode(response))\n",
      "TypeError: 'list' object is not callable\n",
      "\n",
      "runtime_job._stream_results:WARNING:2023-08-18 14:45:18,690: An error occurred while streaming results for job cjfi32ocs414jvgqidk0:\n",
      "Traceback (most recent call last):\n",
      "  File \"/home/gluonhiggs/.pyenv/versions/anaconda3-2023.03/envs/qiskit-runtime/lib/python3.10/site-packages/qiskit_ibm_runtime/runtime_job.py\", line 534, in _stream_results\n",
      "    user_callback(self.job_id(), _decoder.decode(response))\n",
      "TypeError: 'list' object is not callable\n",
      "\n"
     ]
    },
    {
     "name": "stdout",
     "output_type": "stream",
     "text": [
      "Evaluation 159: -1.744061913070885\n"
     ]
    },
    {
     "name": "stderr",
     "output_type": "stream",
     "text": [
      "runtime_job._stream_results:WARNING:2023-08-18 14:45:22,791: An error occurred while streaming results for job cjfi33rie1jj2ila0u5g:\n",
      "Traceback (most recent call last):\n",
      "  File \"/home/gluonhiggs/.pyenv/versions/anaconda3-2023.03/envs/qiskit-runtime/lib/python3.10/site-packages/qiskit_ibm_runtime/runtime_job.py\", line 534, in _stream_results\n",
      "    user_callback(self.job_id(), _decoder.decode(response))\n",
      "TypeError: 'list' object is not callable\n",
      "\n",
      "runtime_job._stream_results:WARNING:2023-08-18 14:45:26,164: An error occurred while streaming results for job cjfi353ie1jj2ila0v9g:\n",
      "Traceback (most recent call last):\n",
      "  File \"/home/gluonhiggs/.pyenv/versions/anaconda3-2023.03/envs/qiskit-runtime/lib/python3.10/site-packages/qiskit_ibm_runtime/runtime_job.py\", line 534, in _stream_results\n",
      "    user_callback(self.job_id(), _decoder.decode(response))\n",
      "TypeError: 'list' object is not callable\n",
      "\n",
      "runtime_job._stream_results:WARNING:2023-08-18 14:45:32,012: An error occurred while streaming results for job cjfi35t7ui1f8qaueutg:\n",
      "Traceback (most recent call last):\n",
      "  File \"/home/gluonhiggs/.pyenv/versions/anaconda3-2023.03/envs/qiskit-runtime/lib/python3.10/site-packages/qiskit_ibm_runtime/runtime_job.py\", line 534, in _stream_results\n",
      "    user_callback(self.job_id(), _decoder.decode(response))\n",
      "TypeError: 'list' object is not callable\n",
      "\n"
     ]
    },
    {
     "name": "stdout",
     "output_type": "stream",
     "text": [
      "Evaluation 162: -1.743774062303021\n"
     ]
    },
    {
     "name": "stderr",
     "output_type": "stream",
     "text": [
      "runtime_job._stream_results:WARNING:2023-08-18 14:45:35,628: An error occurred while streaming results for job cjfi37bie1jj2ila13m0:\n",
      "Traceback (most recent call last):\n",
      "  File \"/home/gluonhiggs/.pyenv/versions/anaconda3-2023.03/envs/qiskit-runtime/lib/python3.10/site-packages/qiskit_ibm_runtime/runtime_job.py\", line 534, in _stream_results\n",
      "    user_callback(self.job_id(), _decoder.decode(response))\n",
      "TypeError: 'list' object is not callable\n",
      "\n",
      "runtime_job._stream_results:WARNING:2023-08-18 14:45:39,446: An error occurred while streaming results for job cjfi388cs414jvgqikog:\n",
      "Traceback (most recent call last):\n",
      "  File \"/home/gluonhiggs/.pyenv/versions/anaconda3-2023.03/envs/qiskit-runtime/lib/python3.10/site-packages/qiskit_ibm_runtime/runtime_job.py\", line 534, in _stream_results\n",
      "    user_callback(self.job_id(), _decoder.decode(response))\n",
      "TypeError: 'list' object is not callable\n",
      "\n",
      "runtime_job._stream_results:WARNING:2023-08-18 14:45:43,162: An error occurred while streaming results for job cjfi390cs414jvgqilig:\n",
      "Traceback (most recent call last):\n",
      "  File \"/home/gluonhiggs/.pyenv/versions/anaconda3-2023.03/envs/qiskit-runtime/lib/python3.10/site-packages/qiskit_ibm_runtime/runtime_job.py\", line 534, in _stream_results\n",
      "    user_callback(self.job_id(), _decoder.decode(response))\n",
      "TypeError: 'list' object is not callable\n",
      "\n"
     ]
    },
    {
     "name": "stdout",
     "output_type": "stream",
     "text": [
      "Evaluation 165: -1.7409423275227627\n"
     ]
    },
    {
     "name": "stderr",
     "output_type": "stream",
     "text": [
      "runtime_job._stream_results:WARNING:2023-08-18 14:45:46,439: An error occurred while streaming results for job cjfi3a76dei0664ls6hg:\n",
      "Traceback (most recent call last):\n",
      "  File \"/home/gluonhiggs/.pyenv/versions/anaconda3-2023.03/envs/qiskit-runtime/lib/python3.10/site-packages/qiskit_ibm_runtime/runtime_job.py\", line 534, in _stream_results\n",
      "    user_callback(self.job_id(), _decoder.decode(response))\n",
      "TypeError: 'list' object is not callable\n",
      "\n",
      "runtime_job._stream_results:WARNING:2023-08-18 14:45:51,047: An error occurred while streaming results for job cjfi3b76dei0664ls7q0:\n",
      "Traceback (most recent call last):\n",
      "  File \"/home/gluonhiggs/.pyenv/versions/anaconda3-2023.03/envs/qiskit-runtime/lib/python3.10/site-packages/qiskit_ibm_runtime/runtime_job.py\", line 534, in _stream_results\n",
      "    user_callback(self.job_id(), _decoder.decode(response))\n",
      "TypeError: 'list' object is not callable\n",
      "\n",
      "runtime_job._stream_results:WARNING:2023-08-18 14:45:54,118: An error occurred while streaming results for job cjfi3c7bq0tlksv8mmh0:\n",
      "Traceback (most recent call last):\n",
      "  File \"/home/gluonhiggs/.pyenv/versions/anaconda3-2023.03/envs/qiskit-runtime/lib/python3.10/site-packages/qiskit_ibm_runtime/runtime_job.py\", line 534, in _stream_results\n",
      "    user_callback(self.job_id(), _decoder.decode(response))\n",
      "TypeError: 'list' object is not callable\n",
      "\n"
     ]
    },
    {
     "name": "stdout",
     "output_type": "stream",
     "text": [
      "Evaluation 168: -1.7606691193839241\n"
     ]
    },
    {
     "name": "stderr",
     "output_type": "stream",
     "text": [
      "runtime_job._stream_results:WARNING:2023-08-18 14:45:57,497: An error occurred while streaming results for job cjfi3cs5hqba8918nji0:\n",
      "Traceback (most recent call last):\n",
      "  File \"/home/gluonhiggs/.pyenv/versions/anaconda3-2023.03/envs/qiskit-runtime/lib/python3.10/site-packages/qiskit_ibm_runtime/runtime_job.py\", line 534, in _stream_results\n",
      "    user_callback(self.job_id(), _decoder.decode(response))\n",
      "TypeError: 'list' object is not callable\n",
      "\n",
      "runtime_job._stream_results:WARNING:2023-08-18 14:46:01,321: An error occurred while streaming results for job cjfi3djie1jj2ila19sg:\n",
      "Traceback (most recent call last):\n",
      "  File \"/home/gluonhiggs/.pyenv/versions/anaconda3-2023.03/envs/qiskit-runtime/lib/python3.10/site-packages/qiskit_ibm_runtime/runtime_job.py\", line 534, in _stream_results\n",
      "    user_callback(self.job_id(), _decoder.decode(response))\n",
      "TypeError: 'list' object is not callable\n",
      "\n",
      "runtime_job._stream_results:WARNING:2023-08-18 14:46:04,768: An error occurred while streaming results for job cjfi3ejie1jj2ila1bbg:\n",
      "Traceback (most recent call last):\n",
      "  File \"/home/gluonhiggs/.pyenv/versions/anaconda3-2023.03/envs/qiskit-runtime/lib/python3.10/site-packages/qiskit_ibm_runtime/runtime_job.py\", line 534, in _stream_results\n",
      "    user_callback(self.job_id(), _decoder.decode(response))\n",
      "TypeError: 'list' object is not callable\n",
      "\n"
     ]
    },
    {
     "name": "stdout",
     "output_type": "stream",
     "text": [
      "Evaluation 171: -1.7687681392480579\n"
     ]
    },
    {
     "name": "stderr",
     "output_type": "stream",
     "text": [
      "runtime_job._stream_results:WARNING:2023-08-18 14:46:08,593: An error occurred while streaming results for job cjfi3fgcs414jvgqirr0:\n",
      "Traceback (most recent call last):\n",
      "  File \"/home/gluonhiggs/.pyenv/versions/anaconda3-2023.03/envs/qiskit-runtime/lib/python3.10/site-packages/qiskit_ibm_runtime/runtime_job.py\", line 534, in _stream_results\n",
      "    user_callback(self.job_id(), _decoder.decode(response))\n",
      "TypeError: 'list' object is not callable\n",
      "\n",
      "runtime_job._stream_results:WARNING:2023-08-18 14:46:11,823: An error occurred while streaming results for job cjfi3gd7ui1f8qauf9ng:\n",
      "Traceback (most recent call last):\n",
      "  File \"/home/gluonhiggs/.pyenv/versions/anaconda3-2023.03/envs/qiskit-runtime/lib/python3.10/site-packages/qiskit_ibm_runtime/runtime_job.py\", line 534, in _stream_results\n",
      "    user_callback(self.job_id(), _decoder.decode(response))\n",
      "TypeError: 'list' object is not callable\n",
      "\n",
      "runtime_job._stream_results:WARNING:2023-08-18 14:46:15,929: An error occurred while streaming results for job cjfi3h8cs414jvgqiu3g:\n",
      "Traceback (most recent call last):\n",
      "  File \"/home/gluonhiggs/.pyenv/versions/anaconda3-2023.03/envs/qiskit-runtime/lib/python3.10/site-packages/qiskit_ibm_runtime/runtime_job.py\", line 534, in _stream_results\n",
      "    user_callback(self.job_id(), _decoder.decode(response))\n",
      "TypeError: 'list' object is not callable\n",
      "\n"
     ]
    },
    {
     "name": "stdout",
     "output_type": "stream",
     "text": [
      "Evaluation 174: -1.831912968492397\n"
     ]
    },
    {
     "name": "stderr",
     "output_type": "stream",
     "text": [
      "runtime_job._stream_results:WARNING:2023-08-18 14:46:23,507: An error occurred while streaming results for job cjfi3j8cs414jvgqivgg:\n",
      "Traceback (most recent call last):\n",
      "  File \"/home/gluonhiggs/.pyenv/versions/anaconda3-2023.03/envs/qiskit-runtime/lib/python3.10/site-packages/qiskit_ibm_runtime/runtime_job.py\", line 534, in _stream_results\n",
      "    user_callback(self.job_id(), _decoder.decode(response))\n",
      "TypeError: 'list' object is not callable\n",
      "\n",
      "runtime_job._stream_results:WARNING:2023-08-18 14:46:26,987: An error occurred while streaming results for job cjfi3k57ui1f8qaufem0:\n",
      "Traceback (most recent call last):\n",
      "  File \"/home/gluonhiggs/.pyenv/versions/anaconda3-2023.03/envs/qiskit-runtime/lib/python3.10/site-packages/qiskit_ibm_runtime/runtime_job.py\", line 534, in _stream_results\n",
      "    user_callback(self.job_id(), _decoder.decode(response))\n",
      "TypeError: 'list' object is not callable\n",
      "\n",
      "runtime_job._stream_results:WARNING:2023-08-18 14:46:30,935: An error occurred while streaming results for job cjfi3l76dei0664lsihg:\n",
      "Traceback (most recent call last):\n",
      "  File \"/home/gluonhiggs/.pyenv/versions/anaconda3-2023.03/envs/qiskit-runtime/lib/python3.10/site-packages/qiskit_ibm_runtime/runtime_job.py\", line 534, in _stream_results\n",
      "    user_callback(self.job_id(), _decoder.decode(response))\n",
      "TypeError: 'list' object is not callable\n",
      "\n"
     ]
    },
    {
     "name": "stdout",
     "output_type": "stream",
     "text": [
      "Evaluation 177: -1.835731735458689\n"
     ]
    },
    {
     "name": "stderr",
     "output_type": "stream",
     "text": [
      "runtime_job._stream_results:WARNING:2023-08-18 14:46:34,673: An error occurred while streaming results for job cjfi3m0cs414jvgqj46g:\n",
      "Traceback (most recent call last):\n",
      "  File \"/home/gluonhiggs/.pyenv/versions/anaconda3-2023.03/envs/qiskit-runtime/lib/python3.10/site-packages/qiskit_ibm_runtime/runtime_job.py\", line 534, in _stream_results\n",
      "    user_callback(self.job_id(), _decoder.decode(response))\n",
      "TypeError: 'list' object is not callable\n",
      "\n",
      "runtime_job._stream_results:WARNING:2023-08-18 14:46:41,733: An error occurred while streaming results for job cjfi3nt7ui1f8qaufje0:\n",
      "Traceback (most recent call last):\n",
      "  File \"/home/gluonhiggs/.pyenv/versions/anaconda3-2023.03/envs/qiskit-runtime/lib/python3.10/site-packages/qiskit_ibm_runtime/runtime_job.py\", line 534, in _stream_results\n",
      "    user_callback(self.job_id(), _decoder.decode(response))\n",
      "TypeError: 'list' object is not callable\n",
      "\n",
      "runtime_job._stream_results:WARNING:2023-08-18 14:46:45,839: An error occurred while streaming results for job cjfi3ol7ui1f8qaufki0:\n",
      "Traceback (most recent call last):\n",
      "  File \"/home/gluonhiggs/.pyenv/versions/anaconda3-2023.03/envs/qiskit-runtime/lib/python3.10/site-packages/qiskit_ibm_runtime/runtime_job.py\", line 534, in _stream_results\n",
      "    user_callback(self.job_id(), _decoder.decode(response))\n",
      "TypeError: 'list' object is not callable\n",
      "\n"
     ]
    },
    {
     "name": "stdout",
     "output_type": "stream",
     "text": [
      "Evaluation 180: -1.8362680967233072\n"
     ]
    },
    {
     "name": "stderr",
     "output_type": "stream",
     "text": [
      "runtime_job._stream_results:WARNING:2023-08-18 14:46:58,731: An error occurred while streaming results for job cjfi3pt7ui1f8qaufmb0:\n",
      "Traceback (most recent call last):\n",
      "  File \"/home/gluonhiggs/.pyenv/versions/anaconda3-2023.03/envs/qiskit-runtime/lib/python3.10/site-packages/qiskit_ibm_runtime/runtime_job.py\", line 534, in _stream_results\n",
      "    user_callback(self.job_id(), _decoder.decode(response))\n",
      "TypeError: 'list' object is not callable\n",
      "\n",
      "runtime_job._stream_results:WARNING:2023-08-18 14:47:13,169: An error occurred while streaming results for job cjfi3vc5hqba8918oai0:\n",
      "Traceback (most recent call last):\n",
      "  File \"/home/gluonhiggs/.pyenv/versions/anaconda3-2023.03/envs/qiskit-runtime/lib/python3.10/site-packages/qiskit_ibm_runtime/runtime_job.py\", line 534, in _stream_results\n",
      "    user_callback(self.job_id(), _decoder.decode(response))\n",
      "TypeError: 'list' object is not callable\n",
      "\n",
      "runtime_job._stream_results:WARNING:2023-08-18 14:47:16,348: An error occurred while streaming results for job cjfi40jie1jj2ila2180:\n",
      "Traceback (most recent call last):\n",
      "  File \"/home/gluonhiggs/.pyenv/versions/anaconda3-2023.03/envs/qiskit-runtime/lib/python3.10/site-packages/qiskit_ibm_runtime/runtime_job.py\", line 534, in _stream_results\n",
      "    user_callback(self.job_id(), _decoder.decode(response))\n",
      "TypeError: 'list' object is not callable\n",
      "\n"
     ]
    },
    {
     "name": "stdout",
     "output_type": "stream",
     "text": [
      "Evaluation 183: -1.8247881878647516\n"
     ]
    },
    {
     "name": "stderr",
     "output_type": "stream",
     "text": [
      "runtime_job._stream_results:WARNING:2023-08-18 14:47:20,749: An error occurred while streaming results for job cjfi418cs414jvgqjj7g:\n",
      "Traceback (most recent call last):\n",
      "  File \"/home/gluonhiggs/.pyenv/versions/anaconda3-2023.03/envs/qiskit-runtime/lib/python3.10/site-packages/qiskit_ibm_runtime/runtime_job.py\", line 534, in _stream_results\n",
      "    user_callback(self.job_id(), _decoder.decode(response))\n",
      "TypeError: 'list' object is not callable\n",
      "\n",
      "runtime_job._stream_results:WARNING:2023-08-18 14:47:24,900: An error occurred while streaming results for job cjfi428cs414jvgqjks0:\n",
      "Traceback (most recent call last):\n",
      "  File \"/home/gluonhiggs/.pyenv/versions/anaconda3-2023.03/envs/qiskit-runtime/lib/python3.10/site-packages/qiskit_ibm_runtime/runtime_job.py\", line 534, in _stream_results\n",
      "    user_callback(self.job_id(), _decoder.decode(response))\n",
      "TypeError: 'list' object is not callable\n",
      "\n",
      "runtime_job._stream_results:WARNING:2023-08-18 14:47:28,734: An error occurred while streaming results for job cjfi43gcs414jvgqjlm0:\n",
      "Traceback (most recent call last):\n",
      "  File \"/home/gluonhiggs/.pyenv/versions/anaconda3-2023.03/envs/qiskit-runtime/lib/python3.10/site-packages/qiskit_ibm_runtime/runtime_job.py\", line 534, in _stream_results\n",
      "    user_callback(self.job_id(), _decoder.decode(response))\n",
      "TypeError: 'list' object is not callable\n",
      "\n"
     ]
    },
    {
     "name": "stdout",
     "output_type": "stream",
     "text": [
      "Evaluation 186: -1.8244815228255624\n"
     ]
    },
    {
     "name": "stderr",
     "output_type": "stream",
     "text": [
      "runtime_job._stream_results:WARNING:2023-08-18 14:47:32,215: An error occurred while streaming results for job cjfi44gcs414jvgqjmtg:\n",
      "Traceback (most recent call last):\n",
      "  File \"/home/gluonhiggs/.pyenv/versions/anaconda3-2023.03/envs/qiskit-runtime/lib/python3.10/site-packages/qiskit_ibm_runtime/runtime_job.py\", line 534, in _stream_results\n",
      "    user_callback(self.job_id(), _decoder.decode(response))\n",
      "TypeError: 'list' object is not callable\n",
      "\n",
      "runtime_job._stream_results:WARNING:2023-08-18 14:47:36,311: An error occurred while streaming results for job cjfi45bie1jj2ila26r0:\n",
      "Traceback (most recent call last):\n",
      "  File \"/home/gluonhiggs/.pyenv/versions/anaconda3-2023.03/envs/qiskit-runtime/lib/python3.10/site-packages/qiskit_ibm_runtime/runtime_job.py\", line 534, in _stream_results\n",
      "    user_callback(self.job_id(), _decoder.decode(response))\n",
      "TypeError: 'list' object is not callable\n",
      "\n",
      "runtime_job._stream_results:WARNING:2023-08-18 14:47:40,919: An error occurred while streaming results for job cjfi468cs414jvgqjpgg:\n",
      "Traceback (most recent call last):\n",
      "  File \"/home/gluonhiggs/.pyenv/versions/anaconda3-2023.03/envs/qiskit-runtime/lib/python3.10/site-packages/qiskit_ibm_runtime/runtime_job.py\", line 534, in _stream_results\n",
      "    user_callback(self.job_id(), _decoder.decode(response))\n",
      "TypeError: 'list' object is not callable\n",
      "\n"
     ]
    },
    {
     "name": "stdout",
     "output_type": "stream",
     "text": [
      "Evaluation 189: -1.8312199683817751\n"
     ]
    },
    {
     "name": "stderr",
     "output_type": "stream",
     "text": [
      "runtime_job._stream_results:WARNING:2023-08-18 14:47:44,852: An error occurred while streaming results for job cjfi47l7ui1f8qaug5h0:\n",
      "Traceback (most recent call last):\n",
      "  File \"/home/gluonhiggs/.pyenv/versions/anaconda3-2023.03/envs/qiskit-runtime/lib/python3.10/site-packages/qiskit_ibm_runtime/runtime_job.py\", line 534, in _stream_results\n",
      "    user_callback(self.job_id(), _decoder.decode(response))\n",
      "TypeError: 'list' object is not callable\n",
      "\n",
      "runtime_job._stream_results:WARNING:2023-08-18 14:47:49,111: An error occurred while streaming results for job cjfi48k5hqba8918ol7g:\n",
      "Traceback (most recent call last):\n",
      "  File \"/home/gluonhiggs/.pyenv/versions/anaconda3-2023.03/envs/qiskit-runtime/lib/python3.10/site-packages/qiskit_ibm_runtime/runtime_job.py\", line 534, in _stream_results\n",
      "    user_callback(self.job_id(), _decoder.decode(response))\n",
      "TypeError: 'list' object is not callable\n",
      "\n",
      "runtime_job._stream_results:WARNING:2023-08-18 14:47:52,191: An error occurred while streaming results for job cjfi49k5hqba8918omr0:\n",
      "Traceback (most recent call last):\n",
      "  File \"/home/gluonhiggs/.pyenv/versions/anaconda3-2023.03/envs/qiskit-runtime/lib/python3.10/site-packages/qiskit_ibm_runtime/runtime_job.py\", line 534, in _stream_results\n",
      "    user_callback(self.job_id(), _decoder.decode(response))\n",
      "TypeError: 'list' object is not callable\n",
      "\n"
     ]
    },
    {
     "name": "stdout",
     "output_type": "stream",
     "text": [
      "Evaluation 192: -1.8276845245518687\n"
     ]
    },
    {
     "name": "stderr",
     "output_type": "stream",
     "text": [
      "runtime_job._stream_results:WARNING:2023-08-18 14:47:57,667: An error occurred while streaming results for job cjfi4ad7ui1f8qaug8sg:\n",
      "Traceback (most recent call last):\n",
      "  File \"/home/gluonhiggs/.pyenv/versions/anaconda3-2023.03/envs/qiskit-runtime/lib/python3.10/site-packages/qiskit_ibm_runtime/runtime_job.py\", line 534, in _stream_results\n",
      "    user_callback(self.job_id(), _decoder.decode(response))\n",
      "TypeError: 'list' object is not callable\n",
      "\n",
      "runtime_job._stream_results:WARNING:2023-08-18 14:48:01,714: An error occurred while streaming results for job cjfi4bnbq0tlksv8nq60:\n",
      "Traceback (most recent call last):\n",
      "  File \"/home/gluonhiggs/.pyenv/versions/anaconda3-2023.03/envs/qiskit-runtime/lib/python3.10/site-packages/qiskit_ibm_runtime/runtime_job.py\", line 534, in _stream_results\n",
      "    user_callback(self.job_id(), _decoder.decode(response))\n",
      "TypeError: 'list' object is not callable\n",
      "\n",
      "runtime_job._stream_results:WARNING:2023-08-18 14:48:08,976: An error occurred while streaming results for job cjfi4ds5hqba8918orog:\n",
      "Traceback (most recent call last):\n",
      "  File \"/home/gluonhiggs/.pyenv/versions/anaconda3-2023.03/envs/qiskit-runtime/lib/python3.10/site-packages/qiskit_ibm_runtime/runtime_job.py\", line 534, in _stream_results\n",
      "    user_callback(self.job_id(), _decoder.decode(response))\n",
      "TypeError: 'list' object is not callable\n",
      "\n"
     ]
    },
    {
     "name": "stdout",
     "output_type": "stream",
     "text": [
      "Evaluation 195: -1.8349123077686496\n"
     ]
    },
    {
     "name": "stderr",
     "output_type": "stream",
     "text": [
      "runtime_job._stream_results:WARNING:2023-08-18 14:48:12,533: An error occurred while streaming results for job cjfi4el7ui1f8qaugdh0:\n",
      "Traceback (most recent call last):\n",
      "  File \"/home/gluonhiggs/.pyenv/versions/anaconda3-2023.03/envs/qiskit-runtime/lib/python3.10/site-packages/qiskit_ibm_runtime/runtime_job.py\", line 534, in _stream_results\n",
      "    user_callback(self.job_id(), _decoder.decode(response))\n",
      "TypeError: 'list' object is not callable\n",
      "\n",
      "runtime_job._stream_results:WARNING:2023-08-18 14:48:19,786: An error occurred while streaming results for job cjfi4g8cs414jvgqk4og:\n",
      "Traceback (most recent call last):\n",
      "  File \"/home/gluonhiggs/.pyenv/versions/anaconda3-2023.03/envs/qiskit-runtime/lib/python3.10/site-packages/qiskit_ibm_runtime/runtime_job.py\", line 534, in _stream_results\n",
      "    user_callback(self.job_id(), _decoder.decode(response))\n",
      "TypeError: 'list' object is not callable\n",
      "\n",
      "runtime_job._stream_results:WARNING:2023-08-18 14:48:23,085: An error occurred while streaming results for job cjfi4hc5hqba8918oueg:\n",
      "Traceback (most recent call last):\n",
      "  File \"/home/gluonhiggs/.pyenv/versions/anaconda3-2023.03/envs/qiskit-runtime/lib/python3.10/site-packages/qiskit_ibm_runtime/runtime_job.py\", line 534, in _stream_results\n",
      "    user_callback(self.job_id(), _decoder.decode(response))\n",
      "TypeError: 'list' object is not callable\n",
      "\n"
     ]
    },
    {
     "name": "stdout",
     "output_type": "stream",
     "text": [
      "Evaluation 198: -1.8362276078629653\n"
     ]
    },
    {
     "name": "stderr",
     "output_type": "stream",
     "text": [
      "runtime_job._stream_results:WARNING:2023-08-18 14:48:26,605: An error occurred while streaming results for job cjfi4i76dei0664ltimg:\n",
      "Traceback (most recent call last):\n",
      "  File \"/home/gluonhiggs/.pyenv/versions/anaconda3-2023.03/envs/qiskit-runtime/lib/python3.10/site-packages/qiskit_ibm_runtime/runtime_job.py\", line 534, in _stream_results\n",
      "    user_callback(self.job_id(), _decoder.decode(response))\n",
      "TypeError: 'list' object is not callable\n",
      "\n",
      "runtime_job._stream_results:WARNING:2023-08-18 14:48:30,433: An error occurred while streaming results for job cjfi4irie1jj2ila2m8g:\n",
      "Traceback (most recent call last):\n",
      "  File \"/home/gluonhiggs/.pyenv/versions/anaconda3-2023.03/envs/qiskit-runtime/lib/python3.10/site-packages/qiskit_ibm_runtime/runtime_job.py\", line 534, in _stream_results\n",
      "    user_callback(self.job_id(), _decoder.decode(response))\n",
      "TypeError: 'list' object is not callable\n",
      "\n",
      "runtime_job._stream_results:WARNING:2023-08-18 14:48:34,344: An error occurred while streaming results for job cjfi4jocs414jvgqk8cg:\n",
      "Traceback (most recent call last):\n",
      "  File \"/home/gluonhiggs/.pyenv/versions/anaconda3-2023.03/envs/qiskit-runtime/lib/python3.10/site-packages/qiskit_ibm_runtime/runtime_job.py\", line 534, in _stream_results\n",
      "    user_callback(self.job_id(), _decoder.decode(response))\n",
      "TypeError: 'list' object is not callable\n",
      "\n"
     ]
    },
    {
     "name": "stdout",
     "output_type": "stream",
     "text": [
      "Evaluation 201: -1.8303312053246312\n"
     ]
    },
    {
     "name": "stderr",
     "output_type": "stream",
     "text": [
      "runtime_job._stream_results:WARNING:2023-08-18 14:48:38,338: An error occurred while streaming results for job cjfi4kt7ui1f8qaughsg:\n",
      "Traceback (most recent call last):\n",
      "  File \"/home/gluonhiggs/.pyenv/versions/anaconda3-2023.03/envs/qiskit-runtime/lib/python3.10/site-packages/qiskit_ibm_runtime/runtime_job.py\", line 534, in _stream_results\n",
      "    user_callback(self.job_id(), _decoder.decode(response))\n",
      "TypeError: 'list' object is not callable\n",
      "\n",
      "runtime_job._stream_results:WARNING:2023-08-18 14:48:47,787: An error occurred while streaming results for job cjfi4n76dei0664ltnm0:\n",
      "Traceback (most recent call last):\n",
      "  File \"/home/gluonhiggs/.pyenv/versions/anaconda3-2023.03/envs/qiskit-runtime/lib/python3.10/site-packages/qiskit_ibm_runtime/runtime_job.py\", line 534, in _stream_results\n",
      "    user_callback(self.job_id(), _decoder.decode(response))\n",
      "TypeError: 'list' object is not callable\n",
      "\n",
      "runtime_job._stream_results:WARNING:2023-08-18 14:48:53,624: An error occurred while streaming results for job cjfi4of6dei0664ltp5g:\n",
      "Traceback (most recent call last):\n",
      "  File \"/home/gluonhiggs/.pyenv/versions/anaconda3-2023.03/envs/qiskit-runtime/lib/python3.10/site-packages/qiskit_ibm_runtime/runtime_job.py\", line 534, in _stream_results\n",
      "    user_callback(self.job_id(), _decoder.decode(response))\n",
      "TypeError: 'list' object is not callable\n",
      "\n"
     ]
    },
    {
     "name": "stdout",
     "output_type": "stream",
     "text": [
      "Evaluation 204: -1.841583971693109\n"
     ]
    },
    {
     "name": "stderr",
     "output_type": "stream",
     "text": [
      "runtime_job._stream_results:WARNING:2023-08-18 14:48:59,562: An error occurred while streaming results for job cjfi4q0cs414jvgqkfl0:\n",
      "Traceback (most recent call last):\n",
      "  File \"/home/gluonhiggs/.pyenv/versions/anaconda3-2023.03/envs/qiskit-runtime/lib/python3.10/site-packages/qiskit_ibm_runtime/runtime_job.py\", line 534, in _stream_results\n",
      "    user_callback(self.job_id(), _decoder.decode(response))\n",
      "TypeError: 'list' object is not callable\n",
      "\n",
      "runtime_job._stream_results:WARNING:2023-08-18 14:49:03,044: An error occurred while streaming results for job cjfi4r7bq0tlksv8o8p0:\n",
      "Traceback (most recent call last):\n",
      "  File \"/home/gluonhiggs/.pyenv/versions/anaconda3-2023.03/envs/qiskit-runtime/lib/python3.10/site-packages/qiskit_ibm_runtime/runtime_job.py\", line 534, in _stream_results\n",
      "    user_callback(self.job_id(), _decoder.decode(response))\n",
      "TypeError: 'list' object is not callable\n",
      "\n",
      "runtime_job._stream_results:WARNING:2023-08-18 14:49:06,013: An error occurred while streaming results for job cjfi4s76dei0664ltt90:\n",
      "Traceback (most recent call last):\n",
      "  File \"/home/gluonhiggs/.pyenv/versions/anaconda3-2023.03/envs/qiskit-runtime/lib/python3.10/site-packages/qiskit_ibm_runtime/runtime_job.py\", line 534, in _stream_results\n",
      "    user_callback(self.job_id(), _decoder.decode(response))\n",
      "TypeError: 'list' object is not callable\n",
      "\n"
     ]
    },
    {
     "name": "stdout",
     "output_type": "stream",
     "text": [
      "Evaluation 207: -1.839280451308885\n"
     ]
    },
    {
     "name": "stderr",
     "output_type": "stream",
     "text": [
      "runtime_job._stream_results:WARNING:2023-08-18 14:49:15,005: An error occurred while streaming results for job cjfi4u8cs414jvgqkjvg:\n",
      "Traceback (most recent call last):\n",
      "  File \"/home/gluonhiggs/.pyenv/versions/anaconda3-2023.03/envs/qiskit-runtime/lib/python3.10/site-packages/qiskit_ibm_runtime/runtime_job.py\", line 534, in _stream_results\n",
      "    user_callback(self.job_id(), _decoder.decode(response))\n",
      "TypeError: 'list' object is not callable\n",
      "\n",
      "runtime_job._stream_results:WARNING:2023-08-18 14:49:18,506: An error occurred while streaming results for job cjfi4v45hqba8918pe1g:\n",
      "Traceback (most recent call last):\n",
      "  File \"/home/gluonhiggs/.pyenv/versions/anaconda3-2023.03/envs/qiskit-runtime/lib/python3.10/site-packages/qiskit_ibm_runtime/runtime_job.py\", line 534, in _stream_results\n",
      "    user_callback(self.job_id(), _decoder.decode(response))\n",
      "TypeError: 'list' object is not callable\n",
      "\n",
      "runtime_job._stream_results:WARNING:2023-08-18 14:49:21,884: An error occurred while streaming results for job cjfi4vocs414jvgqklf0:\n",
      "Traceback (most recent call last):\n",
      "  File \"/home/gluonhiggs/.pyenv/versions/anaconda3-2023.03/envs/qiskit-runtime/lib/python3.10/site-packages/qiskit_ibm_runtime/runtime_job.py\", line 534, in _stream_results\n",
      "    user_callback(self.job_id(), _decoder.decode(response))\n",
      "TypeError: 'list' object is not callable\n",
      "\n"
     ]
    },
    {
     "name": "stdout",
     "output_type": "stream",
     "text": [
      "Evaluation 210: -1.839392054971245\n"
     ]
    },
    {
     "name": "stderr",
     "output_type": "stream",
     "text": [
      "runtime_job._stream_results:WARNING:2023-08-18 14:49:26,289: An error occurred while streaming results for job cjfi50vbq0tlksv8oei0:\n",
      "Traceback (most recent call last):\n",
      "  File \"/home/gluonhiggs/.pyenv/versions/anaconda3-2023.03/envs/qiskit-runtime/lib/python3.10/site-packages/qiskit_ibm_runtime/runtime_job.py\", line 534, in _stream_results\n",
      "    user_callback(self.job_id(), _decoder.decode(response))\n",
      "TypeError: 'list' object is not callable\n",
      "\n",
      "runtime_job._stream_results:WARNING:2023-08-18 14:49:30,077: An error occurred while streaming results for job cjfi51rie1jj2ila38fg:\n",
      "Traceback (most recent call last):\n",
      "  File \"/home/gluonhiggs/.pyenv/versions/anaconda3-2023.03/envs/qiskit-runtime/lib/python3.10/site-packages/qiskit_ibm_runtime/runtime_job.py\", line 534, in _stream_results\n",
      "    user_callback(self.job_id(), _decoder.decode(response))\n",
      "TypeError: 'list' object is not callable\n",
      "\n",
      "runtime_job._stream_results:WARNING:2023-08-18 14:49:36,323: An error occurred while streaming results for job cjfi53c5hqba8918pj80:\n",
      "Traceback (most recent call last):\n",
      "  File \"/home/gluonhiggs/.pyenv/versions/anaconda3-2023.03/envs/qiskit-runtime/lib/python3.10/site-packages/qiskit_ibm_runtime/runtime_job.py\", line 534, in _stream_results\n",
      "    user_callback(self.job_id(), _decoder.decode(response))\n",
      "TypeError: 'list' object is not callable\n",
      "\n"
     ]
    },
    {
     "name": "stdout",
     "output_type": "stream",
     "text": [
      "Evaluation 213: -1.8403815848320668\n"
     ]
    },
    {
     "name": "stderr",
     "output_type": "stream",
     "text": [
      "runtime_job._stream_results:WARNING:2023-08-18 14:49:40,727: An error occurred while streaming results for job cjfi54f6dei0664lu67g:\n",
      "Traceback (most recent call last):\n",
      "  File \"/home/gluonhiggs/.pyenv/versions/anaconda3-2023.03/envs/qiskit-runtime/lib/python3.10/site-packages/qiskit_ibm_runtime/runtime_job.py\", line 534, in _stream_results\n",
      "    user_callback(self.job_id(), _decoder.decode(response))\n",
      "TypeError: 'list' object is not callable\n",
      "\n",
      "runtime_job._stream_results:WARNING:2023-08-18 14:49:46,462: An error occurred while streaming results for job cjfi563ie1jj2ila3dag:\n",
      "Traceback (most recent call last):\n",
      "  File \"/home/gluonhiggs/.pyenv/versions/anaconda3-2023.03/envs/qiskit-runtime/lib/python3.10/site-packages/qiskit_ibm_runtime/runtime_job.py\", line 534, in _stream_results\n",
      "    user_callback(self.job_id(), _decoder.decode(response))\n",
      "TypeError: 'list' object is not callable\n",
      "\n",
      "runtime_job._stream_results:WARNING:2023-08-18 14:49:50,044: An error occurred while streaming results for job cjfi56vbq0tlksv8omog:\n",
      "Traceback (most recent call last):\n",
      "  File \"/home/gluonhiggs/.pyenv/versions/anaconda3-2023.03/envs/qiskit-runtime/lib/python3.10/site-packages/qiskit_ibm_runtime/runtime_job.py\", line 534, in _stream_results\n",
      "    user_callback(self.job_id(), _decoder.decode(response))\n",
      "TypeError: 'list' object is not callable\n",
      "\n"
     ]
    },
    {
     "name": "stdout",
     "output_type": "stream",
     "text": [
      "Evaluation 216: -1.833702072425441\n"
     ]
    },
    {
     "name": "stderr",
     "output_type": "stream",
     "text": [
      "runtime_job._stream_results:WARNING:2023-08-18 14:49:56,600: An error occurred while streaming results for job cjfi58l7ui1f8qauh760:\n",
      "Traceback (most recent call last):\n",
      "  File \"/home/gluonhiggs/.pyenv/versions/anaconda3-2023.03/envs/qiskit-runtime/lib/python3.10/site-packages/qiskit_ibm_runtime/runtime_job.py\", line 534, in _stream_results\n",
      "    user_callback(self.job_id(), _decoder.decode(response))\n",
      "TypeError: 'list' object is not callable\n",
      "\n",
      "runtime_job._stream_results:WARNING:2023-08-18 14:50:09,808: An error occurred while streaming results for job cjfi59gcs414jvgql0b0:\n",
      "Traceback (most recent call last):\n",
      "  File \"/home/gluonhiggs/.pyenv/versions/anaconda3-2023.03/envs/qiskit-runtime/lib/python3.10/site-packages/qiskit_ibm_runtime/runtime_job.py\", line 534, in _stream_results\n",
      "    user_callback(self.job_id(), _decoder.decode(response))\n",
      "TypeError: 'list' object is not callable\n",
      "\n",
      "runtime_job._stream_results:WARNING:2023-08-18 14:50:13,598: An error occurred while streaming results for job cjfi5cvbq0tlksv8oul0:\n",
      "Traceback (most recent call last):\n",
      "  File \"/home/gluonhiggs/.pyenv/versions/anaconda3-2023.03/envs/qiskit-runtime/lib/python3.10/site-packages/qiskit_ibm_runtime/runtime_job.py\", line 534, in _stream_results\n",
      "    user_callback(self.job_id(), _decoder.decode(response))\n",
      "TypeError: 'list' object is not callable\n",
      "\n"
     ]
    },
    {
     "name": "stdout",
     "output_type": "stream",
     "text": [
      "Evaluation 219: -1.8314971922872694\n"
     ]
    },
    {
     "name": "stderr",
     "output_type": "stream",
     "text": [
      "runtime_job._stream_results:WARNING:2023-08-18 14:50:17,233: An error occurred while streaming results for job cjfi5dgcs414jvgql67g:\n",
      "Traceback (most recent call last):\n",
      "  File \"/home/gluonhiggs/.pyenv/versions/anaconda3-2023.03/envs/qiskit-runtime/lib/python3.10/site-packages/qiskit_ibm_runtime/runtime_job.py\", line 534, in _stream_results\n",
      "    user_callback(self.job_id(), _decoder.decode(response))\n",
      "TypeError: 'list' object is not callable\n",
      "\n",
      "runtime_job._stream_results:WARNING:2023-08-18 14:50:20,708: An error occurred while streaming results for job cjfi5ejie1jj2ila3oa0:\n",
      "Traceback (most recent call last):\n",
      "  File \"/home/gluonhiggs/.pyenv/versions/anaconda3-2023.03/envs/qiskit-runtime/lib/python3.10/site-packages/qiskit_ibm_runtime/runtime_job.py\", line 534, in _stream_results\n",
      "    user_callback(self.job_id(), _decoder.decode(response))\n",
      "TypeError: 'list' object is not callable\n",
      "\n",
      "runtime_job._stream_results:WARNING:2023-08-18 14:50:24,453: An error occurred while streaming results for job cjfi5fn6dei0664lukkg:\n",
      "Traceback (most recent call last):\n",
      "  File \"/home/gluonhiggs/.pyenv/versions/anaconda3-2023.03/envs/qiskit-runtime/lib/python3.10/site-packages/qiskit_ibm_runtime/runtime_job.py\", line 534, in _stream_results\n",
      "    user_callback(self.job_id(), _decoder.decode(response))\n",
      "TypeError: 'list' object is not callable\n",
      "\n"
     ]
    },
    {
     "name": "stdout",
     "output_type": "stream",
     "text": [
      "Evaluation 222: -1.8365439777175252\n"
     ]
    },
    {
     "name": "stderr",
     "output_type": "stream",
     "text": [
      "runtime_job._stream_results:WARNING:2023-08-18 14:50:33,157: An error occurred while streaming results for job cjfi5hn6dei0664lum70:\n",
      "Traceback (most recent call last):\n",
      "  File \"/home/gluonhiggs/.pyenv/versions/anaconda3-2023.03/envs/qiskit-runtime/lib/python3.10/site-packages/qiskit_ibm_runtime/runtime_job.py\", line 534, in _stream_results\n",
      "    user_callback(self.job_id(), _decoder.decode(response))\n",
      "TypeError: 'list' object is not callable\n",
      "\n",
      "runtime_job._stream_results:WARNING:2023-08-18 14:50:36,219: An error occurred while streaming results for job cjfi5in6dei0664luo10:\n",
      "Traceback (most recent call last):\n",
      "  File \"/home/gluonhiggs/.pyenv/versions/anaconda3-2023.03/envs/qiskit-runtime/lib/python3.10/site-packages/qiskit_ibm_runtime/runtime_job.py\", line 534, in _stream_results\n",
      "    user_callback(self.job_id(), _decoder.decode(response))\n",
      "TypeError: 'list' object is not callable\n",
      "\n",
      "runtime_job._stream_results:WARNING:2023-08-18 14:50:40,376: An error occurred while streaming results for job cjfi5jbie1jj2ila3u9g:\n",
      "Traceback (most recent call last):\n",
      "  File \"/home/gluonhiggs/.pyenv/versions/anaconda3-2023.03/envs/qiskit-runtime/lib/python3.10/site-packages/qiskit_ibm_runtime/runtime_job.py\", line 534, in _stream_results\n",
      "    user_callback(self.job_id(), _decoder.decode(response))\n",
      "TypeError: 'list' object is not callable\n",
      "\n"
     ]
    },
    {
     "name": "stdout",
     "output_type": "stream",
     "text": [
      "Evaluation 225: -1.8375659556412125\n"
     ]
    },
    {
     "name": "stderr",
     "output_type": "stream",
     "text": [
      "runtime_job._stream_results:WARNING:2023-08-18 14:50:43,762: An error occurred while streaming results for job cjfi5kc5hqba8918qah0:\n",
      "Traceback (most recent call last):\n",
      "  File \"/home/gluonhiggs/.pyenv/versions/anaconda3-2023.03/envs/qiskit-runtime/lib/python3.10/site-packages/qiskit_ibm_runtime/runtime_job.py\", line 534, in _stream_results\n",
      "    user_callback(self.job_id(), _decoder.decode(response))\n",
      "TypeError: 'list' object is not callable\n",
      "\n",
      "runtime_job._stream_results:WARNING:2023-08-18 14:50:48,312: An error occurred while streaming results for job cjfi5lc5hqba8918qbc0:\n",
      "Traceback (most recent call last):\n",
      "  File \"/home/gluonhiggs/.pyenv/versions/anaconda3-2023.03/envs/qiskit-runtime/lib/python3.10/site-packages/qiskit_ibm_runtime/runtime_job.py\", line 534, in _stream_results\n",
      "    user_callback(self.job_id(), _decoder.decode(response))\n",
      "TypeError: 'list' object is not callable\n",
      "\n",
      "runtime_job._stream_results:WARNING:2023-08-18 14:50:54,455: An error occurred while streaming results for job cjfi5mc5hqba8918qcq0:\n",
      "Traceback (most recent call last):\n",
      "  File \"/home/gluonhiggs/.pyenv/versions/anaconda3-2023.03/envs/qiskit-runtime/lib/python3.10/site-packages/qiskit_ibm_runtime/runtime_job.py\", line 534, in _stream_results\n",
      "    user_callback(self.job_id(), _decoder.decode(response))\n",
      "TypeError: 'list' object is not callable\n",
      "\n"
     ]
    },
    {
     "name": "stdout",
     "output_type": "stream",
     "text": [
      "Evaluation 228: -1.8328310841539617\n"
     ]
    },
    {
     "name": "stderr",
     "output_type": "stream",
     "text": [
      "runtime_job._stream_results:WARNING:2023-08-18 14:50:58,141: An error occurred while streaming results for job cjfi5nt7ui1f8qauht70:\n",
      "Traceback (most recent call last):\n",
      "  File \"/home/gluonhiggs/.pyenv/versions/anaconda3-2023.03/envs/qiskit-runtime/lib/python3.10/site-packages/qiskit_ibm_runtime/runtime_job.py\", line 534, in _stream_results\n",
      "    user_callback(self.job_id(), _decoder.decode(response))\n",
      "TypeError: 'list' object is not callable\n",
      "\n",
      "runtime_job._stream_results:WARNING:2023-08-18 14:51:02,443: An error occurred while streaming results for job cjfi5orie1jj2ila459g:\n",
      "Traceback (most recent call last):\n",
      "  File \"/home/gluonhiggs/.pyenv/versions/anaconda3-2023.03/envs/qiskit-runtime/lib/python3.10/site-packages/qiskit_ibm_runtime/runtime_job.py\", line 534, in _stream_results\n",
      "    user_callback(self.job_id(), _decoder.decode(response))\n",
      "TypeError: 'list' object is not callable\n",
      "\n",
      "runtime_job._stream_results:WARNING:2023-08-18 14:51:06,130: An error occurred while streaming results for job cjfi5pv6dei0664lv1tg:\n",
      "Traceback (most recent call last):\n",
      "  File \"/home/gluonhiggs/.pyenv/versions/anaconda3-2023.03/envs/qiskit-runtime/lib/python3.10/site-packages/qiskit_ibm_runtime/runtime_job.py\", line 534, in _stream_results\n",
      "    user_callback(self.job_id(), _decoder.decode(response))\n",
      "TypeError: 'list' object is not callable\n",
      "\n"
     ]
    },
    {
     "name": "stdout",
     "output_type": "stream",
     "text": [
      "Evaluation 231: -1.84137193066878\n"
     ]
    },
    {
     "name": "stderr",
     "output_type": "stream",
     "text": [
      "runtime_job._stream_results:WARNING:2023-08-18 14:51:09,590: An error occurred while streaming results for job cjfi5qt7ui1f8qaui0eg:\n",
      "Traceback (most recent call last):\n",
      "  File \"/home/gluonhiggs/.pyenv/versions/anaconda3-2023.03/envs/qiskit-runtime/lib/python3.10/site-packages/qiskit_ibm_runtime/runtime_job.py\", line 534, in _stream_results\n",
      "    user_callback(self.job_id(), _decoder.decode(response))\n",
      "TypeError: 'list' object is not callable\n",
      "\n",
      "runtime_job._stream_results:WARNING:2023-08-18 14:51:13,416: An error occurred while streaming results for job cjfi5rnbq0tlksv8piig:\n",
      "Traceback (most recent call last):\n",
      "  File \"/home/gluonhiggs/.pyenv/versions/anaconda3-2023.03/envs/qiskit-runtime/lib/python3.10/site-packages/qiskit_ibm_runtime/runtime_job.py\", line 534, in _stream_results\n",
      "    user_callback(self.job_id(), _decoder.decode(response))\n",
      "TypeError: 'list' object is not callable\n",
      "\n",
      "runtime_job._stream_results:WARNING:2023-08-18 14:51:16,987: An error occurred while streaming results for job cjfi5sl7ui1f8qaui380:\n",
      "Traceback (most recent call last):\n",
      "  File \"/home/gluonhiggs/.pyenv/versions/anaconda3-2023.03/envs/qiskit-runtime/lib/python3.10/site-packages/qiskit_ibm_runtime/runtime_job.py\", line 534, in _stream_results\n",
      "    user_callback(self.job_id(), _decoder.decode(response))\n",
      "TypeError: 'list' object is not callable\n",
      "\n"
     ]
    },
    {
     "name": "stdout",
     "output_type": "stream",
     "text": [
      "Evaluation 234: -1.8397121147720132\n"
     ]
    },
    {
     "name": "stderr",
     "output_type": "stream",
     "text": [
      "runtime_job._stream_results:WARNING:2023-08-18 14:51:20,476: An error occurred while streaming results for job cjfi5tgcs414jvgqlqig:\n",
      "Traceback (most recent call last):\n",
      "  File \"/home/gluonhiggs/.pyenv/versions/anaconda3-2023.03/envs/qiskit-runtime/lib/python3.10/site-packages/qiskit_ibm_runtime/runtime_job.py\", line 534, in _stream_results\n",
      "    user_callback(self.job_id(), _decoder.decode(response))\n",
      "TypeError: 'list' object is not callable\n",
      "\n",
      "runtime_job._stream_results:WARNING:2023-08-18 14:51:28,966: An error occurred while streaming results for job cjfi5vjie1jj2ila4cb0:\n",
      "Traceback (most recent call last):\n",
      "  File \"/home/gluonhiggs/.pyenv/versions/anaconda3-2023.03/envs/qiskit-runtime/lib/python3.10/site-packages/qiskit_ibm_runtime/runtime_job.py\", line 534, in _stream_results\n",
      "    user_callback(self.job_id(), _decoder.decode(response))\n",
      "TypeError: 'list' object is not callable\n",
      "\n",
      "runtime_job._stream_results:WARNING:2023-08-18 14:51:33,068: An error occurred while streaming results for job cjfi60k5hqba8918qof0:\n",
      "Traceback (most recent call last):\n",
      "  File \"/home/gluonhiggs/.pyenv/versions/anaconda3-2023.03/envs/qiskit-runtime/lib/python3.10/site-packages/qiskit_ibm_runtime/runtime_job.py\", line 534, in _stream_results\n",
      "    user_callback(self.job_id(), _decoder.decode(response))\n",
      "TypeError: 'list' object is not callable\n",
      "\n"
     ]
    },
    {
     "name": "stdout",
     "output_type": "stream",
     "text": [
      "Evaluation 237: -1.8441488110438247\n"
     ]
    },
    {
     "name": "stderr",
     "output_type": "stream",
     "text": [
      "runtime_job._stream_results:WARNING:2023-08-18 14:51:37,259: An error occurred while streaming results for job cjfi61nbq0tlksv8pqfg:\n",
      "Traceback (most recent call last):\n",
      "  File \"/home/gluonhiggs/.pyenv/versions/anaconda3-2023.03/envs/qiskit-runtime/lib/python3.10/site-packages/qiskit_ibm_runtime/runtime_job.py\", line 534, in _stream_results\n",
      "    user_callback(self.job_id(), _decoder.decode(response))\n",
      "TypeError: 'list' object is not callable\n",
      "\n",
      "runtime_job._stream_results:WARNING:2023-08-18 14:51:41,355: An error occurred while streaming results for job cjfi62n6dei0664lvdg0:\n",
      "Traceback (most recent call last):\n",
      "  File \"/home/gluonhiggs/.pyenv/versions/anaconda3-2023.03/envs/qiskit-runtime/lib/python3.10/site-packages/qiskit_ibm_runtime/runtime_job.py\", line 534, in _stream_results\n",
      "    user_callback(self.job_id(), _decoder.decode(response))\n",
      "TypeError: 'list' object is not callable\n",
      "\n",
      "runtime_job._stream_results:WARNING:2023-08-18 14:51:44,368: An error occurred while streaming results for job cjfi63nbq0tlksv8psi0:\n",
      "Traceback (most recent call last):\n",
      "  File \"/home/gluonhiggs/.pyenv/versions/anaconda3-2023.03/envs/qiskit-runtime/lib/python3.10/site-packages/qiskit_ibm_runtime/runtime_job.py\", line 534, in _stream_results\n",
      "    user_callback(self.job_id(), _decoder.decode(response))\n",
      "TypeError: 'list' object is not callable\n",
      "\n"
     ]
    },
    {
     "name": "stdout",
     "output_type": "stream",
     "text": [
      "Evaluation 240: -1.8414179793219914\n"
     ]
    },
    {
     "name": "stderr",
     "output_type": "stream",
     "text": [
      "runtime_job._stream_results:WARNING:2023-08-18 14:51:47,909: An error occurred while streaming results for job cjfi64f6dei0664lvfog:\n",
      "Traceback (most recent call last):\n",
      "  File \"/home/gluonhiggs/.pyenv/versions/anaconda3-2023.03/envs/qiskit-runtime/lib/python3.10/site-packages/qiskit_ibm_runtime/runtime_job.py\", line 534, in _stream_results\n",
      "    user_callback(self.job_id(), _decoder.decode(response))\n",
      "TypeError: 'list' object is not callable\n",
      "\n",
      "runtime_job._stream_results:WARNING:2023-08-18 14:51:52,438: An error occurred while streaming results for job cjfi65d7ui1f8qauidhg:\n",
      "Traceback (most recent call last):\n",
      "  File \"/home/gluonhiggs/.pyenv/versions/anaconda3-2023.03/envs/qiskit-runtime/lib/python3.10/site-packages/qiskit_ibm_runtime/runtime_job.py\", line 534, in _stream_results\n",
      "    user_callback(self.job_id(), _decoder.decode(response))\n",
      "TypeError: 'list' object is not callable\n",
      "\n",
      "runtime_job._stream_results:WARNING:2023-08-18 14:51:57,396: An error occurred while streaming results for job cjfi66rie1jj2ila4mfg:\n",
      "Traceback (most recent call last):\n",
      "  File \"/home/gluonhiggs/.pyenv/versions/anaconda3-2023.03/envs/qiskit-runtime/lib/python3.10/site-packages/qiskit_ibm_runtime/runtime_job.py\", line 534, in _stream_results\n",
      "    user_callback(self.job_id(), _decoder.decode(response))\n",
      "TypeError: 'list' object is not callable\n",
      "\n"
     ]
    },
    {
     "name": "stdout",
     "output_type": "stream",
     "text": [
      "Evaluation 243: -1.8363937083268334\n"
     ]
    },
    {
     "name": "stderr",
     "output_type": "stream",
     "text": [
      "runtime_job._stream_results:WARNING:2023-08-18 14:52:01,631: An error occurred while streaming results for job cjfi67k5hqba8918r1l0:\n",
      "Traceback (most recent call last):\n",
      "  File \"/home/gluonhiggs/.pyenv/versions/anaconda3-2023.03/envs/qiskit-runtime/lib/python3.10/site-packages/qiskit_ibm_runtime/runtime_job.py\", line 534, in _stream_results\n",
      "    user_callback(self.job_id(), _decoder.decode(response))\n",
      "TypeError: 'list' object is not callable\n",
      "\n",
      "runtime_job._stream_results:WARNING:2023-08-18 14:52:05,157: An error occurred while streaming results for job cjfi68v6dei0664lvlr0:\n",
      "Traceback (most recent call last):\n",
      "  File \"/home/gluonhiggs/.pyenv/versions/anaconda3-2023.03/envs/qiskit-runtime/lib/python3.10/site-packages/qiskit_ibm_runtime/runtime_job.py\", line 534, in _stream_results\n",
      "    user_callback(self.job_id(), _decoder.decode(response))\n",
      "TypeError: 'list' object is not callable\n",
      "\n",
      "runtime_job._stream_results:WARNING:2023-08-18 14:52:09,004: An error occurred while streaming results for job cjfi69gcs414jvgqmahg:\n",
      "Traceback (most recent call last):\n",
      "  File \"/home/gluonhiggs/.pyenv/versions/anaconda3-2023.03/envs/qiskit-runtime/lib/python3.10/site-packages/qiskit_ibm_runtime/runtime_job.py\", line 534, in _stream_results\n",
      "    user_callback(self.job_id(), _decoder.decode(response))\n",
      "TypeError: 'list' object is not callable\n",
      "\n"
     ]
    },
    {
     "name": "stdout",
     "output_type": "stream",
     "text": [
      "Evaluation 246: -1.8331556964672198\n"
     ]
    },
    {
     "name": "stderr",
     "output_type": "stream",
     "text": [
      "runtime_job._stream_results:WARNING:2023-08-18 14:52:12,188: An error occurred while streaming results for job cjfi6al7ui1f8qauik20:\n",
      "Traceback (most recent call last):\n",
      "  File \"/home/gluonhiggs/.pyenv/versions/anaconda3-2023.03/envs/qiskit-runtime/lib/python3.10/site-packages/qiskit_ibm_runtime/runtime_job.py\", line 534, in _stream_results\n",
      "    user_callback(self.job_id(), _decoder.decode(response))\n",
      "TypeError: 'list' object is not callable\n",
      "\n",
      "runtime_job._stream_results:WARNING:2023-08-18 14:52:15,763: An error occurred while streaming results for job cjfi6bc5hqba8918r7j0:\n",
      "Traceback (most recent call last):\n",
      "  File \"/home/gluonhiggs/.pyenv/versions/anaconda3-2023.03/envs/qiskit-runtime/lib/python3.10/site-packages/qiskit_ibm_runtime/runtime_job.py\", line 534, in _stream_results\n",
      "    user_callback(self.job_id(), _decoder.decode(response))\n",
      "TypeError: 'list' object is not callable\n",
      "\n",
      "runtime_job._stream_results:WARNING:2023-08-18 14:52:19,505: An error occurred while streaming results for job cjfi6cfbq0tlksv8q94g:\n",
      "Traceback (most recent call last):\n",
      "  File \"/home/gluonhiggs/.pyenv/versions/anaconda3-2023.03/envs/qiskit-runtime/lib/python3.10/site-packages/qiskit_ibm_runtime/runtime_job.py\", line 534, in _stream_results\n",
      "    user_callback(self.job_id(), _decoder.decode(response))\n",
      "TypeError: 'list' object is not callable\n",
      "\n"
     ]
    },
    {
     "name": "stdout",
     "output_type": "stream",
     "text": [
      "Evaluation 249: -1.8439668928959771\n"
     ]
    },
    {
     "name": "stderr",
     "output_type": "stream",
     "text": [
      "runtime_job._stream_results:WARNING:2023-08-18 14:52:27,641: An error occurred while streaming results for job cjfi6ef6dei0664lvsig:\n",
      "Traceback (most recent call last):\n",
      "  File \"/home/gluonhiggs/.pyenv/versions/anaconda3-2023.03/envs/qiskit-runtime/lib/python3.10/site-packages/qiskit_ibm_runtime/runtime_job.py\", line 534, in _stream_results\n",
      "    user_callback(self.job_id(), _decoder.decode(response))\n",
      "TypeError: 'list' object is not callable\n",
      "\n",
      "runtime_job._stream_results:WARNING:2023-08-18 14:52:30,919: An error occurred while streaming results for job cjfi6f76dei0664lvu2g:\n",
      "Traceback (most recent call last):\n",
      "  File \"/home/gluonhiggs/.pyenv/versions/anaconda3-2023.03/envs/qiskit-runtime/lib/python3.10/site-packages/qiskit_ibm_runtime/runtime_job.py\", line 534, in _stream_results\n",
      "    user_callback(self.job_id(), _decoder.decode(response))\n",
      "TypeError: 'list' object is not callable\n",
      "\n",
      "runtime_job._stream_results:WARNING:2023-08-18 14:52:34,707: An error occurred while streaming results for job cjfi6g7bq0tlksv8qctg:\n",
      "Traceback (most recent call last):\n",
      "  File \"/home/gluonhiggs/.pyenv/versions/anaconda3-2023.03/envs/qiskit-runtime/lib/python3.10/site-packages/qiskit_ibm_runtime/runtime_job.py\", line 534, in _stream_results\n",
      "    user_callback(self.job_id(), _decoder.decode(response))\n",
      "TypeError: 'list' object is not callable\n",
      "\n"
     ]
    },
    {
     "name": "stdout",
     "output_type": "stream",
     "text": [
      "Evaluation 252: -1.8522462364640846\n"
     ]
    },
    {
     "name": "stderr",
     "output_type": "stream",
     "text": [
      "runtime_job._stream_results:WARNING:2023-08-18 14:52:37,735: An error occurred while streaming results for job cjfi6gocs414jvgqmjo0:\n",
      "Traceback (most recent call last):\n",
      "  File \"/home/gluonhiggs/.pyenv/versions/anaconda3-2023.03/envs/qiskit-runtime/lib/python3.10/site-packages/qiskit_ibm_runtime/runtime_job.py\", line 534, in _stream_results\n",
      "    user_callback(self.job_id(), _decoder.decode(response))\n",
      "TypeError: 'list' object is not callable\n",
      "\n",
      "runtime_job._stream_results:WARNING:2023-08-18 14:52:41,320: An error occurred while streaming results for job cjfi6hgcs414jvgqmkfg:\n",
      "Traceback (most recent call last):\n",
      "  File \"/home/gluonhiggs/.pyenv/versions/anaconda3-2023.03/envs/qiskit-runtime/lib/python3.10/site-packages/qiskit_ibm_runtime/runtime_job.py\", line 534, in _stream_results\n",
      "    user_callback(self.job_id(), _decoder.decode(response))\n",
      "TypeError: 'list' object is not callable\n",
      "\n",
      "runtime_job._stream_results:WARNING:2023-08-18 14:52:58,464: An error occurred while streaming results for job cjfi6jrie1jj2ila589g:\n",
      "Traceback (most recent call last):\n",
      "  File \"/home/gluonhiggs/.pyenv/versions/anaconda3-2023.03/envs/qiskit-runtime/lib/python3.10/site-packages/qiskit_ibm_runtime/runtime_job.py\", line 534, in _stream_results\n",
      "    user_callback(self.job_id(), _decoder.decode(response))\n",
      "TypeError: 'list' object is not callable\n",
      "\n"
     ]
    },
    {
     "name": "stdout",
     "output_type": "stream",
     "text": [
      "Evaluation 255: -1.8494059266266953\n"
     ]
    },
    {
     "name": "stderr",
     "output_type": "stream",
     "text": [
      "runtime_job._stream_results:WARNING:2023-08-18 14:53:03,277: An error occurred while streaming results for job cjfi6mt7ui1f8qauj18g:\n",
      "Traceback (most recent call last):\n",
      "  File \"/home/gluonhiggs/.pyenv/versions/anaconda3-2023.03/envs/qiskit-runtime/lib/python3.10/site-packages/qiskit_ibm_runtime/runtime_job.py\", line 534, in _stream_results\n",
      "    user_callback(self.job_id(), _decoder.decode(response))\n",
      "TypeError: 'list' object is not callable\n",
      "\n",
      "runtime_job._stream_results:WARNING:2023-08-18 14:53:07,168: An error occurred while streaming results for job cjfi6o3ie1jj2ila5dm0:\n",
      "Traceback (most recent call last):\n",
      "  File \"/home/gluonhiggs/.pyenv/versions/anaconda3-2023.03/envs/qiskit-runtime/lib/python3.10/site-packages/qiskit_ibm_runtime/runtime_job.py\", line 534, in _stream_results\n",
      "    user_callback(self.job_id(), _decoder.decode(response))\n",
      "TypeError: 'list' object is not callable\n",
      "\n",
      "runtime_job._stream_results:WARNING:2023-08-18 14:53:10,755: An error occurred while streaming results for job cjfi6p45hqba8918rmm0:\n",
      "Traceback (most recent call last):\n",
      "  File \"/home/gluonhiggs/.pyenv/versions/anaconda3-2023.03/envs/qiskit-runtime/lib/python3.10/site-packages/qiskit_ibm_runtime/runtime_job.py\", line 534, in _stream_results\n",
      "    user_callback(self.job_id(), _decoder.decode(response))\n",
      "TypeError: 'list' object is not callable\n",
      "\n"
     ]
    },
    {
     "name": "stdout",
     "output_type": "stream",
     "text": [
      "Evaluation 258: -1.8390138261037636\n"
     ]
    },
    {
     "name": "stderr",
     "output_type": "stream",
     "text": [
      "runtime_job._stream_results:WARNING:2023-08-18 14:53:14,121: An error occurred while streaming results for job cjfi6pvbq0tlksv8qop0:\n",
      "Traceback (most recent call last):\n",
      "  File \"/home/gluonhiggs/.pyenv/versions/anaconda3-2023.03/envs/qiskit-runtime/lib/python3.10/site-packages/qiskit_ibm_runtime/runtime_job.py\", line 534, in _stream_results\n",
      "    user_callback(self.job_id(), _decoder.decode(response))\n",
      "TypeError: 'list' object is not callable\n",
      "\n",
      "runtime_job._stream_results:WARNING:2023-08-18 14:53:19,867: An error occurred while streaming results for job cjfi6rbie1jj2ila5htg:\n",
      "Traceback (most recent call last):\n",
      "  File \"/home/gluonhiggs/.pyenv/versions/anaconda3-2023.03/envs/qiskit-runtime/lib/python3.10/site-packages/qiskit_ibm_runtime/runtime_job.py\", line 534, in _stream_results\n",
      "    user_callback(self.job_id(), _decoder.decode(response))\n",
      "TypeError: 'list' object is not callable\n",
      "\n",
      "runtime_job._stream_results:WARNING:2023-08-18 14:53:23,383: An error occurred while streaming results for job cjfi6sd7ui1f8qauj8a0:\n",
      "Traceback (most recent call last):\n",
      "  File \"/home/gluonhiggs/.pyenv/versions/anaconda3-2023.03/envs/qiskit-runtime/lib/python3.10/site-packages/qiskit_ibm_runtime/runtime_job.py\", line 534, in _stream_results\n",
      "    user_callback(self.job_id(), _decoder.decode(response))\n",
      "TypeError: 'list' object is not callable\n",
      "\n"
     ]
    },
    {
     "name": "stdout",
     "output_type": "stream",
     "text": [
      "Evaluation 261: -1.839483451579628\n"
     ]
    },
    {
     "name": "stderr",
     "output_type": "stream",
     "text": [
      "runtime_job._stream_results:WARNING:2023-08-18 14:53:26,625: An error occurred while streaming results for job cjfi6t57ui1f8qauj9g0:\n",
      "Traceback (most recent call last):\n",
      "  File \"/home/gluonhiggs/.pyenv/versions/anaconda3-2023.03/envs/qiskit-runtime/lib/python3.10/site-packages/qiskit_ibm_runtime/runtime_job.py\", line 534, in _stream_results\n",
      "    user_callback(self.job_id(), _decoder.decode(response))\n",
      "TypeError: 'list' object is not callable\n",
      "\n",
      "runtime_job._stream_results:WARNING:2023-08-18 14:53:31,195: An error occurred while streaming results for job cjfi6tocs414jvgqn380:\n",
      "Traceback (most recent call last):\n",
      "  File \"/home/gluonhiggs/.pyenv/versions/anaconda3-2023.03/envs/qiskit-runtime/lib/python3.10/site-packages/qiskit_ibm_runtime/runtime_job.py\", line 534, in _stream_results\n",
      "    user_callback(self.job_id(), _decoder.decode(response))\n",
      "TypeError: 'list' object is not callable\n",
      "\n",
      "runtime_job._stream_results:WARNING:2023-08-18 14:53:36,457: An error occurred while streaming results for job cjfi6vf6dei0664m0ggg:\n",
      "Traceback (most recent call last):\n",
      "  File \"/home/gluonhiggs/.pyenv/versions/anaconda3-2023.03/envs/qiskit-runtime/lib/python3.10/site-packages/qiskit_ibm_runtime/runtime_job.py\", line 534, in _stream_results\n",
      "    user_callback(self.job_id(), _decoder.decode(response))\n",
      "TypeError: 'list' object is not callable\n",
      "\n"
     ]
    },
    {
     "name": "stdout",
     "output_type": "stream",
     "text": [
      "Evaluation 264: -1.837155381625249\n"
     ]
    },
    {
     "name": "stderr",
     "output_type": "stream",
     "text": [
      "runtime_job._stream_results:WARNING:2023-08-18 14:53:40,962: An error occurred while streaming results for job cjfi70f6dei0664m0heg:\n",
      "Traceback (most recent call last):\n",
      "  File \"/home/gluonhiggs/.pyenv/versions/anaconda3-2023.03/envs/qiskit-runtime/lib/python3.10/site-packages/qiskit_ibm_runtime/runtime_job.py\", line 534, in _stream_results\n",
      "    user_callback(self.job_id(), _decoder.decode(response))\n",
      "TypeError: 'list' object is not callable\n",
      "\n",
      "runtime_job._stream_results:WARNING:2023-08-18 14:53:44,009: An error occurred while streaming results for job cjfi71nbq0tlksv8qvi0:\n",
      "Traceback (most recent call last):\n",
      "  File \"/home/gluonhiggs/.pyenv/versions/anaconda3-2023.03/envs/qiskit-runtime/lib/python3.10/site-packages/qiskit_ibm_runtime/runtime_job.py\", line 534, in _stream_results\n",
      "    user_callback(self.job_id(), _decoder.decode(response))\n",
      "TypeError: 'list' object is not callable\n",
      "\n",
      "runtime_job._stream_results:WARNING:2023-08-18 14:53:48,540: An error occurred while streaming results for job cjfi72nbq0tlksv8r1bg:\n",
      "Traceback (most recent call last):\n",
      "  File \"/home/gluonhiggs/.pyenv/versions/anaconda3-2023.03/envs/qiskit-runtime/lib/python3.10/site-packages/qiskit_ibm_runtime/runtime_job.py\", line 534, in _stream_results\n",
      "    user_callback(self.job_id(), _decoder.decode(response))\n",
      "TypeError: 'list' object is not callable\n",
      "\n"
     ]
    },
    {
     "name": "stdout",
     "output_type": "stream",
     "text": [
      "Evaluation 267: -1.8384923095939298\n"
     ]
    },
    {
     "name": "stderr",
     "output_type": "stream",
     "text": [
      "runtime_job._stream_results:WARNING:2023-08-18 14:53:52,841: An error occurred while streaming results for job cjfi73c5hqba8918s2m0:\n",
      "Traceback (most recent call last):\n",
      "  File \"/home/gluonhiggs/.pyenv/versions/anaconda3-2023.03/envs/qiskit-runtime/lib/python3.10/site-packages/qiskit_ibm_runtime/runtime_job.py\", line 534, in _stream_results\n",
      "    user_callback(self.job_id(), _decoder.decode(response))\n",
      "TypeError: 'list' object is not callable\n",
      "\n",
      "runtime_job._stream_results:WARNING:2023-08-18 14:53:56,219: An error occurred while streaming results for job cjfi74c5hqba8918s3k0:\n",
      "Traceback (most recent call last):\n",
      "  File \"/home/gluonhiggs/.pyenv/versions/anaconda3-2023.03/envs/qiskit-runtime/lib/python3.10/site-packages/qiskit_ibm_runtime/runtime_job.py\", line 534, in _stream_results\n",
      "    user_callback(self.job_id(), _decoder.decode(response))\n",
      "TypeError: 'list' object is not callable\n",
      "\n",
      "runtime_job._stream_results:WARNING:2023-08-18 14:53:59,806: An error occurred while streaming results for job cjfi75c5hqba8918s5b0:\n",
      "Traceback (most recent call last):\n",
      "  File \"/home/gluonhiggs/.pyenv/versions/anaconda3-2023.03/envs/qiskit-runtime/lib/python3.10/site-packages/qiskit_ibm_runtime/runtime_job.py\", line 534, in _stream_results\n",
      "    user_callback(self.job_id(), _decoder.decode(response))\n",
      "TypeError: 'list' object is not callable\n",
      "\n"
     ]
    },
    {
     "name": "stdout",
     "output_type": "stream",
     "text": [
      "Evaluation 270: -1.8362517052501217\n"
     ]
    },
    {
     "name": "stderr",
     "output_type": "stream",
     "text": [
      "runtime_job._stream_results:WARNING:2023-08-18 14:54:05,246: An error occurred while streaming results for job cjfi76d7ui1f8qaujjvg:\n",
      "Traceback (most recent call last):\n",
      "  File \"/home/gluonhiggs/.pyenv/versions/anaconda3-2023.03/envs/qiskit-runtime/lib/python3.10/site-packages/qiskit_ibm_runtime/runtime_job.py\", line 534, in _stream_results\n",
      "    user_callback(self.job_id(), _decoder.decode(response))\n",
      "TypeError: 'list' object is not callable\n",
      "\n",
      "runtime_job._stream_results:WARNING:2023-08-18 14:54:08,813: An error occurred while streaming results for job cjfi77gcs414jvgqne80:\n",
      "Traceback (most recent call last):\n",
      "  File \"/home/gluonhiggs/.pyenv/versions/anaconda3-2023.03/envs/qiskit-runtime/lib/python3.10/site-packages/qiskit_ibm_runtime/runtime_job.py\", line 534, in _stream_results\n",
      "    user_callback(self.job_id(), _decoder.decode(response))\n",
      "TypeError: 'list' object is not callable\n",
      "\n",
      "runtime_job._stream_results:WARNING:2023-08-18 14:54:17,269: An error occurred while streaming results for job cjfi79rie1jj2ila6260:\n",
      "Traceback (most recent call last):\n",
      "  File \"/home/gluonhiggs/.pyenv/versions/anaconda3-2023.03/envs/qiskit-runtime/lib/python3.10/site-packages/qiskit_ibm_runtime/runtime_job.py\", line 534, in _stream_results\n",
      "    user_callback(self.job_id(), _decoder.decode(response))\n",
      "TypeError: 'list' object is not callable\n",
      "\n"
     ]
    },
    {
     "name": "stdout",
     "output_type": "stream",
     "text": [
      "Evaluation 273: -1.8340009220593974\n"
     ]
    },
    {
     "name": "stderr",
     "output_type": "stream",
     "text": [
      "runtime_job._stream_results:WARNING:2023-08-18 14:54:21,228: An error occurred while streaming results for job cjfi7ak5hqba8918sct0:\n",
      "Traceback (most recent call last):\n",
      "  File \"/home/gluonhiggs/.pyenv/versions/anaconda3-2023.03/envs/qiskit-runtime/lib/python3.10/site-packages/qiskit_ibm_runtime/runtime_job.py\", line 534, in _stream_results\n",
      "    user_callback(self.job_id(), _decoder.decode(response))\n",
      "TypeError: 'list' object is not callable\n",
      "\n",
      "runtime_job._stream_results:WARNING:2023-08-18 14:54:26,224: An error occurred while streaming results for job cjfi7c0cs414jvgqnisg:\n",
      "Traceback (most recent call last):\n",
      "  File \"/home/gluonhiggs/.pyenv/versions/anaconda3-2023.03/envs/qiskit-runtime/lib/python3.10/site-packages/qiskit_ibm_runtime/runtime_job.py\", line 534, in _stream_results\n",
      "    user_callback(self.job_id(), _decoder.decode(response))\n",
      "TypeError: 'list' object is not callable\n",
      "\n",
      "runtime_job._stream_results:WARNING:2023-08-18 14:54:31,037: An error occurred while streaming results for job cjfi7d45hqba8918sf30:\n",
      "Traceback (most recent call last):\n",
      "  File \"/home/gluonhiggs/.pyenv/versions/anaconda3-2023.03/envs/qiskit-runtime/lib/python3.10/site-packages/qiskit_ibm_runtime/runtime_job.py\", line 534, in _stream_results\n",
      "    user_callback(self.job_id(), _decoder.decode(response))\n",
      "TypeError: 'list' object is not callable\n",
      "\n"
     ]
    },
    {
     "name": "stdout",
     "output_type": "stream",
     "text": [
      "Evaluation 276: -1.8530254361722918\n"
     ]
    },
    {
     "name": "stderr",
     "output_type": "stream",
     "text": [
      "runtime_job._stream_results:WARNING:2023-08-18 14:54:36,464: An error occurred while streaming results for job cjfi7e45hqba8918sge0:\n",
      "Traceback (most recent call last):\n",
      "  File \"/home/gluonhiggs/.pyenv/versions/anaconda3-2023.03/envs/qiskit-runtime/lib/python3.10/site-packages/qiskit_ibm_runtime/runtime_job.py\", line 534, in _stream_results\n",
      "    user_callback(self.job_id(), _decoder.decode(response))\n",
      "TypeError: 'list' object is not callable\n",
      "\n",
      "runtime_job._stream_results:WARNING:2023-08-18 14:54:47,318: An error occurred while streaming results for job cjfi7hc5hqba8918sje0:\n",
      "Traceback (most recent call last):\n",
      "  File \"/home/gluonhiggs/.pyenv/versions/anaconda3-2023.03/envs/qiskit-runtime/lib/python3.10/site-packages/qiskit_ibm_runtime/runtime_job.py\", line 534, in _stream_results\n",
      "    user_callback(self.job_id(), _decoder.decode(response))\n",
      "TypeError: 'list' object is not callable\n",
      "\n",
      "runtime_job._stream_results:WARNING:2023-08-18 14:54:51,383: An error occurred while streaming results for job cjfi7i7bq0tlksv8rjpg:\n",
      "Traceback (most recent call last):\n",
      "  File \"/home/gluonhiggs/.pyenv/versions/anaconda3-2023.03/envs/qiskit-runtime/lib/python3.10/site-packages/qiskit_ibm_runtime/runtime_job.py\", line 534, in _stream_results\n",
      "    user_callback(self.job_id(), _decoder.decode(response))\n",
      "TypeError: 'list' object is not callable\n",
      "\n"
     ]
    },
    {
     "name": "stdout",
     "output_type": "stream",
     "text": [
      "Evaluation 279: -1.8445154214279174\n"
     ]
    },
    {
     "name": "stderr",
     "output_type": "stream",
     "text": [
      "runtime_job._stream_results:WARNING:2023-08-18 14:54:54,794: An error occurred while streaming results for job cjfi7j57ui1f8qauk3rg:\n",
      "Traceback (most recent call last):\n",
      "  File \"/home/gluonhiggs/.pyenv/versions/anaconda3-2023.03/envs/qiskit-runtime/lib/python3.10/site-packages/qiskit_ibm_runtime/runtime_job.py\", line 534, in _stream_results\n",
      "    user_callback(self.job_id(), _decoder.decode(response))\n",
      "TypeError: 'list' object is not callable\n",
      "\n",
      "runtime_job._stream_results:WARNING:2023-08-18 14:54:59,206: An error occurred while streaming results for job cjfi7k76dei0664m18pg:\n",
      "Traceback (most recent call last):\n",
      "  File \"/home/gluonhiggs/.pyenv/versions/anaconda3-2023.03/envs/qiskit-runtime/lib/python3.10/site-packages/qiskit_ibm_runtime/runtime_job.py\", line 534, in _stream_results\n",
      "    user_callback(self.job_id(), _decoder.decode(response))\n",
      "TypeError: 'list' object is not callable\n",
      "\n",
      "runtime_job._stream_results:WARNING:2023-08-18 14:55:03,277: An error occurred while streaming results for job cjfi7l45hqba8918sp00:\n",
      "Traceback (most recent call last):\n",
      "  File \"/home/gluonhiggs/.pyenv/versions/anaconda3-2023.03/envs/qiskit-runtime/lib/python3.10/site-packages/qiskit_ibm_runtime/runtime_job.py\", line 534, in _stream_results\n",
      "    user_callback(self.job_id(), _decoder.decode(response))\n",
      "TypeError: 'list' object is not callable\n",
      "\n"
     ]
    },
    {
     "name": "stdout",
     "output_type": "stream",
     "text": [
      "Evaluation 282: -1.8421952851890857\n"
     ]
    },
    {
     "name": "stderr",
     "output_type": "stream",
     "text": [
      "runtime_job._stream_results:WARNING:2023-08-18 14:55:08,823: An error occurred while streaming results for job cjfi7m7bq0tlksv8ro90:\n",
      "Traceback (most recent call last):\n",
      "  File \"/home/gluonhiggs/.pyenv/versions/anaconda3-2023.03/envs/qiskit-runtime/lib/python3.10/site-packages/qiskit_ibm_runtime/runtime_job.py\", line 534, in _stream_results\n",
      "    user_callback(self.job_id(), _decoder.decode(response))\n",
      "TypeError: 'list' object is not callable\n",
      "\n",
      "runtime_job._stream_results:WARNING:2023-08-18 14:55:15,304: An error occurred while streaming results for job cjfi7o8cs414jvgqo15g:\n",
      "Traceback (most recent call last):\n",
      "  File \"/home/gluonhiggs/.pyenv/versions/anaconda3-2023.03/envs/qiskit-runtime/lib/python3.10/site-packages/qiskit_ibm_runtime/runtime_job.py\", line 534, in _stream_results\n",
      "    user_callback(self.job_id(), _decoder.decode(response))\n",
      "TypeError: 'list' object is not callable\n",
      "\n",
      "runtime_job._stream_results:WARNING:2023-08-18 14:55:21,792: An error occurred while streaming results for job cjfi7prie1jj2ila6k9g:\n",
      "Traceback (most recent call last):\n",
      "  File \"/home/gluonhiggs/.pyenv/versions/anaconda3-2023.03/envs/qiskit-runtime/lib/python3.10/site-packages/qiskit_ibm_runtime/runtime_job.py\", line 534, in _stream_results\n",
      "    user_callback(self.job_id(), _decoder.decode(response))\n",
      "TypeError: 'list' object is not callable\n",
      "\n"
     ]
    },
    {
     "name": "stdout",
     "output_type": "stream",
     "text": [
      "Evaluation 285: -1.8474629340658542\n"
     ]
    },
    {
     "name": "stderr",
     "output_type": "stream",
     "text": [
      "runtime_job._stream_results:WARNING:2023-08-18 14:55:25,466: An error occurred while streaming results for job cjfi7qrie1jj2ila6lh0:\n",
      "Traceback (most recent call last):\n",
      "  File \"/home/gluonhiggs/.pyenv/versions/anaconda3-2023.03/envs/qiskit-runtime/lib/python3.10/site-packages/qiskit_ibm_runtime/runtime_job.py\", line 534, in _stream_results\n",
      "    user_callback(self.job_id(), _decoder.decode(response))\n",
      "TypeError: 'list' object is not callable\n",
      "\n",
      "runtime_job._stream_results:WARNING:2023-08-18 14:55:37,605: An error occurred while streaming results for job cjfi7srie1jj2ila6njg:\n",
      "Traceback (most recent call last):\n",
      "  File \"/home/gluonhiggs/.pyenv/versions/anaconda3-2023.03/envs/qiskit-runtime/lib/python3.10/site-packages/qiskit_ibm_runtime/runtime_job.py\", line 534, in _stream_results\n",
      "    user_callback(self.job_id(), _decoder.decode(response))\n",
      "TypeError: 'list' object is not callable\n",
      "\n",
      "runtime_job._stream_results:WARNING:2023-08-18 14:55:45,206: An error occurred while streaming results for job cjfi7vjie1jj2ila6pl0:\n",
      "Traceback (most recent call last):\n",
      "  File \"/home/gluonhiggs/.pyenv/versions/anaconda3-2023.03/envs/qiskit-runtime/lib/python3.10/site-packages/qiskit_ibm_runtime/runtime_job.py\", line 534, in _stream_results\n",
      "    user_callback(self.job_id(), _decoder.decode(response))\n",
      "TypeError: 'list' object is not callable\n",
      "\n"
     ]
    },
    {
     "name": "stdout",
     "output_type": "stream",
     "text": [
      "Evaluation 288: -1.8447971230935147\n"
     ]
    },
    {
     "name": "stderr",
     "output_type": "stream",
     "text": [
      "runtime_job._stream_results:WARNING:2023-08-18 14:55:52,906: An error occurred while streaming results for job cjfi81bie1jj2ila6rfg:\n",
      "Traceback (most recent call last):\n",
      "  File \"/home/gluonhiggs/.pyenv/versions/anaconda3-2023.03/envs/qiskit-runtime/lib/python3.10/site-packages/qiskit_ibm_runtime/runtime_job.py\", line 534, in _stream_results\n",
      "    user_callback(self.job_id(), _decoder.decode(response))\n",
      "TypeError: 'list' object is not callable\n",
      "\n",
      "runtime_job._stream_results:WARNING:2023-08-18 14:55:56,657: An error occurred while streaming results for job cjfi82gcs414jvgqoceg:\n",
      "Traceback (most recent call last):\n",
      "  File \"/home/gluonhiggs/.pyenv/versions/anaconda3-2023.03/envs/qiskit-runtime/lib/python3.10/site-packages/qiskit_ibm_runtime/runtime_job.py\", line 534, in _stream_results\n",
      "    user_callback(self.job_id(), _decoder.decode(response))\n",
      "TypeError: 'list' object is not callable\n",
      "\n",
      "runtime_job._stream_results:WARNING:2023-08-18 14:56:02,175: An error occurred while streaming results for job cjfi83jie1jj2ila6tu0:\n",
      "Traceback (most recent call last):\n",
      "  File \"/home/gluonhiggs/.pyenv/versions/anaconda3-2023.03/envs/qiskit-runtime/lib/python3.10/site-packages/qiskit_ibm_runtime/runtime_job.py\", line 534, in _stream_results\n",
      "    user_callback(self.job_id(), _decoder.decode(response))\n",
      "TypeError: 'list' object is not callable\n",
      "\n"
     ]
    },
    {
     "name": "stdout",
     "output_type": "stream",
     "text": [
      "Evaluation 291: -1.8507307808965257\n"
     ]
    },
    {
     "name": "stderr",
     "output_type": "stream",
     "text": [
      "runtime_job._stream_results:WARNING:2023-08-18 14:56:08,524: An error occurred while streaming results for job cjfi850cs414jvgqogdg:\n",
      "Traceback (most recent call last):\n",
      "  File \"/home/gluonhiggs/.pyenv/versions/anaconda3-2023.03/envs/qiskit-runtime/lib/python3.10/site-packages/qiskit_ibm_runtime/runtime_job.py\", line 534, in _stream_results\n",
      "    user_callback(self.job_id(), _decoder.decode(response))\n",
      "TypeError: 'list' object is not callable\n",
      "\n",
      "runtime_job._stream_results:WARNING:2023-08-18 14:56:12,108: An error occurred while streaming results for job cjfi86l7ui1f8qaukoi0:\n",
      "Traceback (most recent call last):\n",
      "  File \"/home/gluonhiggs/.pyenv/versions/anaconda3-2023.03/envs/qiskit-runtime/lib/python3.10/site-packages/qiskit_ibm_runtime/runtime_job.py\", line 534, in _stream_results\n",
      "    user_callback(self.job_id(), _decoder.decode(response))\n",
      "TypeError: 'list' object is not callable\n",
      "\n",
      "runtime_job._stream_results:WARNING:2023-08-18 14:56:17,884: An error occurred while streaming results for job cjfi8845hqba8918tdg0:\n",
      "Traceback (most recent call last):\n",
      "  File \"/home/gluonhiggs/.pyenv/versions/anaconda3-2023.03/envs/qiskit-runtime/lib/python3.10/site-packages/qiskit_ibm_runtime/runtime_job.py\", line 534, in _stream_results\n",
      "    user_callback(self.job_id(), _decoder.decode(response))\n",
      "TypeError: 'list' object is not callable\n",
      "\n"
     ]
    },
    {
     "name": "stdout",
     "output_type": "stream",
     "text": [
      "Evaluation 294: -1.8450611487202853\n"
     ]
    },
    {
     "name": "stderr",
     "output_type": "stream",
     "text": [
      "runtime_job._stream_results:WARNING:2023-08-18 14:56:20,915: An error occurred while streaming results for job cjfi88rie1jj2ila74lg:\n",
      "Traceback (most recent call last):\n",
      "  File \"/home/gluonhiggs/.pyenv/versions/anaconda3-2023.03/envs/qiskit-runtime/lib/python3.10/site-packages/qiskit_ibm_runtime/runtime_job.py\", line 534, in _stream_results\n",
      "    user_callback(self.job_id(), _decoder.decode(response))\n",
      "TypeError: 'list' object is not callable\n",
      "\n",
      "runtime_job._stream_results:WARNING:2023-08-18 14:56:24,615: An error occurred while streaming results for job cjfi89nbq0tlksv8sbq0:\n",
      "Traceback (most recent call last):\n",
      "  File \"/home/gluonhiggs/.pyenv/versions/anaconda3-2023.03/envs/qiskit-runtime/lib/python3.10/site-packages/qiskit_ibm_runtime/runtime_job.py\", line 534, in _stream_results\n",
      "    user_callback(self.job_id(), _decoder.decode(response))\n",
      "TypeError: 'list' object is not callable\n",
      "\n",
      "runtime_job._stream_results:WARNING:2023-08-18 14:56:27,922: An error occurred while streaming results for job cjfi8afbq0tlksv8scpg:\n",
      "Traceback (most recent call last):\n",
      "  File \"/home/gluonhiggs/.pyenv/versions/anaconda3-2023.03/envs/qiskit-runtime/lib/python3.10/site-packages/qiskit_ibm_runtime/runtime_job.py\", line 534, in _stream_results\n",
      "    user_callback(self.job_id(), _decoder.decode(response))\n",
      "TypeError: 'list' object is not callable\n",
      "\n"
     ]
    },
    {
     "name": "stdout",
     "output_type": "stream",
     "text": [
      "Evaluation 297: -1.8486035035894286\n"
     ]
    },
    {
     "name": "stderr",
     "output_type": "stream",
     "text": [
      "runtime_job._stream_results:WARNING:2023-08-18 14:56:31,437: An error occurred while streaming results for job cjfi8bfbq0tlksv8se7g:\n",
      "Traceback (most recent call last):\n",
      "  File \"/home/gluonhiggs/.pyenv/versions/anaconda3-2023.03/envs/qiskit-runtime/lib/python3.10/site-packages/qiskit_ibm_runtime/runtime_job.py\", line 534, in _stream_results\n",
      "    user_callback(self.job_id(), _decoder.decode(response))\n",
      "TypeError: 'list' object is not callable\n",
      "\n",
      "runtime_job._stream_results:WARNING:2023-08-18 14:56:35,763: An error occurred while streaming results for job cjfi8c0cs414jvgqoof0:\n",
      "Traceback (most recent call last):\n",
      "  File \"/home/gluonhiggs/.pyenv/versions/anaconda3-2023.03/envs/qiskit-runtime/lib/python3.10/site-packages/qiskit_ibm_runtime/runtime_job.py\", line 534, in _stream_results\n",
      "    user_callback(self.job_id(), _decoder.decode(response))\n",
      "TypeError: 'list' object is not callable\n",
      "\n",
      "runtime_job._stream_results:WARNING:2023-08-18 14:56:42,318: An error occurred while streaming results for job cjfi8e0cs414jvgqopsg:\n",
      "Traceback (most recent call last):\n",
      "  File \"/home/gluonhiggs/.pyenv/versions/anaconda3-2023.03/envs/qiskit-runtime/lib/python3.10/site-packages/qiskit_ibm_runtime/runtime_job.py\", line 534, in _stream_results\n",
      "    user_callback(self.job_id(), _decoder.decode(response))\n",
      "TypeError: 'list' object is not callable\n",
      "\n"
     ]
    },
    {
     "name": "stdout",
     "output_type": "stream",
     "text": [
      "Evaluation 300: -1.8439123243745454\n"
     ]
    },
    {
     "name": "stderr",
     "output_type": "stream",
     "text": [
      "runtime_job._stream_results:WARNING:2023-08-18 14:56:46,047: An error occurred while streaming results for job cjfi8eocs414jvgqoqlg:\n",
      "Traceback (most recent call last):\n",
      "  File \"/home/gluonhiggs/.pyenv/versions/anaconda3-2023.03/envs/qiskit-runtime/lib/python3.10/site-packages/qiskit_ibm_runtime/runtime_job.py\", line 534, in _stream_results\n",
      "    user_callback(self.job_id(), _decoder.decode(response))\n",
      "TypeError: 'list' object is not callable\n",
      "\n",
      "runtime_job._stream_results:WARNING:2023-08-18 14:56:50,511: An error occurred while streaming results for job cjfi8focs414jvgqorf0:\n",
      "Traceback (most recent call last):\n",
      "  File \"/home/gluonhiggs/.pyenv/versions/anaconda3-2023.03/envs/qiskit-runtime/lib/python3.10/site-packages/qiskit_ibm_runtime/runtime_job.py\", line 534, in _stream_results\n",
      "    user_callback(self.job_id(), _decoder.decode(response))\n",
      "TypeError: 'list' object is not callable\n",
      "\n",
      "runtime_job._stream_results:WARNING:2023-08-18 14:56:54,329: An error occurred while streaming results for job cjfi8grie1jj2ila7c30:\n",
      "Traceback (most recent call last):\n",
      "  File \"/home/gluonhiggs/.pyenv/versions/anaconda3-2023.03/envs/qiskit-runtime/lib/python3.10/site-packages/qiskit_ibm_runtime/runtime_job.py\", line 534, in _stream_results\n",
      "    user_callback(self.job_id(), _decoder.decode(response))\n",
      "TypeError: 'list' object is not callable\n",
      "\n"
     ]
    },
    {
     "name": "stdout",
     "output_type": "stream",
     "text": [
      "Evaluation 303: -1.8362646282652264\n"
     ]
    },
    {
     "name": "stderr",
     "output_type": "stream",
     "text": [
      "runtime_job._stream_results:WARNING:2023-08-18 14:57:02,388: An error occurred while streaming results for job cjfi8iv6dei0664m27d0:\n",
      "Traceback (most recent call last):\n",
      "  File \"/home/gluonhiggs/.pyenv/versions/anaconda3-2023.03/envs/qiskit-runtime/lib/python3.10/site-packages/qiskit_ibm_runtime/runtime_job.py\", line 534, in _stream_results\n",
      "    user_callback(self.job_id(), _decoder.decode(response))\n",
      "TypeError: 'list' object is not callable\n",
      "\n",
      "runtime_job._stream_results:WARNING:2023-08-18 14:57:08,021: An error occurred while streaming results for job cjfi8kf6dei0664m28cg:\n",
      "Traceback (most recent call last):\n",
      "  File \"/home/gluonhiggs/.pyenv/versions/anaconda3-2023.03/envs/qiskit-runtime/lib/python3.10/site-packages/qiskit_ibm_runtime/runtime_job.py\", line 534, in _stream_results\n",
      "    user_callback(self.job_id(), _decoder.decode(response))\n",
      "TypeError: 'list' object is not callable\n",
      "\n",
      "runtime_job._stream_results:WARNING:2023-08-18 14:57:11,373: An error occurred while streaming results for job cjfi8lc5hqba8918ts9g:\n",
      "Traceback (most recent call last):\n",
      "  File \"/home/gluonhiggs/.pyenv/versions/anaconda3-2023.03/envs/qiskit-runtime/lib/python3.10/site-packages/qiskit_ibm_runtime/runtime_job.py\", line 534, in _stream_results\n",
      "    user_callback(self.job_id(), _decoder.decode(response))\n",
      "TypeError: 'list' object is not callable\n",
      "\n"
     ]
    },
    {
     "name": "stdout",
     "output_type": "stream",
     "text": [
      "Evaluation 306: -1.844402336717061\n"
     ]
    },
    {
     "name": "stderr",
     "output_type": "stream",
     "text": [
      "runtime_job._stream_results:WARNING:2023-08-18 14:57:14,983: An error occurred while streaming results for job cjfi8m76dei0664m2ao0:\n",
      "Traceback (most recent call last):\n",
      "  File \"/home/gluonhiggs/.pyenv/versions/anaconda3-2023.03/envs/qiskit-runtime/lib/python3.10/site-packages/qiskit_ibm_runtime/runtime_job.py\", line 534, in _stream_results\n",
      "    user_callback(self.job_id(), _decoder.decode(response))\n",
      "TypeError: 'list' object is not callable\n",
      "\n",
      "runtime_job._stream_results:WARNING:2023-08-18 14:57:25,706: An error occurred while streaming results for job cjfi8ov6dei0664m2cq0:\n",
      "Traceback (most recent call last):\n",
      "  File \"/home/gluonhiggs/.pyenv/versions/anaconda3-2023.03/envs/qiskit-runtime/lib/python3.10/site-packages/qiskit_ibm_runtime/runtime_job.py\", line 534, in _stream_results\n",
      "    user_callback(self.job_id(), _decoder.decode(response))\n",
      "TypeError: 'list' object is not callable\n",
      "\n",
      "runtime_job._stream_results:WARNING:2023-08-18 14:57:29,013: An error occurred while streaming results for job cjfi8pl7ui1f8qaulcb0:\n",
      "Traceback (most recent call last):\n",
      "  File \"/home/gluonhiggs/.pyenv/versions/anaconda3-2023.03/envs/qiskit-runtime/lib/python3.10/site-packages/qiskit_ibm_runtime/runtime_job.py\", line 534, in _stream_results\n",
      "    user_callback(self.job_id(), _decoder.decode(response))\n",
      "TypeError: 'list' object is not callable\n",
      "\n"
     ]
    },
    {
     "name": "stdout",
     "output_type": "stream",
     "text": [
      "Evaluation 309: -1.8391687540780532\n"
     ]
    },
    {
     "name": "stderr",
     "output_type": "stream",
     "text": [
      "runtime_job._stream_results:WARNING:2023-08-18 14:57:37,423: An error occurred while streaming results for job cjfi8rn6dei0664m2eug:\n",
      "Traceback (most recent call last):\n",
      "  File \"/home/gluonhiggs/.pyenv/versions/anaconda3-2023.03/envs/qiskit-runtime/lib/python3.10/site-packages/qiskit_ibm_runtime/runtime_job.py\", line 534, in _stream_results\n",
      "    user_callback(self.job_id(), _decoder.decode(response))\n",
      "TypeError: 'list' object is not callable\n",
      "\n",
      "runtime_job._stream_results:WARNING:2023-08-18 14:57:41,094: An error occurred while streaming results for job cjfi8sgcs414jvgqp800:\n",
      "Traceback (most recent call last):\n",
      "  File \"/home/gluonhiggs/.pyenv/versions/anaconda3-2023.03/envs/qiskit-runtime/lib/python3.10/site-packages/qiskit_ibm_runtime/runtime_job.py\", line 534, in _stream_results\n",
      "    user_callback(self.job_id(), _decoder.decode(response))\n",
      "TypeError: 'list' object is not callable\n",
      "\n",
      "runtime_job._stream_results:WARNING:2023-08-18 14:57:46,422: An error occurred while streaming results for job cjfi8u7bq0tlksv8t1bg:\n",
      "Traceback (most recent call last):\n",
      "  File \"/home/gluonhiggs/.pyenv/versions/anaconda3-2023.03/envs/qiskit-runtime/lib/python3.10/site-packages/qiskit_ibm_runtime/runtime_job.py\", line 534, in _stream_results\n",
      "    user_callback(self.job_id(), _decoder.decode(response))\n",
      "TypeError: 'list' object is not callable\n",
      "\n"
     ]
    },
    {
     "name": "stdout",
     "output_type": "stream",
     "text": [
      "Evaluation 312: -1.83749810549015\n"
     ]
    },
    {
     "name": "stderr",
     "output_type": "stream",
     "text": [
      "runtime_job._stream_results:WARNING:2023-08-18 14:57:54,812: An error occurred while streaming results for job cjfi900cs414jvgqpbt0:\n",
      "Traceback (most recent call last):\n",
      "  File \"/home/gluonhiggs/.pyenv/versions/anaconda3-2023.03/envs/qiskit-runtime/lib/python3.10/site-packages/qiskit_ibm_runtime/runtime_job.py\", line 534, in _stream_results\n",
      "    user_callback(self.job_id(), _decoder.decode(response))\n",
      "TypeError: 'list' object is not callable\n",
      "\n",
      "runtime_job._stream_results:WARNING:2023-08-18 14:58:05,162: An error occurred while streaming results for job cjfi927bq0tlksv8t4sg:\n",
      "Traceback (most recent call last):\n",
      "  File \"/home/gluonhiggs/.pyenv/versions/anaconda3-2023.03/envs/qiskit-runtime/lib/python3.10/site-packages/qiskit_ibm_runtime/runtime_job.py\", line 534, in _stream_results\n",
      "    user_callback(self.job_id(), _decoder.decode(response))\n",
      "TypeError: 'list' object is not callable\n",
      "\n",
      "runtime_job._stream_results:WARNING:2023-08-18 14:58:10,180: An error occurred while streaming results for job cjfi93gcs414jvgqpg40:\n",
      "Traceback (most recent call last):\n",
      "  File \"/home/gluonhiggs/.pyenv/versions/anaconda3-2023.03/envs/qiskit-runtime/lib/python3.10/site-packages/qiskit_ibm_runtime/runtime_job.py\", line 534, in _stream_results\n",
      "    user_callback(self.job_id(), _decoder.decode(response))\n",
      "TypeError: 'list' object is not callable\n",
      "\n"
     ]
    },
    {
     "name": "stdout",
     "output_type": "stream",
     "text": [
      "Evaluation 315: -1.8464488171269693\n"
     ]
    },
    {
     "name": "stderr",
     "output_type": "stream",
     "text": [
      "runtime_job._stream_results:WARNING:2023-08-18 14:58:14,070: An error occurred while streaming results for job cjfi94t7ui1f8qaulok0:\n",
      "Traceback (most recent call last):\n",
      "  File \"/home/gluonhiggs/.pyenv/versions/anaconda3-2023.03/envs/qiskit-runtime/lib/python3.10/site-packages/qiskit_ibm_runtime/runtime_job.py\", line 534, in _stream_results\n",
      "    user_callback(self.job_id(), _decoder.decode(response))\n",
      "TypeError: 'list' object is not callable\n",
      "\n",
      "runtime_job._stream_results:WARNING:2023-08-18 14:58:21,131: An error occurred while streaming results for job cjfi96gcs414jvgqpk50:\n",
      "Traceback (most recent call last):\n",
      "  File \"/home/gluonhiggs/.pyenv/versions/anaconda3-2023.03/envs/qiskit-runtime/lib/python3.10/site-packages/qiskit_ibm_runtime/runtime_job.py\", line 534, in _stream_results\n",
      "    user_callback(self.job_id(), _decoder.decode(response))\n",
      "TypeError: 'list' object is not callable\n",
      "\n",
      "runtime_job._stream_results:WARNING:2023-08-18 14:58:25,745: An error occurred while streaming results for job cjfi97k5hqba8918ugug:\n",
      "Traceback (most recent call last):\n",
      "  File \"/home/gluonhiggs/.pyenv/versions/anaconda3-2023.03/envs/qiskit-runtime/lib/python3.10/site-packages/qiskit_ibm_runtime/runtime_job.py\", line 534, in _stream_results\n",
      "    user_callback(self.job_id(), _decoder.decode(response))\n",
      "TypeError: 'list' object is not callable\n",
      "\n"
     ]
    },
    {
     "name": "stdout",
     "output_type": "stream",
     "text": [
      "Evaluation 318: -1.8475026142745743\n"
     ]
    },
    {
     "name": "stderr",
     "output_type": "stream",
     "text": [
      "runtime_job._stream_results:WARNING:2023-08-18 14:58:29,124: An error occurred while streaming results for job cjfi98v6dei0664m2te0:\n",
      "Traceback (most recent call last):\n",
      "  File \"/home/gluonhiggs/.pyenv/versions/anaconda3-2023.03/envs/qiskit-runtime/lib/python3.10/site-packages/qiskit_ibm_runtime/runtime_job.py\", line 534, in _stream_results\n",
      "    user_callback(self.job_id(), _decoder.decode(response))\n",
      "TypeError: 'list' object is not callable\n",
      "\n",
      "runtime_job._stream_results:WARNING:2023-08-18 14:58:32,913: An error occurred while streaming results for job cjfi99jie1jj2ila86s0:\n",
      "Traceback (most recent call last):\n",
      "  File \"/home/gluonhiggs/.pyenv/versions/anaconda3-2023.03/envs/qiskit-runtime/lib/python3.10/site-packages/qiskit_ibm_runtime/runtime_job.py\", line 534, in _stream_results\n",
      "    user_callback(self.job_id(), _decoder.decode(response))\n",
      "TypeError: 'list' object is not callable\n",
      "\n",
      "runtime_job._stream_results:WARNING:2023-08-18 14:58:36,497: An error occurred while streaming results for job cjfi9al7ui1f8qauluc0:\n",
      "Traceback (most recent call last):\n",
      "  File \"/home/gluonhiggs/.pyenv/versions/anaconda3-2023.03/envs/qiskit-runtime/lib/python3.10/site-packages/qiskit_ibm_runtime/runtime_job.py\", line 534, in _stream_results\n",
      "    user_callback(self.job_id(), _decoder.decode(response))\n",
      "TypeError: 'list' object is not callable\n",
      "\n"
     ]
    },
    {
     "name": "stdout",
     "output_type": "stream",
     "text": [
      "Evaluation 321: -1.8522138050714005\n"
     ]
    },
    {
     "name": "stderr",
     "output_type": "stream",
     "text": [
      "runtime_job._stream_results:WARNING:2023-08-18 14:58:39,675: An error occurred while streaming results for job cjfi9bf6dei0664m318g:\n",
      "Traceback (most recent call last):\n",
      "  File \"/home/gluonhiggs/.pyenv/versions/anaconda3-2023.03/envs/qiskit-runtime/lib/python3.10/site-packages/qiskit_ibm_runtime/runtime_job.py\", line 534, in _stream_results\n",
      "    user_callback(self.job_id(), _decoder.decode(response))\n",
      "TypeError: 'list' object is not callable\n",
      "\n",
      "runtime_job._stream_results:WARNING:2023-08-18 14:58:46,839: An error occurred while streaming results for job cjfi9cs5hqba8918umo0:\n",
      "Traceback (most recent call last):\n",
      "  File \"/home/gluonhiggs/.pyenv/versions/anaconda3-2023.03/envs/qiskit-runtime/lib/python3.10/site-packages/qiskit_ibm_runtime/runtime_job.py\", line 534, in _stream_results\n",
      "    user_callback(self.job_id(), _decoder.decode(response))\n",
      "TypeError: 'list' object is not callable\n",
      "\n",
      "runtime_job._stream_results:WARNING:2023-08-18 14:58:54,111: An error occurred while streaming results for job cjfi9et7ui1f8qaum1ug:\n",
      "Traceback (most recent call last):\n",
      "  File \"/home/gluonhiggs/.pyenv/versions/anaconda3-2023.03/envs/qiskit-runtime/lib/python3.10/site-packages/qiskit_ibm_runtime/runtime_job.py\", line 534, in _stream_results\n",
      "    user_callback(self.job_id(), _decoder.decode(response))\n",
      "TypeError: 'list' object is not callable\n",
      "\n"
     ]
    },
    {
     "name": "stdout",
     "output_type": "stream",
     "text": [
      "Evaluation 324: -1.8498710826775477\n"
     ]
    },
    {
     "name": "stderr",
     "output_type": "stream",
     "text": [
      "runtime_job._stream_results:WARNING:2023-08-18 14:59:02,201: An error occurred while streaming results for job cjfi9gt7ui1f8qaum3sg:\n",
      "Traceback (most recent call last):\n",
      "  File \"/home/gluonhiggs/.pyenv/versions/anaconda3-2023.03/envs/qiskit-runtime/lib/python3.10/site-packages/qiskit_ibm_runtime/runtime_job.py\", line 534, in _stream_results\n",
      "    user_callback(self.job_id(), _decoder.decode(response))\n",
      "TypeError: 'list' object is not callable\n",
      "\n",
      "runtime_job._stream_results:WARNING:2023-08-18 14:59:07,730: An error occurred while streaming results for job cjfi9hvbq0tlksv8tm70:\n",
      "Traceback (most recent call last):\n",
      "  File \"/home/gluonhiggs/.pyenv/versions/anaconda3-2023.03/envs/qiskit-runtime/lib/python3.10/site-packages/qiskit_ibm_runtime/runtime_job.py\", line 534, in _stream_results\n",
      "    user_callback(self.job_id(), _decoder.decode(response))\n",
      "TypeError: 'list' object is not callable\n",
      "\n",
      "runtime_job._stream_results:WARNING:2023-08-18 14:59:13,254: An error occurred while streaming results for job cjfi9j7bq0tlksv8to1g:\n",
      "Traceback (most recent call last):\n",
      "  File \"/home/gluonhiggs/.pyenv/versions/anaconda3-2023.03/envs/qiskit-runtime/lib/python3.10/site-packages/qiskit_ibm_runtime/runtime_job.py\", line 534, in _stream_results\n",
      "    user_callback(self.job_id(), _decoder.decode(response))\n",
      "TypeError: 'list' object is not callable\n",
      "\n"
     ]
    },
    {
     "name": "stdout",
     "output_type": "stream",
     "text": [
      "Evaluation 327: -1.8561629296041005\n"
     ]
    },
    {
     "name": "stderr",
     "output_type": "stream",
     "text": [
      "runtime_job._stream_results:WARNING:2023-08-18 14:59:16,839: An error occurred while streaming results for job cjfi9kjie1jj2ila8iq0:\n",
      "Traceback (most recent call last):\n",
      "  File \"/home/gluonhiggs/.pyenv/versions/anaconda3-2023.03/envs/qiskit-runtime/lib/python3.10/site-packages/qiskit_ibm_runtime/runtime_job.py\", line 534, in _stream_results\n",
      "    user_callback(self.job_id(), _decoder.decode(response))\n",
      "TypeError: 'list' object is not callable\n",
      "\n",
      "runtime_job._stream_results:WARNING:2023-08-18 14:59:24,115: An error occurred while streaming results for job cjfi9md7ui1f8qaum8g0:\n",
      "Traceback (most recent call last):\n",
      "  File \"/home/gluonhiggs/.pyenv/versions/anaconda3-2023.03/envs/qiskit-runtime/lib/python3.10/site-packages/qiskit_ibm_runtime/runtime_job.py\", line 534, in _stream_results\n",
      "    user_callback(self.job_id(), _decoder.decode(response))\n",
      "TypeError: 'list' object is not callable\n",
      "\n",
      "runtime_job._stream_results:WARNING:2023-08-18 14:59:30,927: An error occurred while streaming results for job cjfi9o7bq0tlksv8trh0:\n",
      "Traceback (most recent call last):\n",
      "  File \"/home/gluonhiggs/.pyenv/versions/anaconda3-2023.03/envs/qiskit-runtime/lib/python3.10/site-packages/qiskit_ibm_runtime/runtime_job.py\", line 534, in _stream_results\n",
      "    user_callback(self.job_id(), _decoder.decode(response))\n",
      "TypeError: 'list' object is not callable\n",
      "\n"
     ]
    },
    {
     "name": "stdout",
     "output_type": "stream",
     "text": [
      "Evaluation 330: -1.8577634383408235\n"
     ]
    },
    {
     "name": "stderr",
     "output_type": "stream",
     "text": [
      "runtime_job._stream_results:WARNING:2023-08-18 14:59:34,662: An error occurred while streaming results for job cjfi9p7bq0tlksv8tt00:\n",
      "Traceback (most recent call last):\n",
      "  File \"/home/gluonhiggs/.pyenv/versions/anaconda3-2023.03/envs/qiskit-runtime/lib/python3.10/site-packages/qiskit_ibm_runtime/runtime_job.py\", line 534, in _stream_results\n",
      "    user_callback(self.job_id(), _decoder.decode(response))\n",
      "TypeError: 'list' object is not callable\n",
      "\n",
      "runtime_job._stream_results:WARNING:2023-08-18 14:59:39,479: An error occurred while streaming results for job cjfi9q8cs414jvgqq6s0:\n",
      "Traceback (most recent call last):\n",
      "  File \"/home/gluonhiggs/.pyenv/versions/anaconda3-2023.03/envs/qiskit-runtime/lib/python3.10/site-packages/qiskit_ibm_runtime/runtime_job.py\", line 534, in _stream_results\n",
      "    user_callback(self.job_id(), _decoder.decode(response))\n",
      "TypeError: 'list' object is not callable\n",
      "\n",
      "runtime_job._stream_results:WARNING:2023-08-18 14:59:44,850: An error occurred while streaming results for job cjfi9r0cs414jvgqq7pg:\n",
      "Traceback (most recent call last):\n",
      "  File \"/home/gluonhiggs/.pyenv/versions/anaconda3-2023.03/envs/qiskit-runtime/lib/python3.10/site-packages/qiskit_ibm_runtime/runtime_job.py\", line 534, in _stream_results\n",
      "    user_callback(self.job_id(), _decoder.decode(response))\n",
      "TypeError: 'list' object is not callable\n",
      "\n"
     ]
    },
    {
     "name": "stdout",
     "output_type": "stream",
     "text": [
      "Evaluation 333: -1.8494552514226776\n"
     ]
    },
    {
     "name": "stderr",
     "output_type": "stream",
     "text": [
      "runtime_job._stream_results:WARNING:2023-08-18 14:59:47,974: An error occurred while streaming results for job cjfi9sgcs414jvgqq93g:\n",
      "Traceback (most recent call last):\n",
      "  File \"/home/gluonhiggs/.pyenv/versions/anaconda3-2023.03/envs/qiskit-runtime/lib/python3.10/site-packages/qiskit_ibm_runtime/runtime_job.py\", line 534, in _stream_results\n",
      "    user_callback(self.job_id(), _decoder.decode(response))\n",
      "TypeError: 'list' object is not callable\n",
      "\n",
      "runtime_job._stream_results:WARNING:2023-08-18 15:00:59,043: An error occurred while streaming results for job cjfiae3ie1jj2ila9ju0:\n",
      "Traceback (most recent call last):\n",
      "  File \"/home/gluonhiggs/.pyenv/versions/anaconda3-2023.03/envs/qiskit-runtime/lib/python3.10/site-packages/qiskit_ibm_runtime/runtime_job.py\", line 534, in _stream_results\n",
      "    user_callback(self.job_id(), _decoder.decode(response))\n",
      "TypeError: 'list' object is not callable\n",
      "\n"
     ]
    },
    {
     "name": "stdout",
     "output_type": "stream",
     "text": [
      "Evaluation 336: -1.8567700553913014\n"
     ]
    },
    {
     "name": "stderr",
     "output_type": "stream",
     "text": [
      "runtime_job._stream_results:WARNING:2023-08-18 15:01:02,044: An error occurred while streaming results for job cjfiaf45hqba8918vsjg:\n",
      "Traceback (most recent call last):\n",
      "  File \"/home/gluonhiggs/.pyenv/versions/anaconda3-2023.03/envs/qiskit-runtime/lib/python3.10/site-packages/qiskit_ibm_runtime/runtime_job.py\", line 534, in _stream_results\n",
      "    user_callback(self.job_id(), _decoder.decode(response))\n",
      "TypeError: 'list' object is not callable\n",
      "\n",
      "runtime_job._stream_results:WARNING:2023-08-18 15:01:06,313: An error occurred while streaming results for job cjfiafvbq0tlksv8ura0:\n",
      "Traceback (most recent call last):\n",
      "  File \"/home/gluonhiggs/.pyenv/versions/anaconda3-2023.03/envs/qiskit-runtime/lib/python3.10/site-packages/qiskit_ibm_runtime/runtime_job.py\", line 534, in _stream_results\n",
      "    user_callback(self.job_id(), _decoder.decode(response))\n",
      "TypeError: 'list' object is not callable\n",
      "\n",
      "runtime_job._stream_results:WARNING:2023-08-18 15:01:11,229: An error occurred while streaming results for job cjfiahd7ui1f8qaun6r0:\n",
      "Traceback (most recent call last):\n",
      "  File \"/home/gluonhiggs/.pyenv/versions/anaconda3-2023.03/envs/qiskit-runtime/lib/python3.10/site-packages/qiskit_ibm_runtime/runtime_job.py\", line 534, in _stream_results\n",
      "    user_callback(self.job_id(), _decoder.decode(response))\n",
      "TypeError: 'list' object is not callable\n",
      "\n"
     ]
    },
    {
     "name": "stdout",
     "output_type": "stream",
     "text": [
      "Evaluation 339: -1.8568622721431205\n"
     ]
    },
    {
     "name": "stderr",
     "output_type": "stream",
     "text": [
      "runtime_job._stream_results:WARNING:2023-08-18 15:01:15,427: An error occurred while streaming results for job cjfiai57ui1f8qaun7i0:\n",
      "Traceback (most recent call last):\n",
      "  File \"/home/gluonhiggs/.pyenv/versions/anaconda3-2023.03/envs/qiskit-runtime/lib/python3.10/site-packages/qiskit_ibm_runtime/runtime_job.py\", line 534, in _stream_results\n",
      "    user_callback(self.job_id(), _decoder.decode(response))\n",
      "TypeError: 'list' object is not callable\n",
      "\n",
      "runtime_job._stream_results:WARNING:2023-08-18 15:01:18,783: An error occurred while streaming results for job cjfiaj3ie1jj2ila9ps0:\n",
      "Traceback (most recent call last):\n",
      "  File \"/home/gluonhiggs/.pyenv/versions/anaconda3-2023.03/envs/qiskit-runtime/lib/python3.10/site-packages/qiskit_ibm_runtime/runtime_job.py\", line 534, in _stream_results\n",
      "    user_callback(self.job_id(), _decoder.decode(response))\n",
      "TypeError: 'list' object is not callable\n",
      "\n",
      "runtime_job._stream_results:WARNING:2023-08-18 15:01:23,209: An error occurred while streaming results for job cjfiak7bq0tlksv8uv3g:\n",
      "Traceback (most recent call last):\n",
      "  File \"/home/gluonhiggs/.pyenv/versions/anaconda3-2023.03/envs/qiskit-runtime/lib/python3.10/site-packages/qiskit_ibm_runtime/runtime_job.py\", line 534, in _stream_results\n",
      "    user_callback(self.job_id(), _decoder.decode(response))\n",
      "TypeError: 'list' object is not callable\n",
      "\n"
     ]
    },
    {
     "name": "stdout",
     "output_type": "stream",
     "text": [
      "Evaluation 342: -1.8486137561779112\n"
     ]
    },
    {
     "name": "stderr",
     "output_type": "stream",
     "text": [
      "runtime_job._stream_results:WARNING:2023-08-18 15:01:29,181: An error occurred while streaming results for job cjfialgcs414jvgqr72g:\n",
      "Traceback (most recent call last):\n",
      "  File \"/home/gluonhiggs/.pyenv/versions/anaconda3-2023.03/envs/qiskit-runtime/lib/python3.10/site-packages/qiskit_ibm_runtime/runtime_job.py\", line 534, in _stream_results\n",
      "    user_callback(self.job_id(), _decoder.decode(response))\n",
      "TypeError: 'list' object is not callable\n",
      "\n",
      "runtime_job._stream_results:WARNING:2023-08-18 15:01:32,939: An error occurred while streaming results for job cjfiamn6dei0664m4i2g:\n",
      "Traceback (most recent call last):\n",
      "  File \"/home/gluonhiggs/.pyenv/versions/anaconda3-2023.03/envs/qiskit-runtime/lib/python3.10/site-packages/qiskit_ibm_runtime/runtime_job.py\", line 534, in _stream_results\n",
      "    user_callback(self.job_id(), _decoder.decode(response))\n",
      "TypeError: 'list' object is not callable\n",
      "\n",
      "runtime_job._stream_results:WARNING:2023-08-18 15:01:40,967: An error occurred while streaming results for job cjfiaod7ui1f8qauncag:\n",
      "Traceback (most recent call last):\n",
      "  File \"/home/gluonhiggs/.pyenv/versions/anaconda3-2023.03/envs/qiskit-runtime/lib/python3.10/site-packages/qiskit_ibm_runtime/runtime_job.py\", line 534, in _stream_results\n",
      "    user_callback(self.job_id(), _decoder.decode(response))\n",
      "TypeError: 'list' object is not callable\n",
      "\n"
     ]
    },
    {
     "name": "stdout",
     "output_type": "stream",
     "text": [
      "Evaluation 345: -1.8614753361158223\n"
     ]
    },
    {
     "name": "stderr",
     "output_type": "stream",
     "text": [
      "runtime_job._stream_results:WARNING:2023-08-18 15:01:44,415: An error occurred while streaming results for job cjfiapl7ui1f8qaundog:\n",
      "Traceback (most recent call last):\n",
      "  File \"/home/gluonhiggs/.pyenv/versions/anaconda3-2023.03/envs/qiskit-runtime/lib/python3.10/site-packages/qiskit_ibm_runtime/runtime_job.py\", line 534, in _stream_results\n",
      "    user_callback(self.job_id(), _decoder.decode(response))\n",
      "TypeError: 'list' object is not callable\n",
      "\n",
      "runtime_job._stream_results:WARNING:2023-08-18 15:01:48,197: An error occurred while streaming results for job cjfiaqbie1jj2ila9vug:\n",
      "Traceback (most recent call last):\n",
      "  File \"/home/gluonhiggs/.pyenv/versions/anaconda3-2023.03/envs/qiskit-runtime/lib/python3.10/site-packages/qiskit_ibm_runtime/runtime_job.py\", line 534, in _stream_results\n",
      "    user_callback(self.job_id(), _decoder.decode(response))\n",
      "TypeError: 'list' object is not callable\n",
      "\n",
      "runtime_job._stream_results:WARNING:2023-08-18 15:01:51,506: An error occurred while streaming results for job cjfiarfbq0tlksv8v5t0:\n",
      "Traceback (most recent call last):\n",
      "  File \"/home/gluonhiggs/.pyenv/versions/anaconda3-2023.03/envs/qiskit-runtime/lib/python3.10/site-packages/qiskit_ibm_runtime/runtime_job.py\", line 534, in _stream_results\n",
      "    user_callback(self.job_id(), _decoder.decode(response))\n",
      "TypeError: 'list' object is not callable\n",
      "\n"
     ]
    },
    {
     "name": "stdout",
     "output_type": "stream",
     "text": [
      "Evaluation 348: -1.855501565747998\n"
     ]
    },
    {
     "name": "stderr",
     "output_type": "stream",
     "text": [
      "runtime_job._stream_results:WARNING:2023-08-18 15:01:55,671: An error occurred while streaming results for job cjfias76dei0664m4oi0:\n",
      "Traceback (most recent call last):\n",
      "  File \"/home/gluonhiggs/.pyenv/versions/anaconda3-2023.03/envs/qiskit-runtime/lib/python3.10/site-packages/qiskit_ibm_runtime/runtime_job.py\", line 534, in _stream_results\n",
      "    user_callback(self.job_id(), _decoder.decode(response))\n",
      "TypeError: 'list' object is not callable\n",
      "\n",
      "runtime_job._stream_results:WARNING:2023-08-18 15:01:59,665: An error occurred while streaming results for job cjfiat8cs414jvgqreog:\n",
      "Traceback (most recent call last):\n",
      "  File \"/home/gluonhiggs/.pyenv/versions/anaconda3-2023.03/envs/qiskit-runtime/lib/python3.10/site-packages/qiskit_ibm_runtime/runtime_job.py\", line 534, in _stream_results\n",
      "    user_callback(self.job_id(), _decoder.decode(response))\n",
      "TypeError: 'list' object is not callable\n",
      "\n",
      "runtime_job._stream_results:WARNING:2023-08-18 15:02:02,942: An error occurred while streaming results for job cjfiau7bq0tlksv8vahg:\n",
      "Traceback (most recent call last):\n",
      "  File \"/home/gluonhiggs/.pyenv/versions/anaconda3-2023.03/envs/qiskit-runtime/lib/python3.10/site-packages/qiskit_ibm_runtime/runtime_job.py\", line 534, in _stream_results\n",
      "    user_callback(self.job_id(), _decoder.decode(response))\n",
      "TypeError: 'list' object is not callable\n",
      "\n"
     ]
    },
    {
     "name": "stdout",
     "output_type": "stream",
     "text": [
      "Evaluation 351: -1.8529261837574729\n"
     ]
    },
    {
     "name": "stderr",
     "output_type": "stream",
     "text": [
      "runtime_job._stream_results:WARNING:2023-08-18 15:02:09,478: An error occurred while streaming results for job cjfiavjie1jj2ilaa5v0:\n",
      "Traceback (most recent call last):\n",
      "  File \"/home/gluonhiggs/.pyenv/versions/anaconda3-2023.03/envs/qiskit-runtime/lib/python3.10/site-packages/qiskit_ibm_runtime/runtime_job.py\", line 534, in _stream_results\n",
      "    user_callback(self.job_id(), _decoder.decode(response))\n",
      "TypeError: 'list' object is not callable\n",
      "\n",
      "runtime_job._stream_results:WARNING:2023-08-18 15:02:13,478: An error occurred while streaming results for job cjfib0nbq0tlksv8vcb0:\n",
      "Traceback (most recent call last):\n",
      "  File \"/home/gluonhiggs/.pyenv/versions/anaconda3-2023.03/envs/qiskit-runtime/lib/python3.10/site-packages/qiskit_ibm_runtime/runtime_job.py\", line 534, in _stream_results\n",
      "    user_callback(self.job_id(), _decoder.decode(response))\n",
      "TypeError: 'list' object is not callable\n",
      "\n",
      "runtime_job._stream_results:WARNING:2023-08-18 15:02:17,278: An error occurred while streaming results for job cjfib1v6dei0664m4su0:\n",
      "Traceback (most recent call last):\n",
      "  File \"/home/gluonhiggs/.pyenv/versions/anaconda3-2023.03/envs/qiskit-runtime/lib/python3.10/site-packages/qiskit_ibm_runtime/runtime_job.py\", line 534, in _stream_results\n",
      "    user_callback(self.job_id(), _decoder.decode(response))\n",
      "TypeError: 'list' object is not callable\n",
      "\n"
     ]
    },
    {
     "name": "stdout",
     "output_type": "stream",
     "text": [
      "Evaluation 354: -1.865496216792124\n"
     ]
    },
    {
     "name": "stderr",
     "output_type": "stream",
     "text": [
      "runtime_job._stream_results:WARNING:2023-08-18 15:02:21,476: An error occurred while streaming results for job cjfib2jie1jj2ilaa9e0:\n",
      "Traceback (most recent call last):\n",
      "  File \"/home/gluonhiggs/.pyenv/versions/anaconda3-2023.03/envs/qiskit-runtime/lib/python3.10/site-packages/qiskit_ibm_runtime/runtime_job.py\", line 534, in _stream_results\n",
      "    user_callback(self.job_id(), _decoder.decode(response))\n",
      "TypeError: 'list' object is not callable\n",
      "\n",
      "runtime_job._stream_results:WARNING:2023-08-18 15:02:25,780: An error occurred while streaming results for job cjfib3k5hqba89190h7g:\n",
      "Traceback (most recent call last):\n",
      "  File \"/home/gluonhiggs/.pyenv/versions/anaconda3-2023.03/envs/qiskit-runtime/lib/python3.10/site-packages/qiskit_ibm_runtime/runtime_job.py\", line 534, in _stream_results\n",
      "    user_callback(self.job_id(), _decoder.decode(response))\n",
      "TypeError: 'list' object is not callable\n",
      "\n",
      "runtime_job._stream_results:WARNING:2023-08-18 15:02:30,486: An error occurred while streaming results for job cjfib4v6dei0664m50l0:\n",
      "Traceback (most recent call last):\n",
      "  File \"/home/gluonhiggs/.pyenv/versions/anaconda3-2023.03/envs/qiskit-runtime/lib/python3.10/site-packages/qiskit_ibm_runtime/runtime_job.py\", line 534, in _stream_results\n",
      "    user_callback(self.job_id(), _decoder.decode(response))\n",
      "TypeError: 'list' object is not callable\n",
      "\n"
     ]
    },
    {
     "name": "stdout",
     "output_type": "stream",
     "text": [
      "Evaluation 357: -1.8556440905817284\n"
     ]
    },
    {
     "name": "stderr",
     "output_type": "stream",
     "text": [
      "runtime_job._stream_results:WARNING:2023-08-18 15:02:39,191: An error occurred while streaming results for job cjfib776dei0664m52a0:\n",
      "Traceback (most recent call last):\n",
      "  File \"/home/gluonhiggs/.pyenv/versions/anaconda3-2023.03/envs/qiskit-runtime/lib/python3.10/site-packages/qiskit_ibm_runtime/runtime_job.py\", line 534, in _stream_results\n",
      "    user_callback(self.job_id(), _decoder.decode(response))\n",
      "TypeError: 'list' object is not callable\n",
      "\n",
      "runtime_job._stream_results:WARNING:2023-08-18 15:02:42,673: An error occurred while streaming results for job cjfib876dei0664m52sg:\n",
      "Traceback (most recent call last):\n",
      "  File \"/home/gluonhiggs/.pyenv/versions/anaconda3-2023.03/envs/qiskit-runtime/lib/python3.10/site-packages/qiskit_ibm_runtime/runtime_job.py\", line 534, in _stream_results\n",
      "    user_callback(self.job_id(), _decoder.decode(response))\n",
      "TypeError: 'list' object is not callable\n",
      "\n",
      "runtime_job._stream_results:WARNING:2023-08-18 15:02:46,154: An error occurred while streaming results for job cjfib8s5hqba89190ntg:\n",
      "Traceback (most recent call last):\n",
      "  File \"/home/gluonhiggs/.pyenv/versions/anaconda3-2023.03/envs/qiskit-runtime/lib/python3.10/site-packages/qiskit_ibm_runtime/runtime_job.py\", line 534, in _stream_results\n",
      "    user_callback(self.job_id(), _decoder.decode(response))\n",
      "TypeError: 'list' object is not callable\n",
      "\n"
     ]
    },
    {
     "name": "stdout",
     "output_type": "stream",
     "text": [
      "Evaluation 360: -1.853778842145906\n"
     ]
    },
    {
     "name": "stderr",
     "output_type": "stream",
     "text": [
      "runtime_job._stream_results:WARNING:2023-08-18 15:02:49,635: An error occurred while streaming results for job cjfib9s5hqba89190pk0:\n",
      "Traceback (most recent call last):\n",
      "  File \"/home/gluonhiggs/.pyenv/versions/anaconda3-2023.03/envs/qiskit-runtime/lib/python3.10/site-packages/qiskit_ibm_runtime/runtime_job.py\", line 534, in _stream_results\n",
      "    user_callback(self.job_id(), _decoder.decode(response))\n",
      "TypeError: 'list' object is not callable\n",
      "\n",
      "runtime_job._stream_results:WARNING:2023-08-18 15:02:53,219: An error occurred while streaming results for job cjfibajie1jj2ilaai0g:\n",
      "Traceback (most recent call last):\n",
      "  File \"/home/gluonhiggs/.pyenv/versions/anaconda3-2023.03/envs/qiskit-runtime/lib/python3.10/site-packages/qiskit_ibm_runtime/runtime_job.py\", line 534, in _stream_results\n",
      "    user_callback(self.job_id(), _decoder.decode(response))\n",
      "TypeError: 'list' object is not callable\n",
      "\n",
      "runtime_job._stream_results:WARNING:2023-08-18 15:02:57,111: An error occurred while streaming results for job cjfibbn6dei0664m5690:\n",
      "Traceback (most recent call last):\n",
      "  File \"/home/gluonhiggs/.pyenv/versions/anaconda3-2023.03/envs/qiskit-runtime/lib/python3.10/site-packages/qiskit_ibm_runtime/runtime_job.py\", line 534, in _stream_results\n",
      "    user_callback(self.job_id(), _decoder.decode(response))\n",
      "TypeError: 'list' object is not callable\n",
      "\n"
     ]
    },
    {
     "name": "stdout",
     "output_type": "stream",
     "text": [
      "Evaluation 363: -1.8501304684125448\n"
     ]
    },
    {
     "name": "stderr",
     "output_type": "stream",
     "text": [
      "runtime_job._stream_results:WARNING:2023-08-18 15:03:01,616: An error occurred while streaming results for job cjfibcs5hqba89190sng:\n",
      "Traceback (most recent call last):\n",
      "  File \"/home/gluonhiggs/.pyenv/versions/anaconda3-2023.03/envs/qiskit-runtime/lib/python3.10/site-packages/qiskit_ibm_runtime/runtime_job.py\", line 534, in _stream_results\n",
      "    user_callback(self.job_id(), _decoder.decode(response))\n",
      "TypeError: 'list' object is not callable\n",
      "\n",
      "runtime_job._stream_results:WARNING:2023-08-18 15:03:10,116: An error occurred while streaming results for job cjfibenbq0tlksv8vqi0:\n",
      "Traceback (most recent call last):\n",
      "  File \"/home/gluonhiggs/.pyenv/versions/anaconda3-2023.03/envs/qiskit-runtime/lib/python3.10/site-packages/qiskit_ibm_runtime/runtime_job.py\", line 534, in _stream_results\n",
      "    user_callback(self.job_id(), _decoder.decode(response))\n",
      "TypeError: 'list' object is not callable\n",
      "\n",
      "runtime_job._stream_results:WARNING:2023-08-18 15:03:16,771: An error occurred while streaming results for job cjfibg45hqba891910b0:\n",
      "Traceback (most recent call last):\n",
      "  File \"/home/gluonhiggs/.pyenv/versions/anaconda3-2023.03/envs/qiskit-runtime/lib/python3.10/site-packages/qiskit_ibm_runtime/runtime_job.py\", line 534, in _stream_results\n",
      "    user_callback(self.job_id(), _decoder.decode(response))\n",
      "TypeError: 'list' object is not callable\n",
      "\n"
     ]
    },
    {
     "name": "stdout",
     "output_type": "stream",
     "text": [
      "Evaluation 366: -1.8511157128285736\n"
     ]
    },
    {
     "name": "stderr",
     "output_type": "stream",
     "text": [
      "runtime_job._stream_results:WARNING:2023-08-18 15:03:31,721: An error occurred while streaming results for job cjfibkd7ui1f8qauo8mg:\n",
      "Traceback (most recent call last):\n",
      "  File \"/home/gluonhiggs/.pyenv/versions/anaconda3-2023.03/envs/qiskit-runtime/lib/python3.10/site-packages/qiskit_ibm_runtime/runtime_job.py\", line 534, in _stream_results\n",
      "    user_callback(self.job_id(), _decoder.decode(response))\n",
      "TypeError: 'list' object is not callable\n",
      "\n",
      "runtime_job._stream_results:WARNING:2023-08-18 15:03:35,305: An error occurred while streaming results for job cjfiblc5hqba891916d0:\n",
      "Traceback (most recent call last):\n",
      "  File \"/home/gluonhiggs/.pyenv/versions/anaconda3-2023.03/envs/qiskit-runtime/lib/python3.10/site-packages/qiskit_ibm_runtime/runtime_job.py\", line 534, in _stream_results\n",
      "    user_callback(self.job_id(), _decoder.decode(response))\n",
      "TypeError: 'list' object is not callable\n",
      "\n",
      "runtime_job._stream_results:WARNING:2023-08-18 15:03:39,811: An error occurred while streaming results for job cjfibm0cs414jvgqs7f0:\n",
      "Traceback (most recent call last):\n",
      "  File \"/home/gluonhiggs/.pyenv/versions/anaconda3-2023.03/envs/qiskit-runtime/lib/python3.10/site-packages/qiskit_ibm_runtime/runtime_job.py\", line 534, in _stream_results\n",
      "    user_callback(self.job_id(), _decoder.decode(response))\n",
      "TypeError: 'list' object is not callable\n",
      "\n"
     ]
    },
    {
     "name": "stdout",
     "output_type": "stream",
     "text": [
      "Evaluation 369: -1.853616322400414\n"
     ]
    },
    {
     "name": "stderr",
     "output_type": "stream",
     "text": [
      "runtime_job._stream_results:WARNING:2023-08-18 15:03:44,214: An error occurred while streaming results for job cjfibnbie1jj2ilab0g0:\n",
      "Traceback (most recent call last):\n",
      "  File \"/home/gluonhiggs/.pyenv/versions/anaconda3-2023.03/envs/qiskit-runtime/lib/python3.10/site-packages/qiskit_ibm_runtime/runtime_job.py\", line 534, in _stream_results\n",
      "    user_callback(self.job_id(), _decoder.decode(response))\n",
      "TypeError: 'list' object is not callable\n",
      "\n",
      "runtime_job._stream_results:WARNING:2023-08-18 15:03:50,408: An error occurred while streaming results for job cjfibp57ui1f8qauocug:\n",
      "Traceback (most recent call last):\n",
      "  File \"/home/gluonhiggs/.pyenv/versions/anaconda3-2023.03/envs/qiskit-runtime/lib/python3.10/site-packages/qiskit_ibm_runtime/runtime_job.py\", line 534, in _stream_results\n",
      "    user_callback(self.job_id(), _decoder.decode(response))\n",
      "TypeError: 'list' object is not callable\n",
      "\n",
      "runtime_job._stream_results:WARNING:2023-08-18 15:03:55,580: An error occurred while streaming results for job cjfibq76dei0664m5i3g:\n",
      "Traceback (most recent call last):\n",
      "  File \"/home/gluonhiggs/.pyenv/versions/anaconda3-2023.03/envs/qiskit-runtime/lib/python3.10/site-packages/qiskit_ibm_runtime/runtime_job.py\", line 534, in _stream_results\n",
      "    user_callback(self.job_id(), _decoder.decode(response))\n",
      "TypeError: 'list' object is not callable\n",
      "\n"
     ]
    },
    {
     "name": "stdout",
     "output_type": "stream",
     "text": [
      "Evaluation 372: -1.855121047180399\n"
     ]
    },
    {
     "name": "stderr",
     "output_type": "stream",
     "text": [
      "runtime_job._stream_results:WARNING:2023-08-18 15:04:01,519: An error occurred while streaming results for job cjfibrrie1jj2ilab590:\n",
      "Traceback (most recent call last):\n",
      "  File \"/home/gluonhiggs/.pyenv/versions/anaconda3-2023.03/envs/qiskit-runtime/lib/python3.10/site-packages/qiskit_ibm_runtime/runtime_job.py\", line 534, in _stream_results\n",
      "    user_callback(self.job_id(), _decoder.decode(response))\n",
      "TypeError: 'list' object is not callable\n",
      "\n",
      "runtime_job._stream_results:WARNING:2023-08-18 15:04:05,513: An error occurred while streaming results for job cjfibsgcs414jvgqse10:\n",
      "Traceback (most recent call last):\n",
      "  File \"/home/gluonhiggs/.pyenv/versions/anaconda3-2023.03/envs/qiskit-runtime/lib/python3.10/site-packages/qiskit_ibm_runtime/runtime_job.py\", line 534, in _stream_results\n",
      "    user_callback(self.job_id(), _decoder.decode(response))\n",
      "TypeError: 'list' object is not callable\n",
      "\n",
      "runtime_job._stream_results:WARNING:2023-08-18 15:04:15,548: An error occurred while streaming results for job cjfibuvbq0tlksv90av0:\n",
      "Traceback (most recent call last):\n",
      "  File \"/home/gluonhiggs/.pyenv/versions/anaconda3-2023.03/envs/qiskit-runtime/lib/python3.10/site-packages/qiskit_ibm_runtime/runtime_job.py\", line 534, in _stream_results\n",
      "    user_callback(self.job_id(), _decoder.decode(response))\n",
      "TypeError: 'list' object is not callable\n",
      "\n"
     ]
    },
    {
     "name": "stdout",
     "output_type": "stream",
     "text": [
      "Evaluation 375: -1.8575442722525684\n"
     ]
    },
    {
     "name": "stderr",
     "output_type": "stream",
     "text": [
      "runtime_job._stream_results:WARNING:2023-08-18 15:04:19,336: An error occurred while streaming results for job cjfic076dei0664m5nu0:\n",
      "Traceback (most recent call last):\n",
      "  File \"/home/gluonhiggs/.pyenv/versions/anaconda3-2023.03/envs/qiskit-runtime/lib/python3.10/site-packages/qiskit_ibm_runtime/runtime_job.py\", line 534, in _stream_results\n",
      "    user_callback(self.job_id(), _decoder.decode(response))\n",
      "TypeError: 'list' object is not callable\n",
      "\n",
      "runtime_job._stream_results:WARNING:2023-08-18 15:04:22,818: An error occurred while streaming results for job cjfic176dei0664m5ong:\n",
      "Traceback (most recent call last):\n",
      "  File \"/home/gluonhiggs/.pyenv/versions/anaconda3-2023.03/envs/qiskit-runtime/lib/python3.10/site-packages/qiskit_ibm_runtime/runtime_job.py\", line 534, in _stream_results\n",
      "    user_callback(self.job_id(), _decoder.decode(response))\n",
      "TypeError: 'list' object is not callable\n",
      "\n",
      "runtime_job._stream_results:WARNING:2023-08-18 15:04:28,655: An error occurred while streaming results for job cjfic276dei0664m5pig:\n",
      "Traceback (most recent call last):\n",
      "  File \"/home/gluonhiggs/.pyenv/versions/anaconda3-2023.03/envs/qiskit-runtime/lib/python3.10/site-packages/qiskit_ibm_runtime/runtime_job.py\", line 534, in _stream_results\n",
      "    user_callback(self.job_id(), _decoder.decode(response))\n",
      "TypeError: 'list' object is not callable\n",
      "\n"
     ]
    },
    {
     "name": "stdout",
     "output_type": "stream",
     "text": [
      "Evaluation 378: -1.8560102425936353\n"
     ]
    },
    {
     "name": "stderr",
     "output_type": "stream",
     "text": [
      "runtime_job._stream_results:WARNING:2023-08-18 15:04:36,352: An error occurred while streaming results for job cjfic4f6dei0664m5rag:\n",
      "Traceback (most recent call last):\n",
      "  File \"/home/gluonhiggs/.pyenv/versions/anaconda3-2023.03/envs/qiskit-runtime/lib/python3.10/site-packages/qiskit_ibm_runtime/runtime_job.py\", line 534, in _stream_results\n",
      "    user_callback(self.job_id(), _decoder.decode(response))\n",
      "TypeError: 'list' object is not callable\n",
      "\n",
      "runtime_job._stream_results:WARNING:2023-08-18 15:04:40,223: An error occurred while streaming results for job cjfic5d7ui1f8qauonk0:\n",
      "Traceback (most recent call last):\n",
      "  File \"/home/gluonhiggs/.pyenv/versions/anaconda3-2023.03/envs/qiskit-runtime/lib/python3.10/site-packages/qiskit_ibm_runtime/runtime_job.py\", line 534, in _stream_results\n",
      "    user_callback(self.job_id(), _decoder.decode(response))\n",
      "TypeError: 'list' object is not callable\n",
      "\n",
      "runtime_job._stream_results:WARNING:2023-08-18 15:04:44,117: An error occurred while streaming results for job cjfic6c5hqba89191nsg:\n",
      "Traceback (most recent call last):\n",
      "  File \"/home/gluonhiggs/.pyenv/versions/anaconda3-2023.03/envs/qiskit-runtime/lib/python3.10/site-packages/qiskit_ibm_runtime/runtime_job.py\", line 534, in _stream_results\n",
      "    user_callback(self.job_id(), _decoder.decode(response))\n",
      "TypeError: 'list' object is not callable\n",
      "\n"
     ]
    },
    {
     "name": "stdout",
     "output_type": "stream",
     "text": [
      "Evaluation 381: -1.8573668225189115\n"
     ]
    },
    {
     "name": "stderr",
     "output_type": "stream",
     "text": [
      "runtime_job._stream_results:WARNING:2023-08-18 15:04:47,804: An error occurred while streaming results for job cjfic7bie1jj2ilabgqg:\n",
      "Traceback (most recent call last):\n",
      "  File \"/home/gluonhiggs/.pyenv/versions/anaconda3-2023.03/envs/qiskit-runtime/lib/python3.10/site-packages/qiskit_ibm_runtime/runtime_job.py\", line 534, in _stream_results\n",
      "    user_callback(self.job_id(), _decoder.decode(response))\n",
      "TypeError: 'list' object is not callable\n",
      "\n",
      "runtime_job._stream_results:WARNING:2023-08-18 15:04:51,490: An error occurred while streaming results for job cjfic8fbq0tlksv90jig:\n",
      "Traceback (most recent call last):\n",
      "  File \"/home/gluonhiggs/.pyenv/versions/anaconda3-2023.03/envs/qiskit-runtime/lib/python3.10/site-packages/qiskit_ibm_runtime/runtime_job.py\", line 534, in _stream_results\n",
      "    user_callback(self.job_id(), _decoder.decode(response))\n",
      "TypeError: 'list' object is not callable\n",
      "\n",
      "runtime_job._stream_results:WARNING:2023-08-18 15:04:55,484: An error occurred while streaming results for job cjfic976dei0664m60hg:\n",
      "Traceback (most recent call last):\n",
      "  File \"/home/gluonhiggs/.pyenv/versions/anaconda3-2023.03/envs/qiskit-runtime/lib/python3.10/site-packages/qiskit_ibm_runtime/runtime_job.py\", line 534, in _stream_results\n",
      "    user_callback(self.job_id(), _decoder.decode(response))\n",
      "TypeError: 'list' object is not callable\n",
      "\n"
     ]
    },
    {
     "name": "stdout",
     "output_type": "stream",
     "text": [
      "Evaluation 384: -1.855474330355291\n"
     ]
    },
    {
     "name": "stderr",
     "output_type": "stream",
     "text": [
      "runtime_job._stream_results:WARNING:2023-08-18 15:05:01,926: An error occurred while streaming results for job cjficav6dei0664m61rg:\n",
      "Traceback (most recent call last):\n",
      "  File \"/home/gluonhiggs/.pyenv/versions/anaconda3-2023.03/envs/qiskit-runtime/lib/python3.10/site-packages/qiskit_ibm_runtime/runtime_job.py\", line 534, in _stream_results\n",
      "    user_callback(self.job_id(), _decoder.decode(response))\n",
      "TypeError: 'list' object is not callable\n",
      "\n",
      "runtime_job._stream_results:WARNING:2023-08-18 15:05:05,314: An error occurred while streaming results for job cjficbocs414jvgqssh0:\n",
      "Traceback (most recent call last):\n",
      "  File \"/home/gluonhiggs/.pyenv/versions/anaconda3-2023.03/envs/qiskit-runtime/lib/python3.10/site-packages/qiskit_ibm_runtime/runtime_job.py\", line 534, in _stream_results\n",
      "    user_callback(self.job_id(), _decoder.decode(response))\n",
      "TypeError: 'list' object is not callable\n",
      "\n",
      "runtime_job._stream_results:WARNING:2023-08-18 15:05:11,356: An error occurred while streaming results for job cjficd8cs414jvgqstgg:\n",
      "Traceback (most recent call last):\n",
      "  File \"/home/gluonhiggs/.pyenv/versions/anaconda3-2023.03/envs/qiskit-runtime/lib/python3.10/site-packages/qiskit_ibm_runtime/runtime_job.py\", line 534, in _stream_results\n",
      "    user_callback(self.job_id(), _decoder.decode(response))\n",
      "TypeError: 'list' object is not callable\n",
      "\n"
     ]
    },
    {
     "name": "stdout",
     "output_type": "stream",
     "text": [
      "Evaluation 387: -1.852227486727582\n"
     ]
    },
    {
     "name": "stderr",
     "output_type": "stream",
     "text": [
      "runtime_job._stream_results:WARNING:2023-08-18 15:05:14,735: An error occurred while streaming results for job cjfice3ie1jj2ilabob0:\n",
      "Traceback (most recent call last):\n",
      "  File \"/home/gluonhiggs/.pyenv/versions/anaconda3-2023.03/envs/qiskit-runtime/lib/python3.10/site-packages/qiskit_ibm_runtime/runtime_job.py\", line 534, in _stream_results\n",
      "    user_callback(self.job_id(), _decoder.decode(response))\n",
      "TypeError: 'list' object is not callable\n",
      "\n",
      "runtime_job._stream_results:WARNING:2023-08-18 15:05:18,318: An error occurred while streaming results for job cjficf45hqba8919206g:\n",
      "Traceback (most recent call last):\n",
      "  File \"/home/gluonhiggs/.pyenv/versions/anaconda3-2023.03/envs/qiskit-runtime/lib/python3.10/site-packages/qiskit_ibm_runtime/runtime_job.py\", line 534, in _stream_results\n",
      "    user_callback(self.job_id(), _decoder.decode(response))\n",
      "TypeError: 'list' object is not callable\n",
      "\n",
      "runtime_job._stream_results:WARNING:2023-08-18 15:05:26,715: An error occurred while streaming results for job cjfich3ie1jj2ilabrh0:\n",
      "Traceback (most recent call last):\n",
      "  File \"/home/gluonhiggs/.pyenv/versions/anaconda3-2023.03/envs/qiskit-runtime/lib/python3.10/site-packages/qiskit_ibm_runtime/runtime_job.py\", line 534, in _stream_results\n",
      "    user_callback(self.job_id(), _decoder.decode(response))\n",
      "TypeError: 'list' object is not callable\n",
      "\n"
     ]
    },
    {
     "name": "stdout",
     "output_type": "stream",
     "text": [
      "Evaluation 390: -1.8551029948460438\n"
     ]
    },
    {
     "name": "stderr",
     "output_type": "stream",
     "text": [
      "runtime_job._stream_results:WARNING:2023-08-18 15:05:35,829: An error occurred while streaming results for job cjficj45hqba891923gg:\n",
      "Traceback (most recent call last):\n",
      "  File \"/home/gluonhiggs/.pyenv/versions/anaconda3-2023.03/envs/qiskit-runtime/lib/python3.10/site-packages/qiskit_ibm_runtime/runtime_job.py\", line 534, in _stream_results\n",
      "    user_callback(self.job_id(), _decoder.decode(response))\n",
      "TypeError: 'list' object is not callable\n",
      "\n",
      "runtime_job._stream_results:WARNING:2023-08-18 15:05:48,015: An error occurred while streaming results for job cjficln6dei0664m6cr0:\n",
      "Traceback (most recent call last):\n",
      "  File \"/home/gluonhiggs/.pyenv/versions/anaconda3-2023.03/envs/qiskit-runtime/lib/python3.10/site-packages/qiskit_ibm_runtime/runtime_job.py\", line 534, in _stream_results\n",
      "    user_callback(self.job_id(), _decoder.decode(response))\n",
      "TypeError: 'list' object is not callable\n",
      "\n",
      "runtime_job._stream_results:WARNING:2023-08-18 15:05:54,159: An error occurred while streaming results for job cjficnv6dei0664m6gjg:\n",
      "Traceback (most recent call last):\n",
      "  File \"/home/gluonhiggs/.pyenv/versions/anaconda3-2023.03/envs/qiskit-runtime/lib/python3.10/site-packages/qiskit_ibm_runtime/runtime_job.py\", line 534, in _stream_results\n",
      "    user_callback(self.job_id(), _decoder.decode(response))\n",
      "TypeError: 'list' object is not callable\n",
      "\n"
     ]
    },
    {
     "name": "stdout",
     "output_type": "stream",
     "text": [
      "Evaluation 393: -1.8522964509775242\n"
     ]
    },
    {
     "name": "stderr",
     "output_type": "stream",
     "text": [
      "runtime_job._stream_results:WARNING:2023-08-18 15:05:58,666: An error occurred while streaming results for job cjficov6dei0664m6i40:\n",
      "Traceback (most recent call last):\n",
      "  File \"/home/gluonhiggs/.pyenv/versions/anaconda3-2023.03/envs/qiskit-runtime/lib/python3.10/site-packages/qiskit_ibm_runtime/runtime_job.py\", line 534, in _stream_results\n",
      "    user_callback(self.job_id(), _decoder.decode(response))\n",
      "TypeError: 'list' object is not callable\n",
      "\n",
      "runtime_job._stream_results:WARNING:2023-08-18 15:06:02,248: An error occurred while streaming results for job cjficpocs414jvgqtau0:\n",
      "Traceback (most recent call last):\n",
      "  File \"/home/gluonhiggs/.pyenv/versions/anaconda3-2023.03/envs/qiskit-runtime/lib/python3.10/site-packages/qiskit_ibm_runtime/runtime_job.py\", line 534, in _stream_results\n",
      "    user_callback(self.job_id(), _decoder.decode(response))\n",
      "TypeError: 'list' object is not callable\n",
      "\n",
      "runtime_job._stream_results:WARNING:2023-08-18 15:06:05,831: An error occurred while streaming results for job cjficqocs414jvgqtbu0:\n",
      "Traceback (most recent call last):\n",
      "  File \"/home/gluonhiggs/.pyenv/versions/anaconda3-2023.03/envs/qiskit-runtime/lib/python3.10/site-packages/qiskit_ibm_runtime/runtime_job.py\", line 534, in _stream_results\n",
      "    user_callback(self.job_id(), _decoder.decode(response))\n",
      "TypeError: 'list' object is not callable\n",
      "\n"
     ]
    },
    {
     "name": "stdout",
     "output_type": "stream",
     "text": [
      "Evaluation 396: -1.8481144912030234\n"
     ]
    },
    {
     "name": "stderr",
     "output_type": "stream",
     "text": [
      "runtime_job._stream_results:WARNING:2023-08-18 15:06:10,850: An error occurred while streaming results for job cjfics76dei0664m6ljg:\n",
      "Traceback (most recent call last):\n",
      "  File \"/home/gluonhiggs/.pyenv/versions/anaconda3-2023.03/envs/qiskit-runtime/lib/python3.10/site-packages/qiskit_ibm_runtime/runtime_job.py\", line 534, in _stream_results\n",
      "    user_callback(self.job_id(), _decoder.decode(response))\n",
      "TypeError: 'list' object is not callable\n",
      "\n",
      "runtime_job._stream_results:WARNING:2023-08-18 15:06:14,639: An error occurred while streaming results for job cjfict3ie1jj2ilac86g:\n",
      "Traceback (most recent call last):\n",
      "  File \"/home/gluonhiggs/.pyenv/versions/anaconda3-2023.03/envs/qiskit-runtime/lib/python3.10/site-packages/qiskit_ibm_runtime/runtime_job.py\", line 534, in _stream_results\n",
      "    user_callback(self.job_id(), _decoder.decode(response))\n",
      "TypeError: 'list' object is not callable\n",
      "\n",
      "runtime_job._stream_results:WARNING:2023-08-18 15:06:19,042: An error occurred while streaming results for job cjfictocs414jvgqteog:\n",
      "Traceback (most recent call last):\n",
      "  File \"/home/gluonhiggs/.pyenv/versions/anaconda3-2023.03/envs/qiskit-runtime/lib/python3.10/site-packages/qiskit_ibm_runtime/runtime_job.py\", line 534, in _stream_results\n",
      "    user_callback(self.job_id(), _decoder.decode(response))\n",
      "TypeError: 'list' object is not callable\n",
      "\n"
     ]
    },
    {
     "name": "stdout",
     "output_type": "stream",
     "text": [
      "Evaluation 399: -1.858314280567333\n"
     ]
    },
    {
     "name": "stderr",
     "output_type": "stream",
     "text": [
      "runtime_job._stream_results:WARNING:2023-08-18 15:06:24,879: An error occurred while streaming results for job cjficv57ui1f8qaupgdg:\n",
      "Traceback (most recent call last):\n",
      "  File \"/home/gluonhiggs/.pyenv/versions/anaconda3-2023.03/envs/qiskit-runtime/lib/python3.10/site-packages/qiskit_ibm_runtime/runtime_job.py\", line 534, in _stream_results\n",
      "    user_callback(self.job_id(), _decoder.decode(response))\n",
      "TypeError: 'list' object is not callable\n",
      "\n",
      "runtime_job._stream_results:WARNING:2023-08-18 15:06:28,463: An error occurred while streaming results for job cjfid0jie1jj2ilacd50:\n",
      "Traceback (most recent call last):\n",
      "  File \"/home/gluonhiggs/.pyenv/versions/anaconda3-2023.03/envs/qiskit-runtime/lib/python3.10/site-packages/qiskit_ibm_runtime/runtime_job.py\", line 534, in _stream_results\n",
      "    user_callback(self.job_id(), _decoder.decode(response))\n",
      "TypeError: 'list' object is not callable\n",
      "\n",
      "runtime_job._stream_results:WARNING:2023-08-18 15:06:31,739: An error occurred while streaming results for job cjfid1c5hqba89192iig:\n",
      "Traceback (most recent call last):\n",
      "  File \"/home/gluonhiggs/.pyenv/versions/anaconda3-2023.03/envs/qiskit-runtime/lib/python3.10/site-packages/qiskit_ibm_runtime/runtime_job.py\", line 534, in _stream_results\n",
      "    user_callback(self.job_id(), _decoder.decode(response))\n",
      "TypeError: 'list' object is not callable\n",
      "\n"
     ]
    },
    {
     "name": "stdout",
     "output_type": "stream",
     "text": [
      "Evaluation 402: -1.8505764900962745\n"
     ]
    },
    {
     "name": "stderr",
     "output_type": "stream",
     "text": [
      "runtime_job._stream_results:WARNING:2023-08-18 15:06:35,303: An error occurred while streaming results for job cjfid2d7ui1f8qaupjng:\n",
      "Traceback (most recent call last):\n",
      "  File \"/home/gluonhiggs/.pyenv/versions/anaconda3-2023.03/envs/qiskit-runtime/lib/python3.10/site-packages/qiskit_ibm_runtime/runtime_job.py\", line 534, in _stream_results\n",
      "    user_callback(self.job_id(), _decoder.decode(response))\n",
      "TypeError: 'list' object is not callable\n",
      "\n",
      "runtime_job._stream_results:WARNING:2023-08-18 15:06:42,697: An error occurred while streaming results for job cjfid3s5hqba89192kfg:\n",
      "Traceback (most recent call last):\n",
      "  File \"/home/gluonhiggs/.pyenv/versions/anaconda3-2023.03/envs/qiskit-runtime/lib/python3.10/site-packages/qiskit_ibm_runtime/runtime_job.py\", line 534, in _stream_results\n",
      "    user_callback(self.job_id(), _decoder.decode(response))\n",
      "TypeError: 'list' object is not callable\n",
      "\n",
      "runtime_job._stream_results:WARNING:2023-08-18 15:06:46,075: An error occurred while streaming results for job cjfid4vbq0tlksv91i4g:\n",
      "Traceback (most recent call last):\n",
      "  File \"/home/gluonhiggs/.pyenv/versions/anaconda3-2023.03/envs/qiskit-runtime/lib/python3.10/site-packages/qiskit_ibm_runtime/runtime_job.py\", line 534, in _stream_results\n",
      "    user_callback(self.job_id(), _decoder.decode(response))\n",
      "TypeError: 'list' object is not callable\n",
      "\n"
     ]
    },
    {
     "name": "stdout",
     "output_type": "stream",
     "text": [
      "Evaluation 405: -1.8464462425538912\n"
     ]
    },
    {
     "name": "stderr",
     "output_type": "stream",
     "text": [
      "runtime_job._stream_results:WARNING:2023-08-18 15:06:53,652: An error occurred while streaming results for job cjfid67bq0tlksv91ivg:\n",
      "Traceback (most recent call last):\n",
      "  File \"/home/gluonhiggs/.pyenv/versions/anaconda3-2023.03/envs/qiskit-runtime/lib/python3.10/site-packages/qiskit_ibm_runtime/runtime_job.py\", line 534, in _stream_results\n",
      "    user_callback(self.job_id(), _decoder.decode(response))\n",
      "TypeError: 'list' object is not callable\n",
      "\n",
      "runtime_job._stream_results:WARNING:2023-08-18 15:06:58,158: An error occurred while streaming results for job cjfid7s5hqba89192ng0:\n",
      "Traceback (most recent call last):\n",
      "  File \"/home/gluonhiggs/.pyenv/versions/anaconda3-2023.03/envs/qiskit-runtime/lib/python3.10/site-packages/qiskit_ibm_runtime/runtime_job.py\", line 534, in _stream_results\n",
      "    user_callback(self.job_id(), _decoder.decode(response))\n",
      "TypeError: 'list' object is not callable\n",
      "\n",
      "runtime_job._stream_results:WARNING:2023-08-18 15:07:01,813: An error occurred while streaming results for job cjfid8s5hqba89192oag:\n",
      "Traceback (most recent call last):\n",
      "  File \"/home/gluonhiggs/.pyenv/versions/anaconda3-2023.03/envs/qiskit-runtime/lib/python3.10/site-packages/qiskit_ibm_runtime/runtime_job.py\", line 534, in _stream_results\n",
      "    user_callback(self.job_id(), _decoder.decode(response))\n",
      "TypeError: 'list' object is not callable\n",
      "\n"
     ]
    },
    {
     "name": "stdout",
     "output_type": "stream",
     "text": [
      "Evaluation 408: -1.850930218129895\n"
     ]
    },
    {
     "name": "stderr",
     "output_type": "stream",
     "text": [
      "runtime_job._stream_results:WARNING:2023-08-18 15:07:05,537: An error occurred while streaming results for job cjfid9ocs414jvgqtrk0:\n",
      "Traceback (most recent call last):\n",
      "  File \"/home/gluonhiggs/.pyenv/versions/anaconda3-2023.03/envs/qiskit-runtime/lib/python3.10/site-packages/qiskit_ibm_runtime/runtime_job.py\", line 534, in _stream_results\n",
      "    user_callback(self.job_id(), _decoder.decode(response))\n",
      "TypeError: 'list' object is not callable\n",
      "\n",
      "runtime_job._stream_results:WARNING:2023-08-18 15:07:10,344: An error occurred while streaming results for job cjfidat7ui1f8qaupqrg:\n",
      "Traceback (most recent call last):\n",
      "  File \"/home/gluonhiggs/.pyenv/versions/anaconda3-2023.03/envs/qiskit-runtime/lib/python3.10/site-packages/qiskit_ibm_runtime/runtime_job.py\", line 534, in _stream_results\n",
      "    user_callback(self.job_id(), _decoder.decode(response))\n",
      "TypeError: 'list' object is not callable\n",
      "\n",
      "runtime_job._stream_results:WARNING:2023-08-18 15:07:13,928: An error occurred while streaming results for job cjfidbs5hqba89192qvg:\n",
      "Traceback (most recent call last):\n",
      "  File \"/home/gluonhiggs/.pyenv/versions/anaconda3-2023.03/envs/qiskit-runtime/lib/python3.10/site-packages/qiskit_ibm_runtime/runtime_job.py\", line 534, in _stream_results\n",
      "    user_callback(self.job_id(), _decoder.decode(response))\n",
      "TypeError: 'list' object is not callable\n",
      "\n"
     ]
    },
    {
     "name": "stdout",
     "output_type": "stream",
     "text": [
      "Evaluation 411: -1.8485119031739208\n"
     ]
    },
    {
     "name": "stderr",
     "output_type": "stream",
     "text": [
      "runtime_job._stream_results:WARNING:2023-08-18 15:07:22,120: An error occurred while streaming results for job cjfiddv6dei0664m78tg:\n",
      "Traceback (most recent call last):\n",
      "  File \"/home/gluonhiggs/.pyenv/versions/anaconda3-2023.03/envs/qiskit-runtime/lib/python3.10/site-packages/qiskit_ibm_runtime/runtime_job.py\", line 534, in _stream_results\n",
      "    user_callback(self.job_id(), _decoder.decode(response))\n",
      "TypeError: 'list' object is not callable\n",
      "\n",
      "runtime_job._stream_results:WARNING:2023-08-18 15:07:25,956: An error occurred while streaming results for job cjfidevbq0tlksv91su0:\n",
      "Traceback (most recent call last):\n",
      "  File \"/home/gluonhiggs/.pyenv/versions/anaconda3-2023.03/envs/qiskit-runtime/lib/python3.10/site-packages/qiskit_ibm_runtime/runtime_job.py\", line 534, in _stream_results\n",
      "    user_callback(self.job_id(), _decoder.decode(response))\n",
      "TypeError: 'list' object is not callable\n",
      "\n",
      "runtime_job._stream_results:WARNING:2023-08-18 15:07:34,409: An error occurred while streaming results for job cjfidgnbq0tlksv91u10:\n",
      "Traceback (most recent call last):\n",
      "  File \"/home/gluonhiggs/.pyenv/versions/anaconda3-2023.03/envs/qiskit-runtime/lib/python3.10/site-packages/qiskit_ibm_runtime/runtime_job.py\", line 534, in _stream_results\n",
      "    user_callback(self.job_id(), _decoder.decode(response))\n",
      "TypeError: 'list' object is not callable\n",
      "\n"
     ]
    },
    {
     "name": "stdout",
     "output_type": "stream",
     "text": [
      "Evaluation 414: -1.8476269932054774\n"
     ]
    },
    {
     "name": "stderr",
     "output_type": "stream",
     "text": [
      "runtime_job._stream_results:WARNING:2023-08-18 15:07:42,907: An error occurred while streaming results for job cjfidj3ie1jj2ilad1ag:\n",
      "Traceback (most recent call last):\n",
      "  File \"/home/gluonhiggs/.pyenv/versions/anaconda3-2023.03/envs/qiskit-runtime/lib/python3.10/site-packages/qiskit_ibm_runtime/runtime_job.py\", line 534, in _stream_results\n",
      "    user_callback(self.job_id(), _decoder.decode(response))\n",
      "TypeError: 'list' object is not callable\n",
      "\n",
      "runtime_job._stream_results:WARNING:2023-08-18 15:07:49,564: An error occurred while streaming results for job cjfidkt7ui1f8qauq4qg:\n",
      "Traceback (most recent call last):\n",
      "  File \"/home/gluonhiggs/.pyenv/versions/anaconda3-2023.03/envs/qiskit-runtime/lib/python3.10/site-packages/qiskit_ibm_runtime/runtime_job.py\", line 534, in _stream_results\n",
      "    user_callback(self.job_id(), _decoder.decode(response))\n",
      "TypeError: 'list' object is not callable\n",
      "\n",
      "runtime_job._stream_results:WARNING:2023-08-18 15:07:58,370: An error occurred while streaming results for job cjfidmt7ui1f8qauq70g:\n",
      "Traceback (most recent call last):\n",
      "  File \"/home/gluonhiggs/.pyenv/versions/anaconda3-2023.03/envs/qiskit-runtime/lib/python3.10/site-packages/qiskit_ibm_runtime/runtime_job.py\", line 534, in _stream_results\n",
      "    user_callback(self.job_id(), _decoder.decode(response))\n",
      "TypeError: 'list' object is not callable\n",
      "\n"
     ]
    },
    {
     "name": "stdout",
     "output_type": "stream",
     "text": [
      "Evaluation 417: -1.8521136379338525\n"
     ]
    },
    {
     "name": "stderr",
     "output_type": "stream",
     "text": [
      "runtime_job._stream_results:WARNING:2023-08-18 15:08:05,735: An error occurred while streaming results for job cjfidns5hqba89193940:\n",
      "Traceback (most recent call last):\n",
      "  File \"/home/gluonhiggs/.pyenv/versions/anaconda3-2023.03/envs/qiskit-runtime/lib/python3.10/site-packages/qiskit_ibm_runtime/runtime_job.py\", line 534, in _stream_results\n",
      "    user_callback(self.job_id(), _decoder.decode(response))\n",
      "TypeError: 'list' object is not callable\n",
      "\n",
      "runtime_job._stream_results:WARNING:2023-08-18 15:08:09,389: An error occurred while streaming results for job cjfidprie1jj2ilad90g:\n",
      "Traceback (most recent call last):\n",
      "  File \"/home/gluonhiggs/.pyenv/versions/anaconda3-2023.03/envs/qiskit-runtime/lib/python3.10/site-packages/qiskit_ibm_runtime/runtime_job.py\", line 534, in _stream_results\n",
      "    user_callback(self.job_id(), _decoder.decode(response))\n",
      "TypeError: 'list' object is not callable\n",
      "\n",
      "runtime_job._stream_results:WARNING:2023-08-18 15:08:17,726: An error occurred while streaming results for job cjfidrrie1jj2iladbd0:\n",
      "Traceback (most recent call last):\n",
      "  File \"/home/gluonhiggs/.pyenv/versions/anaconda3-2023.03/envs/qiskit-runtime/lib/python3.10/site-packages/qiskit_ibm_runtime/runtime_job.py\", line 534, in _stream_results\n",
      "    user_callback(self.job_id(), _decoder.decode(response))\n",
      "TypeError: 'list' object is not callable\n",
      "\n"
     ]
    },
    {
     "name": "stdout",
     "output_type": "stream",
     "text": [
      "Evaluation 420: -1.84546322659905\n"
     ]
    },
    {
     "name": "stderr",
     "output_type": "stream",
     "text": [
      "runtime_job._stream_results:WARNING:2023-08-18 15:08:21,512: An error occurred while streaming results for job cjfidss5hqba89193fq0:\n",
      "Traceback (most recent call last):\n",
      "  File \"/home/gluonhiggs/.pyenv/versions/anaconda3-2023.03/envs/qiskit-runtime/lib/python3.10/site-packages/qiskit_ibm_runtime/runtime_job.py\", line 534, in _stream_results\n",
      "    user_callback(self.job_id(), _decoder.decode(response))\n",
      "TypeError: 'list' object is not callable\n",
      "\n",
      "runtime_job._stream_results:WARNING:2023-08-18 15:08:25,404: An error occurred while streaming results for job cjfidtk5hqba89193gl0:\n",
      "Traceback (most recent call last):\n",
      "  File \"/home/gluonhiggs/.pyenv/versions/anaconda3-2023.03/envs/qiskit-runtime/lib/python3.10/site-packages/qiskit_ibm_runtime/runtime_job.py\", line 534, in _stream_results\n",
      "    user_callback(self.job_id(), _decoder.decode(response))\n",
      "TypeError: 'list' object is not callable\n",
      "\n",
      "runtime_job._stream_results:WARNING:2023-08-18 15:08:31,982: An error occurred while streaming results for job cjfidvbie1jj2iladfgg:\n",
      "Traceback (most recent call last):\n",
      "  File \"/home/gluonhiggs/.pyenv/versions/anaconda3-2023.03/envs/qiskit-runtime/lib/python3.10/site-packages/qiskit_ibm_runtime/runtime_job.py\", line 534, in _stream_results\n",
      "    user_callback(self.job_id(), _decoder.decode(response))\n",
      "TypeError: 'list' object is not callable\n",
      "\n"
     ]
    },
    {
     "name": "stdout",
     "output_type": "stream",
     "text": [
      "Evaluation 423: -1.85890736191628\n"
     ]
    },
    {
     "name": "stderr",
     "output_type": "stream",
     "text": [
      "runtime_job._stream_results:WARNING:2023-08-18 15:08:35,643: An error occurred while streaming results for job cjfie0bie1jj2iladhc0:\n",
      "Traceback (most recent call last):\n",
      "  File \"/home/gluonhiggs/.pyenv/versions/anaconda3-2023.03/envs/qiskit-runtime/lib/python3.10/site-packages/qiskit_ibm_runtime/runtime_job.py\", line 534, in _stream_results\n",
      "    user_callback(self.job_id(), _decoder.decode(response))\n",
      "TypeError: 'list' object is not callable\n",
      "\n",
      "runtime_job._stream_results:WARNING:2023-08-18 15:08:45,167: An error occurred while streaming results for job cjfie2s5hqba89193m0g:\n",
      "Traceback (most recent call last):\n",
      "  File \"/home/gluonhiggs/.pyenv/versions/anaconda3-2023.03/envs/qiskit-runtime/lib/python3.10/site-packages/qiskit_ibm_runtime/runtime_job.py\", line 534, in _stream_results\n",
      "    user_callback(self.job_id(), _decoder.decode(response))\n",
      "TypeError: 'list' object is not callable\n",
      "\n",
      "runtime_job._stream_results:WARNING:2023-08-18 15:08:49,365: An error occurred while streaming results for job cjfie3k5hqba89193mkg:\n",
      "Traceback (most recent call last):\n",
      "  File \"/home/gluonhiggs/.pyenv/versions/anaconda3-2023.03/envs/qiskit-runtime/lib/python3.10/site-packages/qiskit_ibm_runtime/runtime_job.py\", line 534, in _stream_results\n",
      "    user_callback(self.job_id(), _decoder.decode(response))\n",
      "TypeError: 'list' object is not callable\n",
      "\n"
     ]
    },
    {
     "name": "stdout",
     "output_type": "stream",
     "text": [
      "Evaluation 426: -1.8523843614468234\n"
     ]
    },
    {
     "name": "stderr",
     "output_type": "stream",
     "text": [
      "runtime_job._stream_results:WARNING:2023-08-18 15:08:55,202: An error occurred while streaming results for job cjfie4l7ui1f8qauqlug:\n",
      "Traceback (most recent call last):\n",
      "  File \"/home/gluonhiggs/.pyenv/versions/anaconda3-2023.03/envs/qiskit-runtime/lib/python3.10/site-packages/qiskit_ibm_runtime/runtime_job.py\", line 534, in _stream_results\n",
      "    user_callback(self.job_id(), _decoder.decode(response))\n",
      "TypeError: 'list' object is not callable\n",
      "\n",
      "runtime_job._stream_results:WARNING:2023-08-18 15:08:58,787: An error occurred while streaming results for job cjfie676dei0664m83b0:\n",
      "Traceback (most recent call last):\n",
      "  File \"/home/gluonhiggs/.pyenv/versions/anaconda3-2023.03/envs/qiskit-runtime/lib/python3.10/site-packages/qiskit_ibm_runtime/runtime_job.py\", line 534, in _stream_results\n",
      "    user_callback(self.job_id(), _decoder.decode(response))\n",
      "TypeError: 'list' object is not callable\n",
      "\n",
      "runtime_job._stream_results:WARNING:2023-08-18 15:09:09,231: An error occurred while streaming results for job cjfie8nbq0tlksv92npg:\n",
      "Traceback (most recent call last):\n",
      "  File \"/home/gluonhiggs/.pyenv/versions/anaconda3-2023.03/envs/qiskit-runtime/lib/python3.10/site-packages/qiskit_ibm_runtime/runtime_job.py\", line 534, in _stream_results\n",
      "    user_callback(self.job_id(), _decoder.decode(response))\n",
      "TypeError: 'list' object is not callable\n",
      "\n"
     ]
    },
    {
     "name": "stdout",
     "output_type": "stream",
     "text": [
      "Evaluation 429: -1.8558492122317305\n"
     ]
    },
    {
     "name": "stderr",
     "output_type": "stream",
     "text": [
      "runtime_job._stream_results:WARNING:2023-08-18 15:09:13,532: An error occurred while streaming results for job cjfie9jie1jj2iladrkg:\n",
      "Traceback (most recent call last):\n",
      "  File \"/home/gluonhiggs/.pyenv/versions/anaconda3-2023.03/envs/qiskit-runtime/lib/python3.10/site-packages/qiskit_ibm_runtime/runtime_job.py\", line 534, in _stream_results\n",
      "    user_callback(self.job_id(), _decoder.decode(response))\n",
      "TypeError: 'list' object is not callable\n",
      "\n",
      "runtime_job._stream_results:WARNING:2023-08-18 15:09:18,345: An error occurred while streaming results for job cjfieak5hqba89193tfg:\n",
      "Traceback (most recent call last):\n",
      "  File \"/home/gluonhiggs/.pyenv/versions/anaconda3-2023.03/envs/qiskit-runtime/lib/python3.10/site-packages/qiskit_ibm_runtime/runtime_job.py\", line 534, in _stream_results\n",
      "    user_callback(self.job_id(), _decoder.decode(response))\n",
      "TypeError: 'list' object is not callable\n",
      "\n",
      "runtime_job._stream_results:WARNING:2023-08-18 15:09:22,134: An error occurred while streaming results for job cjfiebvbq0tlksv92q2g:\n",
      "Traceback (most recent call last):\n",
      "  File \"/home/gluonhiggs/.pyenv/versions/anaconda3-2023.03/envs/qiskit-runtime/lib/python3.10/site-packages/qiskit_ibm_runtime/runtime_job.py\", line 534, in _stream_results\n",
      "    user_callback(self.job_id(), _decoder.decode(response))\n",
      "TypeError: 'list' object is not callable\n",
      "\n"
     ]
    },
    {
     "name": "stdout",
     "output_type": "stream",
     "text": [
      "Evaluation 432: -1.8599365678182769\n"
     ]
    },
    {
     "name": "stderr",
     "output_type": "stream",
     "text": [
      "runtime_job._stream_results:WARNING:2023-08-18 15:09:26,127: An error occurred while streaming results for job cjfiect7ui1f8qauqu90:\n",
      "Traceback (most recent call last):\n",
      "  File \"/home/gluonhiggs/.pyenv/versions/anaconda3-2023.03/envs/qiskit-runtime/lib/python3.10/site-packages/qiskit_ibm_runtime/runtime_job.py\", line 534, in _stream_results\n",
      "    user_callback(self.job_id(), _decoder.decode(response))\n",
      "TypeError: 'list' object is not callable\n",
      "\n",
      "runtime_job._stream_results:WARNING:2023-08-18 15:09:30,633: An error occurred while streaming results for job cjfiee7bq0tlksv92sg0:\n",
      "Traceback (most recent call last):\n",
      "  File \"/home/gluonhiggs/.pyenv/versions/anaconda3-2023.03/envs/qiskit-runtime/lib/python3.10/site-packages/qiskit_ibm_runtime/runtime_job.py\", line 534, in _stream_results\n",
      "    user_callback(self.job_id(), _decoder.decode(response))\n",
      "TypeError: 'list' object is not callable\n",
      "\n",
      "runtime_job._stream_results:WARNING:2023-08-18 15:09:38,211: An error occurred while streaming results for job cjfieg45hqba8919439g:\n",
      "Traceback (most recent call last):\n",
      "  File \"/home/gluonhiggs/.pyenv/versions/anaconda3-2023.03/envs/qiskit-runtime/lib/python3.10/site-packages/qiskit_ibm_runtime/runtime_job.py\", line 534, in _stream_results\n",
      "    user_callback(self.job_id(), _decoder.decode(response))\n",
      "TypeError: 'list' object is not callable\n",
      "\n"
     ]
    },
    {
     "name": "stdout",
     "output_type": "stream",
     "text": [
      "Evaluation 435: -1.8488563295754454\n"
     ]
    },
    {
     "name": "stderr",
     "output_type": "stream",
     "text": [
      "runtime_job._stream_results:WARNING:2023-08-18 15:09:46,732: An error occurred while streaming results for job cjfieht7ui1f8qaur1j0:\n",
      "Traceback (most recent call last):\n",
      "  File \"/home/gluonhiggs/.pyenv/versions/anaconda3-2023.03/envs/qiskit-runtime/lib/python3.10/site-packages/qiskit_ibm_runtime/runtime_job.py\", line 534, in _stream_results\n",
      "    user_callback(self.job_id(), _decoder.decode(response))\n",
      "TypeError: 'list' object is not callable\n",
      "\n",
      "runtime_job._stream_results:WARNING:2023-08-18 15:09:55,516: An error occurred while streaming results for job cjfiekd7ui1f8qaur3dg:\n",
      "Traceback (most recent call last):\n",
      "  File \"/home/gluonhiggs/.pyenv/versions/anaconda3-2023.03/envs/qiskit-runtime/lib/python3.10/site-packages/qiskit_ibm_runtime/runtime_job.py\", line 534, in _stream_results\n",
      "    user_callback(self.job_id(), _decoder.decode(response))\n",
      "TypeError: 'list' object is not callable\n",
      "\n",
      "runtime_job._stream_results:WARNING:2023-08-18 15:09:58,998: An error occurred while streaming results for job cjfiel7bq0tlksv934i0:\n",
      "Traceback (most recent call last):\n",
      "  File \"/home/gluonhiggs/.pyenv/versions/anaconda3-2023.03/envs/qiskit-runtime/lib/python3.10/site-packages/qiskit_ibm_runtime/runtime_job.py\", line 534, in _stream_results\n",
      "    user_callback(self.job_id(), _decoder.decode(response))\n",
      "TypeError: 'list' object is not callable\n",
      "\n"
     ]
    },
    {
     "name": "stdout",
     "output_type": "stream",
     "text": [
      "Evaluation 438: -1.8535199875138397\n"
     ]
    },
    {
     "name": "stderr",
     "output_type": "stream",
     "text": [
      "runtime_job._stream_results:WARNING:2023-08-18 15:10:02,275: An error occurred while streaming results for job cjfiem3ie1jj2ilaeadg:\n",
      "Traceback (most recent call last):\n",
      "  File \"/home/gluonhiggs/.pyenv/versions/anaconda3-2023.03/envs/qiskit-runtime/lib/python3.10/site-packages/qiskit_ibm_runtime/runtime_job.py\", line 534, in _stream_results\n",
      "    user_callback(self.job_id(), _decoder.decode(response))\n",
      "TypeError: 'list' object is not callable\n",
      "\n",
      "runtime_job._stream_results:WARNING:2023-08-18 15:10:07,805: An error occurred while streaming results for job cjfien45hqba89194aa0:\n",
      "Traceback (most recent call last):\n",
      "  File \"/home/gluonhiggs/.pyenv/versions/anaconda3-2023.03/envs/qiskit-runtime/lib/python3.10/site-packages/qiskit_ibm_runtime/runtime_job.py\", line 534, in _stream_results\n",
      "    user_callback(self.job_id(), _decoder.decode(response))\n",
      "TypeError: 'list' object is not callable\n",
      "\n",
      "runtime_job._stream_results:WARNING:2023-08-18 15:10:11,695: An error occurred while streaming results for job cjfieo8cs414jvgqvde0:\n",
      "Traceback (most recent call last):\n",
      "  File \"/home/gluonhiggs/.pyenv/versions/anaconda3-2023.03/envs/qiskit-runtime/lib/python3.10/site-packages/qiskit_ibm_runtime/runtime_job.py\", line 534, in _stream_results\n",
      "    user_callback(self.job_id(), _decoder.decode(response))\n",
      "TypeError: 'list' object is not callable\n",
      "\n"
     ]
    },
    {
     "name": "stdout",
     "output_type": "stream",
     "text": [
      "Evaluation 441: -1.8565776798370246\n"
     ]
    },
    {
     "name": "stderr",
     "output_type": "stream",
     "text": [
      "runtime_job._stream_results:WARNING:2023-08-18 15:10:17,373: An error occurred while streaming results for job cjfiepjie1jj2ilaee4g:\n",
      "Traceback (most recent call last):\n",
      "  File \"/home/gluonhiggs/.pyenv/versions/anaconda3-2023.03/envs/qiskit-runtime/lib/python3.10/site-packages/qiskit_ibm_runtime/runtime_job.py\", line 534, in _stream_results\n",
      "    user_callback(self.job_id(), _decoder.decode(response))\n",
      "TypeError: 'list' object is not callable\n",
      "\n",
      "runtime_job._stream_results:WARNING:2023-08-18 15:10:20,502: An error occurred while streaming results for job cjfieqk5hqba89194fb0:\n",
      "Traceback (most recent call last):\n",
      "  File \"/home/gluonhiggs/.pyenv/versions/anaconda3-2023.03/envs/qiskit-runtime/lib/python3.10/site-packages/qiskit_ibm_runtime/runtime_job.py\", line 534, in _stream_results\n",
      "    user_callback(self.job_id(), _decoder.decode(response))\n",
      "TypeError: 'list' object is not callable\n",
      "\n",
      "runtime_job._stream_results:WARNING:2023-08-18 15:10:32,688: An error occurred while streaming results for job cjfierf6dei0664m8og0:\n",
      "Traceback (most recent call last):\n",
      "  File \"/home/gluonhiggs/.pyenv/versions/anaconda3-2023.03/envs/qiskit-runtime/lib/python3.10/site-packages/qiskit_ibm_runtime/runtime_job.py\", line 534, in _stream_results\n",
      "    user_callback(self.job_id(), _decoder.decode(response))\n",
      "TypeError: 'list' object is not callable\n",
      "\n"
     ]
    },
    {
     "name": "stdout",
     "output_type": "stream",
     "text": [
      "Evaluation 444: -1.8589154921146824\n"
     ]
    },
    {
     "name": "stderr",
     "output_type": "stream",
     "text": [
      "runtime_job._stream_results:WARNING:2023-08-18 15:10:36,989: An error occurred while streaming results for job cjfieuk5hqba89194km0:\n",
      "Traceback (most recent call last):\n",
      "  File \"/home/gluonhiggs/.pyenv/versions/anaconda3-2023.03/envs/qiskit-runtime/lib/python3.10/site-packages/qiskit_ibm_runtime/runtime_job.py\", line 534, in _stream_results\n",
      "    user_callback(self.job_id(), _decoder.decode(response))\n",
      "TypeError: 'list' object is not callable\n",
      "\n",
      "runtime_job._stream_results:WARNING:2023-08-18 15:10:45,590: An error occurred while streaming results for job cjfif0ocs414jvgqvmr0:\n",
      "Traceback (most recent call last):\n",
      "  File \"/home/gluonhiggs/.pyenv/versions/anaconda3-2023.03/envs/qiskit-runtime/lib/python3.10/site-packages/qiskit_ibm_runtime/runtime_job.py\", line 534, in _stream_results\n",
      "    user_callback(self.job_id(), _decoder.decode(response))\n",
      "TypeError: 'list' object is not callable\n",
      "\n",
      "runtime_job._stream_results:WARNING:2023-08-18 15:10:48,970: An error occurred while streaming results for job cjfif1k5hqba89194os0:\n",
      "Traceback (most recent call last):\n",
      "  File \"/home/gluonhiggs/.pyenv/versions/anaconda3-2023.03/envs/qiskit-runtime/lib/python3.10/site-packages/qiskit_ibm_runtime/runtime_job.py\", line 534, in _stream_results\n",
      "    user_callback(self.job_id(), _decoder.decode(response))\n",
      "TypeError: 'list' object is not callable\n",
      "\n"
     ]
    },
    {
     "name": "stdout",
     "output_type": "stream",
     "text": [
      "Evaluation 447: -1.8486645091185507\n"
     ]
    },
    {
     "name": "stderr",
     "output_type": "stream",
     "text": [
      "runtime_job._stream_results:WARNING:2023-08-18 15:10:53,066: An error occurred while streaming results for job cjfif2k5hqba89194qo0:\n",
      "Traceback (most recent call last):\n",
      "  File \"/home/gluonhiggs/.pyenv/versions/anaconda3-2023.03/envs/qiskit-runtime/lib/python3.10/site-packages/qiskit_ibm_runtime/runtime_job.py\", line 534, in _stream_results\n",
      "    user_callback(self.job_id(), _decoder.decode(response))\n",
      "TypeError: 'list' object is not callable\n",
      "\n",
      "runtime_job._stream_results:WARNING:2023-08-18 15:11:00,029: An error occurred while streaming results for job cjfif4c5hqba89194slg:\n",
      "Traceback (most recent call last):\n",
      "  File \"/home/gluonhiggs/.pyenv/versions/anaconda3-2023.03/envs/qiskit-runtime/lib/python3.10/site-packages/qiskit_ibm_runtime/runtime_job.py\", line 534, in _stream_results\n",
      "    user_callback(self.job_id(), _decoder.decode(response))\n",
      "TypeError: 'list' object is not callable\n",
      "\n",
      "runtime_job._stream_results:WARNING:2023-08-18 15:11:03,467: An error occurred while streaming results for job cjfif5c5hqba89194tvg:\n",
      "Traceback (most recent call last):\n",
      "  File \"/home/gluonhiggs/.pyenv/versions/anaconda3-2023.03/envs/qiskit-runtime/lib/python3.10/site-packages/qiskit_ibm_runtime/runtime_job.py\", line 534, in _stream_results\n",
      "    user_callback(self.job_id(), _decoder.decode(response))\n",
      "TypeError: 'list' object is not callable\n",
      "\n"
     ]
    },
    {
     "name": "stdout",
     "output_type": "stream",
     "text": [
      "Evaluation 450: -1.8619711357893534\n"
     ]
    },
    {
     "name": "stderr",
     "output_type": "stream",
     "text": [
      "runtime_job._stream_results:WARNING:2023-08-18 15:11:10,372: An error occurred while streaming results for job cjfif6vbq0tlksv93qqg:\n",
      "Traceback (most recent call last):\n",
      "  File \"/home/gluonhiggs/.pyenv/versions/anaconda3-2023.03/envs/qiskit-runtime/lib/python3.10/site-packages/qiskit_ibm_runtime/runtime_job.py\", line 534, in _stream_results\n",
      "    user_callback(self.job_id(), _decoder.decode(response))\n",
      "TypeError: 'list' object is not callable\n",
      "\n",
      "runtime_job._stream_results:WARNING:2023-08-18 15:11:14,058: An error occurred while streaming results for job cjfif7rie1jj2ilaf2n0:\n",
      "Traceback (most recent call last):\n",
      "  File \"/home/gluonhiggs/.pyenv/versions/anaconda3-2023.03/envs/qiskit-runtime/lib/python3.10/site-packages/qiskit_ibm_runtime/runtime_job.py\", line 534, in _stream_results\n",
      "    user_callback(self.job_id(), _decoder.decode(response))\n",
      "TypeError: 'list' object is not callable\n",
      "\n",
      "runtime_job._stream_results:WARNING:2023-08-18 15:11:18,052: An error occurred while streaming results for job cjfif8ocs414jvgr00kg:\n",
      "Traceback (most recent call last):\n",
      "  File \"/home/gluonhiggs/.pyenv/versions/anaconda3-2023.03/envs/qiskit-runtime/lib/python3.10/site-packages/qiskit_ibm_runtime/runtime_job.py\", line 534, in _stream_results\n",
      "    user_callback(self.job_id(), _decoder.decode(response))\n",
      "TypeError: 'list' object is not callable\n",
      "\n"
     ]
    },
    {
     "name": "stdout",
     "output_type": "stream",
     "text": [
      "Evaluation 453: -1.8505452997113045\n"
     ]
    },
    {
     "name": "stderr",
     "output_type": "stream",
     "text": [
      "runtime_job._stream_results:WARNING:2023-08-18 15:11:21,636: An error occurred while streaming results for job cjfif9v6dei0664m9b40:\n",
      "Traceback (most recent call last):\n",
      "  File \"/home/gluonhiggs/.pyenv/versions/anaconda3-2023.03/envs/qiskit-runtime/lib/python3.10/site-packages/qiskit_ibm_runtime/runtime_job.py\", line 534, in _stream_results\n",
      "    user_callback(self.job_id(), _decoder.decode(response))\n",
      "TypeError: 'list' object is not callable\n",
      "\n",
      "runtime_job._stream_results:WARNING:2023-08-18 15:11:29,418: An error occurred while streaming results for job cjfifbvbq0tlksv940fg:\n",
      "Traceback (most recent call last):\n",
      "  File \"/home/gluonhiggs/.pyenv/versions/anaconda3-2023.03/envs/qiskit-runtime/lib/python3.10/site-packages/qiskit_ibm_runtime/runtime_job.py\", line 534, in _stream_results\n",
      "    user_callback(self.job_id(), _decoder.decode(response))\n",
      "TypeError: 'list' object is not callable\n",
      "\n",
      "runtime_job._stream_results:WARNING:2023-08-18 15:11:32,696: An error occurred while streaming results for job cjfifcnbq0tlksv941t0:\n",
      "Traceback (most recent call last):\n",
      "  File \"/home/gluonhiggs/.pyenv/versions/anaconda3-2023.03/envs/qiskit-runtime/lib/python3.10/site-packages/qiskit_ibm_runtime/runtime_job.py\", line 534, in _stream_results\n",
      "    user_callback(self.job_id(), _decoder.decode(response))\n",
      "TypeError: 'list' object is not callable\n",
      "\n"
     ]
    },
    {
     "name": "stdout",
     "output_type": "stream",
     "text": [
      "Evaluation 456: -1.855576444237791\n"
     ]
    },
    {
     "name": "stderr",
     "output_type": "stream",
     "text": [
      "runtime_job._stream_results:WARNING:2023-08-18 15:11:38,941: An error occurred while streaming results for job cjfifdl7ui1f8qaurv30:\n",
      "Traceback (most recent call last):\n",
      "  File \"/home/gluonhiggs/.pyenv/versions/anaconda3-2023.03/envs/qiskit-runtime/lib/python3.10/site-packages/qiskit_ibm_runtime/runtime_job.py\", line 534, in _stream_results\n",
      "    user_callback(self.job_id(), _decoder.decode(response))\n",
      "TypeError: 'list' object is not callable\n",
      "\n",
      "runtime_job._stream_results:WARNING:2023-08-18 15:11:42,833: An error occurred while streaming results for job cjfiff57ui1f8qaus0eg:\n",
      "Traceback (most recent call last):\n",
      "  File \"/home/gluonhiggs/.pyenv/versions/anaconda3-2023.03/envs/qiskit-runtime/lib/python3.10/site-packages/qiskit_ibm_runtime/runtime_job.py\", line 534, in _stream_results\n",
      "    user_callback(self.job_id(), _decoder.decode(response))\n",
      "TypeError: 'list' object is not callable\n",
      "\n",
      "runtime_job._stream_results:WARNING:2023-08-18 15:11:46,622: An error occurred while streaming results for job cjfifg45hqba89195a7g:\n",
      "Traceback (most recent call last):\n",
      "  File \"/home/gluonhiggs/.pyenv/versions/anaconda3-2023.03/envs/qiskit-runtime/lib/python3.10/site-packages/qiskit_ibm_runtime/runtime_job.py\", line 534, in _stream_results\n",
      "    user_callback(self.job_id(), _decoder.decode(response))\n",
      "TypeError: 'list' object is not callable\n",
      "\n"
     ]
    },
    {
     "name": "stdout",
     "output_type": "stream",
     "text": [
      "Evaluation 459: -1.8504630134305287\n"
     ]
    },
    {
     "name": "stderr",
     "output_type": "stream",
     "text": [
      "runtime_job._stream_results:WARNING:2023-08-18 15:11:55,018: An error occurred while streaming results for job cjfifi76dei0664m9kj0:\n",
      "Traceback (most recent call last):\n",
      "  File \"/home/gluonhiggs/.pyenv/versions/anaconda3-2023.03/envs/qiskit-runtime/lib/python3.10/site-packages/qiskit_ibm_runtime/runtime_job.py\", line 534, in _stream_results\n",
      "    user_callback(self.job_id(), _decoder.decode(response))\n",
      "TypeError: 'list' object is not callable\n",
      "\n",
      "runtime_job._stream_results:WARNING:2023-08-18 15:11:59,524: An error occurred while streaming results for job cjfifjfbq0tlksv949n0:\n",
      "Traceback (most recent call last):\n",
      "  File \"/home/gluonhiggs/.pyenv/versions/anaconda3-2023.03/envs/qiskit-runtime/lib/python3.10/site-packages/qiskit_ibm_runtime/runtime_job.py\", line 534, in _stream_results\n",
      "    user_callback(self.job_id(), _decoder.decode(response))\n",
      "TypeError: 'list' object is not callable\n",
      "\n",
      "runtime_job._stream_results:WARNING:2023-08-18 15:12:08,740: An error occurred while streaming results for job cjfiflf6dei0664m9ndg:\n",
      "Traceback (most recent call last):\n",
      "  File \"/home/gluonhiggs/.pyenv/versions/anaconda3-2023.03/envs/qiskit-runtime/lib/python3.10/site-packages/qiskit_ibm_runtime/runtime_job.py\", line 534, in _stream_results\n",
      "    user_callback(self.job_id(), _decoder.decode(response))\n",
      "TypeError: 'list' object is not callable\n",
      "\n"
     ]
    },
    {
     "name": "stdout",
     "output_type": "stream",
     "text": [
      "Evaluation 462: -1.8508532951591337\n"
     ]
    },
    {
     "name": "stderr",
     "output_type": "stream",
     "text": [
      "runtime_job._stream_results:WARNING:2023-08-18 15:12:16,215: An error occurred while streaming results for job cjfifn76dei0664m9ol0:\n",
      "Traceback (most recent call last):\n",
      "  File \"/home/gluonhiggs/.pyenv/versions/anaconda3-2023.03/envs/qiskit-runtime/lib/python3.10/site-packages/qiskit_ibm_runtime/runtime_job.py\", line 534, in _stream_results\n",
      "    user_callback(self.job_id(), _decoder.decode(response))\n",
      "TypeError: 'list' object is not callable\n",
      "\n",
      "runtime_job._stream_results:WARNING:2023-08-18 15:12:19,799: An error occurred while streaming results for job cjfifoc5hqba89195hdg:\n",
      "Traceback (most recent call last):\n",
      "  File \"/home/gluonhiggs/.pyenv/versions/anaconda3-2023.03/envs/qiskit-runtime/lib/python3.10/site-packages/qiskit_ibm_runtime/runtime_job.py\", line 534, in _stream_results\n",
      "    user_callback(self.job_id(), _decoder.decode(response))\n",
      "TypeError: 'list' object is not callable\n",
      "\n",
      "runtime_job._stream_results:WARNING:2023-08-18 15:12:29,006: An error occurred while streaming results for job cjfifqocs414jvgr0ij0:\n",
      "Traceback (most recent call last):\n",
      "  File \"/home/gluonhiggs/.pyenv/versions/anaconda3-2023.03/envs/qiskit-runtime/lib/python3.10/site-packages/qiskit_ibm_runtime/runtime_job.py\", line 534, in _stream_results\n",
      "    user_callback(self.job_id(), _decoder.decode(response))\n",
      "TypeError: 'list' object is not callable\n",
      "\n"
     ]
    },
    {
     "name": "stdout",
     "output_type": "stream",
     "text": [
      "Evaluation 465: -1.8557556817414524\n"
     ]
    },
    {
     "name": "stderr",
     "output_type": "stream",
     "text": [
      "runtime_job._stream_results:WARNING:2023-08-18 15:12:38,118: An error occurred while streaming results for job cjfifsocs414jvgr0jt0:\n",
      "Traceback (most recent call last):\n",
      "  File \"/home/gluonhiggs/.pyenv/versions/anaconda3-2023.03/envs/qiskit-runtime/lib/python3.10/site-packages/qiskit_ibm_runtime/runtime_job.py\", line 534, in _stream_results\n",
      "    user_callback(self.job_id(), _decoder.decode(response))\n",
      "TypeError: 'list' object is not callable\n",
      "\n",
      "runtime_job._stream_results:WARNING:2023-08-18 15:12:45,503: An error occurred while streaming results for job cjfifugcs414jvgr0le0:\n",
      "Traceback (most recent call last):\n",
      "  File \"/home/gluonhiggs/.pyenv/versions/anaconda3-2023.03/envs/qiskit-runtime/lib/python3.10/site-packages/qiskit_ibm_runtime/runtime_job.py\", line 534, in _stream_results\n",
      "    user_callback(self.job_id(), _decoder.decode(response))\n",
      "TypeError: 'list' object is not callable\n",
      "\n",
      "runtime_job._stream_results:WARNING:2023-08-18 15:12:59,429: An error occurred while streaming results for job cjfig0k5hqba89195od0:\n",
      "Traceback (most recent call last):\n",
      "  File \"/home/gluonhiggs/.pyenv/versions/anaconda3-2023.03/envs/qiskit-runtime/lib/python3.10/site-packages/qiskit_ibm_runtime/runtime_job.py\", line 534, in _stream_results\n",
      "    user_callback(self.job_id(), _decoder.decode(response))\n",
      "TypeError: 'list' object is not callable\n",
      "\n"
     ]
    },
    {
     "name": "stdout",
     "output_type": "stream",
     "text": [
      "Evaluation 468: -1.8524235967968155\n"
     ]
    },
    {
     "name": "stderr",
     "output_type": "stream",
     "text": [
      "runtime_job._stream_results:WARNING:2023-08-18 15:13:04,344: An error occurred while streaming results for job cjfig345hqba89195qo0:\n",
      "Traceback (most recent call last):\n",
      "  File \"/home/gluonhiggs/.pyenv/versions/anaconda3-2023.03/envs/qiskit-runtime/lib/python3.10/site-packages/qiskit_ibm_runtime/runtime_job.py\", line 534, in _stream_results\n",
      "    user_callback(self.job_id(), _decoder.decode(response))\n",
      "TypeError: 'list' object is not callable\n",
      "\n",
      "runtime_job._stream_results:WARNING:2023-08-18 15:13:10,945: An error occurred while streaming results for job cjfig57bq0tlksv94pfg:\n",
      "Traceback (most recent call last):\n",
      "  File \"/home/gluonhiggs/.pyenv/versions/anaconda3-2023.03/envs/qiskit-runtime/lib/python3.10/site-packages/qiskit_ibm_runtime/runtime_job.py\", line 534, in _stream_results\n",
      "    user_callback(self.job_id(), _decoder.decode(response))\n",
      "TypeError: 'list' object is not callable\n",
      "\n",
      "runtime_job._stream_results:WARNING:2023-08-18 15:13:15,199: An error occurred while streaming results for job cjfig67bq0tlksv94qgg:\n",
      "Traceback (most recent call last):\n",
      "  File \"/home/gluonhiggs/.pyenv/versions/anaconda3-2023.03/envs/qiskit-runtime/lib/python3.10/site-packages/qiskit_ibm_runtime/runtime_job.py\", line 534, in _stream_results\n",
      "    user_callback(self.job_id(), _decoder.decode(response))\n",
      "TypeError: 'list' object is not callable\n",
      "\n"
     ]
    },
    {
     "name": "stdout",
     "output_type": "stream",
     "text": [
      "Evaluation 471: -1.854009718140119\n"
     ]
    },
    {
     "name": "stderr",
     "output_type": "stream",
     "text": [
      "runtime_job._stream_results:WARNING:2023-08-18 15:13:19,602: An error occurred while streaming results for job cjfig776dei0664ma7jg:\n",
      "Traceback (most recent call last):\n",
      "  File \"/home/gluonhiggs/.pyenv/versions/anaconda3-2023.03/envs/qiskit-runtime/lib/python3.10/site-packages/qiskit_ibm_runtime/runtime_job.py\", line 534, in _stream_results\n",
      "    user_callback(self.job_id(), _decoder.decode(response))\n",
      "TypeError: 'list' object is not callable\n",
      "\n",
      "runtime_job._stream_results:WARNING:2023-08-18 15:13:23,175: An error occurred while streaming results for job cjfig876dei0664ma8i0:\n",
      "Traceback (most recent call last):\n",
      "  File \"/home/gluonhiggs/.pyenv/versions/anaconda3-2023.03/envs/qiskit-runtime/lib/python3.10/site-packages/qiskit_ibm_runtime/runtime_job.py\", line 534, in _stream_results\n",
      "    user_callback(self.job_id(), _decoder.decode(response))\n",
      "TypeError: 'list' object is not callable\n",
      "\n",
      "runtime_job._stream_results:WARNING:2023-08-18 15:13:26,988: An error occurred while streaming results for job cjfig945hqba891961d0:\n",
      "Traceback (most recent call last):\n",
      "  File \"/home/gluonhiggs/.pyenv/versions/anaconda3-2023.03/envs/qiskit-runtime/lib/python3.10/site-packages/qiskit_ibm_runtime/runtime_job.py\", line 534, in _stream_results\n",
      "    user_callback(self.job_id(), _decoder.decode(response))\n",
      "TypeError: 'list' object is not callable\n",
      "\n"
     ]
    },
    {
     "name": "stdout",
     "output_type": "stream",
     "text": [
      "Evaluation 474: -1.8557617591237956\n"
     ]
    },
    {
     "name": "stderr",
     "output_type": "stream",
     "text": [
      "runtime_job._stream_results:WARNING:2023-08-18 15:13:30,969: An error occurred while streaming results for job cjfiga76dei0664maa5g:\n",
      "Traceback (most recent call last):\n",
      "  File \"/home/gluonhiggs/.pyenv/versions/anaconda3-2023.03/envs/qiskit-runtime/lib/python3.10/site-packages/qiskit_ibm_runtime/runtime_job.py\", line 534, in _stream_results\n",
      "    user_callback(self.job_id(), _decoder.decode(response))\n",
      "TypeError: 'list' object is not callable\n",
      "\n",
      "runtime_job._stream_results:WARNING:2023-08-18 15:13:35,167: An error occurred while streaming results for job cjfigb7bq0tlksv94vmg:\n",
      "Traceback (most recent call last):\n",
      "  File \"/home/gluonhiggs/.pyenv/versions/anaconda3-2023.03/envs/qiskit-runtime/lib/python3.10/site-packages/qiskit_ibm_runtime/runtime_job.py\", line 534, in _stream_results\n",
      "    user_callback(self.job_id(), _decoder.decode(response))\n",
      "TypeError: 'list' object is not callable\n",
      "\n",
      "runtime_job._stream_results:WARNING:2023-08-18 15:13:38,443: An error occurred while streaming results for job cjfigc0cs414jvgr12hg:\n",
      "Traceback (most recent call last):\n",
      "  File \"/home/gluonhiggs/.pyenv/versions/anaconda3-2023.03/envs/qiskit-runtime/lib/python3.10/site-packages/qiskit_ibm_runtime/runtime_job.py\", line 534, in _stream_results\n",
      "    user_callback(self.job_id(), _decoder.decode(response))\n",
      "TypeError: 'list' object is not callable\n",
      "\n"
     ]
    },
    {
     "name": "stdout",
     "output_type": "stream",
     "text": [
      "Evaluation 477: -1.8551138066994535\n"
     ]
    },
    {
     "name": "stderr",
     "output_type": "stream",
     "text": [
      "runtime_job._stream_results:WARNING:2023-08-18 15:13:42,131: An error occurred while streaming results for job cjfigcs5hqba891965f0:\n",
      "Traceback (most recent call last):\n",
      "  File \"/home/gluonhiggs/.pyenv/versions/anaconda3-2023.03/envs/qiskit-runtime/lib/python3.10/site-packages/qiskit_ibm_runtime/runtime_job.py\", line 534, in _stream_results\n",
      "    user_callback(self.job_id(), _decoder.decode(response))\n",
      "TypeError: 'list' object is not callable\n",
      "\n",
      "runtime_job._stream_results:WARNING:2023-08-18 15:13:49,401: An error occurred while streaming results for job cjfigevbq0tlksv953m0:\n",
      "Traceback (most recent call last):\n",
      "  File \"/home/gluonhiggs/.pyenv/versions/anaconda3-2023.03/envs/qiskit-runtime/lib/python3.10/site-packages/qiskit_ibm_runtime/runtime_job.py\", line 534, in _stream_results\n",
      "    user_callback(self.job_id(), _decoder.decode(response))\n",
      "TypeError: 'list' object is not callable\n",
      "\n",
      "runtime_job._stream_results:WARNING:2023-08-18 15:13:55,033: An error occurred while streaming results for job cjfigfgcs414jvgr166g:\n",
      "Traceback (most recent call last):\n",
      "  File \"/home/gluonhiggs/.pyenv/versions/anaconda3-2023.03/envs/qiskit-runtime/lib/python3.10/site-packages/qiskit_ibm_runtime/runtime_job.py\", line 534, in _stream_results\n",
      "    user_callback(self.job_id(), _decoder.decode(response))\n",
      "TypeError: 'list' object is not callable\n",
      "\n"
     ]
    },
    {
     "name": "stdout",
     "output_type": "stream",
     "text": [
      "Evaluation 480: -1.862983020099505\n"
     ]
    },
    {
     "name": "stderr",
     "output_type": "stream",
     "text": [
      "runtime_job._stream_results:WARNING:2023-08-18 15:13:58,105: An error occurred while streaming results for job cjfigh76dei0664mageg:\n",
      "Traceback (most recent call last):\n",
      "  File \"/home/gluonhiggs/.pyenv/versions/anaconda3-2023.03/envs/qiskit-runtime/lib/python3.10/site-packages/qiskit_ibm_runtime/runtime_job.py\", line 534, in _stream_results\n",
      "    user_callback(self.job_id(), _decoder.decode(response))\n",
      "TypeError: 'list' object is not callable\n",
      "\n",
      "runtime_job._stream_results:WARNING:2023-08-18 15:14:12,032: An error occurred while streaming results for job cjfigjrie1jj2ilagdd0:\n",
      "Traceback (most recent call last):\n",
      "  File \"/home/gluonhiggs/.pyenv/versions/anaconda3-2023.03/envs/qiskit-runtime/lib/python3.10/site-packages/qiskit_ibm_runtime/runtime_job.py\", line 534, in _stream_results\n",
      "    user_callback(self.job_id(), _decoder.decode(response))\n",
      "TypeError: 'list' object is not callable\n",
      "\n",
      "runtime_job._stream_results:WARNING:2023-08-18 15:14:16,230: An error occurred while streaming results for job cjfiglnbq0tlksv95a10:\n",
      "Traceback (most recent call last):\n",
      "  File \"/home/gluonhiggs/.pyenv/versions/anaconda3-2023.03/envs/qiskit-runtime/lib/python3.10/site-packages/qiskit_ibm_runtime/runtime_job.py\", line 534, in _stream_results\n",
      "    user_callback(self.job_id(), _decoder.decode(response))\n",
      "TypeError: 'list' object is not callable\n",
      "\n"
     ]
    },
    {
     "name": "stdout",
     "output_type": "stream",
     "text": [
      "Evaluation 483: -1.8545314269652626\n"
     ]
    },
    {
     "name": "stderr",
     "output_type": "stream",
     "text": [
      "runtime_job._stream_results:WARNING:2023-08-18 15:14:23,592: An error occurred while streaming results for job cjfignd7ui1f8qaut6q0:\n",
      "Traceback (most recent call last):\n",
      "  File \"/home/gluonhiggs/.pyenv/versions/anaconda3-2023.03/envs/qiskit-runtime/lib/python3.10/site-packages/qiskit_ibm_runtime/runtime_job.py\", line 534, in _stream_results\n",
      "    user_callback(self.job_id(), _decoder.decode(response))\n",
      "TypeError: 'list' object is not callable\n",
      "\n",
      "runtime_job._stream_results:WARNING:2023-08-18 15:14:28,416: An error occurred while streaming results for job cjfigo76dei0664manm0:\n",
      "Traceback (most recent call last):\n",
      "  File \"/home/gluonhiggs/.pyenv/versions/anaconda3-2023.03/envs/qiskit-runtime/lib/python3.10/site-packages/qiskit_ibm_runtime/runtime_job.py\", line 534, in _stream_results\n",
      "    user_callback(self.job_id(), _decoder.decode(response))\n",
      "TypeError: 'list' object is not callable\n",
      "\n",
      "runtime_job._stream_results:WARNING:2023-08-18 15:14:33,434: An error occurred while streaming results for job cjfigpjie1jj2ilagjng:\n",
      "Traceback (most recent call last):\n",
      "  File \"/home/gluonhiggs/.pyenv/versions/anaconda3-2023.03/envs/qiskit-runtime/lib/python3.10/site-packages/qiskit_ibm_runtime/runtime_job.py\", line 534, in _stream_results\n",
      "    user_callback(self.job_id(), _decoder.decode(response))\n",
      "TypeError: 'list' object is not callable\n",
      "\n"
     ]
    },
    {
     "name": "stdout",
     "output_type": "stream",
     "text": [
      "Evaluation 486: -1.8599911780151621\n"
     ]
    },
    {
     "name": "stderr",
     "output_type": "stream",
     "text": [
      "runtime_job._stream_results:WARNING:2023-08-18 15:14:37,223: An error occurred while streaming results for job cjfigql7ui1f8qautat0:\n",
      "Traceback (most recent call last):\n",
      "  File \"/home/gluonhiggs/.pyenv/versions/anaconda3-2023.03/envs/qiskit-runtime/lib/python3.10/site-packages/qiskit_ibm_runtime/runtime_job.py\", line 534, in _stream_results\n",
      "    user_callback(self.job_id(), _decoder.decode(response))\n",
      "TypeError: 'list' object is not callable\n",
      "\n",
      "runtime_job._stream_results:WARNING:2023-08-18 15:14:41,421: An error occurred while streaming results for job cjfigrgcs414jvgr1ig0:\n",
      "Traceback (most recent call last):\n",
      "  File \"/home/gluonhiggs/.pyenv/versions/anaconda3-2023.03/envs/qiskit-runtime/lib/python3.10/site-packages/qiskit_ibm_runtime/runtime_job.py\", line 534, in _stream_results\n",
      "    user_callback(self.job_id(), _decoder.decode(response))\n",
      "TypeError: 'list' object is not callable\n",
      "\n",
      "runtime_job._stream_results:WARNING:2023-08-18 15:14:45,866: An error occurred while streaming results for job cjfigsn6dei0664mars0:\n",
      "Traceback (most recent call last):\n",
      "  File \"/home/gluonhiggs/.pyenv/versions/anaconda3-2023.03/envs/qiskit-runtime/lib/python3.10/site-packages/qiskit_ibm_runtime/runtime_job.py\", line 534, in _stream_results\n",
      "    user_callback(self.job_id(), _decoder.decode(response))\n",
      "TypeError: 'list' object is not callable\n",
      "\n"
     ]
    },
    {
     "name": "stdout",
     "output_type": "stream",
     "text": [
      "Evaluation 489: -1.860791564906551\n"
     ]
    },
    {
     "name": "stderr",
     "output_type": "stream",
     "text": [
      "runtime_job._stream_results:WARNING:2023-08-18 15:14:49,716: An error occurred while streaming results for job cjfigtvbq0tlksv95hqg:\n",
      "Traceback (most recent call last):\n",
      "  File \"/home/gluonhiggs/.pyenv/versions/anaconda3-2023.03/envs/qiskit-runtime/lib/python3.10/site-packages/qiskit_ibm_runtime/runtime_job.py\", line 534, in _stream_results\n",
      "    user_callback(self.job_id(), _decoder.decode(response))\n",
      "TypeError: 'list' object is not callable\n",
      "\n",
      "runtime_job._stream_results:WARNING:2023-08-18 15:14:54,631: An error occurred while streaming results for job cjfiguocs414jvgr1li0:\n",
      "Traceback (most recent call last):\n",
      "  File \"/home/gluonhiggs/.pyenv/versions/anaconda3-2023.03/envs/qiskit-runtime/lib/python3.10/site-packages/qiskit_ibm_runtime/runtime_job.py\", line 534, in _stream_results\n",
      "    user_callback(self.job_id(), _decoder.decode(response))\n",
      "TypeError: 'list' object is not callable\n",
      "\n",
      "runtime_job._stream_results:WARNING:2023-08-18 15:15:04,359: An error occurred while streaming results for job cjfih1d7ui1f8qauth8g:\n",
      "Traceback (most recent call last):\n",
      "  File \"/home/gluonhiggs/.pyenv/versions/anaconda3-2023.03/envs/qiskit-runtime/lib/python3.10/site-packages/qiskit_ibm_runtime/runtime_job.py\", line 534, in _stream_results\n",
      "    user_callback(self.job_id(), _decoder.decode(response))\n",
      "TypeError: 'list' object is not callable\n",
      "\n"
     ]
    },
    {
     "name": "stdout",
     "output_type": "stream",
     "text": [
      "Evaluation 492: -1.8557793665994224\n"
     ]
    },
    {
     "name": "stderr",
     "output_type": "stream",
     "text": [
      "runtime_job._stream_results:WARNING:2023-08-18 15:15:07,738: An error occurred while streaming results for job cjfih2fbq0tlksv95llg:\n",
      "Traceback (most recent call last):\n",
      "  File \"/home/gluonhiggs/.pyenv/versions/anaconda3-2023.03/envs/qiskit-runtime/lib/python3.10/site-packages/qiskit_ibm_runtime/runtime_job.py\", line 534, in _stream_results\n",
      "    user_callback(self.job_id(), _decoder.decode(response))\n",
      "TypeError: 'list' object is not callable\n",
      "\n",
      "runtime_job._stream_results:WARNING:2023-08-18 15:15:24,716: An error occurred while streaming results for job cjfih445hqba89196s2g:\n",
      "Traceback (most recent call last):\n",
      "  File \"/home/gluonhiggs/.pyenv/versions/anaconda3-2023.03/envs/qiskit-runtime/lib/python3.10/site-packages/qiskit_ibm_runtime/runtime_job.py\", line 534, in _stream_results\n",
      "    user_callback(self.job_id(), _decoder.decode(response))\n",
      "TypeError: 'list' object is not callable\n",
      "\n",
      "runtime_job._stream_results:WARNING:2023-08-18 15:15:30,164: An error occurred while streaming results for job cjfih7rie1jj2ilah0bg:\n",
      "Traceback (most recent call last):\n",
      "  File \"/home/gluonhiggs/.pyenv/versions/anaconda3-2023.03/envs/qiskit-runtime/lib/python3.10/site-packages/qiskit_ibm_runtime/runtime_job.py\", line 534, in _stream_results\n",
      "    user_callback(self.job_id(), _decoder.decode(response))\n",
      "TypeError: 'list' object is not callable\n",
      "\n"
     ]
    },
    {
     "name": "stdout",
     "output_type": "stream",
     "text": [
      "Evaluation 495: -1.8657464880319685\n"
     ]
    },
    {
     "name": "stderr",
     "output_type": "stream",
     "text": [
      "runtime_job._stream_results:WARNING:2023-08-18 15:15:36,411: An error occurred while streaming results for job cjfih8ocs414jvgr203g:\n",
      "Traceback (most recent call last):\n",
      "  File \"/home/gluonhiggs/.pyenv/versions/anaconda3-2023.03/envs/qiskit-runtime/lib/python3.10/site-packages/qiskit_ibm_runtime/runtime_job.py\", line 534, in _stream_results\n",
      "    user_callback(self.job_id(), _decoder.decode(response))\n",
      "TypeError: 'list' object is not callable\n",
      "\n",
      "runtime_job._stream_results:WARNING:2023-08-18 15:15:40,681: An error occurred while streaming results for job cjfihafbq0tlksv95u20:\n",
      "Traceback (most recent call last):\n",
      "  File \"/home/gluonhiggs/.pyenv/versions/anaconda3-2023.03/envs/qiskit-runtime/lib/python3.10/site-packages/qiskit_ibm_runtime/runtime_job.py\", line 534, in _stream_results\n",
      "    user_callback(self.job_id(), _decoder.decode(response))\n",
      "TypeError: 'list' object is not callable\n",
      "\n",
      "runtime_job._stream_results:WARNING:2023-08-18 15:15:44,673: An error occurred while streaming results for job cjfihbn6dei0664mb99g:\n",
      "Traceback (most recent call last):\n",
      "  File \"/home/gluonhiggs/.pyenv/versions/anaconda3-2023.03/envs/qiskit-runtime/lib/python3.10/site-packages/qiskit_ibm_runtime/runtime_job.py\", line 534, in _stream_results\n",
      "    user_callback(self.job_id(), _decoder.decode(response))\n",
      "TypeError: 'list' object is not callable\n",
      "\n"
     ]
    },
    {
     "name": "stdout",
     "output_type": "stream",
     "text": [
      "Evaluation 498: -1.8552447847697184\n"
     ]
    },
    {
     "name": "stderr",
     "output_type": "stream",
     "text": [
      "runtime_job._stream_results:WARNING:2023-08-18 15:15:50,133: An error occurred while streaming results for job cjfihcf6dei0664mbb2g:\n",
      "Traceback (most recent call last):\n",
      "  File \"/home/gluonhiggs/.pyenv/versions/anaconda3-2023.03/envs/qiskit-runtime/lib/python3.10/site-packages/qiskit_ibm_runtime/runtime_job.py\", line 534, in _stream_results\n",
      "    user_callback(self.job_id(), _decoder.decode(response))\n",
      "TypeError: 'list' object is not callable\n",
      "\n",
      "runtime_job._stream_results:WARNING:2023-08-18 15:15:55,765: An error occurred while streaming results for job cjfihdocs414jvgr25mg:\n",
      "Traceback (most recent call last):\n",
      "  File \"/home/gluonhiggs/.pyenv/versions/anaconda3-2023.03/envs/qiskit-runtime/lib/python3.10/site-packages/qiskit_ibm_runtime/runtime_job.py\", line 534, in _stream_results\n",
      "    user_callback(self.job_id(), _decoder.decode(response))\n",
      "TypeError: 'list' object is not callable\n",
      "\n",
      "runtime_job._stream_results:WARNING:2023-08-18 15:15:58,940: An error occurred while streaming results for job cjfihf0cs414jvgr27f0:\n",
      "Traceback (most recent call last):\n",
      "  File \"/home/gluonhiggs/.pyenv/versions/anaconda3-2023.03/envs/qiskit-runtime/lib/python3.10/site-packages/qiskit_ibm_runtime/runtime_job.py\", line 534, in _stream_results\n",
      "    user_callback(self.job_id(), _decoder.decode(response))\n",
      "TypeError: 'list' object is not callable\n",
      "\n"
     ]
    },
    {
     "name": "stdout",
     "output_type": "stream",
     "text": [
      "Evaluation 501: -1.861087572899732\n"
     ]
    },
    {
     "name": "stderr",
     "output_type": "stream",
     "text": [
      "runtime_job._stream_results:WARNING:2023-08-18 15:16:02,523: An error occurred while streaming results for job cjfihg3ie1jj2ilahapg:\n",
      "Traceback (most recent call last):\n",
      "  File \"/home/gluonhiggs/.pyenv/versions/anaconda3-2023.03/envs/qiskit-runtime/lib/python3.10/site-packages/qiskit_ibm_runtime/runtime_job.py\", line 534, in _stream_results\n",
      "    user_callback(self.job_id(), _decoder.decode(response))\n",
      "TypeError: 'list' object is not callable\n",
      "\n",
      "runtime_job._stream_results:WARNING:2023-08-18 15:16:11,535: An error occurred while streaming results for job cjfihi57ui1f8qauu3b0:\n",
      "Traceback (most recent call last):\n",
      "  File \"/home/gluonhiggs/.pyenv/versions/anaconda3-2023.03/envs/qiskit-runtime/lib/python3.10/site-packages/qiskit_ibm_runtime/runtime_job.py\", line 534, in _stream_results\n",
      "    user_callback(self.job_id(), _decoder.decode(response))\n",
      "TypeError: 'list' object is not callable\n",
      "\n",
      "runtime_job._stream_results:WARNING:2023-08-18 15:16:17,986: An error occurred while streaming results for job cjfihjrie1jj2ilahe2g:\n",
      "Traceback (most recent call last):\n",
      "  File \"/home/gluonhiggs/.pyenv/versions/anaconda3-2023.03/envs/qiskit-runtime/lib/python3.10/site-packages/qiskit_ibm_runtime/runtime_job.py\", line 534, in _stream_results\n",
      "    user_callback(self.job_id(), _decoder.decode(response))\n",
      "TypeError: 'list' object is not callable\n",
      "\n"
     ]
    },
    {
     "name": "stdout",
     "output_type": "stream",
     "text": [
      "Evaluation 504: -1.856783108208535\n"
     ]
    },
    {
     "name": "stderr",
     "output_type": "stream",
     "text": [
      "runtime_job._stream_results:WARNING:2023-08-18 15:16:28,636: An error occurred while streaming results for job cjfihm3ie1jj2ilahfk0:\n",
      "Traceback (most recent call last):\n",
      "  File \"/home/gluonhiggs/.pyenv/versions/anaconda3-2023.03/envs/qiskit-runtime/lib/python3.10/site-packages/qiskit_ibm_runtime/runtime_job.py\", line 534, in _stream_results\n",
      "    user_callback(self.job_id(), _decoder.decode(response))\n",
      "TypeError: 'list' object is not callable\n",
      "\n",
      "runtime_job._stream_results:WARNING:2023-08-18 15:16:35,407: An error occurred while streaming results for job cjfihof6dei0664mblag:\n",
      "Traceback (most recent call last):\n",
      "  File \"/home/gluonhiggs/.pyenv/versions/anaconda3-2023.03/envs/qiskit-runtime/lib/python3.10/site-packages/qiskit_ibm_runtime/runtime_job.py\", line 534, in _stream_results\n",
      "    user_callback(self.job_id(), _decoder.decode(response))\n",
      "TypeError: 'list' object is not callable\n",
      "\n",
      "runtime_job._stream_results:WARNING:2023-08-18 15:16:43,523: An error occurred while streaming results for job cjfihqfbq0tlksv96ec0:\n",
      "Traceback (most recent call last):\n",
      "  File \"/home/gluonhiggs/.pyenv/versions/anaconda3-2023.03/envs/qiskit-runtime/lib/python3.10/site-packages/qiskit_ibm_runtime/runtime_job.py\", line 534, in _stream_results\n",
      "    user_callback(self.job_id(), _decoder.decode(response))\n",
      "TypeError: 'list' object is not callable\n",
      "\n"
     ]
    },
    {
     "name": "stdout",
     "output_type": "stream",
     "text": [
      "Evaluation 507: -1.8528995605335319\n"
     ]
    },
    {
     "name": "stderr",
     "output_type": "stream",
     "text": [
      "runtime_job._stream_results:WARNING:2023-08-18 15:16:47,141: An error occurred while streaming results for job cjfihr57ui1f8qauuaag:\n",
      "Traceback (most recent call last):\n",
      "  File \"/home/gluonhiggs/.pyenv/versions/anaconda3-2023.03/envs/qiskit-runtime/lib/python3.10/site-packages/qiskit_ibm_runtime/runtime_job.py\", line 534, in _stream_results\n",
      "    user_callback(self.job_id(), _decoder.decode(response))\n",
      "TypeError: 'list' object is not callable\n",
      "\n",
      "runtime_job._stream_results:WARNING:2023-08-18 15:16:50,453: An error occurred while streaming results for job cjfihs3ie1jj2ilahlhg:\n",
      "Traceback (most recent call last):\n",
      "  File \"/home/gluonhiggs/.pyenv/versions/anaconda3-2023.03/envs/qiskit-runtime/lib/python3.10/site-packages/qiskit_ibm_runtime/runtime_job.py\", line 534, in _stream_results\n",
      "    user_callback(self.job_id(), _decoder.decode(response))\n",
      "TypeError: 'list' object is not callable\n",
      "\n",
      "runtime_job._stream_results:WARNING:2023-08-18 15:16:54,442: An error occurred while streaming results for job cjfihss5hqba89197lv0:\n",
      "Traceback (most recent call last):\n",
      "  File \"/home/gluonhiggs/.pyenv/versions/anaconda3-2023.03/envs/qiskit-runtime/lib/python3.10/site-packages/qiskit_ibm_runtime/runtime_job.py\", line 534, in _stream_results\n",
      "    user_callback(self.job_id(), _decoder.decode(response))\n",
      "TypeError: 'list' object is not callable\n",
      "\n"
     ]
    },
    {
     "name": "stdout",
     "output_type": "stream",
     "text": [
      "Evaluation 510: -1.8572026906485433\n"
     ]
    },
    {
     "name": "stderr",
     "output_type": "stream",
     "text": [
      "runtime_job._stream_results:WARNING:2023-08-18 15:16:58,537: An error occurred while streaming results for job cjfihu45hqba89197ms0:\n",
      "Traceback (most recent call last):\n",
      "  File \"/home/gluonhiggs/.pyenv/versions/anaconda3-2023.03/envs/qiskit-runtime/lib/python3.10/site-packages/qiskit_ibm_runtime/runtime_job.py\", line 534, in _stream_results\n",
      "    user_callback(self.job_id(), _decoder.decode(response))\n",
      "TypeError: 'list' object is not callable\n",
      "\n",
      "runtime_job._stream_results:WARNING:2023-08-18 15:17:02,530: An error occurred while streaming results for job cjfihuvbq0tlksv96j20:\n",
      "Traceback (most recent call last):\n",
      "  File \"/home/gluonhiggs/.pyenv/versions/anaconda3-2023.03/envs/qiskit-runtime/lib/python3.10/site-packages/qiskit_ibm_runtime/runtime_job.py\", line 534, in _stream_results\n",
      "    user_callback(self.job_id(), _decoder.decode(response))\n",
      "TypeError: 'list' object is not callable\n",
      "\n",
      "runtime_job._stream_results:WARNING:2023-08-18 15:17:06,423: An error occurred while streaming results for job cjfii045hqba89197ohg:\n",
      "Traceback (most recent call last):\n",
      "  File \"/home/gluonhiggs/.pyenv/versions/anaconda3-2023.03/envs/qiskit-runtime/lib/python3.10/site-packages/qiskit_ibm_runtime/runtime_job.py\", line 534, in _stream_results\n",
      "    user_callback(self.job_id(), _decoder.decode(response))\n",
      "TypeError: 'list' object is not callable\n",
      "\n"
     ]
    },
    {
     "name": "stdout",
     "output_type": "stream",
     "text": [
      "Evaluation 513: -1.8529913240915317\n"
     ]
    },
    {
     "name": "stderr",
     "output_type": "stream",
     "text": [
      "runtime_job._stream_results:WARNING:2023-08-18 15:17:09,810: An error occurred while streaming results for job cjfii0rie1jj2ilahqc0:\n",
      "Traceback (most recent call last):\n",
      "  File \"/home/gluonhiggs/.pyenv/versions/anaconda3-2023.03/envs/qiskit-runtime/lib/python3.10/site-packages/qiskit_ibm_runtime/runtime_job.py\", line 534, in _stream_results\n",
      "    user_callback(self.job_id(), _decoder.decode(response))\n",
      "TypeError: 'list' object is not callable\n",
      "\n",
      "runtime_job._stream_results:WARNING:2023-08-18 15:17:14,103: An error occurred while streaming results for job cjfii1ocs414jvgr2mbg:\n",
      "Traceback (most recent call last):\n",
      "  File \"/home/gluonhiggs/.pyenv/versions/anaconda3-2023.03/envs/qiskit-runtime/lib/python3.10/site-packages/qiskit_ibm_runtime/runtime_job.py\", line 534, in _stream_results\n",
      "    user_callback(self.job_id(), _decoder.decode(response))\n",
      "TypeError: 'list' object is not callable\n",
      "\n",
      "runtime_job._stream_results:WARNING:2023-08-18 15:17:17,994: An error occurred while streaming results for job cjfii2ocs414jvgr2nm0:\n",
      "Traceback (most recent call last):\n",
      "  File \"/home/gluonhiggs/.pyenv/versions/anaconda3-2023.03/envs/qiskit-runtime/lib/python3.10/site-packages/qiskit_ibm_runtime/runtime_job.py\", line 534, in _stream_results\n",
      "    user_callback(self.job_id(), _decoder.decode(response))\n",
      "TypeError: 'list' object is not callable\n",
      "\n"
     ]
    },
    {
     "name": "stdout",
     "output_type": "stream",
     "text": [
      "Evaluation 516: -1.8537912661241922\n"
     ]
    },
    {
     "name": "stderr",
     "output_type": "stream",
     "text": [
      "runtime_job._stream_results:WARNING:2023-08-18 15:17:21,271: An error occurred while streaming results for job cjfii3ocs414jvgr2otg:\n",
      "Traceback (most recent call last):\n",
      "  File \"/home/gluonhiggs/.pyenv/versions/anaconda3-2023.03/envs/qiskit-runtime/lib/python3.10/site-packages/qiskit_ibm_runtime/runtime_job.py\", line 534, in _stream_results\n",
      "    user_callback(self.job_id(), _decoder.decode(response))\n",
      "TypeError: 'list' object is not callable\n",
      "\n",
      "runtime_job._stream_results:WARNING:2023-08-18 15:17:24,693: An error occurred while streaming results for job cjfii4gcs414jvgr2qf0:\n",
      "Traceback (most recent call last):\n",
      "  File \"/home/gluonhiggs/.pyenv/versions/anaconda3-2023.03/envs/qiskit-runtime/lib/python3.10/site-packages/qiskit_ibm_runtime/runtime_job.py\", line 534, in _stream_results\n",
      "    user_callback(self.job_id(), _decoder.decode(response))\n",
      "TypeError: 'list' object is not callable\n",
      "\n",
      "runtime_job._stream_results:WARNING:2023-08-18 15:17:31,921: An error occurred while streaming results for job cjfii67bq0tlksv96qg0:\n",
      "Traceback (most recent call last):\n",
      "  File \"/home/gluonhiggs/.pyenv/versions/anaconda3-2023.03/envs/qiskit-runtime/lib/python3.10/site-packages/qiskit_ibm_runtime/runtime_job.py\", line 534, in _stream_results\n",
      "    user_callback(self.job_id(), _decoder.decode(response))\n",
      "TypeError: 'list' object is not callable\n",
      "\n"
     ]
    },
    {
     "name": "stdout",
     "output_type": "stream",
     "text": [
      "Evaluation 519: -1.8553210061707872\n"
     ]
    },
    {
     "name": "stderr",
     "output_type": "stream",
     "text": [
      "runtime_job._stream_results:WARNING:2023-08-18 15:17:35,504: An error occurred while streaming results for job cjfii7c5hqba89198190:\n",
      "Traceback (most recent call last):\n",
      "  File \"/home/gluonhiggs/.pyenv/versions/anaconda3-2023.03/envs/qiskit-runtime/lib/python3.10/site-packages/qiskit_ibm_runtime/runtime_job.py\", line 534, in _stream_results\n",
      "    user_callback(self.job_id(), _decoder.decode(response))\n",
      "TypeError: 'list' object is not callable\n",
      "\n",
      "runtime_job._stream_results:WARNING:2023-08-18 15:17:51,584: An error occurred while streaming results for job cjfii87bq0tlksv96st0:\n",
      "Traceback (most recent call last):\n",
      "  File \"/home/gluonhiggs/.pyenv/versions/anaconda3-2023.03/envs/qiskit-runtime/lib/python3.10/site-packages/qiskit_ibm_runtime/runtime_job.py\", line 534, in _stream_results\n",
      "    user_callback(self.job_id(), _decoder.decode(response))\n",
      "TypeError: 'list' object is not callable\n",
      "\n",
      "runtime_job._stream_results:WARNING:2023-08-18 15:17:55,165: An error occurred while streaming results for job cjfiic0cs414jvgr3630:\n",
      "Traceback (most recent call last):\n",
      "  File \"/home/gluonhiggs/.pyenv/versions/anaconda3-2023.03/envs/qiskit-runtime/lib/python3.10/site-packages/qiskit_ibm_runtime/runtime_job.py\", line 534, in _stream_results\n",
      "    user_callback(self.job_id(), _decoder.decode(response))\n",
      "TypeError: 'list' object is not callable\n",
      "\n"
     ]
    },
    {
     "name": "stdout",
     "output_type": "stream",
     "text": [
      "Evaluation 522: -1.8576899027623073\n"
     ]
    },
    {
     "name": "stderr",
     "output_type": "stream",
     "text": [
      "runtime_job._stream_results:WARNING:2023-08-18 15:17:59,460: An error occurred while streaming results for job cjfiid7bq0tlksv973cg:\n",
      "Traceback (most recent call last):\n",
      "  File \"/home/gluonhiggs/.pyenv/versions/anaconda3-2023.03/envs/qiskit-runtime/lib/python3.10/site-packages/qiskit_ibm_runtime/runtime_job.py\", line 534, in _stream_results\n",
      "    user_callback(self.job_id(), _decoder.decode(response))\n",
      "TypeError: 'list' object is not callable\n",
      "\n",
      "runtime_job._stream_results:WARNING:2023-08-18 15:18:05,407: An error occurred while streaming results for job cjfiien6dei0664mcejg:\n",
      "Traceback (most recent call last):\n",
      "  File \"/home/gluonhiggs/.pyenv/versions/anaconda3-2023.03/envs/qiskit-runtime/lib/python3.10/site-packages/qiskit_ibm_runtime/runtime_job.py\", line 534, in _stream_results\n",
      "    user_callback(self.job_id(), _decoder.decode(response))\n",
      "TypeError: 'list' object is not callable\n",
      "\n",
      "runtime_job._stream_results:WARNING:2023-08-18 15:18:11,448: An error occurred while streaming results for job cjfiigd7ui1f8qauuve0:\n",
      "Traceback (most recent call last):\n",
      "  File \"/home/gluonhiggs/.pyenv/versions/anaconda3-2023.03/envs/qiskit-runtime/lib/python3.10/site-packages/qiskit_ibm_runtime/runtime_job.py\", line 534, in _stream_results\n",
      "    user_callback(self.job_id(), _decoder.decode(response))\n",
      "TypeError: 'list' object is not callable\n",
      "\n"
     ]
    },
    {
     "name": "stdout",
     "output_type": "stream",
     "text": [
      "Evaluation 525: -1.861274936434251\n"
     ]
    },
    {
     "name": "stderr",
     "output_type": "stream",
     "text": [
      "runtime_job._stream_results:WARNING:2023-08-18 15:18:15,205: An error occurred while streaming results for job cjfiihfbq0tlksv976s0:\n",
      "Traceback (most recent call last):\n",
      "  File \"/home/gluonhiggs/.pyenv/versions/anaconda3-2023.03/envs/qiskit-runtime/lib/python3.10/site-packages/qiskit_ibm_runtime/runtime_job.py\", line 534, in _stream_results\n",
      "    user_callback(self.job_id(), _decoder.decode(response))\n",
      "TypeError: 'list' object is not callable\n",
      "\n",
      "runtime_job._stream_results:WARNING:2023-08-18 15:18:21,381: An error occurred while streaming results for job cjfiiil7ui1f8qauv0ig:\n",
      "Traceback (most recent call last):\n",
      "  File \"/home/gluonhiggs/.pyenv/versions/anaconda3-2023.03/envs/qiskit-runtime/lib/python3.10/site-packages/qiskit_ibm_runtime/runtime_job.py\", line 534, in _stream_results\n",
      "    user_callback(self.job_id(), _decoder.decode(response))\n",
      "TypeError: 'list' object is not callable\n",
      "\n",
      "runtime_job._stream_results:WARNING:2023-08-18 15:18:25,785: An error occurred while streaming results for job cjfiijjie1jj2ilaihvg:\n",
      "Traceback (most recent call last):\n",
      "  File \"/home/gluonhiggs/.pyenv/versions/anaconda3-2023.03/envs/qiskit-runtime/lib/python3.10/site-packages/qiskit_ibm_runtime/runtime_job.py\", line 534, in _stream_results\n",
      "    user_callback(self.job_id(), _decoder.decode(response))\n",
      "TypeError: 'list' object is not callable\n",
      "\n"
     ]
    },
    {
     "name": "stdout",
     "output_type": "stream",
     "text": [
      "Evaluation 528: -1.8514839218240853\n"
     ]
    },
    {
     "name": "stderr",
     "output_type": "stream",
     "text": [
      "runtime_job._stream_results:WARNING:2023-08-18 15:18:29,676: An error occurred while streaming results for job cjfiikvbq0tlksv97a6g:\n",
      "Traceback (most recent call last):\n",
      "  File \"/home/gluonhiggs/.pyenv/versions/anaconda3-2023.03/envs/qiskit-runtime/lib/python3.10/site-packages/qiskit_ibm_runtime/runtime_job.py\", line 534, in _stream_results\n",
      "    user_callback(self.job_id(), _decoder.decode(response))\n",
      "TypeError: 'list' object is not callable\n",
      "\n",
      "runtime_job._stream_results:WARNING:2023-08-18 15:18:33,105: An error occurred while streaming results for job cjfiilnbq0tlksv97blg:\n",
      "Traceback (most recent call last):\n",
      "  File \"/home/gluonhiggs/.pyenv/versions/anaconda3-2023.03/envs/qiskit-runtime/lib/python3.10/site-packages/qiskit_ibm_runtime/runtime_job.py\", line 534, in _stream_results\n",
      "    user_callback(self.job_id(), _decoder.decode(response))\n",
      "TypeError: 'list' object is not callable\n",
      "\n",
      "runtime_job._stream_results:WARNING:2023-08-18 15:18:39,199: An error occurred while streaming results for job cjfiin0cs414jvgr3fog:\n",
      "Traceback (most recent call last):\n",
      "  File \"/home/gluonhiggs/.pyenv/versions/anaconda3-2023.03/envs/qiskit-runtime/lib/python3.10/site-packages/qiskit_ibm_runtime/runtime_job.py\", line 534, in _stream_results\n",
      "    user_callback(self.job_id(), _decoder.decode(response))\n",
      "TypeError: 'list' object is not callable\n",
      "\n"
     ]
    },
    {
     "name": "stdout",
     "output_type": "stream",
     "text": [
      "Evaluation 531: -1.8529412893907664\n"
     ]
    },
    {
     "name": "stderr",
     "output_type": "stream",
     "text": [
      "runtime_job._stream_results:WARNING:2023-08-18 15:18:47,696: An error occurred while streaming results for job cjfiip0cs414jvgr3hgg:\n",
      "Traceback (most recent call last):\n",
      "  File \"/home/gluonhiggs/.pyenv/versions/anaconda3-2023.03/envs/qiskit-runtime/lib/python3.10/site-packages/qiskit_ibm_runtime/runtime_job.py\", line 534, in _stream_results\n",
      "    user_callback(self.job_id(), _decoder.decode(response))\n",
      "TypeError: 'list' object is not callable\n",
      "\n",
      "runtime_job._stream_results:WARNING:2023-08-18 15:18:51,691: An error occurred while streaming results for job cjfiiq57ui1f8qauv6cg:\n",
      "Traceback (most recent call last):\n",
      "  File \"/home/gluonhiggs/.pyenv/versions/anaconda3-2023.03/envs/qiskit-runtime/lib/python3.10/site-packages/qiskit_ibm_runtime/runtime_job.py\", line 534, in _stream_results\n",
      "    user_callback(self.job_id(), _decoder.decode(response))\n",
      "TypeError: 'list' object is not callable\n",
      "\n",
      "runtime_job._stream_results:WARNING:2023-08-18 15:18:55,375: An error occurred while streaming results for job cjfiir45hqba89198o20:\n",
      "Traceback (most recent call last):\n",
      "  File \"/home/gluonhiggs/.pyenv/versions/anaconda3-2023.03/envs/qiskit-runtime/lib/python3.10/site-packages/qiskit_ibm_runtime/runtime_job.py\", line 534, in _stream_results\n",
      "    user_callback(self.job_id(), _decoder.decode(response))\n",
      "TypeError: 'list' object is not callable\n",
      "\n"
     ]
    },
    {
     "name": "stdout",
     "output_type": "stream",
     "text": [
      "Evaluation 534: -1.8578569938363736\n"
     ]
    },
    {
     "name": "stderr",
     "output_type": "stream",
     "text": [
      "runtime_job._stream_results:WARNING:2023-08-18 15:18:58,553: An error occurred while streaming results for job cjfiis76dei0664mcpg0:\n",
      "Traceback (most recent call last):\n",
      "  File \"/home/gluonhiggs/.pyenv/versions/anaconda3-2023.03/envs/qiskit-runtime/lib/python3.10/site-packages/qiskit_ibm_runtime/runtime_job.py\", line 534, in _stream_results\n",
      "    user_callback(self.job_id(), _decoder.decode(response))\n",
      "TypeError: 'list' object is not callable\n",
      "\n",
      "runtime_job._stream_results:WARNING:2023-08-18 15:19:02,137: An error occurred while streaming results for job cjfiisrie1jj2ilait5g:\n",
      "Traceback (most recent call last):\n",
      "  File \"/home/gluonhiggs/.pyenv/versions/anaconda3-2023.03/envs/qiskit-runtime/lib/python3.10/site-packages/qiskit_ibm_runtime/runtime_job.py\", line 534, in _stream_results\n",
      "    user_callback(self.job_id(), _decoder.decode(response))\n",
      "TypeError: 'list' object is not callable\n",
      "\n",
      "runtime_job._stream_results:WARNING:2023-08-18 15:19:05,516: An error occurred while streaming results for job cjfiitvbq0tlksv97in0:\n",
      "Traceback (most recent call last):\n",
      "  File \"/home/gluonhiggs/.pyenv/versions/anaconda3-2023.03/envs/qiskit-runtime/lib/python3.10/site-packages/qiskit_ibm_runtime/runtime_job.py\", line 534, in _stream_results\n",
      "    user_callback(self.job_id(), _decoder.decode(response))\n",
      "TypeError: 'list' object is not callable\n",
      "\n"
     ]
    },
    {
     "name": "stdout",
     "output_type": "stream",
     "text": [
      "Evaluation 537: -1.852361860525183\n"
     ]
    },
    {
     "name": "stderr",
     "output_type": "stream",
     "text": [
      "runtime_job._stream_results:WARNING:2023-08-18 15:19:09,203: An error occurred while streaming results for job cjfiiuk5hqba89198qrg:\n",
      "Traceback (most recent call last):\n",
      "  File \"/home/gluonhiggs/.pyenv/versions/anaconda3-2023.03/envs/qiskit-runtime/lib/python3.10/site-packages/qiskit_ibm_runtime/runtime_job.py\", line 534, in _stream_results\n",
      "    user_callback(self.job_id(), _decoder.decode(response))\n",
      "TypeError: 'list' object is not callable\n",
      "\n",
      "runtime_job._stream_results:WARNING:2023-08-18 15:19:12,889: An error occurred while streaming results for job cjfiivk5hqba89198rrg:\n",
      "Traceback (most recent call last):\n",
      "  File \"/home/gluonhiggs/.pyenv/versions/anaconda3-2023.03/envs/qiskit-runtime/lib/python3.10/site-packages/qiskit_ibm_runtime/runtime_job.py\", line 534, in _stream_results\n",
      "    user_callback(self.job_id(), _decoder.decode(response))\n",
      "TypeError: 'list' object is not callable\n",
      "\n",
      "runtime_job._stream_results:WARNING:2023-08-18 15:19:16,372: An error occurred while streaming results for job cjfij0jie1jj2ilaj120:\n",
      "Traceback (most recent call last):\n",
      "  File \"/home/gluonhiggs/.pyenv/versions/anaconda3-2023.03/envs/qiskit-runtime/lib/python3.10/site-packages/qiskit_ibm_runtime/runtime_job.py\", line 534, in _stream_results\n",
      "    user_callback(self.job_id(), _decoder.decode(response))\n",
      "TypeError: 'list' object is not callable\n",
      "\n"
     ]
    },
    {
     "name": "stdout",
     "output_type": "stream",
     "text": [
      "Evaluation 540: -1.8576563166061115\n"
     ]
    },
    {
     "name": "stderr",
     "output_type": "stream",
     "text": [
      "runtime_job._stream_results:WARNING:2023-08-18 15:19:20,058: An error occurred while streaming results for job cjfij1fbq0tlksv97mu0:\n",
      "Traceback (most recent call last):\n",
      "  File \"/home/gluonhiggs/.pyenv/versions/anaconda3-2023.03/envs/qiskit-runtime/lib/python3.10/site-packages/qiskit_ibm_runtime/runtime_job.py\", line 534, in _stream_results\n",
      "    user_callback(self.job_id(), _decoder.decode(response))\n",
      "TypeError: 'list' object is not callable\n",
      "\n",
      "runtime_job._stream_results:WARNING:2023-08-18 15:19:23,690: An error occurred while streaming results for job cjfij2d7ui1f8qauvej0:\n",
      "Traceback (most recent call last):\n",
      "  File \"/home/gluonhiggs/.pyenv/versions/anaconda3-2023.03/envs/qiskit-runtime/lib/python3.10/site-packages/qiskit_ibm_runtime/runtime_job.py\", line 534, in _stream_results\n",
      "    user_callback(self.job_id(), _decoder.decode(response))\n",
      "TypeError: 'list' object is not callable\n",
      "\n",
      "runtime_job._stream_results:WARNING:2023-08-18 15:19:27,840: An error occurred while streaming results for job cjfij3d7ui1f8qauvg60:\n",
      "Traceback (most recent call last):\n",
      "  File \"/home/gluonhiggs/.pyenv/versions/anaconda3-2023.03/envs/qiskit-runtime/lib/python3.10/site-packages/qiskit_ibm_runtime/runtime_job.py\", line 534, in _stream_results\n",
      "    user_callback(self.job_id(), _decoder.decode(response))\n",
      "TypeError: 'list' object is not callable\n",
      "\n"
     ]
    },
    {
     "name": "stdout",
     "output_type": "stream",
     "text": [
      "Evaluation 543: -1.8594070105109666\n"
     ]
    },
    {
     "name": "stderr",
     "output_type": "stream",
     "text": [
      "runtime_job._stream_results:WARNING:2023-08-18 15:19:32,345: An error occurred while streaming results for job cjfij4f6dei0664md3p0:\n",
      "Traceback (most recent call last):\n",
      "  File \"/home/gluonhiggs/.pyenv/versions/anaconda3-2023.03/envs/qiskit-runtime/lib/python3.10/site-packages/qiskit_ibm_runtime/runtime_job.py\", line 534, in _stream_results\n",
      "    user_callback(self.job_id(), _decoder.decode(response))\n",
      "TypeError: 'list' object is not callable\n",
      "\n",
      "runtime_job._stream_results:WARNING:2023-08-18 15:19:36,237: An error occurred while streaming results for job cjfij58cs414jvgr3vig:\n",
      "Traceback (most recent call last):\n",
      "  File \"/home/gluonhiggs/.pyenv/versions/anaconda3-2023.03/envs/qiskit-runtime/lib/python3.10/site-packages/qiskit_ibm_runtime/runtime_job.py\", line 534, in _stream_results\n",
      "    user_callback(self.job_id(), _decoder.decode(response))\n",
      "TypeError: 'list' object is not callable\n",
      "\n",
      "runtime_job._stream_results:WARNING:2023-08-18 15:19:45,143: An error occurred while streaming results for job cjfij7k5hqba891994g0:\n",
      "Traceback (most recent call last):\n",
      "  File \"/home/gluonhiggs/.pyenv/versions/anaconda3-2023.03/envs/qiskit-runtime/lib/python3.10/site-packages/qiskit_ibm_runtime/runtime_job.py\", line 534, in _stream_results\n",
      "    user_callback(self.job_id(), _decoder.decode(response))\n",
      "TypeError: 'list' object is not callable\n",
      "\n"
     ]
    },
    {
     "name": "stdout",
     "output_type": "stream",
     "text": [
      "Evaluation 546: -1.8548114437752385\n"
     ]
    },
    {
     "name": "stderr",
     "output_type": "stream",
     "text": [
      "runtime_job._stream_results:WARNING:2023-08-18 15:19:49,344: An error occurred while streaming results for job cjfij8k5hqba891995vg:\n",
      "Traceback (most recent call last):\n",
      "  File \"/home/gluonhiggs/.pyenv/versions/anaconda3-2023.03/envs/qiskit-runtime/lib/python3.10/site-packages/qiskit_ibm_runtime/runtime_job.py\", line 534, in _stream_results\n",
      "    user_callback(self.job_id(), _decoder.decode(response))\n",
      "TypeError: 'list' object is not callable\n",
      "\n",
      "runtime_job._stream_results:WARNING:2023-08-18 15:19:53,338: An error occurred while streaming results for job cjfij9gcs414jvgr4470:\n",
      "Traceback (most recent call last):\n",
      "  File \"/home/gluonhiggs/.pyenv/versions/anaconda3-2023.03/envs/qiskit-runtime/lib/python3.10/site-packages/qiskit_ibm_runtime/runtime_job.py\", line 534, in _stream_results\n",
      "    user_callback(self.job_id(), _decoder.decode(response))\n",
      "TypeError: 'list' object is not callable\n",
      "\n",
      "runtime_job._stream_results:WARNING:2023-08-18 15:19:57,229: An error occurred while streaming results for job cjfijajie1jj2ilajfv0:\n",
      "Traceback (most recent call last):\n",
      "  File \"/home/gluonhiggs/.pyenv/versions/anaconda3-2023.03/envs/qiskit-runtime/lib/python3.10/site-packages/qiskit_ibm_runtime/runtime_job.py\", line 534, in _stream_results\n",
      "    user_callback(self.job_id(), _decoder.decode(response))\n",
      "TypeError: 'list' object is not callable\n",
      "\n"
     ]
    },
    {
     "name": "stdout",
     "output_type": "stream",
     "text": [
      "Evaluation 549: -1.8521138260816172\n"
     ]
    },
    {
     "name": "stderr",
     "output_type": "stream",
     "text": [
      "runtime_job._stream_results:WARNING:2023-08-18 15:20:00,404: An error occurred while streaming results for job cjfijbnbq0tlksv984e0:\n",
      "Traceback (most recent call last):\n",
      "  File \"/home/gluonhiggs/.pyenv/versions/anaconda3-2023.03/envs/qiskit-runtime/lib/python3.10/site-packages/qiskit_ibm_runtime/runtime_job.py\", line 534, in _stream_results\n",
      "    user_callback(self.job_id(), _decoder.decode(response))\n",
      "TypeError: 'list' object is not callable\n",
      "\n",
      "runtime_job._stream_results:WARNING:2023-08-18 15:20:10,542: An error occurred while streaming results for job cjfijd76dei0664mddk0:\n",
      "Traceback (most recent call last):\n",
      "  File \"/home/gluonhiggs/.pyenv/versions/anaconda3-2023.03/envs/qiskit-runtime/lib/python3.10/site-packages/qiskit_ibm_runtime/runtime_job.py\", line 534, in _stream_results\n",
      "    user_callback(self.job_id(), _decoder.decode(response))\n",
      "TypeError: 'list' object is not callable\n",
      "\n",
      "runtime_job._stream_results:WARNING:2023-08-18 15:20:16,072: An error occurred while streaming results for job cjfijet7ui1f8qauvsu0:\n",
      "Traceback (most recent call last):\n",
      "  File \"/home/gluonhiggs/.pyenv/versions/anaconda3-2023.03/envs/qiskit-runtime/lib/python3.10/site-packages/qiskit_ibm_runtime/runtime_job.py\", line 534, in _stream_results\n",
      "    user_callback(self.job_id(), _decoder.decode(response))\n",
      "TypeError: 'list' object is not callable\n",
      "\n"
     ]
    },
    {
     "name": "stdout",
     "output_type": "stream",
     "text": [
      "Evaluation 552: -1.8557074306431462\n"
     ]
    },
    {
     "name": "stderr",
     "output_type": "stream",
     "text": [
      "runtime_job._stream_results:WARNING:2023-08-18 15:20:20,577: An error occurred while streaming results for job cjfijg8cs414jvgr4d50:\n",
      "Traceback (most recent call last):\n",
      "  File \"/home/gluonhiggs/.pyenv/versions/anaconda3-2023.03/envs/qiskit-runtime/lib/python3.10/site-packages/qiskit_ibm_runtime/runtime_job.py\", line 534, in _stream_results\n",
      "    user_callback(self.job_id(), _decoder.decode(response))\n",
      "TypeError: 'list' object is not callable\n",
      "\n",
      "runtime_job._stream_results:WARNING:2023-08-18 15:20:24,776: An error occurred while streaming results for job cjfijhnbq0tlksv98cbg:\n",
      "Traceback (most recent call last):\n",
      "  File \"/home/gluonhiggs/.pyenv/versions/anaconda3-2023.03/envs/qiskit-runtime/lib/python3.10/site-packages/qiskit_ibm_runtime/runtime_job.py\", line 534, in _stream_results\n",
      "    user_callback(self.job_id(), _decoder.decode(response))\n",
      "TypeError: 'list' object is not callable\n",
      "\n",
      "runtime_job._stream_results:WARNING:2023-08-18 15:20:28,462: An error occurred while streaming results for job cjfiji8cs414jvgr4gvg:\n",
      "Traceback (most recent call last):\n",
      "  File \"/home/gluonhiggs/.pyenv/versions/anaconda3-2023.03/envs/qiskit-runtime/lib/python3.10/site-packages/qiskit_ibm_runtime/runtime_job.py\", line 534, in _stream_results\n",
      "    user_callback(self.job_id(), _decoder.decode(response))\n",
      "TypeError: 'list' object is not callable\n",
      "\n"
     ]
    },
    {
     "name": "stdout",
     "output_type": "stream",
     "text": [
      "Evaluation 555: -1.8529069683245152\n"
     ]
    },
    {
     "name": "stderr",
     "output_type": "stream",
     "text": [
      "runtime_job._stream_results:WARNING:2023-08-18 15:20:36,552: An error occurred while streaming results for job cjfijkjie1jj2ilaju00:\n",
      "Traceback (most recent call last):\n",
      "  File \"/home/gluonhiggs/.pyenv/versions/anaconda3-2023.03/envs/qiskit-runtime/lib/python3.10/site-packages/qiskit_ibm_runtime/runtime_job.py\", line 534, in _stream_results\n",
      "    user_callback(self.job_id(), _decoder.decode(response))\n",
      "TypeError: 'list' object is not callable\n",
      "\n",
      "runtime_job._stream_results:WARNING:2023-08-18 15:20:44,642: An error occurred while streaming results for job cjfijmf6dei0664mdok0:\n",
      "Traceback (most recent call last):\n",
      "  File \"/home/gluonhiggs/.pyenv/versions/anaconda3-2023.03/envs/qiskit-runtime/lib/python3.10/site-packages/qiskit_ibm_runtime/runtime_job.py\", line 534, in _stream_results\n",
      "    user_callback(self.job_id(), _decoder.decode(response))\n",
      "TypeError: 'list' object is not callable\n",
      "\n",
      "runtime_job._stream_results:WARNING:2023-08-18 15:20:53,071: An error occurred while streaming results for job cjfijogcs414jvgr4nrg:\n",
      "Traceback (most recent call last):\n",
      "  File \"/home/gluonhiggs/.pyenv/versions/anaconda3-2023.03/envs/qiskit-runtime/lib/python3.10/site-packages/qiskit_ibm_runtime/runtime_job.py\", line 534, in _stream_results\n",
      "    user_callback(self.job_id(), _decoder.decode(response))\n",
      "TypeError: 'list' object is not callable\n",
      "\n"
     ]
    },
    {
     "name": "stdout",
     "output_type": "stream",
     "text": [
      "Evaluation 558: -1.8595337031364387\n"
     ]
    },
    {
     "name": "stderr",
     "output_type": "stream",
     "text": [
      "runtime_job._stream_results:WARNING:2023-08-18 15:20:56,418: An error occurred while streaming results for job cjfijpnbq0tlksv98k1g:\n",
      "Traceback (most recent call last):\n",
      "  File \"/home/gluonhiggs/.pyenv/versions/anaconda3-2023.03/envs/qiskit-runtime/lib/python3.10/site-packages/qiskit_ibm_runtime/runtime_job.py\", line 534, in _stream_results\n",
      "    user_callback(self.job_id(), _decoder.decode(response))\n",
      "TypeError: 'list' object is not callable\n",
      "\n",
      "runtime_job._stream_results:WARNING:2023-08-18 15:21:02,254: An error occurred while streaming results for job cjfijqbie1jj2ilak4sg:\n",
      "Traceback (most recent call last):\n",
      "  File \"/home/gluonhiggs/.pyenv/versions/anaconda3-2023.03/envs/qiskit-runtime/lib/python3.10/site-packages/qiskit_ibm_runtime/runtime_job.py\", line 534, in _stream_results\n",
      "    user_callback(self.job_id(), _decoder.decode(response))\n",
      "TypeError: 'list' object is not callable\n",
      "\n",
      "runtime_job._stream_results:WARNING:2023-08-18 15:21:05,821: An error occurred while streaming results for job cjfijrt7ui1f8qav0aeg:\n",
      "Traceback (most recent call last):\n",
      "  File \"/home/gluonhiggs/.pyenv/versions/anaconda3-2023.03/envs/qiskit-runtime/lib/python3.10/site-packages/qiskit_ibm_runtime/runtime_job.py\", line 534, in _stream_results\n",
      "    user_callback(self.job_id(), _decoder.decode(response))\n",
      "TypeError: 'list' object is not callable\n",
      "\n"
     ]
    },
    {
     "name": "stdout",
     "output_type": "stream",
     "text": [
      "Evaluation 561: -1.8574878867883142\n"
     ]
    },
    {
     "name": "stderr",
     "output_type": "stream",
     "text": [
      "runtime_job._stream_results:WARNING:2023-08-18 15:21:09,014: An error occurred while streaming results for job cjfijst7ui1f8qav0asg:\n",
      "Traceback (most recent call last):\n",
      "  File \"/home/gluonhiggs/.pyenv/versions/anaconda3-2023.03/envs/qiskit-runtime/lib/python3.10/site-packages/qiskit_ibm_runtime/runtime_job.py\", line 534, in _stream_results\n",
      "    user_callback(self.job_id(), _decoder.decode(response))\n",
      "TypeError: 'list' object is not callable\n",
      "\n",
      "runtime_job._stream_results:WARNING:2023-08-18 15:21:17,513: An error occurred while streaming results for job cjfiju8cs414jvgr4tq0:\n",
      "Traceback (most recent call last):\n",
      "  File \"/home/gluonhiggs/.pyenv/versions/anaconda3-2023.03/envs/qiskit-runtime/lib/python3.10/site-packages/qiskit_ibm_runtime/runtime_job.py\", line 534, in _stream_results\n",
      "    user_callback(self.job_id(), _decoder.decode(response))\n",
      "TypeError: 'list' object is not callable\n",
      "\n",
      "runtime_job._stream_results:WARNING:2023-08-18 15:21:21,097: An error occurred while streaming results for job cjfijvs5hqba8919a2t0:\n",
      "Traceback (most recent call last):\n",
      "  File \"/home/gluonhiggs/.pyenv/versions/anaconda3-2023.03/envs/qiskit-runtime/lib/python3.10/site-packages/qiskit_ibm_runtime/runtime_job.py\", line 534, in _stream_results\n",
      "    user_callback(self.job_id(), _decoder.decode(response))\n",
      "TypeError: 'list' object is not callable\n",
      "\n"
     ]
    },
    {
     "name": "stdout",
     "output_type": "stream",
     "text": [
      "Evaluation 564: -1.8463864780324828\n"
     ]
    },
    {
     "name": "stderr",
     "output_type": "stream",
     "text": [
      "runtime_job._stream_results:WARNING:2023-08-18 15:21:24,681: An error occurred while streaming results for job cjfik0jie1jj2ilakc20:\n",
      "Traceback (most recent call last):\n",
      "  File \"/home/gluonhiggs/.pyenv/versions/anaconda3-2023.03/envs/qiskit-runtime/lib/python3.10/site-packages/qiskit_ibm_runtime/runtime_job.py\", line 534, in _stream_results\n",
      "    user_callback(self.job_id(), _decoder.decode(response))\n",
      "TypeError: 'list' object is not callable\n",
      "\n",
      "runtime_job._stream_results:WARNING:2023-08-18 15:21:28,777: An error occurred while streaming results for job cjfik1bie1jj2ilakcl0:\n",
      "Traceback (most recent call last):\n",
      "  File \"/home/gluonhiggs/.pyenv/versions/anaconda3-2023.03/envs/qiskit-runtime/lib/python3.10/site-packages/qiskit_ibm_runtime/runtime_job.py\", line 534, in _stream_results\n",
      "    user_callback(self.job_id(), _decoder.decode(response))\n",
      "TypeError: 'list' object is not callable\n",
      "\n",
      "runtime_job._stream_results:WARNING:2023-08-18 15:21:32,157: An error occurred while streaming results for job cjfik2gcs414jvgr520g:\n",
      "Traceback (most recent call last):\n",
      "  File \"/home/gluonhiggs/.pyenv/versions/anaconda3-2023.03/envs/qiskit-runtime/lib/python3.10/site-packages/qiskit_ibm_runtime/runtime_job.py\", line 534, in _stream_results\n",
      "    user_callback(self.job_id(), _decoder.decode(response))\n",
      "TypeError: 'list' object is not callable\n",
      "\n"
     ]
    },
    {
     "name": "stdout",
     "output_type": "stream",
     "text": [
      "Evaluation 567: -1.8577571000799713\n"
     ]
    },
    {
     "name": "stderr",
     "output_type": "stream",
     "text": [
      "runtime_job._stream_results:WARNING:2023-08-18 15:21:40,144: An error occurred while streaming results for job cjfik48cs414jvgr53f0:\n",
      "Traceback (most recent call last):\n",
      "  File \"/home/gluonhiggs/.pyenv/versions/anaconda3-2023.03/envs/qiskit-runtime/lib/python3.10/site-packages/qiskit_ibm_runtime/runtime_job.py\", line 534, in _stream_results\n",
      "    user_callback(self.job_id(), _decoder.decode(response))\n",
      "TypeError: 'list' object is not callable\n",
      "\n",
      "runtime_job._stream_results:WARNING:2023-08-18 15:21:48,028: An error occurred while streaming results for job cjfik6f6dei0664me950:\n",
      "Traceback (most recent call last):\n",
      "  File \"/home/gluonhiggs/.pyenv/versions/anaconda3-2023.03/envs/qiskit-runtime/lib/python3.10/site-packages/qiskit_ibm_runtime/runtime_job.py\", line 534, in _stream_results\n",
      "    user_callback(self.job_id(), _decoder.decode(response))\n",
      "TypeError: 'list' object is not callable\n",
      "\n",
      "runtime_job._stream_results:WARNING:2023-08-18 15:21:53,969: An error occurred while streaming results for job cjfik7s5hqba8919ab80:\n",
      "Traceback (most recent call last):\n",
      "  File \"/home/gluonhiggs/.pyenv/versions/anaconda3-2023.03/envs/qiskit-runtime/lib/python3.10/site-packages/qiskit_ibm_runtime/runtime_job.py\", line 534, in _stream_results\n",
      "    user_callback(self.job_id(), _decoder.decode(response))\n",
      "TypeError: 'list' object is not callable\n",
      "\n"
     ]
    },
    {
     "name": "stdout",
     "output_type": "stream",
     "text": [
      "Evaluation 570: -1.8548419159203346\n"
     ]
    },
    {
     "name": "stderr",
     "output_type": "stream",
     "text": [
      "runtime_job._stream_results:WARNING:2023-08-18 15:21:57,348: An error occurred while streaming results for job cjfik8ocs414jvgr59bg:\n",
      "Traceback (most recent call last):\n",
      "  File \"/home/gluonhiggs/.pyenv/versions/anaconda3-2023.03/envs/qiskit-runtime/lib/python3.10/site-packages/qiskit_ibm_runtime/runtime_job.py\", line 534, in _stream_results\n",
      "    user_callback(self.job_id(), _decoder.decode(response))\n",
      "TypeError: 'list' object is not callable\n",
      "\n",
      "runtime_job._stream_results:WARNING:2023-08-18 15:22:01,444: An error occurred while streaming results for job cjfik9k5hqba8919aeg0:\n",
      "Traceback (most recent call last):\n",
      "  File \"/home/gluonhiggs/.pyenv/versions/anaconda3-2023.03/envs/qiskit-runtime/lib/python3.10/site-packages/qiskit_ibm_runtime/runtime_job.py\", line 534, in _stream_results\n",
      "    user_callback(self.job_id(), _decoder.decode(response))\n",
      "TypeError: 'list' object is not callable\n",
      "\n",
      "runtime_job._stream_results:WARNING:2023-08-18 15:22:05,847: An error occurred while streaming results for job cjfikan6dei0664med8g:\n",
      "Traceback (most recent call last):\n",
      "  File \"/home/gluonhiggs/.pyenv/versions/anaconda3-2023.03/envs/qiskit-runtime/lib/python3.10/site-packages/qiskit_ibm_runtime/runtime_job.py\", line 534, in _stream_results\n",
      "    user_callback(self.job_id(), _decoder.decode(response))\n",
      "TypeError: 'list' object is not callable\n",
      "\n"
     ]
    },
    {
     "name": "stdout",
     "output_type": "stream",
     "text": [
      "Evaluation 573: -1.8567452199373649\n"
     ]
    },
    {
     "name": "stderr",
     "output_type": "stream",
     "text": [
      "runtime_job._stream_results:WARNING:2023-08-18 15:22:09,636: An error occurred while streaming results for job cjfikbs5hqba8919aid0:\n",
      "Traceback (most recent call last):\n",
      "  File \"/home/gluonhiggs/.pyenv/versions/anaconda3-2023.03/envs/qiskit-runtime/lib/python3.10/site-packages/qiskit_ibm_runtime/runtime_job.py\", line 534, in _stream_results\n",
      "    user_callback(self.job_id(), _decoder.decode(response))\n",
      "TypeError: 'list' object is not callable\n",
      "\n",
      "runtime_job._stream_results:WARNING:2023-08-18 15:22:23,461: An error occurred while streaming results for job cjfikevbq0tlksv999j0:\n",
      "Traceback (most recent call last):\n",
      "  File \"/home/gluonhiggs/.pyenv/versions/anaconda3-2023.03/envs/qiskit-runtime/lib/python3.10/site-packages/qiskit_ibm_runtime/runtime_job.py\", line 534, in _stream_results\n",
      "    user_callback(self.job_id(), _decoder.decode(response))\n",
      "TypeError: 'list' object is not callable\n",
      "\n",
      "runtime_job._stream_results:WARNING:2023-08-18 15:22:28,888: An error occurred while streaming results for job cjfikgk5hqba8919am7g:\n",
      "Traceback (most recent call last):\n",
      "  File \"/home/gluonhiggs/.pyenv/versions/anaconda3-2023.03/envs/qiskit-runtime/lib/python3.10/site-packages/qiskit_ibm_runtime/runtime_job.py\", line 534, in _stream_results\n",
      "    user_callback(self.job_id(), _decoder.decode(response))\n",
      "TypeError: 'list' object is not callable\n",
      "\n"
     ]
    },
    {
     "name": "stdout",
     "output_type": "stream",
     "text": [
      "Evaluation 576: -1.8618478388912174\n"
     ]
    },
    {
     "name": "stderr",
     "output_type": "stream",
     "text": [
      "runtime_job._stream_results:WARNING:2023-08-18 15:22:38,411: An error occurred while streaming results for job cjfikijie1jj2ilakvo0:\n",
      "Traceback (most recent call last):\n",
      "  File \"/home/gluonhiggs/.pyenv/versions/anaconda3-2023.03/envs/qiskit-runtime/lib/python3.10/site-packages/qiskit_ibm_runtime/runtime_job.py\", line 534, in _stream_results\n",
      "    user_callback(self.job_id(), _decoder.decode(response))\n",
      "TypeError: 'list' object is not callable\n",
      "\n",
      "runtime_job._stream_results:WARNING:2023-08-18 15:22:48,140: An error occurred while streaming results for job cjfikkn6dei0664memag:\n",
      "Traceback (most recent call last):\n",
      "  File \"/home/gluonhiggs/.pyenv/versions/anaconda3-2023.03/envs/qiskit-runtime/lib/python3.10/site-packages/qiskit_ibm_runtime/runtime_job.py\", line 534, in _stream_results\n",
      "    user_callback(self.job_id(), _decoder.decode(response))\n",
      "TypeError: 'list' object is not callable\n",
      "\n",
      "runtime_job._stream_results:WARNING:2023-08-18 15:22:53,055: An error occurred while streaming results for job cjfikmd7ui1f8qav13n0:\n",
      "Traceback (most recent call last):\n",
      "  File \"/home/gluonhiggs/.pyenv/versions/anaconda3-2023.03/envs/qiskit-runtime/lib/python3.10/site-packages/qiskit_ibm_runtime/runtime_job.py\", line 534, in _stream_results\n",
      "    user_callback(self.job_id(), _decoder.decode(response))\n",
      "TypeError: 'list' object is not callable\n",
      "\n"
     ]
    },
    {
     "name": "stdout",
     "output_type": "stream",
     "text": [
      "Evaluation 579: -1.86013340863002\n"
     ]
    },
    {
     "name": "stderr",
     "output_type": "stream",
     "text": [
      "runtime_job._stream_results:WARNING:2023-08-18 15:23:01,349: An error occurred while streaming results for job cjfikonbq0tlksv99i90:\n",
      "Traceback (most recent call last):\n",
      "  File \"/home/gluonhiggs/.pyenv/versions/anaconda3-2023.03/envs/qiskit-runtime/lib/python3.10/site-packages/qiskit_ibm_runtime/runtime_job.py\", line 534, in _stream_results\n",
      "    user_callback(self.job_id(), _decoder.decode(response))\n",
      "TypeError: 'list' object is not callable\n",
      "\n",
      "runtime_job._stream_results:WARNING:2023-08-18 15:23:05,089: An error occurred while streaming results for job cjfikpk5hqba8919aung:\n",
      "Traceback (most recent call last):\n",
      "  File \"/home/gluonhiggs/.pyenv/versions/anaconda3-2023.03/envs/qiskit-runtime/lib/python3.10/site-packages/qiskit_ibm_runtime/runtime_job.py\", line 534, in _stream_results\n",
      "    user_callback(self.job_id(), _decoder.decode(response))\n",
      "TypeError: 'list' object is not callable\n",
      "\n",
      "runtime_job._stream_results:WARNING:2023-08-18 15:23:09,024: An error occurred while streaming results for job cjfikqjie1jj2ilal91g:\n",
      "Traceback (most recent call last):\n",
      "  File \"/home/gluonhiggs/.pyenv/versions/anaconda3-2023.03/envs/qiskit-runtime/lib/python3.10/site-packages/qiskit_ibm_runtime/runtime_job.py\", line 534, in _stream_results\n",
      "    user_callback(self.job_id(), _decoder.decode(response))\n",
      "TypeError: 'list' object is not callable\n",
      "\n"
     ]
    },
    {
     "name": "stdout",
     "output_type": "stream",
     "text": [
      "Evaluation 582: -1.8594380948248288\n"
     ]
    },
    {
     "name": "stderr",
     "output_type": "stream",
     "text": [
      "runtime_job._stream_results:WARNING:2023-08-18 15:23:12,614: An error occurred while streaming results for job cjfikrnbq0tlksv99mk0:\n",
      "Traceback (most recent call last):\n",
      "  File \"/home/gluonhiggs/.pyenv/versions/anaconda3-2023.03/envs/qiskit-runtime/lib/python3.10/site-packages/qiskit_ibm_runtime/runtime_job.py\", line 534, in _stream_results\n",
      "    user_callback(self.job_id(), _decoder.decode(response))\n",
      "TypeError: 'list' object is not callable\n",
      "\n",
      "runtime_job._stream_results:WARNING:2023-08-18 15:23:16,198: An error occurred while streaming results for job cjfiksfbq0tlksv99nug:\n",
      "Traceback (most recent call last):\n",
      "  File \"/home/gluonhiggs/.pyenv/versions/anaconda3-2023.03/envs/qiskit-runtime/lib/python3.10/site-packages/qiskit_ibm_runtime/runtime_job.py\", line 534, in _stream_results\n",
      "    user_callback(self.job_id(), _decoder.decode(response))\n",
      "TypeError: 'list' object is not callable\n",
      "\n",
      "runtime_job._stream_results:WARNING:2023-08-18 15:23:23,776: An error occurred while streaming results for job cjfikud7ui1f8qav1bv0:\n",
      "Traceback (most recent call last):\n",
      "  File \"/home/gluonhiggs/.pyenv/versions/anaconda3-2023.03/envs/qiskit-runtime/lib/python3.10/site-packages/qiskit_ibm_runtime/runtime_job.py\", line 534, in _stream_results\n",
      "    user_callback(self.job_id(), _decoder.decode(response))\n",
      "TypeError: 'list' object is not callable\n",
      "\n"
     ]
    },
    {
     "name": "stdout",
     "output_type": "stream",
     "text": [
      "Evaluation 585: -1.8605016217930772\n"
     ]
    },
    {
     "name": "stderr",
     "output_type": "stream",
     "text": [
      "runtime_job._stream_results:WARNING:2023-08-18 15:23:31,432: An error occurred while streaming results for job cjfil03ie1jj2ilalgag:\n",
      "Traceback (most recent call last):\n",
      "  File \"/home/gluonhiggs/.pyenv/versions/anaconda3-2023.03/envs/qiskit-runtime/lib/python3.10/site-packages/qiskit_ibm_runtime/runtime_job.py\", line 534, in _stream_results\n",
      "    user_callback(self.job_id(), _decoder.decode(response))\n",
      "TypeError: 'list' object is not callable\n",
      "\n",
      "runtime_job._stream_results:WARNING:2023-08-18 15:23:36,678: An error occurred while streaming results for job cjfil1jie1jj2ilalh20:\n",
      "Traceback (most recent call last):\n",
      "  File \"/home/gluonhiggs/.pyenv/versions/anaconda3-2023.03/envs/qiskit-runtime/lib/python3.10/site-packages/qiskit_ibm_runtime/runtime_job.py\", line 534, in _stream_results\n",
      "    user_callback(self.job_id(), _decoder.decode(response))\n",
      "TypeError: 'list' object is not callable\n",
      "\n",
      "runtime_job._stream_results:WARNING:2023-08-18 15:23:40,160: An error occurred while streaming results for job cjfil2gcs414jvgr65e0:\n",
      "Traceback (most recent call last):\n",
      "  File \"/home/gluonhiggs/.pyenv/versions/anaconda3-2023.03/envs/qiskit-runtime/lib/python3.10/site-packages/qiskit_ibm_runtime/runtime_job.py\", line 534, in _stream_results\n",
      "    user_callback(self.job_id(), _decoder.decode(response))\n",
      "TypeError: 'list' object is not callable\n",
      "\n"
     ]
    },
    {
     "name": "stdout",
     "output_type": "stream",
     "text": [
      "Evaluation 588: -1.8613335503596928\n"
     ]
    },
    {
     "name": "stderr",
     "output_type": "stream",
     "text": [
      "runtime_job._stream_results:WARNING:2023-08-18 15:23:43,334: An error occurred while streaming results for job cjfil3bie1jj2ilaljt0:\n",
      "Traceback (most recent call last):\n",
      "  File \"/home/gluonhiggs/.pyenv/versions/anaconda3-2023.03/envs/qiskit-runtime/lib/python3.10/site-packages/qiskit_ibm_runtime/runtime_job.py\", line 534, in _stream_results\n",
      "    user_callback(self.job_id(), _decoder.decode(response))\n",
      "TypeError: 'list' object is not callable\n",
      "\n",
      "runtime_job._stream_results:WARNING:2023-08-18 15:23:47,226: An error occurred while streaming results for job cjfil476dei0664mf7u0:\n",
      "Traceback (most recent call last):\n",
      "  File \"/home/gluonhiggs/.pyenv/versions/anaconda3-2023.03/envs/qiskit-runtime/lib/python3.10/site-packages/qiskit_ibm_runtime/runtime_job.py\", line 534, in _stream_results\n",
      "    user_callback(self.job_id(), _decoder.decode(response))\n",
      "TypeError: 'list' object is not callable\n",
      "\n",
      "runtime_job._stream_results:WARNING:2023-08-18 15:23:53,370: An error occurred while streaming results for job cjfil5l7ui1f8qav1k2g:\n",
      "Traceback (most recent call last):\n",
      "  File \"/home/gluonhiggs/.pyenv/versions/anaconda3-2023.03/envs/qiskit-runtime/lib/python3.10/site-packages/qiskit_ibm_runtime/runtime_job.py\", line 534, in _stream_results\n",
      "    user_callback(self.job_id(), _decoder.decode(response))\n",
      "TypeError: 'list' object is not callable\n",
      "\n"
     ]
    },
    {
     "name": "stdout",
     "output_type": "stream",
     "text": [
      "Evaluation 591: -1.851231597768181\n"
     ]
    },
    {
     "name": "stderr",
     "output_type": "stream",
     "text": [
      "runtime_job._stream_results:WARNING:2023-08-18 15:23:58,901: An error occurred while streaming results for job cjfil6nbq0tlksv9a3dg:\n",
      "Traceback (most recent call last):\n",
      "  File \"/home/gluonhiggs/.pyenv/versions/anaconda3-2023.03/envs/qiskit-runtime/lib/python3.10/site-packages/qiskit_ibm_runtime/runtime_job.py\", line 534, in _stream_results\n",
      "    user_callback(self.job_id(), _decoder.decode(response))\n",
      "TypeError: 'list' object is not callable\n",
      "\n",
      "runtime_job._stream_results:WARNING:2023-08-18 15:24:04,737: An error occurred while streaming results for job cjfil876dei0664mfb90:\n",
      "Traceback (most recent call last):\n",
      "  File \"/home/gluonhiggs/.pyenv/versions/anaconda3-2023.03/envs/qiskit-runtime/lib/python3.10/site-packages/qiskit_ibm_runtime/runtime_job.py\", line 534, in _stream_results\n",
      "    user_callback(self.job_id(), _decoder.decode(response))\n",
      "TypeError: 'list' object is not callable\n",
      "\n",
      "runtime_job._stream_results:WARNING:2023-08-18 15:24:07,914: An error occurred while streaming results for job cjfil9f6dei0664mfcig:\n",
      "Traceback (most recent call last):\n",
      "  File \"/home/gluonhiggs/.pyenv/versions/anaconda3-2023.03/envs/qiskit-runtime/lib/python3.10/site-packages/qiskit_ibm_runtime/runtime_job.py\", line 534, in _stream_results\n",
      "    user_callback(self.job_id(), _decoder.decode(response))\n",
      "TypeError: 'list' object is not callable\n",
      "\n"
     ]
    },
    {
     "name": "stdout",
     "output_type": "stream",
     "text": [
      "Evaluation 594: -1.8611930950122035\n"
     ]
    },
    {
     "name": "stderr",
     "output_type": "stream",
     "text": [
      "runtime_job._stream_results:WARNING:2023-08-18 15:24:16,103: An error occurred while streaming results for job cjfilbd7ui1f8qav1odg:\n",
      "Traceback (most recent call last):\n",
      "  File \"/home/gluonhiggs/.pyenv/versions/anaconda3-2023.03/envs/qiskit-runtime/lib/python3.10/site-packages/qiskit_ibm_runtime/runtime_job.py\", line 534, in _stream_results\n",
      "    user_callback(self.job_id(), _decoder.decode(response))\n",
      "TypeError: 'list' object is not callable\n",
      "\n",
      "runtime_job._stream_results:WARNING:2023-08-18 15:24:19,380: An error occurred while streaming results for job cjfilcfbq0tlksv9a8sg:\n",
      "Traceback (most recent call last):\n",
      "  File \"/home/gluonhiggs/.pyenv/versions/anaconda3-2023.03/envs/qiskit-runtime/lib/python3.10/site-packages/qiskit_ibm_runtime/runtime_job.py\", line 534, in _stream_results\n",
      "    user_callback(self.job_id(), _decoder.decode(response))\n",
      "TypeError: 'list' object is not callable\n",
      "\n",
      "runtime_job._stream_results:WARNING:2023-08-18 15:24:23,374: An error occurred while streaming results for job cjfild7bq0tlksv9a9kg:\n",
      "Traceback (most recent call last):\n",
      "  File \"/home/gluonhiggs/.pyenv/versions/anaconda3-2023.03/envs/qiskit-runtime/lib/python3.10/site-packages/qiskit_ibm_runtime/runtime_job.py\", line 534, in _stream_results\n",
      "    user_callback(self.job_id(), _decoder.decode(response))\n",
      "TypeError: 'list' object is not callable\n",
      "\n"
     ]
    },
    {
     "name": "stdout",
     "output_type": "stream",
     "text": [
      "Evaluation 597: -1.851751967849594\n"
     ]
    },
    {
     "name": "stderr",
     "output_type": "stream",
     "text": [
      "runtime_job._stream_results:WARNING:2023-08-18 15:24:27,307: An error occurred while streaming results for job cjfile7bq0tlksv9aal0:\n",
      "Traceback (most recent call last):\n",
      "  File \"/home/gluonhiggs/.pyenv/versions/anaconda3-2023.03/envs/qiskit-runtime/lib/python3.10/site-packages/qiskit_ibm_runtime/runtime_job.py\", line 534, in _stream_results\n",
      "    user_callback(self.job_id(), _decoder.decode(response))\n",
      "TypeError: 'list' object is not callable\n",
      "\n",
      "runtime_job._stream_results:WARNING:2023-08-18 15:24:33,000: An error occurred while streaming results for job cjfilf57ui1f8qav1rlg:\n",
      "Traceback (most recent call last):\n",
      "  File \"/home/gluonhiggs/.pyenv/versions/anaconda3-2023.03/envs/qiskit-runtime/lib/python3.10/site-packages/qiskit_ibm_runtime/runtime_job.py\", line 534, in _stream_results\n",
      "    user_callback(self.job_id(), _decoder.decode(response))\n",
      "TypeError: 'list' object is not callable\n",
      "\n",
      "runtime_job._stream_results:WARNING:2023-08-18 15:24:36,585: An error occurred while streaming results for job cjfilgn6dei0664mfip0:\n",
      "Traceback (most recent call last):\n",
      "  File \"/home/gluonhiggs/.pyenv/versions/anaconda3-2023.03/envs/qiskit-runtime/lib/python3.10/site-packages/qiskit_ibm_runtime/runtime_job.py\", line 534, in _stream_results\n",
      "    user_callback(self.job_id(), _decoder.decode(response))\n",
      "TypeError: 'list' object is not callable\n",
      "\n"
     ]
    },
    {
     "name": "stdout",
     "output_type": "stream",
     "text": [
      "Evaluation 600: -1.8588582336031532\n"
     ]
    },
    {
     "name": "stderr",
     "output_type": "stream",
     "text": [
      "runtime_job._stream_results:WARNING:2023-08-18 15:24:39,963: An error occurred while streaming results for job cjfilhc5hqba8919bp7g:\n",
      "Traceback (most recent call last):\n",
      "  File \"/home/gluonhiggs/.pyenv/versions/anaconda3-2023.03/envs/qiskit-runtime/lib/python3.10/site-packages/qiskit_ibm_runtime/runtime_job.py\", line 534, in _stream_results\n",
      "    user_callback(self.job_id(), _decoder.decode(response))\n",
      "TypeError: 'list' object is not callable\n",
      "\n",
      "runtime_job._stream_results:WARNING:2023-08-18 15:24:43,446: An error occurred while streaming results for job cjfilif6dei0664mfkc0:\n",
      "Traceback (most recent call last):\n",
      "  File \"/home/gluonhiggs/.pyenv/versions/anaconda3-2023.03/envs/qiskit-runtime/lib/python3.10/site-packages/qiskit_ibm_runtime/runtime_job.py\", line 534, in _stream_results\n",
      "    user_callback(self.job_id(), _decoder.decode(response))\n",
      "TypeError: 'list' object is not callable\n",
      "\n",
      "runtime_job._stream_results:WARNING:2023-08-18 15:24:46,824: An error occurred while streaming results for job cjfilj45hqba8919bqq0:\n",
      "Traceback (most recent call last):\n",
      "  File \"/home/gluonhiggs/.pyenv/versions/anaconda3-2023.03/envs/qiskit-runtime/lib/python3.10/site-packages/qiskit_ibm_runtime/runtime_job.py\", line 534, in _stream_results\n",
      "    user_callback(self.job_id(), _decoder.decode(response))\n",
      "TypeError: 'list' object is not callable\n",
      "\n"
     ]
    },
    {
     "name": "stdout",
     "output_type": "stream",
     "text": [
      "Evaluation 603: -1.8568464566050438\n"
     ]
    },
    {
     "name": "stderr",
     "output_type": "stream",
     "text": [
      "runtime_job._stream_results:WARNING:2023-08-18 15:24:51,432: An error occurred while streaming results for job cjfilk76dei0664mfls0:\n",
      "Traceback (most recent call last):\n",
      "  File \"/home/gluonhiggs/.pyenv/versions/anaconda3-2023.03/envs/qiskit-runtime/lib/python3.10/site-packages/qiskit_ibm_runtime/runtime_job.py\", line 534, in _stream_results\n",
      "    user_callback(self.job_id(), _decoder.decode(response))\n",
      "TypeError: 'list' object is not callable\n",
      "\n",
      "runtime_job._stream_results:WARNING:2023-08-18 15:24:58,396: An error occurred while streaming results for job cjfilm3ie1jj2ilam5n0:\n",
      "Traceback (most recent call last):\n",
      "  File \"/home/gluonhiggs/.pyenv/versions/anaconda3-2023.03/envs/qiskit-runtime/lib/python3.10/site-packages/qiskit_ibm_runtime/runtime_job.py\", line 534, in _stream_results\n",
      "    user_callback(self.job_id(), _decoder.decode(response))\n",
      "TypeError: 'list' object is not callable\n",
      "\n",
      "runtime_job._stream_results:WARNING:2023-08-18 15:25:07,305: An error occurred while streaming results for job cjfilo0cs414jvgr6p3g:\n",
      "Traceback (most recent call last):\n",
      "  File \"/home/gluonhiggs/.pyenv/versions/anaconda3-2023.03/envs/qiskit-runtime/lib/python3.10/site-packages/qiskit_ibm_runtime/runtime_job.py\", line 534, in _stream_results\n",
      "    user_callback(self.job_id(), _decoder.decode(response))\n",
      "TypeError: 'list' object is not callable\n",
      "\n"
     ]
    },
    {
     "name": "stdout",
     "output_type": "stream",
     "text": [
      "Evaluation 606: -1.8566697292788064\n"
     ]
    },
    {
     "name": "stderr",
     "output_type": "stream",
     "text": [
      "runtime_job._stream_results:WARNING:2023-08-18 15:25:17,750: An error occurred while streaming results for job cjfilp7bq0tlksv9alu0:\n",
      "Traceback (most recent call last):\n",
      "  File \"/home/gluonhiggs/.pyenv/versions/anaconda3-2023.03/envs/qiskit-runtime/lib/python3.10/site-packages/qiskit_ibm_runtime/runtime_job.py\", line 534, in _stream_results\n",
      "    user_callback(self.job_id(), _decoder.decode(response))\n",
      "TypeError: 'list' object is not callable\n",
      "\n",
      "runtime_job._stream_results:WARNING:2023-08-18 15:25:26,758: An error occurred while streaming results for job cjfilsv6dei0664mfu00:\n",
      "Traceback (most recent call last):\n",
      "  File \"/home/gluonhiggs/.pyenv/versions/anaconda3-2023.03/envs/qiskit-runtime/lib/python3.10/site-packages/qiskit_ibm_runtime/runtime_job.py\", line 534, in _stream_results\n",
      "    user_callback(self.job_id(), _decoder.decode(response))\n",
      "TypeError: 'list' object is not callable\n",
      "\n",
      "runtime_job._stream_results:WARNING:2023-08-18 15:25:30,653: An error occurred while streaming results for job cjfilu3ie1jj2ilamg4g:\n",
      "Traceback (most recent call last):\n",
      "  File \"/home/gluonhiggs/.pyenv/versions/anaconda3-2023.03/envs/qiskit-runtime/lib/python3.10/site-packages/qiskit_ibm_runtime/runtime_job.py\", line 534, in _stream_results\n",
      "    user_callback(self.job_id(), _decoder.decode(response))\n",
      "TypeError: 'list' object is not callable\n",
      "\n"
     ]
    },
    {
     "name": "stdout",
     "output_type": "stream",
     "text": [
      "Evaluation 609: -1.8549487809440828\n"
     ]
    },
    {
     "name": "stderr",
     "output_type": "stream",
     "text": [
      "runtime_job._stream_results:WARNING:2023-08-18 15:25:35,158: An error occurred while streaming results for job cjfilus5hqba8919cahg:\n",
      "Traceback (most recent call last):\n",
      "  File \"/home/gluonhiggs/.pyenv/versions/anaconda3-2023.03/envs/qiskit-runtime/lib/python3.10/site-packages/qiskit_ibm_runtime/runtime_job.py\", line 534, in _stream_results\n",
      "    user_callback(self.job_id(), _decoder.decode(response))\n",
      "TypeError: 'list' object is not callable\n",
      "\n",
      "runtime_job._stream_results:WARNING:2023-08-18 15:25:38,538: An error occurred while streaming results for job cjfim045hqba8919ccd0:\n",
      "Traceback (most recent call last):\n",
      "  File \"/home/gluonhiggs/.pyenv/versions/anaconda3-2023.03/envs/qiskit-runtime/lib/python3.10/site-packages/qiskit_ibm_runtime/runtime_job.py\", line 534, in _stream_results\n",
      "    user_callback(self.job_id(), _decoder.decode(response))\n",
      "TypeError: 'list' object is not callable\n",
      "\n",
      "runtime_job._stream_results:WARNING:2023-08-18 15:25:43,351: An error occurred while streaming results for job cjfim0s5hqba8919cdug:\n",
      "Traceback (most recent call last):\n",
      "  File \"/home/gluonhiggs/.pyenv/versions/anaconda3-2023.03/envs/qiskit-runtime/lib/python3.10/site-packages/qiskit_ibm_runtime/runtime_job.py\", line 534, in _stream_results\n",
      "    user_callback(self.job_id(), _decoder.decode(response))\n",
      "TypeError: 'list' object is not callable\n",
      "\n"
     ]
    },
    {
     "name": "stdout",
     "output_type": "stream",
     "text": [
      "Evaluation 612: -1.8552684696276884\n"
     ]
    },
    {
     "name": "stderr",
     "output_type": "stream",
     "text": [
      "runtime_job._stream_results:WARNING:2023-08-18 15:25:46,935: An error occurred while streaming results for job cjfim20cs414jvgr75ng:\n",
      "Traceback (most recent call last):\n",
      "  File \"/home/gluonhiggs/.pyenv/versions/anaconda3-2023.03/envs/qiskit-runtime/lib/python3.10/site-packages/qiskit_ibm_runtime/runtime_job.py\", line 534, in _stream_results\n",
      "    user_callback(self.job_id(), _decoder.decode(response))\n",
      "TypeError: 'list' object is not callable\n",
      "\n",
      "runtime_job._stream_results:WARNING:2023-08-18 15:25:50,109: An error occurred while streaming results for job cjfim37bq0tlksv9b2ug:\n",
      "Traceback (most recent call last):\n",
      "  File \"/home/gluonhiggs/.pyenv/versions/anaconda3-2023.03/envs/qiskit-runtime/lib/python3.10/site-packages/qiskit_ibm_runtime/runtime_job.py\", line 534, in _stream_results\n",
      "    user_callback(self.job_id(), _decoder.decode(response))\n",
      "TypeError: 'list' object is not callable\n",
      "\n",
      "runtime_job._stream_results:WARNING:2023-08-18 15:25:54,206: An error occurred while streaming results for job cjfim3v6dei0664mg620:\n",
      "Traceback (most recent call last):\n",
      "  File \"/home/gluonhiggs/.pyenv/versions/anaconda3-2023.03/envs/qiskit-runtime/lib/python3.10/site-packages/qiskit_ibm_runtime/runtime_job.py\", line 534, in _stream_results\n",
      "    user_callback(self.job_id(), _decoder.decode(response))\n",
      "TypeError: 'list' object is not callable\n",
      "\n"
     ]
    },
    {
     "name": "stdout",
     "output_type": "stream",
     "text": [
      "Evaluation 615: -1.8583266068096018\n"
     ]
    },
    {
     "name": "stderr",
     "output_type": "stream",
     "text": [
      "runtime_job._stream_results:WARNING:2023-08-18 15:25:57,687: An error occurred while streaming results for job cjfim4vbq0tlksv9b530:\n",
      "Traceback (most recent call last):\n",
      "  File \"/home/gluonhiggs/.pyenv/versions/anaconda3-2023.03/envs/qiskit-runtime/lib/python3.10/site-packages/qiskit_ibm_runtime/runtime_job.py\", line 534, in _stream_results\n",
      "    user_callback(self.job_id(), _decoder.decode(response))\n",
      "TypeError: 'list' object is not callable\n",
      "\n",
      "runtime_job._stream_results:WARNING:2023-08-18 15:26:01,169: An error occurred while streaming results for job cjfim5k5hqba8919ci9g:\n",
      "Traceback (most recent call last):\n",
      "  File \"/home/gluonhiggs/.pyenv/versions/anaconda3-2023.03/envs/qiskit-runtime/lib/python3.10/site-packages/qiskit_ibm_runtime/runtime_job.py\", line 534, in _stream_results\n",
      "    user_callback(self.job_id(), _decoder.decode(response))\n",
      "TypeError: 'list' object is not callable\n",
      "\n",
      "runtime_job._stream_results:WARNING:2023-08-18 15:26:04,518: An error occurred while streaming results for job cjfim6nbq0tlksv9b700:\n",
      "Traceback (most recent call last):\n",
      "  File \"/home/gluonhiggs/.pyenv/versions/anaconda3-2023.03/envs/qiskit-runtime/lib/python3.10/site-packages/qiskit_ibm_runtime/runtime_job.py\", line 534, in _stream_results\n",
      "    user_callback(self.job_id(), _decoder.decode(response))\n",
      "TypeError: 'list' object is not callable\n",
      "\n"
     ]
    }
   ],
   "source": [
    "from qiskit_ibm_runtime import Estimator, Session\n",
    "\n",
    "with Session(service=service, backend=backend) as session:\n",
    "    estimator = Estimator(options=options)\n",
    "    cost_func = lambda params: estimator.run(ansatz, H2_op, parameter_values=params).result().values[0]\n",
    "    result = optimizer.minimize(cost_func, x0=np.zeros(ansatz.num_parameters))"
   ]
  },
  {
   "cell_type": "code",
   "execution_count": null,
   "id": "2be263fe-e3bc-4c2a-aa33-2ed6e7a01988",
   "metadata": {},
   "outputs": [],
   "source": [
    "print(result)"
   ]
  },
  {
   "cell_type": "code",
   "execution_count": null,
   "id": "df9dd5ba-5960-491f-9e3f-e6b333dc6882",
   "metadata": {},
   "outputs": [],
   "source": [
    "jobs = service.jobs(session_id=session.session_id, limit = None)"
   ]
  },
  {
   "cell_type": "code",
   "execution_count": null,
   "id": "0213991c-e8b9-4003-83eb-aac937fab0dd",
   "metadata": {},
   "outputs": [],
   "source": [
    "energies = [job.result().values[0] for job in jobs if job.done()[::-1]"
   ]
  },
  {
   "cell_type": "code",
   "execution_count": null,
   "id": "2b5e3dd1-3609-47b0-be36-5fc8411a3fb5",
   "metadata": {},
   "outputs": [],
   "source": [
    "import matplotlib.pyplot as plt\n",
    "plt.style.use('dark_background')\n",
    "plt.plot(range(len(energies)), energies, label='backend')\n",
    "plt.plot(range(len(energies)), [min_eigen_exact]*len(energies),ls='--', label='exact')\n",
    "plt.xlabel('Iteration', fontsize = 16)\n",
    "plt.ylabel('Energy', fontsize = 16)\n",
    "plt.legend(loc=1)"
   ]
  }
 ],
 "metadata": {
  "kernelspec": {
   "display_name": "Qiskit (runtime)",
   "language": "python",
   "name": "qiskit-runtime"
  },
  "language_info": {
   "codemirror_mode": {
    "name": "ipython",
    "version": 3
   },
   "file_extension": ".py",
   "mimetype": "text/x-python",
   "name": "python",
   "nbconvert_exporter": "python",
   "pygments_lexer": "ipython3",
   "version": "3.10.9"
  }
 },
 "nbformat": 4,
 "nbformat_minor": 5
}
