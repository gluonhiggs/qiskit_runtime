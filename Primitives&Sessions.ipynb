{
 "cells": [
  {
   "cell_type": "code",
   "execution_count": null,
   "id": "2775224d-91db-45fb-8758-96cecca56c91",
   "metadata": {},
   "outputs": [],
   "source": [
    "from qiskit.quantum_info import SparsePauliOp\n",
    "\n",
    "def pauli_operator():\n",
    "    return SparsePauliOp.from_list(\n",
    "        [\n",
    "            (\"II\", -1.052373245772859),\n",
    "            (\"IZ\", 0.39793742484318045),\n",
    "            (\"ZI\", -0.39793742484318045),\n",
    "            (\"ZZ\", -0.01128010425623538),\n",
    "            (\"XX\", 0.18093119978423156),\n",
    "        ]\n",
    "    )"
   ]
  },
  {
   "cell_type": "code",
   "execution_count": null,
   "id": "da8829d2-db78-4397-9a81-71c1df3b14da",
   "metadata": {},
   "outputs": [],
   "source": [
    "H2_op = pauli_operator()\n",
    "print(H2_op)"
   ]
  },
  {
   "cell_type": "code",
   "execution_count": null,
   "id": "e69dd20d-87c5-4f8e-9755-faad61989b98",
   "metadata": {},
   "outputs": [],
   "source": [
    "import numpy as np\n",
    "min_eigen_exact = min(np.linalg.eigvals(H2_op.to_matrix()))"
   ]
  },
  {
   "cell_type": "code",
   "execution_count": null,
   "id": "a349e118-b216-4307-8af1-ee17dbe928ec",
   "metadata": {},
   "outputs": [],
   "source": [
    "from qiskit.algorithms.optimizers import SPSA\n",
    "from qiskit.circuit.library import EfficientSU2\n",
    "from qiskit.primitives import Estimator\n",
    "estimator = Estimator()\n",
    "ansatz = EfficientSU2(2)"
   ]
  },
  {
   "cell_type": "code",
   "execution_count": null,
   "id": "ee745025-5c79-4ef9-9e22-2548952d6113",
   "metadata": {},
   "outputs": [],
   "source": [
    "ansatz.decompose().draw('mpl')"
   ]
  },
  {
   "cell_type": "code",
   "execution_count": null,
   "id": "1462f719-a48b-4d95-bb98-d6ddb1c4e7a2",
   "metadata": {},
   "outputs": [],
   "source": [
    "callback = lambda nfev, prams, fval, step, acc: print(f'Evaluation {nfev}: {fval}')\n",
    "optimizer = SPSA(callback=callback, maxiter = 1000)\n",
    "cost_func = lambda params: estimator.run(ansatz, H2_op, parameter_values = params).result().values[0]\n",
    "result = optimizer.minimize(cost_func, x0 = np.zeros(ansatz.num_parameters))"
   ]
  },
  {
   "cell_type": "code",
   "execution_count": null,
   "id": "152a6a76-f87d-4217-ba10-ede19ec28a59",
   "metadata": {},
   "outputs": [],
   "source": [
    "print(result)"
   ]
  },
  {
   "cell_type": "code",
   "execution_count": null,
   "id": "fa47f723-88b5-40b7-a2ff-465e9fec7a56",
   "metadata": {},
   "outputs": [],
   "source": [
    "print(min_eigen_exact)"
   ]
  },
  {
   "cell_type": "code",
   "execution_count": null,
   "id": "f07dc9b7-8eb5-4cbe-b297-d586c5ca9a51",
   "metadata": {},
   "outputs": [],
   "source": [
    "from qiskit_ibm_runtime import Options\n",
    "options = Options()\n",
    "options.execution.init_qubits = True\n",
    "options.execution.shots = 5000\n"
   ]
  },
  {
   "cell_type": "code",
   "execution_count": null,
   "id": "05e69671-5eb4-441c-906b-0c3be29d75e0",
   "metadata": {},
   "outputs": [],
   "source": [
    "options.environment.callback = []\n",
    "options.environment.job_tabs = []\n",
    "options.environment.log_level = 'DEBUG'"
   ]
  },
  {
   "cell_type": "code",
   "execution_count": null,
   "id": "1ec5dad1-63ee-4ee0-953d-da780f301616",
   "metadata": {},
   "outputs": [],
   "source": [
    "from qiskit_ibm_runtime import QiskitRuntimeService\n",
    "service = QiskitRuntimeService()\n",
    "backend = service.get_backend('ibmq_qasm_simulator')"
   ]
  },
  {
   "cell_type": "code",
   "execution_count": null,
   "id": "419ea716-cb1d-453b-92d8-4a743cdf0474",
   "metadata": {},
   "outputs": [],
   "source": [
    "print(backend)"
   ]
  },
  {
   "cell_type": "code",
   "execution_count": null,
   "id": "c2f91bf4-cab5-470b-a60d-c77fbfa3a68a",
   "metadata": {},
   "outputs": [],
   "source": [
    "from qiskit_ibm_runtime import Estimator, Session\n",
    "with Session(service = service, backend=backend) as session:\n",
    "    estimator = Estimator(options = options)\n",
    "    cost_func = lambda params: estimator.run(ansatz, H2_op, parameter_values = params).result().values[0]"
   ]
  },
  {
   "cell_type": "code",
   "execution_count": null,
   "id": "cd63e432-68d9-4526-bf11-6ac789b99ff3",
   "metadata": {},
   "outputs": [],
   "source": [
    "result = optimizer.minimize(cost_func, x0 = np.zeros(ansatz.num_parameters))"
   ]
  },
  {
   "cell_type": "code",
   "execution_count": null,
   "id": "2be263fe-e3bc-4c2a-aa33-2ed6e7a01988",
   "metadata": {},
   "outputs": [],
   "source": [
    "print(result)"
   ]
  },
  {
   "cell_type": "code",
   "execution_count": null,
   "id": "df9dd5ba-5960-491f-9e3f-e6b333dc6882",
   "metadata": {},
   "outputs": [],
   "source": [
    "jobs = service.jobs(session_id=session.session_id, limit = None)"
   ]
  },
  {
   "cell_type": "code",
   "execution_count": null,
   "id": "0213991c-e8b9-4003-83eb-aac937fab0dd",
   "metadata": {},
   "outputs": [],
   "source": [
    "energies = [job.result().values[0] for job in jobs if job.done()[::-1]"
   ]
  },
  {
   "cell_type": "code",
   "execution_count": null,
   "id": "2b5e3dd1-3609-47b0-be36-5fc8411a3fb5",
   "metadata": {},
   "outputs": [],
   "source": [
    "import matplotlib.pyplot as plt\n",
    "plt.style.use('dark_background')\n",
    "plt.plot(range(len(energies)), energies, label='backend')\n",
    "plt.plot(range(len(energies)), [min_eigen_exact]*len(energies),ls='--', label='exact')\n",
    "plt.xlabel('Iteration', fontsize = 16)\n",
    "plt.ylabel('Energy', fontsize = 16)\n",
    "plt.legend(loc=1)"
   ]
  },
  {
   "cell_type": "code",
   "execution_count": null,
   "id": "a2fb1b3c-36b6-4264-aa9f-530a6c3c6871",
   "metadata": {},
   "outputs": [],
   "source": []
  }
 ],
 "metadata": {
  "kernelspec": {
   "display_name": "Qiskit (runtime)",
   "language": "python",
   "name": "qiskit-runtime"
  },
  "language_info": {
   "codemirror_mode": {
    "name": "ipython",
    "version": 3
   },
   "file_extension": ".py",
   "mimetype": "text/x-python",
   "name": "python",
   "nbconvert_exporter": "python",
   "pygments_lexer": "ipython3",
   "version": "3.10.9"
  }
 },
 "nbformat": 4,
 "nbformat_minor": 5
}
